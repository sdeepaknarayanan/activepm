{
 "cells": [
  {
   "cell_type": "code",
   "execution_count": 1,
   "metadata": {},
   "outputs": [],
   "source": [
    "import pandas as pd\n",
    "import numpy as np\n",
    "import seaborn as sns\n",
    "import matplotlib\n",
    "import matplotlib.pyplot as plt\n",
    "import matplotlib.style\n",
    "import matplotlib as mpl\n",
    "\n",
    "from common_functions import foo\n",
    "\n",
    "\n",
    "mpl.style.use('classic')\n",
    "\n",
    "%load_ext autoreload\n",
    "%autoreload 2\n",
    "\n",
    "results = \"results\""
   ]
  },
  {
   "cell_type": "code",
   "execution_count": null,
   "metadata": {},
   "outputs": [],
   "source": []
  },
  {
   "cell_type": "code",
   "execution_count": 2,
   "metadata": {
    "scrolled": true
   },
   "outputs": [
    {
     "data": {
      "text/html": [
       "<div>\n",
       "<style scoped>\n",
       "    .dataframe tbody tr th:only-of-type {\n",
       "        vertical-align: middle;\n",
       "    }\n",
       "\n",
       "    .dataframe tbody tr th {\n",
       "        vertical-align: top;\n",
       "    }\n",
       "\n",
       "    .dataframe thead th {\n",
       "        text-align: right;\n",
       "    }\n",
       "</style>\n",
       "<table border=\"1\" class=\"dataframe\">\n",
       "  <thead>\n",
       "    <tr style=\"text-align: right;\">\n",
       "      <th></th>\n",
       "      <th>kout</th>\n",
       "      <th>kin</th>\n",
       "      <th>day</th>\n",
       "      <th>rmse</th>\n",
       "      <th>lastKDays</th>\n",
       "      <th>seed</th>\n",
       "    </tr>\n",
       "    <tr>\n",
       "      <th>reg</th>\n",
       "      <th></th>\n",
       "      <th></th>\n",
       "      <th></th>\n",
       "      <th></th>\n",
       "      <th></th>\n",
       "      <th></th>\n",
       "    </tr>\n",
       "  </thead>\n",
       "  <tbody>\n",
       "    <tr>\n",
       "      <td>gp</td>\n",
       "      <td>2.498016</td>\n",
       "      <td>2.001424</td>\n",
       "      <td>163.983420</td>\n",
       "      <td>20.665598</td>\n",
       "      <td>30.0</td>\n",
       "      <td>-1.000000</td>\n",
       "    </tr>\n",
       "    <tr>\n",
       "      <td>gp_rd</td>\n",
       "      <td>2.499959</td>\n",
       "      <td>1.999573</td>\n",
       "      <td>163.968984</td>\n",
       "      <td>24.380714</td>\n",
       "      <td>30.0</td>\n",
       "      <td>2.000305</td>\n",
       "    </tr>\n",
       "    <tr>\n",
       "      <td>knn</td>\n",
       "      <td>2.500000</td>\n",
       "      <td>2.000000</td>\n",
       "      <td>164.000000</td>\n",
       "      <td>30.679426</td>\n",
       "      <td>30.0</td>\n",
       "      <td>-1.000000</td>\n",
       "    </tr>\n",
       "    <tr>\n",
       "      <td>knn_rd</td>\n",
       "      <td>2.500000</td>\n",
       "      <td>2.000000</td>\n",
       "      <td>164.000000</td>\n",
       "      <td>30.541583</td>\n",
       "      <td>30.0</td>\n",
       "      <td>2.000000</td>\n",
       "    </tr>\n",
       "    <tr>\n",
       "      <td>qbc</td>\n",
       "      <td>2.500000</td>\n",
       "      <td>2.000000</td>\n",
       "      <td>164.000000</td>\n",
       "      <td>22.671395</td>\n",
       "      <td>30.0</td>\n",
       "      <td>-1.000000</td>\n",
       "    </tr>\n",
       "    <tr>\n",
       "      <td>qbc_rd</td>\n",
       "      <td>2.500000</td>\n",
       "      <td>2.000000</td>\n",
       "      <td>164.000000</td>\n",
       "      <td>24.136366</td>\n",
       "      <td>30.0</td>\n",
       "      <td>2.000000</td>\n",
       "    </tr>\n",
       "  </tbody>\n",
       "</table>\n",
       "</div>"
      ],
      "text/plain": [
       "            kout       kin         day       rmse  lastKDays      seed\n",
       "reg                                                                   \n",
       "gp      2.498016  2.001424  163.983420  20.665598       30.0 -1.000000\n",
       "gp_rd   2.499959  1.999573  163.968984  24.380714       30.0  2.000305\n",
       "knn     2.500000  2.000000  164.000000  30.679426       30.0 -1.000000\n",
       "knn_rd  2.500000  2.000000  164.000000  30.541583       30.0  2.000000\n",
       "qbc     2.500000  2.000000  164.000000  22.671395       30.0 -1.000000\n",
       "qbc_rd  2.500000  2.000000  164.000000  24.136366       30.0  2.000000"
      ]
     },
     "execution_count": 2,
     "metadata": {},
     "output_type": "execute_result"
    }
   ],
   "source": [
    "lastKDays = 30\n",
    "df = foo(lastKDays, results, True)\n",
    "df.groupby([\"reg\"]).mean()"
   ]
  },
  {
   "cell_type": "code",
   "execution_count": 3,
   "metadata": {},
   "outputs": [
    {
     "data": {
      "text/html": [
       "<div>\n",
       "<style scoped>\n",
       "    .dataframe tbody tr th:only-of-type {\n",
       "        vertical-align: middle;\n",
       "    }\n",
       "\n",
       "    .dataframe tbody tr th {\n",
       "        vertical-align: top;\n",
       "    }\n",
       "\n",
       "    .dataframe thead th {\n",
       "        text-align: right;\n",
       "    }\n",
       "</style>\n",
       "<table border=\"1\" class=\"dataframe\">\n",
       "  <thead>\n",
       "    <tr style=\"text-align: right;\">\n",
       "      <th></th>\n",
       "      <th>kout</th>\n",
       "      <th>kin</th>\n",
       "      <th>rmse</th>\n",
       "    </tr>\n",
       "  </thead>\n",
       "  <tbody>\n",
       "    <tr>\n",
       "      <td>0</td>\n",
       "      <td>0</td>\n",
       "      <td>0</td>\n",
       "      <td>15.107037</td>\n",
       "    </tr>\n",
       "    <tr>\n",
       "      <td>1</td>\n",
       "      <td>0</td>\n",
       "      <td>1</td>\n",
       "      <td>15.960798</td>\n",
       "    </tr>\n",
       "    <tr>\n",
       "      <td>2</td>\n",
       "      <td>0</td>\n",
       "      <td>2</td>\n",
       "      <td>16.528570</td>\n",
       "    </tr>\n",
       "    <tr>\n",
       "      <td>3</td>\n",
       "      <td>0</td>\n",
       "      <td>3</td>\n",
       "      <td>15.294778</td>\n",
       "    </tr>\n",
       "    <tr>\n",
       "      <td>4</td>\n",
       "      <td>0</td>\n",
       "      <td>4</td>\n",
       "      <td>16.662367</td>\n",
       "    </tr>\n",
       "  </tbody>\n",
       "</table>\n",
       "</div>"
      ],
      "text/plain": [
       "   kout  kin       rmse\n",
       "0     0    0  15.107037\n",
       "1     0    1  15.960798\n",
       "2     0    2  16.528570\n",
       "3     0    3  15.294778\n",
       "4     0    4  16.662367"
      ]
     },
     "execution_count": 3,
     "metadata": {},
     "output_type": "execute_result"
    }
   ],
   "source": [
    "krig_results = pd.read_csv(\"active_kriging_results.csv\")\n",
    "krig_results.head()"
   ]
  },
  {
   "cell_type": "code",
   "execution_count": null,
   "metadata": {},
   "outputs": [],
   "source": []
  },
  {
   "cell_type": "code",
   "execution_count": 4,
   "metadata": {
    "scrolled": false
   },
   "outputs": [
    {
     "name": "stdout",
     "output_type": "stream",
     "text": [
      "gp Done.\n",
      "gp_rd Done.\n",
      "qbc Done.\n",
      "knn Done.\n",
      "knn_rd Done.\n",
      "qbc_rd Done.\n"
     ]
    }
   ],
   "source": [
    "splits = 6\n",
    "tdic = {}\n",
    "for reg in ['gp', 'gp_rd', 'qbc', 'knn', 'knn_rd', 'qbc_rd']:\n",
    "    for lastKDays in [30]:\n",
    "        df = foo(lastKDays, results, True)\n",
    "        days = df['day'].unique()\n",
    "        for ix, tempdf in df.groupby([\"kout\", \"kin\"]):\n",
    "            kout, kin = ix\n",
    "            a = krig_results[(krig_results[\"kout\"] == kout)  & (krig_results[\"kin\"] == kin)][\"rmse\"].values\n",
    "            if sum(np.isnan(a)) != 0:\n",
    "                raise ValueError\n",
    "            b =  tempdf[tempdf[\"reg\"] == reg][\"rmse\"].values\n",
    "            if sum(np.isnan(b)) != 0:\n",
    "                raise ValueError\n",
    "            a = a.mean()\n",
    "            b = b.mean()\n",
    "            if a <= b:\n",
    "                temp = tdic.get(reg, [0, 0])\n",
    "                tdic[reg] = [temp[0] + 1, temp[1]]\n",
    "            else:\n",
    "                temp = tdic.get(reg, [0, 0])\n",
    "                tdic[reg] = [temp[0], temp[1] + 1]\n",
    "\n",
    "    print (f\"{reg} Done.\")"
   ]
  },
  {
   "cell_type": "code",
   "execution_count": 5,
   "metadata": {
    "scrolled": true
   },
   "outputs": [
    {
     "data": {
      "text/plain": [
       "{'gp': [29, 1],\n",
       " 'gp_rd': [30, 0],\n",
       " 'qbc': [30, 0],\n",
       " 'knn': [30, 0],\n",
       " 'knn_rd': [30, 0],\n",
       " 'qbc_rd': [30, 0]}"
      ]
     },
     "execution_count": 5,
     "metadata": {},
     "output_type": "execute_result"
    }
   ],
   "source": [
    "tdic"
   ]
  },
  {
   "cell_type": "code",
   "execution_count": null,
   "metadata": {},
   "outputs": [],
   "source": []
  }
 ],
 "metadata": {
  "kernelspec": {
   "display_name": "Python 3",
   "language": "python",
   "name": "python3"
  },
  "language_info": {
   "codemirror_mode": {
    "name": "ipython",
    "version": 3
   },
   "file_extension": ".py",
   "mimetype": "text/x-python",
   "name": "python",
   "nbconvert_exporter": "python",
   "pygments_lexer": "ipython3",
   "version": "3.6.8"
  }
 },
 "nbformat": 4,
 "nbformat_minor": 2
}
