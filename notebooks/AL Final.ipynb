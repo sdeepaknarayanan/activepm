{
 "cells": [
  {
   "cell_type": "code",
   "execution_count": 2,
   "metadata": {},
   "outputs": [
    {
     "name": "stderr",
     "output_type": "stream",
     "text": [
      "/home/deepak/anaconda3/envs/tf_gpu/lib/python3.7/site-packages/tensorflow/python/framework/dtypes.py:516: FutureWarning: Passing (type, 1) or '1type' as a synonym of type is deprecated; in a future version of numpy, it will be understood as (type, (1,)) / '(1,)type'.\n",
      "  _np_qint8 = np.dtype([(\"qint8\", np.int8, 1)])\n",
      "/home/deepak/anaconda3/envs/tf_gpu/lib/python3.7/site-packages/tensorflow/python/framework/dtypes.py:517: FutureWarning: Passing (type, 1) or '1type' as a synonym of type is deprecated; in a future version of numpy, it will be understood as (type, (1,)) / '(1,)type'.\n",
      "  _np_quint8 = np.dtype([(\"quint8\", np.uint8, 1)])\n",
      "/home/deepak/anaconda3/envs/tf_gpu/lib/python3.7/site-packages/tensorflow/python/framework/dtypes.py:518: FutureWarning: Passing (type, 1) or '1type' as a synonym of type is deprecated; in a future version of numpy, it will be understood as (type, (1,)) / '(1,)type'.\n",
      "  _np_qint16 = np.dtype([(\"qint16\", np.int16, 1)])\n",
      "/home/deepak/anaconda3/envs/tf_gpu/lib/python3.7/site-packages/tensorflow/python/framework/dtypes.py:519: FutureWarning: Passing (type, 1) or '1type' as a synonym of type is deprecated; in a future version of numpy, it will be understood as (type, (1,)) / '(1,)type'.\n",
      "  _np_quint16 = np.dtype([(\"quint16\", np.uint16, 1)])\n",
      "/home/deepak/anaconda3/envs/tf_gpu/lib/python3.7/site-packages/tensorflow/python/framework/dtypes.py:520: FutureWarning: Passing (type, 1) or '1type' as a synonym of type is deprecated; in a future version of numpy, it will be understood as (type, (1,)) / '(1,)type'.\n",
      "  _np_qint32 = np.dtype([(\"qint32\", np.int32, 1)])\n",
      "/home/deepak/anaconda3/envs/tf_gpu/lib/python3.7/site-packages/tensorflow/python/framework/dtypes.py:525: FutureWarning: Passing (type, 1) or '1type' as a synonym of type is deprecated; in a future version of numpy, it will be understood as (type, (1,)) / '(1,)type'.\n",
      "  np_resource = np.dtype([(\"resource\", np.ubyte, 1)])\n",
      "/home/deepak/anaconda3/envs/tf_gpu/lib/python3.7/site-packages/tensorboard/compat/tensorflow_stub/dtypes.py:541: FutureWarning: Passing (type, 1) or '1type' as a synonym of type is deprecated; in a future version of numpy, it will be understood as (type, (1,)) / '(1,)type'.\n",
      "  _np_qint8 = np.dtype([(\"qint8\", np.int8, 1)])\n",
      "/home/deepak/anaconda3/envs/tf_gpu/lib/python3.7/site-packages/tensorboard/compat/tensorflow_stub/dtypes.py:542: FutureWarning: Passing (type, 1) or '1type' as a synonym of type is deprecated; in a future version of numpy, it will be understood as (type, (1,)) / '(1,)type'.\n",
      "  _np_quint8 = np.dtype([(\"quint8\", np.uint8, 1)])\n",
      "/home/deepak/anaconda3/envs/tf_gpu/lib/python3.7/site-packages/tensorboard/compat/tensorflow_stub/dtypes.py:543: FutureWarning: Passing (type, 1) or '1type' as a synonym of type is deprecated; in a future version of numpy, it will be understood as (type, (1,)) / '(1,)type'.\n",
      "  _np_qint16 = np.dtype([(\"qint16\", np.int16, 1)])\n",
      "/home/deepak/anaconda3/envs/tf_gpu/lib/python3.7/site-packages/tensorboard/compat/tensorflow_stub/dtypes.py:544: FutureWarning: Passing (type, 1) or '1type' as a synonym of type is deprecated; in a future version of numpy, it will be understood as (type, (1,)) / '(1,)type'.\n",
      "  _np_quint16 = np.dtype([(\"quint16\", np.uint16, 1)])\n",
      "/home/deepak/anaconda3/envs/tf_gpu/lib/python3.7/site-packages/tensorboard/compat/tensorflow_stub/dtypes.py:545: FutureWarning: Passing (type, 1) or '1type' as a synonym of type is deprecated; in a future version of numpy, it will be understood as (type, (1,)) / '(1,)type'.\n",
      "  _np_qint32 = np.dtype([(\"qint32\", np.int32, 1)])\n",
      "/home/deepak/anaconda3/envs/tf_gpu/lib/python3.7/site-packages/tensorboard/compat/tensorflow_stub/dtypes.py:550: FutureWarning: Passing (type, 1) or '1type' as a synonym of type is deprecated; in a future version of numpy, it will be understood as (type, (1,)) / '(1,)type'.\n",
      "  np_resource = np.dtype([(\"resource\", np.ubyte, 1)])\n"
     ]
    },
    {
     "name": "stdout",
     "output_type": "stream",
     "text": [
      "WARNING:tensorflow:From /home/deepak/anaconda3/envs/tf_gpu/lib/python3.7/site-packages/gpflow/session_manager.py:31: The name tf.Session is deprecated. Please use tf.compat.v1.Session instead.\n",
      "\n"
     ]
    },
    {
     "name": "stderr",
     "output_type": "stream",
     "text": [
      "WARNING:tensorflow:From /home/deepak/anaconda3/envs/tf_gpu/lib/python3.7/site-packages/gpflow/session_manager.py:31: The name tf.Session is deprecated. Please use tf.compat.v1.Session instead.\n",
      "\n"
     ]
    },
    {
     "name": "stdout",
     "output_type": "stream",
     "text": [
      "WARNING:tensorflow:From /home/deepak/anaconda3/envs/tf_gpu/lib/python3.7/site-packages/gpflow/misc.py:27: The name tf.GraphKeys is deprecated. Please use tf.compat.v1.GraphKeys instead.\n",
      "\n"
     ]
    },
    {
     "name": "stderr",
     "output_type": "stream",
     "text": [
      "WARNING:tensorflow:From /home/deepak/anaconda3/envs/tf_gpu/lib/python3.7/site-packages/gpflow/misc.py:27: The name tf.GraphKeys is deprecated. Please use tf.compat.v1.GraphKeys instead.\n",
      "\n"
     ]
    },
    {
     "name": "stdout",
     "output_type": "stream",
     "text": [
      "WARNING:tensorflow:From /home/deepak/anaconda3/envs/tf_gpu/lib/python3.7/site-packages/gpflow/training/tensorflow_optimizer.py:169: The name tf.train.AdadeltaOptimizer is deprecated. Please use tf.compat.v1.train.AdadeltaOptimizer instead.\n",
      "\n"
     ]
    },
    {
     "name": "stderr",
     "output_type": "stream",
     "text": [
      "WARNING:tensorflow:From /home/deepak/anaconda3/envs/tf_gpu/lib/python3.7/site-packages/gpflow/training/tensorflow_optimizer.py:169: The name tf.train.AdadeltaOptimizer is deprecated. Please use tf.compat.v1.train.AdadeltaOptimizer instead.\n",
      "\n"
     ]
    },
    {
     "name": "stdout",
     "output_type": "stream",
     "text": [
      "WARNING:tensorflow:From /home/deepak/anaconda3/envs/tf_gpu/lib/python3.7/site-packages/gpflow/training/tensorflow_optimizer.py:156: The name tf.train.Optimizer is deprecated. Please use tf.compat.v1.train.Optimizer instead.\n",
      "\n"
     ]
    },
    {
     "name": "stderr",
     "output_type": "stream",
     "text": [
      "WARNING:tensorflow:From /home/deepak/anaconda3/envs/tf_gpu/lib/python3.7/site-packages/gpflow/training/tensorflow_optimizer.py:156: The name tf.train.Optimizer is deprecated. Please use tf.compat.v1.train.Optimizer instead.\n",
      "\n"
     ]
    },
    {
     "name": "stdout",
     "output_type": "stream",
     "text": [
      "WARNING:tensorflow:From /home/deepak/anaconda3/envs/tf_gpu/lib/python3.7/site-packages/gpflow/training/tensorflow_optimizer.py:169: The name tf.train.AdagradDAOptimizer is deprecated. Please use tf.compat.v1.train.AdagradDAOptimizer instead.\n",
      "\n"
     ]
    },
    {
     "name": "stderr",
     "output_type": "stream",
     "text": [
      "WARNING:tensorflow:From /home/deepak/anaconda3/envs/tf_gpu/lib/python3.7/site-packages/gpflow/training/tensorflow_optimizer.py:169: The name tf.train.AdagradDAOptimizer is deprecated. Please use tf.compat.v1.train.AdagradDAOptimizer instead.\n",
      "\n"
     ]
    },
    {
     "name": "stdout",
     "output_type": "stream",
     "text": [
      "WARNING:tensorflow:From /home/deepak/anaconda3/envs/tf_gpu/lib/python3.7/site-packages/gpflow/training/tensorflow_optimizer.py:169: The name tf.train.AdagradOptimizer is deprecated. Please use tf.compat.v1.train.AdagradOptimizer instead.\n",
      "\n"
     ]
    },
    {
     "name": "stderr",
     "output_type": "stream",
     "text": [
      "WARNING:tensorflow:From /home/deepak/anaconda3/envs/tf_gpu/lib/python3.7/site-packages/gpflow/training/tensorflow_optimizer.py:169: The name tf.train.AdagradOptimizer is deprecated. Please use tf.compat.v1.train.AdagradOptimizer instead.\n",
      "\n"
     ]
    },
    {
     "name": "stdout",
     "output_type": "stream",
     "text": [
      "WARNING:tensorflow:From /home/deepak/anaconda3/envs/tf_gpu/lib/python3.7/site-packages/gpflow/training/tensorflow_optimizer.py:169: The name tf.train.AdamOptimizer is deprecated. Please use tf.compat.v1.train.AdamOptimizer instead.\n",
      "\n"
     ]
    },
    {
     "name": "stderr",
     "output_type": "stream",
     "text": [
      "WARNING:tensorflow:From /home/deepak/anaconda3/envs/tf_gpu/lib/python3.7/site-packages/gpflow/training/tensorflow_optimizer.py:169: The name tf.train.AdamOptimizer is deprecated. Please use tf.compat.v1.train.AdamOptimizer instead.\n",
      "\n"
     ]
    },
    {
     "name": "stdout",
     "output_type": "stream",
     "text": [
      "WARNING:tensorflow:From /home/deepak/anaconda3/envs/tf_gpu/lib/python3.7/site-packages/gpflow/saver/coders.py:80: The name tf.data.Iterator is deprecated. Please use tf.compat.v1.data.Iterator instead.\n",
      "\n"
     ]
    },
    {
     "name": "stderr",
     "output_type": "stream",
     "text": [
      "WARNING:tensorflow:From /home/deepak/anaconda3/envs/tf_gpu/lib/python3.7/site-packages/gpflow/saver/coders.py:80: The name tf.data.Iterator is deprecated. Please use tf.compat.v1.data.Iterator instead.\n",
      "\n"
     ]
    }
   ],
   "source": [
    "import numpy as np\n",
    "import pandas as pd\n",
    "import matplotlib.pyplot as plt\n",
    "from sklearn.neighbors import KNeighborsRegressor\n",
    "import sys\n",
    "sys.path.append(\"../exp2/\")\n",
    "import gpflow\n",
    "import tensorflow as tf\n",
    "%load_ext autoreload\n",
    "%autoreload 2\n",
    "%matplotlib inline"
   ]
  },
  {
   "cell_type": "code",
   "execution_count": 3,
   "metadata": {},
   "outputs": [],
   "source": [
    "df = pd.read_csv(\"../data/beijingb_scaled.csv\", index_col = 0)\n",
    "df = df.rename(columns={'ts': 'Time', 'station_id': 'Station'})"
   ]
  },
  {
   "cell_type": "code",
   "execution_count": 4,
   "metadata": {},
   "outputs": [],
   "source": [
    "stations = df['Station'].unique()\n",
    "stations.sort()"
   ]
  },
  {
   "cell_type": "code",
   "execution_count": 5,
   "metadata": {},
   "outputs": [],
   "source": [
    "config = tf.ConfigProto()\n",
    "config.gpu_options.allow_growth = True\n",
    "session = tf.Session(config=config)"
   ]
  },
  {
   "cell_type": "code",
   "execution_count": 6,
   "metadata": {},
   "outputs": [],
   "source": [
    "splits = 6"
   ]
  },
  {
   "cell_type": "code",
   "execution_count": 7,
   "metadata": {},
   "outputs": [],
   "source": [
    "from sklearn.model_selection import KFold"
   ]
  },
  {
   "cell_type": "code",
   "execution_count": 8,
   "metadata": {},
   "outputs": [],
   "source": [
    "kfout = KFold(n_splits=splits, shuffle=True, random_state=0)\n",
    "kfin = KFold(n_splits=splits - 1, shuffle=True, random_state=0)"
   ]
  },
  {
   "cell_type": "code",
   "execution_count": 9,
   "metadata": {},
   "outputs": [],
   "source": [
    "station_split = {}"
   ]
  },
  {
   "cell_type": "code",
   "execution_count": 10,
   "metadata": {},
   "outputs": [],
   "source": [
    "for kout, (sts_ftrain_index, sts_test_index) in enumerate(kfout.split(stations)):\n",
    "    station_split[kout] = {}\n",
    "    for kin, (sts_train_index, sts_val_index) in enumerate(kfin.split(sts_ftrain_index)):\n",
    "        sts_test = stations[sts_test_index]\n",
    "        sts_val = stations[sts_ftrain_index[sts_val_index]]\n",
    "        sts_train = stations[sts_ftrain_index[sts_train_index]]\n",
    "        station_split[kout][kin] = {\n",
    "            'sts_test': sts_test,\n",
    "            'sts_val': sts_val,\n",
    "            'sts_train': sts_train,\n",
    "        }"
   ]
  },
  {
   "cell_type": "code",
   "execution_count": 10,
   "metadata": {},
   "outputs": [
    {
     "data": {
      "text/plain": [
       "{0: {0: {'sts_test': array([1016., 1017., 1021., 1023., 1031., 1032.]),\n",
       "   'sts_val': array([1003., 1011., 1014., 1029., 1033., 1035.]),\n",
       "   'sts_train': array([1001., 1002., 1004., 1005., 1006., 1007., 1008., 1009., 1010.,\n",
       "          1012., 1013., 1015., 1018., 1019., 1020., 1022., 1024., 1025.,\n",
       "          1026., 1027., 1028., 1030., 1034., 1036.])},\n",
       "  1: {'sts_test': array([1016., 1017., 1021., 1023., 1031., 1032.]),\n",
       "   'sts_val': array([1006., 1012., 1019., 1020., 1027., 1034.]),\n",
       "   'sts_train': array([1001., 1002., 1003., 1004., 1005., 1007., 1008., 1009., 1010.,\n",
       "          1011., 1013., 1014., 1015., 1018., 1022., 1024., 1025., 1026.,\n",
       "          1028., 1029., 1030., 1033., 1035., 1036.])},\n",
       "  2: {'sts_test': array([1016., 1017., 1021., 1023., 1031., 1032.]),\n",
       "   'sts_val': array([1002., 1009., 1015., 1025., 1028., 1036.]),\n",
       "   'sts_train': array([1001., 1003., 1004., 1005., 1006., 1007., 1008., 1010., 1011.,\n",
       "          1012., 1013., 1014., 1018., 1019., 1020., 1022., 1024., 1026.,\n",
       "          1027., 1029., 1030., 1033., 1034., 1035.])},\n",
       "  3: {'sts_test': array([1016., 1017., 1021., 1023., 1031., 1032.]),\n",
       "   'sts_val': array([1005., 1007., 1008., 1010., 1022., 1024.]),\n",
       "   'sts_train': array([1001., 1002., 1003., 1004., 1006., 1009., 1011., 1012., 1013.,\n",
       "          1014., 1015., 1018., 1019., 1020., 1025., 1026., 1027., 1028.,\n",
       "          1029., 1030., 1033., 1034., 1035., 1036.])},\n",
       "  4: {'sts_test': array([1016., 1017., 1021., 1023., 1031., 1032.]),\n",
       "   'sts_val': array([1001., 1004., 1013., 1018., 1026., 1030.]),\n",
       "   'sts_train': array([1002., 1003., 1005., 1006., 1007., 1008., 1009., 1010., 1011.,\n",
       "          1012., 1014., 1015., 1019., 1020., 1022., 1024., 1025., 1027.,\n",
       "          1028., 1029., 1033., 1034., 1035., 1036.])}},\n",
       " 1: {0: {'sts_test': array([1003., 1011., 1012., 1028., 1030., 1036.]),\n",
       "   'sts_val': array([1004., 1014., 1017., 1029., 1032., 1034.]),\n",
       "   'sts_train': array([1001., 1002., 1005., 1006., 1007., 1008., 1009., 1010., 1013.,\n",
       "          1015., 1016., 1018., 1019., 1020., 1021., 1022., 1023., 1024.,\n",
       "          1025., 1026., 1027., 1031., 1033., 1035.])},\n",
       "  1: {'sts_test': array([1003., 1011., 1012., 1028., 1030., 1036.]),\n",
       "   'sts_val': array([1007., 1015., 1020., 1021., 1026., 1033.]),\n",
       "   'sts_train': array([1001., 1002., 1004., 1005., 1006., 1008., 1009., 1010., 1013.,\n",
       "          1014., 1016., 1017., 1018., 1019., 1022., 1023., 1024., 1025.,\n",
       "          1027., 1029., 1031., 1032., 1034., 1035.])},\n",
       "  2: {'sts_test': array([1003., 1011., 1012., 1028., 1030., 1036.]),\n",
       "   'sts_val': array([1002., 1010., 1018., 1024., 1027., 1035.]),\n",
       "   'sts_train': array([1001., 1004., 1005., 1006., 1007., 1008., 1009., 1013., 1014.,\n",
       "          1015., 1016., 1017., 1019., 1020., 1021., 1022., 1023., 1025.,\n",
       "          1026., 1029., 1031., 1032., 1033., 1034.])},\n",
       "  3: {'sts_test': array([1003., 1011., 1012., 1028., 1030., 1036.]),\n",
       "   'sts_val': array([1006., 1008., 1009., 1013., 1022., 1023.]),\n",
       "   'sts_train': array([1001., 1002., 1004., 1005., 1007., 1010., 1014., 1015., 1016.,\n",
       "          1017., 1018., 1019., 1020., 1021., 1024., 1025., 1026., 1027.,\n",
       "          1029., 1031., 1032., 1033., 1034., 1035.])},\n",
       "  4: {'sts_test': array([1003., 1011., 1012., 1028., 1030., 1036.]),\n",
       "   'sts_val': array([1001., 1005., 1016., 1019., 1025., 1031.]),\n",
       "   'sts_train': array([1002., 1004., 1006., 1007., 1008., 1009., 1010., 1013., 1014.,\n",
       "          1015., 1017., 1018., 1020., 1021., 1022., 1023., 1024., 1026.,\n",
       "          1027., 1029., 1032., 1033., 1034., 1035.])}},\n",
       " 2: {0: {'sts_test': array([1006., 1009., 1014., 1029., 1033., 1034.]),\n",
       "   'sts_val': array([1003., 1013., 1017., 1028., 1031., 1035.]),\n",
       "   'sts_train': array([1001., 1002., 1004., 1005., 1007., 1008., 1010., 1011., 1012.,\n",
       "          1015., 1016., 1018., 1019., 1020., 1021., 1022., 1023., 1024.,\n",
       "          1025., 1026., 1027., 1030., 1032., 1036.])},\n",
       "  1: {'sts_test': array([1006., 1009., 1014., 1029., 1033., 1034.]),\n",
       "   'sts_val': array([1007., 1015., 1020., 1021., 1026., 1032.]),\n",
       "   'sts_train': array([1001., 1002., 1003., 1004., 1005., 1008., 1010., 1011., 1012.,\n",
       "          1013., 1016., 1017., 1018., 1019., 1022., 1023., 1024., 1025.,\n",
       "          1027., 1028., 1030., 1031., 1035., 1036.])},\n",
       "  2: {'sts_test': array([1006., 1009., 1014., 1029., 1033., 1034.]),\n",
       "   'sts_val': array([1002., 1011., 1018., 1024., 1027., 1036.]),\n",
       "   'sts_train': array([1001., 1003., 1004., 1005., 1007., 1008., 1010., 1012., 1013.,\n",
       "          1015., 1016., 1017., 1019., 1020., 1021., 1022., 1023., 1025.,\n",
       "          1026., 1028., 1030., 1031., 1032., 1035.])},\n",
       "  3: {'sts_test': array([1006., 1009., 1014., 1029., 1033., 1034.]),\n",
       "   'sts_val': array([1005., 1008., 1010., 1012., 1022., 1023.]),\n",
       "   'sts_train': array([1001., 1002., 1003., 1004., 1007., 1011., 1013., 1015., 1016.,\n",
       "          1017., 1018., 1019., 1020., 1021., 1024., 1025., 1026., 1027.,\n",
       "          1028., 1030., 1031., 1032., 1035., 1036.])},\n",
       "  4: {'sts_test': array([1006., 1009., 1014., 1029., 1033., 1034.]),\n",
       "   'sts_val': array([1001., 1004., 1016., 1019., 1025., 1030.]),\n",
       "   'sts_train': array([1002., 1003., 1005., 1007., 1008., 1010., 1011., 1012., 1013.,\n",
       "          1015., 1017., 1018., 1020., 1021., 1022., 1023., 1024., 1026.,\n",
       "          1027., 1028., 1031., 1032., 1035., 1036.])}},\n",
       " 3: {0: {'sts_test': array([1002., 1008., 1013., 1015., 1018., 1027.]),\n",
       "   'sts_val': array([1004., 1014., 1019., 1031., 1033., 1035.]),\n",
       "   'sts_train': array([1001., 1003., 1005., 1006., 1007., 1009., 1010., 1011., 1012.,\n",
       "          1016., 1017., 1020., 1021., 1022., 1023., 1024., 1025., 1026.,\n",
       "          1028., 1029., 1030., 1032., 1034., 1036.])},\n",
       "  1: {'sts_test': array([1002., 1008., 1013., 1015., 1018., 1027.]),\n",
       "   'sts_val': array([1007., 1016., 1022., 1023., 1029., 1034.]),\n",
       "   'sts_train': array([1001., 1003., 1004., 1005., 1006., 1009., 1010., 1011., 1012.,\n",
       "          1014., 1017., 1019., 1020., 1021., 1024., 1025., 1026., 1028.,\n",
       "          1030., 1031., 1032., 1033., 1035., 1036.])},\n",
       "  2: {'sts_test': array([1002., 1008., 1013., 1015., 1018., 1027.]),\n",
       "   'sts_val': array([1003., 1011., 1020., 1026., 1030., 1036.]),\n",
       "   'sts_train': array([1001., 1004., 1005., 1006., 1007., 1009., 1010., 1012., 1014.,\n",
       "          1016., 1017., 1019., 1021., 1022., 1023., 1024., 1025., 1028.,\n",
       "          1029., 1031., 1032., 1033., 1034., 1035.])},\n",
       "  3: {'sts_test': array([1002., 1008., 1013., 1015., 1018., 1027.]),\n",
       "   'sts_val': array([1006., 1009., 1010., 1012., 1024., 1025.]),\n",
       "   'sts_train': array([1001., 1003., 1004., 1005., 1007., 1011., 1014., 1016., 1017.,\n",
       "          1019., 1020., 1021., 1022., 1023., 1026., 1028., 1029., 1030.,\n",
       "          1031., 1032., 1033., 1034., 1035., 1036.])},\n",
       "  4: {'sts_test': array([1002., 1008., 1013., 1015., 1018., 1027.]),\n",
       "   'sts_val': array([1001., 1005., 1017., 1021., 1028., 1032.]),\n",
       "   'sts_train': array([1003., 1004., 1006., 1007., 1009., 1010., 1011., 1012., 1014.,\n",
       "          1016., 1019., 1020., 1022., 1023., 1024., 1025., 1026., 1029.,\n",
       "          1030., 1031., 1033., 1034., 1035., 1036.])}},\n",
       " 4: {0: {'sts_test': array([1005., 1007., 1019., 1024., 1025., 1026.]),\n",
       "   'sts_val': array([1003., 1013., 1016., 1031., 1033., 1035.]),\n",
       "   'sts_train': array([1001., 1002., 1004., 1006., 1008., 1009., 1010., 1011., 1012.,\n",
       "          1014., 1015., 1017., 1018., 1020., 1021., 1022., 1023., 1027.,\n",
       "          1028., 1029., 1030., 1032., 1034., 1036.])},\n",
       "  1: {'sts_test': array([1005., 1007., 1019., 1024., 1025., 1026.]),\n",
       "   'sts_val': array([1008., 1014., 1020., 1021., 1029., 1034.]),\n",
       "   'sts_train': array([1001., 1002., 1003., 1004., 1006., 1009., 1010., 1011., 1012.,\n",
       "          1013., 1015., 1016., 1017., 1018., 1022., 1023., 1027., 1028.,\n",
       "          1030., 1031., 1032., 1033., 1035., 1036.])},\n",
       "  2: {'sts_test': array([1005., 1007., 1019., 1024., 1025., 1026.]),\n",
       "   'sts_val': array([1002., 1011., 1017., 1027., 1030., 1036.]),\n",
       "   'sts_train': array([1001., 1003., 1004., 1006., 1008., 1009., 1010., 1012., 1013.,\n",
       "          1014., 1015., 1016., 1018., 1020., 1021., 1022., 1023., 1028.,\n",
       "          1029., 1031., 1032., 1033., 1034., 1035.])},\n",
       "  3: {'sts_test': array([1005., 1007., 1019., 1024., 1025., 1026.]),\n",
       "   'sts_val': array([1006., 1009., 1010., 1012., 1022., 1023.]),\n",
       "   'sts_train': array([1001., 1002., 1003., 1004., 1008., 1011., 1013., 1014., 1015.,\n",
       "          1016., 1017., 1018., 1020., 1021., 1027., 1028., 1029., 1030.,\n",
       "          1031., 1032., 1033., 1034., 1035., 1036.])},\n",
       "  4: {'sts_test': array([1005., 1007., 1019., 1024., 1025., 1026.]),\n",
       "   'sts_val': array([1001., 1004., 1015., 1018., 1028., 1032.]),\n",
       "   'sts_train': array([1002., 1003., 1006., 1008., 1009., 1010., 1011., 1012., 1013.,\n",
       "          1014., 1016., 1017., 1020., 1021., 1022., 1023., 1027., 1029.,\n",
       "          1030., 1031., 1033., 1034., 1035., 1036.])}},\n",
       " 5: {0: {'sts_test': array([1001., 1004., 1010., 1020., 1022., 1035.]),\n",
       "   'sts_val': array([1005., 1014., 1017., 1030., 1032., 1034.]),\n",
       "   'sts_train': array([1002., 1003., 1006., 1007., 1008., 1009., 1011., 1012., 1013.,\n",
       "          1015., 1016., 1018., 1019., 1021., 1023., 1024., 1025., 1026.,\n",
       "          1027., 1028., 1029., 1031., 1033., 1036.])},\n",
       "  1: {'sts_test': array([1001., 1004., 1010., 1020., 1022., 1035.]),\n",
       "   'sts_val': array([1008., 1015., 1021., 1023., 1028., 1033.]),\n",
       "   'sts_train': array([1002., 1003., 1005., 1006., 1007., 1009., 1011., 1012., 1013.,\n",
       "          1014., 1016., 1017., 1018., 1019., 1024., 1025., 1026., 1027.,\n",
       "          1029., 1030., 1031., 1032., 1034., 1036.])},\n",
       "  2: {'sts_test': array([1001., 1004., 1010., 1020., 1022., 1035.]),\n",
       "   'sts_val': array([1003., 1012., 1018., 1026., 1029., 1036.]),\n",
       "   'sts_train': array([1002., 1005., 1006., 1007., 1008., 1009., 1011., 1013., 1014.,\n",
       "          1015., 1016., 1017., 1019., 1021., 1023., 1024., 1025., 1027.,\n",
       "          1028., 1030., 1031., 1032., 1033., 1034.])},\n",
       "  3: {'sts_test': array([1001., 1004., 1010., 1020., 1022., 1035.]),\n",
       "   'sts_val': array([1007., 1009., 1011., 1013., 1024., 1025.]),\n",
       "   'sts_train': array([1002., 1003., 1005., 1006., 1008., 1012., 1014., 1015., 1016.,\n",
       "          1017., 1018., 1019., 1021., 1023., 1026., 1027., 1028., 1029.,\n",
       "          1030., 1031., 1032., 1033., 1034., 1036.])},\n",
       "  4: {'sts_test': array([1001., 1004., 1010., 1020., 1022., 1035.]),\n",
       "   'sts_val': array([1002., 1006., 1016., 1019., 1027., 1031.]),\n",
       "   'sts_train': array([1003., 1005., 1007., 1008., 1009., 1011., 1012., 1013., 1014.,\n",
       "          1015., 1017., 1018., 1021., 1023., 1024., 1025., 1026., 1028.,\n",
       "          1029., 1030., 1032., 1033., 1034., 1036.])}}}"
      ]
     },
     "execution_count": 10,
     "metadata": {},
     "output_type": "execute_result"
    }
   ],
   "source": [
    "station_split"
   ]
  },
  {
   "cell_type": "code",
   "execution_count": 11,
   "metadata": {},
   "outputs": [
    {
     "data": {
      "text/plain": [
       "{0: {0: {'sts_test': array([1016., 1017., 1021., 1023., 1031., 1032.]),\n",
       "   'sts_val': array([1003., 1011., 1014., 1029., 1033., 1035.]),\n",
       "   'sts_train': array([1001., 1002., 1004., 1005., 1006., 1007., 1008., 1009., 1010.,\n",
       "          1012., 1013., 1015., 1018., 1019., 1020., 1022., 1024., 1025.,\n",
       "          1026., 1027., 1028., 1030., 1034., 1036.])},\n",
       "  1: {'sts_test': array([1016., 1017., 1021., 1023., 1031., 1032.]),\n",
       "   'sts_val': array([1006., 1012., 1019., 1020., 1027., 1034.]),\n",
       "   'sts_train': array([1001., 1002., 1003., 1004., 1005., 1007., 1008., 1009., 1010.,\n",
       "          1011., 1013., 1014., 1015., 1018., 1022., 1024., 1025., 1026.,\n",
       "          1028., 1029., 1030., 1033., 1035., 1036.])},\n",
       "  2: {'sts_test': array([1016., 1017., 1021., 1023., 1031., 1032.]),\n",
       "   'sts_val': array([1002., 1009., 1015., 1025., 1028., 1036.]),\n",
       "   'sts_train': array([1001., 1003., 1004., 1005., 1006., 1007., 1008., 1010., 1011.,\n",
       "          1012., 1013., 1014., 1018., 1019., 1020., 1022., 1024., 1026.,\n",
       "          1027., 1029., 1030., 1033., 1034., 1035.])},\n",
       "  3: {'sts_test': array([1016., 1017., 1021., 1023., 1031., 1032.]),\n",
       "   'sts_val': array([1005., 1007., 1008., 1010., 1022., 1024.]),\n",
       "   'sts_train': array([1001., 1002., 1003., 1004., 1006., 1009., 1011., 1012., 1013.,\n",
       "          1014., 1015., 1018., 1019., 1020., 1025., 1026., 1027., 1028.,\n",
       "          1029., 1030., 1033., 1034., 1035., 1036.])},\n",
       "  4: {'sts_test': array([1016., 1017., 1021., 1023., 1031., 1032.]),\n",
       "   'sts_val': array([1001., 1004., 1013., 1018., 1026., 1030.]),\n",
       "   'sts_train': array([1002., 1003., 1005., 1006., 1007., 1008., 1009., 1010., 1011.,\n",
       "          1012., 1014., 1015., 1019., 1020., 1022., 1024., 1025., 1027.,\n",
       "          1028., 1029., 1033., 1034., 1035., 1036.])}},\n",
       " 1: {0: {'sts_test': array([1003., 1011., 1012., 1028., 1030., 1036.]),\n",
       "   'sts_val': array([1004., 1014., 1017., 1029., 1032., 1034.]),\n",
       "   'sts_train': array([1001., 1002., 1005., 1006., 1007., 1008., 1009., 1010., 1013.,\n",
       "          1015., 1016., 1018., 1019., 1020., 1021., 1022., 1023., 1024.,\n",
       "          1025., 1026., 1027., 1031., 1033., 1035.])},\n",
       "  1: {'sts_test': array([1003., 1011., 1012., 1028., 1030., 1036.]),\n",
       "   'sts_val': array([1007., 1015., 1020., 1021., 1026., 1033.]),\n",
       "   'sts_train': array([1001., 1002., 1004., 1005., 1006., 1008., 1009., 1010., 1013.,\n",
       "          1014., 1016., 1017., 1018., 1019., 1022., 1023., 1024., 1025.,\n",
       "          1027., 1029., 1031., 1032., 1034., 1035.])},\n",
       "  2: {'sts_test': array([1003., 1011., 1012., 1028., 1030., 1036.]),\n",
       "   'sts_val': array([1002., 1010., 1018., 1024., 1027., 1035.]),\n",
       "   'sts_train': array([1001., 1004., 1005., 1006., 1007., 1008., 1009., 1013., 1014.,\n",
       "          1015., 1016., 1017., 1019., 1020., 1021., 1022., 1023., 1025.,\n",
       "          1026., 1029., 1031., 1032., 1033., 1034.])},\n",
       "  3: {'sts_test': array([1003., 1011., 1012., 1028., 1030., 1036.]),\n",
       "   'sts_val': array([1006., 1008., 1009., 1013., 1022., 1023.]),\n",
       "   'sts_train': array([1001., 1002., 1004., 1005., 1007., 1010., 1014., 1015., 1016.,\n",
       "          1017., 1018., 1019., 1020., 1021., 1024., 1025., 1026., 1027.,\n",
       "          1029., 1031., 1032., 1033., 1034., 1035.])},\n",
       "  4: {'sts_test': array([1003., 1011., 1012., 1028., 1030., 1036.]),\n",
       "   'sts_val': array([1001., 1005., 1016., 1019., 1025., 1031.]),\n",
       "   'sts_train': array([1002., 1004., 1006., 1007., 1008., 1009., 1010., 1013., 1014.,\n",
       "          1015., 1017., 1018., 1020., 1021., 1022., 1023., 1024., 1026.,\n",
       "          1027., 1029., 1032., 1033., 1034., 1035.])}},\n",
       " 2: {0: {'sts_test': array([1006., 1009., 1014., 1029., 1033., 1034.]),\n",
       "   'sts_val': array([1003., 1013., 1017., 1028., 1031., 1035.]),\n",
       "   'sts_train': array([1001., 1002., 1004., 1005., 1007., 1008., 1010., 1011., 1012.,\n",
       "          1015., 1016., 1018., 1019., 1020., 1021., 1022., 1023., 1024.,\n",
       "          1025., 1026., 1027., 1030., 1032., 1036.])},\n",
       "  1: {'sts_test': array([1006., 1009., 1014., 1029., 1033., 1034.]),\n",
       "   'sts_val': array([1007., 1015., 1020., 1021., 1026., 1032.]),\n",
       "   'sts_train': array([1001., 1002., 1003., 1004., 1005., 1008., 1010., 1011., 1012.,\n",
       "          1013., 1016., 1017., 1018., 1019., 1022., 1023., 1024., 1025.,\n",
       "          1027., 1028., 1030., 1031., 1035., 1036.])},\n",
       "  2: {'sts_test': array([1006., 1009., 1014., 1029., 1033., 1034.]),\n",
       "   'sts_val': array([1002., 1011., 1018., 1024., 1027., 1036.]),\n",
       "   'sts_train': array([1001., 1003., 1004., 1005., 1007., 1008., 1010., 1012., 1013.,\n",
       "          1015., 1016., 1017., 1019., 1020., 1021., 1022., 1023., 1025.,\n",
       "          1026., 1028., 1030., 1031., 1032., 1035.])},\n",
       "  3: {'sts_test': array([1006., 1009., 1014., 1029., 1033., 1034.]),\n",
       "   'sts_val': array([1005., 1008., 1010., 1012., 1022., 1023.]),\n",
       "   'sts_train': array([1001., 1002., 1003., 1004., 1007., 1011., 1013., 1015., 1016.,\n",
       "          1017., 1018., 1019., 1020., 1021., 1024., 1025., 1026., 1027.,\n",
       "          1028., 1030., 1031., 1032., 1035., 1036.])},\n",
       "  4: {'sts_test': array([1006., 1009., 1014., 1029., 1033., 1034.]),\n",
       "   'sts_val': array([1001., 1004., 1016., 1019., 1025., 1030.]),\n",
       "   'sts_train': array([1002., 1003., 1005., 1007., 1008., 1010., 1011., 1012., 1013.,\n",
       "          1015., 1017., 1018., 1020., 1021., 1022., 1023., 1024., 1026.,\n",
       "          1027., 1028., 1031., 1032., 1035., 1036.])}},\n",
       " 3: {0: {'sts_test': array([1002., 1008., 1013., 1015., 1018., 1027.]),\n",
       "   'sts_val': array([1004., 1014., 1019., 1031., 1033., 1035.]),\n",
       "   'sts_train': array([1001., 1003., 1005., 1006., 1007., 1009., 1010., 1011., 1012.,\n",
       "          1016., 1017., 1020., 1021., 1022., 1023., 1024., 1025., 1026.,\n",
       "          1028., 1029., 1030., 1032., 1034., 1036.])},\n",
       "  1: {'sts_test': array([1002., 1008., 1013., 1015., 1018., 1027.]),\n",
       "   'sts_val': array([1007., 1016., 1022., 1023., 1029., 1034.]),\n",
       "   'sts_train': array([1001., 1003., 1004., 1005., 1006., 1009., 1010., 1011., 1012.,\n",
       "          1014., 1017., 1019., 1020., 1021., 1024., 1025., 1026., 1028.,\n",
       "          1030., 1031., 1032., 1033., 1035., 1036.])},\n",
       "  2: {'sts_test': array([1002., 1008., 1013., 1015., 1018., 1027.]),\n",
       "   'sts_val': array([1003., 1011., 1020., 1026., 1030., 1036.]),\n",
       "   'sts_train': array([1001., 1004., 1005., 1006., 1007., 1009., 1010., 1012., 1014.,\n",
       "          1016., 1017., 1019., 1021., 1022., 1023., 1024., 1025., 1028.,\n",
       "          1029., 1031., 1032., 1033., 1034., 1035.])},\n",
       "  3: {'sts_test': array([1002., 1008., 1013., 1015., 1018., 1027.]),\n",
       "   'sts_val': array([1006., 1009., 1010., 1012., 1024., 1025.]),\n",
       "   'sts_train': array([1001., 1003., 1004., 1005., 1007., 1011., 1014., 1016., 1017.,\n",
       "          1019., 1020., 1021., 1022., 1023., 1026., 1028., 1029., 1030.,\n",
       "          1031., 1032., 1033., 1034., 1035., 1036.])},\n",
       "  4: {'sts_test': array([1002., 1008., 1013., 1015., 1018., 1027.]),\n",
       "   'sts_val': array([1001., 1005., 1017., 1021., 1028., 1032.]),\n",
       "   'sts_train': array([1003., 1004., 1006., 1007., 1009., 1010., 1011., 1012., 1014.,\n",
       "          1016., 1019., 1020., 1022., 1023., 1024., 1025., 1026., 1029.,\n",
       "          1030., 1031., 1033., 1034., 1035., 1036.])}},\n",
       " 4: {0: {'sts_test': array([1005., 1007., 1019., 1024., 1025., 1026.]),\n",
       "   'sts_val': array([1003., 1013., 1016., 1031., 1033., 1035.]),\n",
       "   'sts_train': array([1001., 1002., 1004., 1006., 1008., 1009., 1010., 1011., 1012.,\n",
       "          1014., 1015., 1017., 1018., 1020., 1021., 1022., 1023., 1027.,\n",
       "          1028., 1029., 1030., 1032., 1034., 1036.])},\n",
       "  1: {'sts_test': array([1005., 1007., 1019., 1024., 1025., 1026.]),\n",
       "   'sts_val': array([1008., 1014., 1020., 1021., 1029., 1034.]),\n",
       "   'sts_train': array([1001., 1002., 1003., 1004., 1006., 1009., 1010., 1011., 1012.,\n",
       "          1013., 1015., 1016., 1017., 1018., 1022., 1023., 1027., 1028.,\n",
       "          1030., 1031., 1032., 1033., 1035., 1036.])},\n",
       "  2: {'sts_test': array([1005., 1007., 1019., 1024., 1025., 1026.]),\n",
       "   'sts_val': array([1002., 1011., 1017., 1027., 1030., 1036.]),\n",
       "   'sts_train': array([1001., 1003., 1004., 1006., 1008., 1009., 1010., 1012., 1013.,\n",
       "          1014., 1015., 1016., 1018., 1020., 1021., 1022., 1023., 1028.,\n",
       "          1029., 1031., 1032., 1033., 1034., 1035.])},\n",
       "  3: {'sts_test': array([1005., 1007., 1019., 1024., 1025., 1026.]),\n",
       "   'sts_val': array([1006., 1009., 1010., 1012., 1022., 1023.]),\n",
       "   'sts_train': array([1001., 1002., 1003., 1004., 1008., 1011., 1013., 1014., 1015.,\n",
       "          1016., 1017., 1018., 1020., 1021., 1027., 1028., 1029., 1030.,\n",
       "          1031., 1032., 1033., 1034., 1035., 1036.])},\n",
       "  4: {'sts_test': array([1005., 1007., 1019., 1024., 1025., 1026.]),\n",
       "   'sts_val': array([1001., 1004., 1015., 1018., 1028., 1032.]),\n",
       "   'sts_train': array([1002., 1003., 1006., 1008., 1009., 1010., 1011., 1012., 1013.,\n",
       "          1014., 1016., 1017., 1020., 1021., 1022., 1023., 1027., 1029.,\n",
       "          1030., 1031., 1033., 1034., 1035., 1036.])}},\n",
       " 5: {0: {'sts_test': array([1001., 1004., 1010., 1020., 1022., 1035.]),\n",
       "   'sts_val': array([1005., 1014., 1017., 1030., 1032., 1034.]),\n",
       "   'sts_train': array([1002., 1003., 1006., 1007., 1008., 1009., 1011., 1012., 1013.,\n",
       "          1015., 1016., 1018., 1019., 1021., 1023., 1024., 1025., 1026.,\n",
       "          1027., 1028., 1029., 1031., 1033., 1036.])},\n",
       "  1: {'sts_test': array([1001., 1004., 1010., 1020., 1022., 1035.]),\n",
       "   'sts_val': array([1008., 1015., 1021., 1023., 1028., 1033.]),\n",
       "   'sts_train': array([1002., 1003., 1005., 1006., 1007., 1009., 1011., 1012., 1013.,\n",
       "          1014., 1016., 1017., 1018., 1019., 1024., 1025., 1026., 1027.,\n",
       "          1029., 1030., 1031., 1032., 1034., 1036.])},\n",
       "  2: {'sts_test': array([1001., 1004., 1010., 1020., 1022., 1035.]),\n",
       "   'sts_val': array([1003., 1012., 1018., 1026., 1029., 1036.]),\n",
       "   'sts_train': array([1002., 1005., 1006., 1007., 1008., 1009., 1011., 1013., 1014.,\n",
       "          1015., 1016., 1017., 1019., 1021., 1023., 1024., 1025., 1027.,\n",
       "          1028., 1030., 1031., 1032., 1033., 1034.])},\n",
       "  3: {'sts_test': array([1001., 1004., 1010., 1020., 1022., 1035.]),\n",
       "   'sts_val': array([1007., 1009., 1011., 1013., 1024., 1025.]),\n",
       "   'sts_train': array([1002., 1003., 1005., 1006., 1008., 1012., 1014., 1015., 1016.,\n",
       "          1017., 1018., 1019., 1021., 1023., 1026., 1027., 1028., 1029.,\n",
       "          1030., 1031., 1032., 1033., 1034., 1036.])},\n",
       "  4: {'sts_test': array([1001., 1004., 1010., 1020., 1022., 1035.]),\n",
       "   'sts_val': array([1002., 1006., 1016., 1019., 1027., 1031.]),\n",
       "   'sts_train': array([1003., 1005., 1007., 1008., 1009., 1011., 1012., 1013., 1014.,\n",
       "          1015., 1017., 1018., 1021., 1023., 1024., 1025., 1026., 1028.,\n",
       "          1029., 1030., 1032., 1033., 1034., 1036.])}}}"
      ]
     },
     "execution_count": 11,
     "metadata": {},
     "output_type": "execute_result"
    }
   ],
   "source": [
    "station_split"
   ]
  },
  {
   "cell_type": "code",
   "execution_count": 18,
   "metadata": {},
   "outputs": [
    {
     "name": "stdout",
     "output_type": "stream",
     "text": [
      "GeeksforGeeks is a portal for Geeks.\n",
      "Hello, My name is Tushar and I'm 23 years old.\n"
     ]
    }
   ],
   "source": [
    "val = 'Geeks'\n",
    "print(f\"{val}for{val} is a portal for {val}.\") \n",
    "  \n",
    "  \n",
    "name = 'Tushar'\n",
    "age = 23\n",
    "print(f\"Hello, My name is {name} and I'm {age} years old.\") \n"
   ]
  },
  {
   "cell_type": "code",
   "execution_count": 21,
   "metadata": {},
   "outputs": [],
   "source": [
    "i = 0\n",
    "j= 0"
   ]
  },
  {
   "cell_type": "code",
   "execution_count": 30,
   "metadata": {},
   "outputs": [],
   "source": [
    "current_day = 30\n",
    "k=30\n",
    "rmse = 12.2532424"
   ]
  },
  {
   "cell_type": "code",
   "execution_count": 33,
   "metadata": {},
   "outputs": [],
   "source": [
    "a = [[2, 3]]"
   ]
  },
  {
   "cell_type": "code",
   "execution_count": 36,
   "metadata": {},
   "outputs": [],
   "source": [
    "np.save(\"2\", a)"
   ]
  },
  {
   "cell_type": "code",
   "execution_count": null,
   "metadata": {},
   "outputs": [],
   "source": [
    "if not os.path.exists(store_path):\n",
    "    os.makedirs(store_path)\n",
    "a\n",
    "results.to_csv(store_path + '/results.csv', index=None)\n"
   ]
  },
  {
   "cell_type": "code",
   "execution_count": 32,
   "metadata": {
    "scrolled": true
   },
   "outputs": [
    {
     "data": {
      "text/plain": [
       "'results/final/30/0/0/'"
      ]
     },
     "execution_count": 32,
     "metadata": {},
     "output_type": "execute_result"
    }
   ],
   "source": [
    "f\"results/final/{k}/{i}/{j}/\""
   ]
  },
  {
   "cell_type": "code",
   "execution_count": 29,
   "metadata": {},
   "outputs": [
    {
     "data": {
      "text/plain": [
       "'results/30/0/0/30/rmse/'"
      ]
     },
     "execution_count": 29,
     "metadata": {},
     "output_type": "execute_result"
    }
   ],
   "source": [
    "f\"results/{k}/{i}/{j}/{current_day}/rmse/\"\n",
    "\n"
   ]
  },
  {
   "cell_type": "code",
   "execution_count": 41,
   "metadata": {
    "scrolled": true
   },
   "outputs": [
    {
     "name": "stdout",
     "output_type": "stream",
     "text": [
      "INIT DONE\n",
      "True True\n",
      "INFO:tensorflow:Optimization terminated with:\n",
      "  Message: b'CONVERGENCE: REL_REDUCTION_OF_F_<=_FACTR*EPSMCH'\n",
      "  Objective function value: 249.240659\n",
      "  Number of iterations: 107\n",
      "  Number of functions evaluations: 133\n"
     ]
    },
    {
     "name": "stderr",
     "output_type": "stream",
     "text": [
      "INFO:tensorflow:Optimization terminated with:\n",
      "  Message: b'CONVERGENCE: REL_REDUCTION_OF_F_<=_FACTR*EPSMCH'\n",
      "  Objective function value: 249.240659\n",
      "  Number of iterations: 107\n",
      "  Number of functions evaluations: 133\n"
     ]
    },
    {
     "name": "stdout",
     "output_type": "stream",
     "text": [
      "Current Day before update: 9\n",
      "\n",
      "Current Day after update: 10\n",
      "Stations added -  [1025.0]  on day  10\n",
      "\n",
      "Train DataFrame Shape (66, 9)\n",
      "\n",
      "Pool DataFrame Shape (249, 11)\n",
      "\n",
      "Test DataFrame Shape (6, 9)\n",
      "INFO:tensorflow:Optimization terminated with:\n",
      "  Message: b'CONVERGENCE: REL_REDUCTION_OF_F_<=_FACTR*EPSMCH'\n",
      "  Objective function value: 267.574796\n",
      "  Number of iterations: 193\n",
      "  Number of functions evaluations: 227\n"
     ]
    },
    {
     "name": "stderr",
     "output_type": "stream",
     "text": [
      "INFO:tensorflow:Optimization terminated with:\n",
      "  Message: b'CONVERGENCE: REL_REDUCTION_OF_F_<=_FACTR*EPSMCH'\n",
      "  Objective function value: 267.574796\n",
      "  Number of iterations: 193\n",
      "  Number of functions evaluations: 227\n"
     ]
    },
    {
     "name": "stdout",
     "output_type": "stream",
     "text": [
      "Current Day before update: 10\n",
      "\n",
      "Current Day after update: 11\n",
      "\n",
      "Train DataFrame Shape (73, 9)\n",
      "\n",
      "Pool DataFrame Shape (271, 11)\n",
      "\n",
      "Test DataFrame Shape (6, 9)\n",
      "INFO:tensorflow:Optimization terminated with:\n",
      "  Message: b'CONVERGENCE: REL_REDUCTION_OF_F_<=_FACTR*EPSMCH'\n",
      "  Objective function value: 297.359376\n",
      "  Number of iterations: 80\n",
      "  Number of functions evaluations: 96\n"
     ]
    },
    {
     "name": "stderr",
     "output_type": "stream",
     "text": [
      "INFO:tensorflow:Optimization terminated with:\n",
      "  Message: b'CONVERGENCE: REL_REDUCTION_OF_F_<=_FACTR*EPSMCH'\n",
      "  Objective function value: 297.359376\n",
      "  Number of iterations: 80\n",
      "  Number of functions evaluations: 96\n"
     ]
    },
    {
     "name": "stdout",
     "output_type": "stream",
     "text": [
      "Current Day before update: 11\n",
      "\n",
      "Current Day after update: 12\n",
      "\n",
      "Train DataFrame Shape (80, 9)\n",
      "\n",
      "Pool DataFrame Shape (293, 11)\n",
      "\n",
      "Test DataFrame Shape (6, 9)\n",
      "INFO:tensorflow:Optimization terminated with:\n",
      "  Message: b'CONVERGENCE: REL_REDUCTION_OF_F_<=_FACTR*EPSMCH'\n",
      "  Objective function value: 320.223510\n",
      "  Number of iterations: 255\n",
      "  Number of functions evaluations: 304\n"
     ]
    },
    {
     "name": "stderr",
     "output_type": "stream",
     "text": [
      "INFO:tensorflow:Optimization terminated with:\n",
      "  Message: b'CONVERGENCE: REL_REDUCTION_OF_F_<=_FACTR*EPSMCH'\n",
      "  Objective function value: 320.223510\n",
      "  Number of iterations: 255\n",
      "  Number of functions evaluations: 304\n"
     ]
    },
    {
     "name": "stdout",
     "output_type": "stream",
     "text": [
      "Current Day before update: 12\n",
      "\n",
      "Current Day after update: 13\n",
      "\n",
      "Train DataFrame Shape (87, 9)\n",
      "\n",
      "Pool DataFrame Shape (316, 11)\n",
      "\n",
      "Test DataFrame Shape (6, 9)\n",
      "INFO:tensorflow:Optimization terminated with:\n",
      "  Message: b'CONVERGENCE: REL_REDUCTION_OF_F_<=_FACTR*EPSMCH'\n",
      "  Objective function value: 347.021814\n",
      "  Number of iterations: 360\n",
      "  Number of functions evaluations: 433\n"
     ]
    },
    {
     "name": "stderr",
     "output_type": "stream",
     "text": [
      "INFO:tensorflow:Optimization terminated with:\n",
      "  Message: b'CONVERGENCE: REL_REDUCTION_OF_F_<=_FACTR*EPSMCH'\n",
      "  Objective function value: 347.021814\n",
      "  Number of iterations: 360\n",
      "  Number of functions evaluations: 433\n"
     ]
    },
    {
     "name": "stdout",
     "output_type": "stream",
     "text": [
      "Current Day before update: 13\n",
      "\n",
      "Current Day after update: 14\n",
      "\n",
      "Train DataFrame Shape (94, 9)\n",
      "\n",
      "Pool DataFrame Shape (337, 11)\n",
      "\n",
      "Test DataFrame Shape (6, 9)\n",
      "INFO:tensorflow:Optimization terminated with:\n",
      "  Message: b'CONVERGENCE: REL_REDUCTION_OF_F_<=_FACTR*EPSMCH'\n",
      "  Objective function value: 373.506488\n",
      "  Number of iterations: 274\n",
      "  Number of functions evaluations: 321\n"
     ]
    },
    {
     "name": "stderr",
     "output_type": "stream",
     "text": [
      "INFO:tensorflow:Optimization terminated with:\n",
      "  Message: b'CONVERGENCE: REL_REDUCTION_OF_F_<=_FACTR*EPSMCH'\n",
      "  Objective function value: 373.506488\n",
      "  Number of iterations: 274\n",
      "  Number of functions evaluations: 321\n"
     ]
    },
    {
     "name": "stdout",
     "output_type": "stream",
     "text": [
      "Current Day before update: 14\n",
      "\n",
      "Current Day after update: 15\n",
      "Stations added -  [1028.0]  on day  15\n",
      "\n",
      "Train DataFrame Shape (102, 9)\n",
      "\n",
      "Pool DataFrame Shape (343, 11)\n",
      "\n",
      "Test DataFrame Shape (6, 9)\n",
      "INFO:tensorflow:Optimization terminated with:\n",
      "  Message: b'CONVERGENCE: REL_REDUCTION_OF_F_<=_FACTR*EPSMCH'\n",
      "  Objective function value: 403.724499\n",
      "  Number of iterations: 489\n",
      "  Number of functions evaluations: 608\n"
     ]
    },
    {
     "name": "stderr",
     "output_type": "stream",
     "text": [
      "INFO:tensorflow:Optimization terminated with:\n",
      "  Message: b'CONVERGENCE: REL_REDUCTION_OF_F_<=_FACTR*EPSMCH'\n",
      "  Objective function value: 403.724499\n",
      "  Number of iterations: 489\n",
      "  Number of functions evaluations: 608\n"
     ]
    },
    {
     "name": "stdout",
     "output_type": "stream",
     "text": [
      "Current Day before update: 15\n",
      "\n",
      "Current Day after update: 16\n",
      "\n",
      "Train DataFrame Shape (110, 9)\n",
      "\n",
      "Pool DataFrame Shape (364, 11)\n",
      "\n",
      "Test DataFrame Shape (6, 9)\n",
      "INFO:tensorflow:Optimization terminated with:\n",
      "  Message: b'CONVERGENCE: REL_REDUCTION_OF_F_<=_FACTR*EPSMCH'\n",
      "  Objective function value: 431.232576\n",
      "  Number of iterations: 115\n",
      "  Number of functions evaluations: 140\n"
     ]
    },
    {
     "name": "stderr",
     "output_type": "stream",
     "text": [
      "INFO:tensorflow:Optimization terminated with:\n",
      "  Message: b'CONVERGENCE: REL_REDUCTION_OF_F_<=_FACTR*EPSMCH'\n",
      "  Objective function value: 431.232576\n",
      "  Number of iterations: 115\n",
      "  Number of functions evaluations: 140\n"
     ]
    },
    {
     "name": "stdout",
     "output_type": "stream",
     "text": [
      "Current Day before update: 16\n",
      "\n",
      "Current Day after update: 17\n",
      "\n",
      "Train DataFrame Shape (118, 9)\n",
      "\n",
      "Pool DataFrame Shape (385, 11)\n",
      "\n",
      "Test DataFrame Shape (6, 9)\n",
      "INFO:tensorflow:Optimization terminated with:\n",
      "  Message: b'CONVERGENCE: REL_REDUCTION_OF_F_<=_FACTR*EPSMCH'\n",
      "  Objective function value: 467.578535\n",
      "  Number of iterations: 262\n",
      "  Number of functions evaluations: 320\n"
     ]
    },
    {
     "name": "stderr",
     "output_type": "stream",
     "text": [
      "INFO:tensorflow:Optimization terminated with:\n",
      "  Message: b'CONVERGENCE: REL_REDUCTION_OF_F_<=_FACTR*EPSMCH'\n",
      "  Objective function value: 467.578535\n",
      "  Number of iterations: 262\n",
      "  Number of functions evaluations: 320\n"
     ]
    },
    {
     "name": "stdout",
     "output_type": "stream",
     "text": [
      "Current Day before update: 17\n",
      "\n",
      "Current Day after update: 18\n",
      "\n",
      "Train DataFrame Shape (126, 9)\n",
      "\n",
      "Pool DataFrame Shape (406, 11)\n",
      "\n",
      "Test DataFrame Shape (6, 9)\n",
      "INFO:tensorflow:Optimization terminated with:\n",
      "  Message: b'CONVERGENCE: REL_REDUCTION_OF_F_<=_FACTR*EPSMCH'\n",
      "  Objective function value: 506.426289\n",
      "  Number of iterations: 263\n",
      "  Number of functions evaluations: 330\n"
     ]
    },
    {
     "name": "stderr",
     "output_type": "stream",
     "text": [
      "INFO:tensorflow:Optimization terminated with:\n",
      "  Message: b'CONVERGENCE: REL_REDUCTION_OF_F_<=_FACTR*EPSMCH'\n",
      "  Objective function value: 506.426289\n",
      "  Number of iterations: 263\n",
      "  Number of functions evaluations: 330\n"
     ]
    },
    {
     "name": "stdout",
     "output_type": "stream",
     "text": [
      "Current Day before update: 18\n",
      "\n",
      "Current Day after update: 19\n",
      "\n",
      "Train DataFrame Shape (134, 9)\n",
      "\n",
      "Pool DataFrame Shape (427, 11)\n",
      "\n",
      "Test DataFrame Shape (6, 9)\n",
      "INFO:tensorflow:Optimization terminated with:\n",
      "  Message: b'CONVERGENCE: REL_REDUCTION_OF_F_<=_FACTR*EPSMCH'\n",
      "  Objective function value: 540.633824\n",
      "  Number of iterations: 132\n",
      "  Number of functions evaluations: 163\n"
     ]
    },
    {
     "name": "stderr",
     "output_type": "stream",
     "text": [
      "INFO:tensorflow:Optimization terminated with:\n",
      "  Message: b'CONVERGENCE: REL_REDUCTION_OF_F_<=_FACTR*EPSMCH'\n",
      "  Objective function value: 540.633824\n",
      "  Number of iterations: 132\n",
      "  Number of functions evaluations: 163\n"
     ]
    },
    {
     "name": "stdout",
     "output_type": "stream",
     "text": [
      "Current Day before update: 19\n",
      "\n",
      "Current Day after update: 20\n",
      "Stations added -  [1034.0]  on day  20\n",
      "\n",
      "Train DataFrame Shape (136, 9)\n",
      "\n",
      "Pool DataFrame Shape (434, 11)\n",
      "\n",
      "Test DataFrame Shape (6, 9)\n",
      "INFO:tensorflow:Optimization terminated with:\n",
      "  Message: b'CONVERGENCE: REL_REDUCTION_OF_F_<=_FACTR*EPSMCH'\n",
      "  Objective function value: 547.012438\n",
      "  Number of iterations: 454\n",
      "  Number of functions evaluations: 532\n"
     ]
    },
    {
     "name": "stderr",
     "output_type": "stream",
     "text": [
      "INFO:tensorflow:Optimization terminated with:\n",
      "  Message: b'CONVERGENCE: REL_REDUCTION_OF_F_<=_FACTR*EPSMCH'\n",
      "  Objective function value: 547.012438\n",
      "  Number of iterations: 454\n",
      "  Number of functions evaluations: 532\n"
     ]
    },
    {
     "name": "stdout",
     "output_type": "stream",
     "text": [
      "Current Day before update: 20\n",
      "\n",
      "Current Day after update: 21\n",
      "\n",
      "Train DataFrame Shape (138, 9)\n",
      "\n",
      "Pool DataFrame Shape (455, 11)\n",
      "\n",
      "Test DataFrame Shape (6, 9)\n",
      "INFO:tensorflow:Optimization terminated with:\n",
      "  Message: b'CONVERGENCE: REL_REDUCTION_OF_F_<=_FACTR*EPSMCH'\n",
      "  Objective function value: 552.603620\n",
      "  Number of iterations: 618\n",
      "  Number of functions evaluations: 730\n"
     ]
    },
    {
     "name": "stderr",
     "output_type": "stream",
     "text": [
      "INFO:tensorflow:Optimization terminated with:\n",
      "  Message: b'CONVERGENCE: REL_REDUCTION_OF_F_<=_FACTR*EPSMCH'\n",
      "  Objective function value: 552.603620\n",
      "  Number of iterations: 618\n",
      "  Number of functions evaluations: 730\n"
     ]
    },
    {
     "name": "stdout",
     "output_type": "stream",
     "text": [
      "Current Day before update: 21\n",
      "\n",
      "Current Day after update: 22\n",
      "\n",
      "Train DataFrame Shape (142, 9)\n",
      "\n",
      "Pool DataFrame Shape (476, 11)\n",
      "\n",
      "Test DataFrame Shape (6, 9)\n",
      "INFO:tensorflow:Optimization terminated with:\n",
      "  Message: b'CONVERGENCE: REL_REDUCTION_OF_F_<=_FACTR*EPSMCH'\n",
      "  Objective function value: 584.369347\n",
      "  Number of iterations: 124\n",
      "  Number of functions evaluations: 149\n"
     ]
    },
    {
     "name": "stderr",
     "output_type": "stream",
     "text": [
      "INFO:tensorflow:Optimization terminated with:\n",
      "  Message: b'CONVERGENCE: REL_REDUCTION_OF_F_<=_FACTR*EPSMCH'\n",
      "  Objective function value: 584.369347\n",
      "  Number of iterations: 124\n",
      "  Number of functions evaluations: 149\n"
     ]
    },
    {
     "name": "stdout",
     "output_type": "stream",
     "text": [
      "Current Day before update: 22\n",
      "\n",
      "Current Day after update: 23\n",
      "\n",
      "Train DataFrame Shape (145, 9)\n",
      "\n",
      "Pool DataFrame Shape (496, 11)\n",
      "\n",
      "Test DataFrame Shape (6, 9)\n",
      "INFO:tensorflow:Optimization terminated with:\n",
      "  Message: b'CONVERGENCE: REL_REDUCTION_OF_F_<=_FACTR*EPSMCH'\n",
      "  Objective function value: 590.043027\n",
      "  Number of iterations: 460\n",
      "  Number of functions evaluations: 559\n"
     ]
    },
    {
     "name": "stderr",
     "output_type": "stream",
     "text": [
      "INFO:tensorflow:Optimization terminated with:\n",
      "  Message: b'CONVERGENCE: REL_REDUCTION_OF_F_<=_FACTR*EPSMCH'\n",
      "  Objective function value: 590.043027\n",
      "  Number of iterations: 460\n",
      "  Number of functions evaluations: 559\n"
     ]
    },
    {
     "name": "stdout",
     "output_type": "stream",
     "text": [
      "Current Day before update: 23\n",
      "\n",
      "Current Day after update: 24\n",
      "\n",
      "Train DataFrame Shape (148, 9)\n",
      "\n",
      "Pool DataFrame Shape (516, 11)\n",
      "\n",
      "Test DataFrame Shape (6, 9)\n",
      "INFO:tensorflow:Optimization terminated with:\n",
      "  Message: b'CONVERGENCE: REL_REDUCTION_OF_F_<=_FACTR*EPSMCH'\n",
      "  Objective function value: 611.045648\n",
      "  Number of iterations: 315\n",
      "  Number of functions evaluations: 365\n"
     ]
    },
    {
     "name": "stderr",
     "output_type": "stream",
     "text": [
      "INFO:tensorflow:Optimization terminated with:\n",
      "  Message: b'CONVERGENCE: REL_REDUCTION_OF_F_<=_FACTR*EPSMCH'\n",
      "  Objective function value: 611.045648\n",
      "  Number of iterations: 315\n",
      "  Number of functions evaluations: 365\n"
     ]
    },
    {
     "name": "stdout",
     "output_type": "stream",
     "text": [
      "Current Day before update: 24\n",
      "\n",
      "Current Day after update: 25\n",
      "Stations added -  [1019.0]  on day  25\n",
      "\n",
      "Train DataFrame Shape (152, 9)\n",
      "\n",
      "Pool DataFrame Shape (515, 11)\n",
      "\n",
      "Test DataFrame Shape (6, 9)\n",
      "INFO:tensorflow:Optimization terminated with:\n",
      "  Message: b'CONVERGENCE: REL_REDUCTION_OF_F_<=_FACTR*EPSMCH'\n",
      "  Objective function value: 616.153015\n",
      "  Number of iterations: 391\n",
      "  Number of functions evaluations: 480\n"
     ]
    },
    {
     "name": "stderr",
     "output_type": "stream",
     "text": [
      "INFO:tensorflow:Optimization terminated with:\n",
      "  Message: b'CONVERGENCE: REL_REDUCTION_OF_F_<=_FACTR*EPSMCH'\n",
      "  Objective function value: 616.153015\n",
      "  Number of iterations: 391\n",
      "  Number of functions evaluations: 480\n"
     ]
    },
    {
     "name": "stdout",
     "output_type": "stream",
     "text": [
      "Current Day before update: 25\n",
      "\n",
      "Current Day after update: 26\n",
      "\n",
      "Train DataFrame Shape (156, 9)\n",
      "\n",
      "Pool DataFrame Shape (534, 11)\n",
      "\n",
      "Test DataFrame Shape (6, 9)\n",
      "INFO:tensorflow:Optimization terminated with:\n",
      "  Message: b'CONVERGENCE: REL_REDUCTION_OF_F_<=_FACTR*EPSMCH'\n",
      "  Objective function value: 636.094459\n",
      "  Number of iterations: 289\n",
      "  Number of functions evaluations: 350\n"
     ]
    },
    {
     "name": "stderr",
     "output_type": "stream",
     "text": [
      "INFO:tensorflow:Optimization terminated with:\n",
      "  Message: b'CONVERGENCE: REL_REDUCTION_OF_F_<=_FACTR*EPSMCH'\n",
      "  Objective function value: 636.094459\n",
      "  Number of iterations: 289\n",
      "  Number of functions evaluations: 350\n"
     ]
    },
    {
     "name": "stdout",
     "output_type": "stream",
     "text": [
      "Current Day before update: 26\n",
      "\n",
      "Current Day after update: 27\n",
      "\n",
      "Train DataFrame Shape (160, 9)\n",
      "\n",
      "Pool DataFrame Shape (553, 11)\n",
      "\n",
      "Test DataFrame Shape (6, 9)\n",
      "INFO:tensorflow:Optimization terminated with:\n",
      "  Message: b'CONVERGENCE: REL_REDUCTION_OF_F_<=_FACTR*EPSMCH'\n",
      "  Objective function value: 650.719501\n",
      "  Number of iterations: 324\n",
      "  Number of functions evaluations: 385\n"
     ]
    },
    {
     "name": "stderr",
     "output_type": "stream",
     "text": [
      "INFO:tensorflow:Optimization terminated with:\n",
      "  Message: b'CONVERGENCE: REL_REDUCTION_OF_F_<=_FACTR*EPSMCH'\n",
      "  Objective function value: 650.719501\n",
      "  Number of iterations: 324\n",
      "  Number of functions evaluations: 385\n"
     ]
    },
    {
     "name": "stdout",
     "output_type": "stream",
     "text": [
      "Current Day before update: 27\n",
      "\n",
      "Current Day after update: 28\n",
      "\n",
      "Train DataFrame Shape (162, 9)\n",
      "\n",
      "Pool DataFrame Shape (572, 11)\n",
      "\n",
      "Test DataFrame Shape (6, 9)\n",
      "INFO:tensorflow:Optimization terminated with:\n",
      "  Message: b'CONVERGENCE: REL_REDUCTION_OF_F_<=_FACTR*EPSMCH'\n",
      "  Objective function value: 660.626408\n",
      "  Number of iterations: 398\n",
      "  Number of functions evaluations: 482\n"
     ]
    },
    {
     "name": "stderr",
     "output_type": "stream",
     "text": [
      "INFO:tensorflow:Optimization terminated with:\n",
      "  Message: b'CONVERGENCE: REL_REDUCTION_OF_F_<=_FACTR*EPSMCH'\n",
      "  Objective function value: 660.626408\n",
      "  Number of iterations: 398\n",
      "  Number of functions evaluations: 482\n"
     ]
    },
    {
     "name": "stdout",
     "output_type": "stream",
     "text": [
      "Current Day before update: 28\n",
      "\n",
      "Current Day after update: 29\n",
      "\n",
      "Train DataFrame Shape (165, 9)\n",
      "\n",
      "Pool DataFrame Shape (590, 11)\n",
      "\n",
      "Test DataFrame Shape (6, 9)\n",
      "INFO:tensorflow:Optimization terminated with:\n",
      "  Message: b'CONVERGENCE: REL_REDUCTION_OF_F_<=_FACTR*EPSMCH'\n",
      "  Objective function value: 680.617456\n",
      "  Number of iterations: 255\n",
      "  Number of functions evaluations: 298\n"
     ]
    },
    {
     "name": "stderr",
     "output_type": "stream",
     "text": [
      "INFO:tensorflow:Optimization terminated with:\n",
      "  Message: b'CONVERGENCE: REL_REDUCTION_OF_F_<=_FACTR*EPSMCH'\n",
      "  Objective function value: 680.617456\n",
      "  Number of iterations: 255\n",
      "  Number of functions evaluations: 298\n"
     ]
    },
    {
     "name": "stdout",
     "output_type": "stream",
     "text": [
      "Current Day before update: 29\n",
      "\n",
      "Current Day after update: 30\n",
      "Stations added -  [1036.0]  on day  30\n",
      "\n",
      "Train DataFrame Shape (166, 9)\n",
      "\n",
      "Pool DataFrame Shape (585, 11)\n",
      "\n",
      "Test DataFrame Shape (6, 9)\n",
      "INFO:tensorflow:Optimization terminated with:\n",
      "  Message: b'CONVERGENCE: REL_REDUCTION_OF_F_<=_FACTR*EPSMCH'\n",
      "  Objective function value: 683.491192\n",
      "  Number of iterations: 284\n",
      "  Number of functions evaluations: 335\n"
     ]
    },
    {
     "name": "stderr",
     "output_type": "stream",
     "text": [
      "INFO:tensorflow:Optimization terminated with:\n",
      "  Message: b'CONVERGENCE: REL_REDUCTION_OF_F_<=_FACTR*EPSMCH'\n",
      "  Objective function value: 683.491192\n",
      "  Number of iterations: 284\n",
      "  Number of functions evaluations: 335\n"
     ]
    },
    {
     "name": "stdout",
     "output_type": "stream",
     "text": [
      "Current Day before update: 30\n",
      "\n",
      "Current Day after update: 31\n",
      "\n",
      "Train DataFrame Shape (168, 9)\n",
      "\n",
      "Pool DataFrame Shape (603, 11)\n",
      "\n",
      "Test DataFrame Shape (5, 9)\n",
      "INFO:tensorflow:Optimization terminated with:\n",
      "  Message: b'CONVERGENCE: REL_REDUCTION_OF_F_<=_FACTR*EPSMCH'\n",
      "  Objective function value: 684.882528\n",
      "  Number of iterations: 233\n",
      "  Number of functions evaluations: 282\n"
     ]
    },
    {
     "name": "stderr",
     "output_type": "stream",
     "text": [
      "INFO:tensorflow:Optimization terminated with:\n",
      "  Message: b'CONVERGENCE: REL_REDUCTION_OF_F_<=_FACTR*EPSMCH'\n",
      "  Objective function value: 684.882528\n",
      "  Number of iterations: 233\n",
      "  Number of functions evaluations: 282\n"
     ]
    },
    {
     "name": "stdout",
     "output_type": "stream",
     "text": [
      "Current Day before update: 31\n",
      "\n",
      "Current Day after update: 32\n",
      "\n",
      "Train DataFrame Shape (170, 9)\n",
      "\n",
      "Pool DataFrame Shape (622, 11)\n",
      "\n",
      "Test DataFrame Shape (5, 9)\n"
     ]
    },
    {
     "ename": "KeyboardInterrupt",
     "evalue": "",
     "output_type": "error",
     "traceback": [
      "\u001b[0;31m---------------------------------------------------------------------------\u001b[0m",
      "\u001b[0;31mKeyboardInterrupt\u001b[0m                         Traceback (most recent call last)",
      "\u001b[0;32m<ipython-input-41-fe589c085c75>\u001b[0m in \u001b[0;36m<module>\u001b[0;34m\u001b[0m\n\u001b[1;32m     19\u001b[0m     \u001b[0mfname\u001b[0m\u001b[0;34m=\u001b[0m\u001b[0;34m[\u001b[0m\u001b[0;36m0\u001b[0m\u001b[0;34m,\u001b[0m \u001b[0;36m0\u001b[0m\u001b[0;34m]\u001b[0m\u001b[0;34m\u001b[0m\u001b[0;34m\u001b[0m\u001b[0m\n\u001b[1;32m     20\u001b[0m )\n\u001b[0;32m---> 21\u001b[0;31m \u001b[0mgp\u001b[0m\u001b[0;34m.\u001b[0m\u001b[0mactive_gp\u001b[0m\u001b[0;34m(\u001b[0m\u001b[0;34m)\u001b[0m\u001b[0;34m\u001b[0m\u001b[0;34m\u001b[0m\u001b[0m\n\u001b[0m",
      "\u001b[0;32m~/activepm/exp2/gpsampling.py\u001b[0m in \u001b[0;36mactive_gp\u001b[0;34m(self)\u001b[0m\n\u001b[1;32m    404\u001b[0m                 \u001b[0mprint\u001b[0m\u001b[0;34m(\u001b[0m\u001b[0;34m\"\\nTest DataFrame Shape\"\u001b[0m\u001b[0;34m,\u001b[0m \u001b[0mself\u001b[0m\u001b[0;34m.\u001b[0m\u001b[0mX_test\u001b[0m\u001b[0;34m.\u001b[0m\u001b[0mshape\u001b[0m\u001b[0;34m)\u001b[0m\u001b[0;34m\u001b[0m\u001b[0;34m\u001b[0m\u001b[0m\n\u001b[1;32m    405\u001b[0m \u001b[0;34m\u001b[0m\u001b[0m\n\u001b[0;32m--> 406\u001b[0;31m                 \u001b[0mself\u001b[0m\u001b[0;34m.\u001b[0m\u001b[0mgp_train\u001b[0m\u001b[0;34m(\u001b[0m\u001b[0;34m)\u001b[0m\u001b[0;34m\u001b[0m\u001b[0;34m\u001b[0m\u001b[0m\n\u001b[0m\u001b[1;32m    407\u001b[0m \u001b[0;34m\u001b[0m\u001b[0m\n\u001b[1;32m    408\u001b[0m                 \u001b[0;32mif\u001b[0m \u001b[0mself\u001b[0m\u001b[0;34m.\u001b[0m\u001b[0mtrained\u001b[0m\u001b[0;34m:\u001b[0m\u001b[0;34m\u001b[0m\u001b[0;34m\u001b[0m\u001b[0m\n",
      "\u001b[0;32m~/activepm/exp2/gpsampling.py\u001b[0m in \u001b[0;36mgp_train\u001b[0;34m(self)\u001b[0m\n\u001b[1;32m    328\u001b[0m             \u001b[0mself\u001b[0m\u001b[0;34m.\u001b[0m\u001b[0mmodel\u001b[0m \u001b[0;34m=\u001b[0m \u001b[0mgpflow\u001b[0m\u001b[0;34m.\u001b[0m\u001b[0mmodels\u001b[0m\u001b[0;34m.\u001b[0m\u001b[0mGPR\u001b[0m\u001b[0;34m(\u001b[0m\u001b[0mX_train\u001b[0m\u001b[0;34m,\u001b[0m \u001b[0my_train\u001b[0m\u001b[0;34m,\u001b[0m \u001b[0mkern\u001b[0m\u001b[0;34m=\u001b[0m\u001b[0moverall_kernel\u001b[0m\u001b[0;34m,\u001b[0m \u001b[0mmean_function\u001b[0m\u001b[0;34m=\u001b[0m\u001b[0;32mNone\u001b[0m\u001b[0;34m)\u001b[0m\u001b[0;34m\u001b[0m\u001b[0;34m\u001b[0m\u001b[0m\n\u001b[1;32m    329\u001b[0m             \u001b[0mopt\u001b[0m \u001b[0;34m=\u001b[0m \u001b[0mgpflow\u001b[0m\u001b[0;34m.\u001b[0m\u001b[0mtrain\u001b[0m\u001b[0;34m.\u001b[0m\u001b[0mScipyOptimizer\u001b[0m\u001b[0;34m(\u001b[0m\u001b[0;34m)\u001b[0m\u001b[0;34m\u001b[0m\u001b[0;34m\u001b[0m\u001b[0m\n\u001b[0;32m--> 330\u001b[0;31m             \u001b[0mopt\u001b[0m\u001b[0;34m.\u001b[0m\u001b[0mminimize\u001b[0m\u001b[0;34m(\u001b[0m\u001b[0mself\u001b[0m\u001b[0;34m.\u001b[0m\u001b[0mmodel\u001b[0m\u001b[0;34m)\u001b[0m\u001b[0;34m\u001b[0m\u001b[0;34m\u001b[0m\u001b[0m\n\u001b[0m\u001b[1;32m    331\u001b[0m             \u001b[0mself\u001b[0m\u001b[0;34m.\u001b[0m\u001b[0mtrained\u001b[0m \u001b[0;34m=\u001b[0m \u001b[0;32mTrue\u001b[0m\u001b[0;34m\u001b[0m\u001b[0;34m\u001b[0m\u001b[0m\n\u001b[1;32m    332\u001b[0m \u001b[0;34m\u001b[0m\u001b[0m\n",
      "\u001b[0;32m~/anaconda3/envs/tf_gpu/lib/python3.7/site-packages/gpflow/training/scipy_optimizer.py\u001b[0m in \u001b[0;36mminimize\u001b[0;34m(self, model, session, var_list, feed_dict, maxiter, disp, initialize, initialize_optimizer, anchor, step_callback, **kwargs)\u001b[0m\n\u001b[1;32m    122\u001b[0m                 \u001b[0;32mraise\u001b[0m \u001b[0mRuntimeError\u001b[0m\u001b[0;34m(\u001b[0m\u001b[0mmsg\u001b[0m\u001b[0;34m)\u001b[0m\u001b[0;34m\u001b[0m\u001b[0;34m\u001b[0m\u001b[0m\n\u001b[1;32m    123\u001b[0m         \u001b[0;32melse\u001b[0m\u001b[0;34m:\u001b[0m\u001b[0;34m\u001b[0m\u001b[0;34m\u001b[0m\u001b[0m\n\u001b[0;32m--> 124\u001b[0;31m             \u001b[0mself\u001b[0m\u001b[0;34m.\u001b[0m\u001b[0m_optimizer\u001b[0m\u001b[0;34m.\u001b[0m\u001b[0mminimize\u001b[0m\u001b[0;34m(\u001b[0m\u001b[0msession\u001b[0m\u001b[0;34m=\u001b[0m\u001b[0msession\u001b[0m\u001b[0;34m,\u001b[0m \u001b[0mfeed_dict\u001b[0m\u001b[0;34m=\u001b[0m\u001b[0mfeed_dict\u001b[0m\u001b[0;34m,\u001b[0m \u001b[0mstep_callback\u001b[0m\u001b[0;34m=\u001b[0m\u001b[0mstep_callback\u001b[0m\u001b[0;34m,\u001b[0m \u001b[0;34m**\u001b[0m\u001b[0mkwargs\u001b[0m\u001b[0;34m)\u001b[0m\u001b[0;34m\u001b[0m\u001b[0;34m\u001b[0m\u001b[0m\n\u001b[0m\u001b[1;32m    125\u001b[0m \u001b[0;34m\u001b[0m\u001b[0m\n\u001b[1;32m    126\u001b[0m         \u001b[0;32mif\u001b[0m \u001b[0manchor\u001b[0m\u001b[0;34m:\u001b[0m\u001b[0;34m\u001b[0m\u001b[0;34m\u001b[0m\u001b[0m\n",
      "\u001b[0;32m~/anaconda3/envs/tf_gpu/lib/python3.7/site-packages/gpflow/training/external_optimizer.py\u001b[0m in \u001b[0;36mminimize\u001b[0;34m(self, session, feed_dict, fetches, step_callback, loss_callback, **optimizer_kwargs)\u001b[0m\n\u001b[1;32m    127\u001b[0m         \u001b[0msession\u001b[0m \u001b[0;34m=\u001b[0m \u001b[0msession\u001b[0m \u001b[0;32mor\u001b[0m \u001b[0mops\u001b[0m\u001b[0;34m.\u001b[0m\u001b[0mget_default_session\u001b[0m\u001b[0;34m(\u001b[0m\u001b[0;34m)\u001b[0m\u001b[0;34m\u001b[0m\u001b[0;34m\u001b[0m\u001b[0m\n\u001b[1;32m    128\u001b[0m         \u001b[0mself\u001b[0m\u001b[0;34m.\u001b[0m\u001b[0minit_optimize\u001b[0m\u001b[0;34m(\u001b[0m\u001b[0msession\u001b[0m\u001b[0;34m=\u001b[0m\u001b[0msession\u001b[0m\u001b[0;34m,\u001b[0m \u001b[0mfetches\u001b[0m\u001b[0;34m=\u001b[0m\u001b[0mfetches\u001b[0m\u001b[0;34m,\u001b[0m \u001b[0mloss_callback\u001b[0m\u001b[0;34m=\u001b[0m\u001b[0mloss_callback\u001b[0m\u001b[0;34m,\u001b[0m \u001b[0;34m**\u001b[0m\u001b[0moptimizer_kwargs\u001b[0m\u001b[0;34m)\u001b[0m\u001b[0;34m\u001b[0m\u001b[0;34m\u001b[0m\u001b[0m\n\u001b[0;32m--> 129\u001b[0;31m         \u001b[0mself\u001b[0m\u001b[0;34m.\u001b[0m\u001b[0moptimize\u001b[0m\u001b[0;34m(\u001b[0m\u001b[0msession\u001b[0m\u001b[0;34m=\u001b[0m\u001b[0msession\u001b[0m\u001b[0;34m,\u001b[0m \u001b[0mstep_callback\u001b[0m\u001b[0;34m=\u001b[0m\u001b[0mstep_callback\u001b[0m\u001b[0;34m,\u001b[0m \u001b[0mfeed_dict\u001b[0m\u001b[0;34m=\u001b[0m\u001b[0mfeed_dict\u001b[0m\u001b[0;34m)\u001b[0m\u001b[0;34m\u001b[0m\u001b[0;34m\u001b[0m\u001b[0m\n\u001b[0m\u001b[1;32m    130\u001b[0m \u001b[0;34m\u001b[0m\u001b[0m\n\u001b[1;32m    131\u001b[0m     \u001b[0;32mdef\u001b[0m \u001b[0minit_optimize\u001b[0m\u001b[0;34m(\u001b[0m\u001b[0mself\u001b[0m\u001b[0;34m,\u001b[0m \u001b[0msession\u001b[0m\u001b[0;34m=\u001b[0m\u001b[0;32mNone\u001b[0m\u001b[0;34m,\u001b[0m \u001b[0mfetches\u001b[0m\u001b[0;34m=\u001b[0m\u001b[0;32mNone\u001b[0m\u001b[0;34m,\u001b[0m \u001b[0mloss_callback\u001b[0m\u001b[0;34m=\u001b[0m\u001b[0;32mNone\u001b[0m\u001b[0;34m,\u001b[0m \u001b[0;34m**\u001b[0m\u001b[0moptimizer_kwargs\u001b[0m\u001b[0;34m)\u001b[0m\u001b[0;34m:\u001b[0m\u001b[0;34m\u001b[0m\u001b[0;34m\u001b[0m\u001b[0m\n",
      "\u001b[0;32m~/anaconda3/envs/tf_gpu/lib/python3.7/site-packages/gpflow/training/external_optimizer.py\u001b[0m in \u001b[0;36moptimize\u001b[0;34m(self, session, step_callback, feed_dict)\u001b[0m\n\u001b[1;32m    177\u001b[0m                                         \u001b[0moptimizer_kwargs\u001b[0m\u001b[0;34m=\u001b[0m\u001b[0mself\u001b[0m\u001b[0;34m.\u001b[0m\u001b[0moptimizer_kwargs\u001b[0m\u001b[0;34m,\u001b[0m\u001b[0;34m\u001b[0m\u001b[0;34m\u001b[0m\u001b[0m\n\u001b[1;32m    178\u001b[0m                                         \u001b[0mstep_callback\u001b[0m\u001b[0;34m=\u001b[0m\u001b[0mstep_callback\u001b[0m\u001b[0;34m,\u001b[0m\u001b[0;34m\u001b[0m\u001b[0;34m\u001b[0m\u001b[0m\n\u001b[0;32m--> 179\u001b[0;31m                                         **self._minimize_args)\n\u001b[0m\u001b[1;32m    180\u001b[0m \u001b[0;34m\u001b[0m\u001b[0m\n\u001b[1;32m    181\u001b[0m         \u001b[0mvar_vals\u001b[0m \u001b[0;34m=\u001b[0m \u001b[0;34m[\u001b[0m\u001b[0mpacked_var_val\u001b[0m\u001b[0;34m[\u001b[0m\u001b[0mpacking_slice\u001b[0m\u001b[0;34m]\u001b[0m \u001b[0;32mfor\u001b[0m \u001b[0mpacking_slice\u001b[0m \u001b[0;32min\u001b[0m \u001b[0mself\u001b[0m\u001b[0;34m.\u001b[0m\u001b[0m_packing_slices\u001b[0m\u001b[0;34m]\u001b[0m\u001b[0;34m\u001b[0m\u001b[0;34m\u001b[0m\u001b[0m\n",
      "\u001b[0;32m~/anaconda3/envs/tf_gpu/lib/python3.7/site-packages/gpflow/training/external_optimizer.py\u001b[0m in \u001b[0;36m_minimize\u001b[0;34m(self, initial_val, loss_grad_func, equality_funcs, equality_grad_funcs, inequality_funcs, inequality_grad_funcs, packed_bounds, step_callback, optimizer_kwargs)\u001b[0m\n\u001b[1;32m    422\u001b[0m \u001b[0;34m\u001b[0m\u001b[0m\n\u001b[1;32m    423\u001b[0m         \u001b[0;32mimport\u001b[0m \u001b[0mscipy\u001b[0m\u001b[0;34m.\u001b[0m\u001b[0moptimize\u001b[0m  \u001b[0;31m# pylint: disable=g-import-not-at-top\u001b[0m\u001b[0;34m\u001b[0m\u001b[0;34m\u001b[0m\u001b[0m\n\u001b[0;32m--> 424\u001b[0;31m         \u001b[0mresult\u001b[0m \u001b[0;34m=\u001b[0m \u001b[0mscipy\u001b[0m\u001b[0;34m.\u001b[0m\u001b[0moptimize\u001b[0m\u001b[0;34m.\u001b[0m\u001b[0mminimize\u001b[0m\u001b[0;34m(\u001b[0m\u001b[0;34m*\u001b[0m\u001b[0mminimize_args\u001b[0m\u001b[0;34m,\u001b[0m \u001b[0;34m**\u001b[0m\u001b[0mminimize_kwargs\u001b[0m\u001b[0;34m)\u001b[0m\u001b[0;34m\u001b[0m\u001b[0;34m\u001b[0m\u001b[0m\n\u001b[0m\u001b[1;32m    425\u001b[0m         logging.info(\n\u001b[1;32m    426\u001b[0m             \u001b[0;34m'Optimization terminated with:\\n'\u001b[0m\u001b[0;34m\u001b[0m\u001b[0;34m\u001b[0m\u001b[0m\n",
      "\u001b[0;32m~/anaconda3/envs/tf_gpu/lib/python3.7/site-packages/scipy/optimize/_minimize.py\u001b[0m in \u001b[0;36mminimize\u001b[0;34m(fun, x0, args, method, jac, hess, hessp, bounds, constraints, tol, callback, options)\u001b[0m\n\u001b[1;32m    598\u001b[0m     \u001b[0;32melif\u001b[0m \u001b[0mmeth\u001b[0m \u001b[0;34m==\u001b[0m \u001b[0;34m'l-bfgs-b'\u001b[0m\u001b[0;34m:\u001b[0m\u001b[0;34m\u001b[0m\u001b[0;34m\u001b[0m\u001b[0m\n\u001b[1;32m    599\u001b[0m         return _minimize_lbfgsb(fun, x0, args, jac, bounds,\n\u001b[0;32m--> 600\u001b[0;31m                                 callback=callback, **options)\n\u001b[0m\u001b[1;32m    601\u001b[0m     \u001b[0;32melif\u001b[0m \u001b[0mmeth\u001b[0m \u001b[0;34m==\u001b[0m \u001b[0;34m'tnc'\u001b[0m\u001b[0;34m:\u001b[0m\u001b[0;34m\u001b[0m\u001b[0;34m\u001b[0m\u001b[0m\n\u001b[1;32m    602\u001b[0m         return _minimize_tnc(fun, x0, args, jac, bounds, callback=callback,\n",
      "\u001b[0;32m~/anaconda3/envs/tf_gpu/lib/python3.7/site-packages/scipy/optimize/lbfgsb.py\u001b[0m in \u001b[0;36m_minimize_lbfgsb\u001b[0;34m(fun, x0, args, jac, bounds, disp, maxcor, ftol, gtol, eps, maxfun, maxiter, iprint, callback, maxls, **unknown_options)\u001b[0m\n\u001b[1;32m    333\u001b[0m             \u001b[0;31m# until the completion of the current minimization iteration.\u001b[0m\u001b[0;34m\u001b[0m\u001b[0;34m\u001b[0m\u001b[0;34m\u001b[0m\u001b[0m\n\u001b[1;32m    334\u001b[0m             \u001b[0;31m# Overwrite f and g:\u001b[0m\u001b[0;34m\u001b[0m\u001b[0;34m\u001b[0m\u001b[0;34m\u001b[0m\u001b[0m\n\u001b[0;32m--> 335\u001b[0;31m             \u001b[0mf\u001b[0m\u001b[0;34m,\u001b[0m \u001b[0mg\u001b[0m \u001b[0;34m=\u001b[0m \u001b[0mfunc_and_grad\u001b[0m\u001b[0;34m(\u001b[0m\u001b[0mx\u001b[0m\u001b[0;34m)\u001b[0m\u001b[0;34m\u001b[0m\u001b[0;34m\u001b[0m\u001b[0m\n\u001b[0m\u001b[1;32m    336\u001b[0m         \u001b[0;32melif\u001b[0m \u001b[0mtask_str\u001b[0m\u001b[0;34m.\u001b[0m\u001b[0mstartswith\u001b[0m\u001b[0;34m(\u001b[0m\u001b[0;34mb'NEW_X'\u001b[0m\u001b[0;34m)\u001b[0m\u001b[0;34m:\u001b[0m\u001b[0;34m\u001b[0m\u001b[0;34m\u001b[0m\u001b[0m\n\u001b[1;32m    337\u001b[0m             \u001b[0;31m# new iteration\u001b[0m\u001b[0;34m\u001b[0m\u001b[0;34m\u001b[0m\u001b[0;34m\u001b[0m\u001b[0m\n",
      "\u001b[0;32m~/anaconda3/envs/tf_gpu/lib/python3.7/site-packages/scipy/optimize/lbfgsb.py\u001b[0m in \u001b[0;36mfunc_and_grad\u001b[0;34m(x)\u001b[0m\n\u001b[1;32m    283\u001b[0m     \u001b[0;32melse\u001b[0m\u001b[0;34m:\u001b[0m\u001b[0;34m\u001b[0m\u001b[0;34m\u001b[0m\u001b[0m\n\u001b[1;32m    284\u001b[0m         \u001b[0;32mdef\u001b[0m \u001b[0mfunc_and_grad\u001b[0m\u001b[0;34m(\u001b[0m\u001b[0mx\u001b[0m\u001b[0;34m)\u001b[0m\u001b[0;34m:\u001b[0m\u001b[0;34m\u001b[0m\u001b[0;34m\u001b[0m\u001b[0m\n\u001b[0;32m--> 285\u001b[0;31m             \u001b[0mf\u001b[0m \u001b[0;34m=\u001b[0m \u001b[0mfun\u001b[0m\u001b[0;34m(\u001b[0m\u001b[0mx\u001b[0m\u001b[0;34m,\u001b[0m \u001b[0;34m*\u001b[0m\u001b[0margs\u001b[0m\u001b[0;34m)\u001b[0m\u001b[0;34m\u001b[0m\u001b[0;34m\u001b[0m\u001b[0m\n\u001b[0m\u001b[1;32m    286\u001b[0m             \u001b[0mg\u001b[0m \u001b[0;34m=\u001b[0m \u001b[0mjac\u001b[0m\u001b[0;34m(\u001b[0m\u001b[0mx\u001b[0m\u001b[0;34m,\u001b[0m \u001b[0;34m*\u001b[0m\u001b[0margs\u001b[0m\u001b[0;34m)\u001b[0m\u001b[0;34m\u001b[0m\u001b[0;34m\u001b[0m\u001b[0m\n\u001b[1;32m    287\u001b[0m             \u001b[0;32mreturn\u001b[0m \u001b[0mf\u001b[0m\u001b[0;34m,\u001b[0m \u001b[0mg\u001b[0m\u001b[0;34m\u001b[0m\u001b[0;34m\u001b[0m\u001b[0m\n",
      "\u001b[0;32m~/anaconda3/envs/tf_gpu/lib/python3.7/site-packages/scipy/optimize/optimize.py\u001b[0m in \u001b[0;36mfunction_wrapper\u001b[0;34m(*wrapper_args)\u001b[0m\n\u001b[1;32m    324\u001b[0m     \u001b[0;32mdef\u001b[0m \u001b[0mfunction_wrapper\u001b[0m\u001b[0;34m(\u001b[0m\u001b[0;34m*\u001b[0m\u001b[0mwrapper_args\u001b[0m\u001b[0;34m)\u001b[0m\u001b[0;34m:\u001b[0m\u001b[0;34m\u001b[0m\u001b[0;34m\u001b[0m\u001b[0m\n\u001b[1;32m    325\u001b[0m         \u001b[0mncalls\u001b[0m\u001b[0;34m[\u001b[0m\u001b[0;36m0\u001b[0m\u001b[0;34m]\u001b[0m \u001b[0;34m+=\u001b[0m \u001b[0;36m1\u001b[0m\u001b[0;34m\u001b[0m\u001b[0;34m\u001b[0m\u001b[0m\n\u001b[0;32m--> 326\u001b[0;31m         \u001b[0;32mreturn\u001b[0m \u001b[0mfunction\u001b[0m\u001b[0;34m(\u001b[0m\u001b[0;34m*\u001b[0m\u001b[0;34m(\u001b[0m\u001b[0mwrapper_args\u001b[0m \u001b[0;34m+\u001b[0m \u001b[0margs\u001b[0m\u001b[0;34m)\u001b[0m\u001b[0;34m)\u001b[0m\u001b[0;34m\u001b[0m\u001b[0;34m\u001b[0m\u001b[0m\n\u001b[0m\u001b[1;32m    327\u001b[0m \u001b[0;34m\u001b[0m\u001b[0m\n\u001b[1;32m    328\u001b[0m     \u001b[0;32mreturn\u001b[0m \u001b[0mncalls\u001b[0m\u001b[0;34m,\u001b[0m \u001b[0mfunction_wrapper\u001b[0m\u001b[0;34m\u001b[0m\u001b[0;34m\u001b[0m\u001b[0m\n",
      "\u001b[0;32m~/anaconda3/envs/tf_gpu/lib/python3.7/site-packages/scipy/optimize/optimize.py\u001b[0m in \u001b[0;36m__call__\u001b[0;34m(self, x, *args)\u001b[0m\n\u001b[1;32m     62\u001b[0m     \u001b[0;32mdef\u001b[0m \u001b[0m__call__\u001b[0m\u001b[0;34m(\u001b[0m\u001b[0mself\u001b[0m\u001b[0;34m,\u001b[0m \u001b[0mx\u001b[0m\u001b[0;34m,\u001b[0m \u001b[0;34m*\u001b[0m\u001b[0margs\u001b[0m\u001b[0;34m)\u001b[0m\u001b[0;34m:\u001b[0m\u001b[0;34m\u001b[0m\u001b[0;34m\u001b[0m\u001b[0m\n\u001b[1;32m     63\u001b[0m         \u001b[0mself\u001b[0m\u001b[0;34m.\u001b[0m\u001b[0mx\u001b[0m \u001b[0;34m=\u001b[0m \u001b[0mnumpy\u001b[0m\u001b[0;34m.\u001b[0m\u001b[0masarray\u001b[0m\u001b[0;34m(\u001b[0m\u001b[0mx\u001b[0m\u001b[0;34m)\u001b[0m\u001b[0;34m.\u001b[0m\u001b[0mcopy\u001b[0m\u001b[0;34m(\u001b[0m\u001b[0;34m)\u001b[0m\u001b[0;34m\u001b[0m\u001b[0;34m\u001b[0m\u001b[0m\n\u001b[0;32m---> 64\u001b[0;31m         \u001b[0mfg\u001b[0m \u001b[0;34m=\u001b[0m \u001b[0mself\u001b[0m\u001b[0;34m.\u001b[0m\u001b[0mfun\u001b[0m\u001b[0;34m(\u001b[0m\u001b[0mx\u001b[0m\u001b[0;34m,\u001b[0m \u001b[0;34m*\u001b[0m\u001b[0margs\u001b[0m\u001b[0;34m)\u001b[0m\u001b[0;34m\u001b[0m\u001b[0;34m\u001b[0m\u001b[0m\n\u001b[0m\u001b[1;32m     65\u001b[0m         \u001b[0mself\u001b[0m\u001b[0;34m.\u001b[0m\u001b[0mjac\u001b[0m \u001b[0;34m=\u001b[0m \u001b[0mfg\u001b[0m\u001b[0;34m[\u001b[0m\u001b[0;36m1\u001b[0m\u001b[0;34m]\u001b[0m\u001b[0;34m\u001b[0m\u001b[0;34m\u001b[0m\u001b[0m\n\u001b[1;32m     66\u001b[0m         \u001b[0;32mreturn\u001b[0m \u001b[0mfg\u001b[0m\u001b[0;34m[\u001b[0m\u001b[0;36m0\u001b[0m\u001b[0;34m]\u001b[0m\u001b[0;34m\u001b[0m\u001b[0;34m\u001b[0m\u001b[0m\n",
      "\u001b[0;32m~/anaconda3/envs/tf_gpu/lib/python3.7/site-packages/gpflow/training/external_optimizer.py\u001b[0m in \u001b[0;36mloss_grad_func_wrapper\u001b[0;34m(x)\u001b[0m\n\u001b[1;32m    386\u001b[0m         \u001b[0;32mdef\u001b[0m \u001b[0mloss_grad_func_wrapper\u001b[0m\u001b[0;34m(\u001b[0m\u001b[0mx\u001b[0m\u001b[0;34m)\u001b[0m\u001b[0;34m:\u001b[0m\u001b[0;34m\u001b[0m\u001b[0;34m\u001b[0m\u001b[0m\n\u001b[1;32m    387\u001b[0m             \u001b[0;31m# SciPy's L-BFGS-B Fortran implementation requires gradients as doubles.\u001b[0m\u001b[0;34m\u001b[0m\u001b[0;34m\u001b[0m\u001b[0;34m\u001b[0m\u001b[0m\n\u001b[0;32m--> 388\u001b[0;31m             \u001b[0mloss\u001b[0m\u001b[0;34m,\u001b[0m \u001b[0mgradient\u001b[0m \u001b[0;34m=\u001b[0m \u001b[0mloss_grad_func\u001b[0m\u001b[0;34m(\u001b[0m\u001b[0mx\u001b[0m\u001b[0;34m)\u001b[0m\u001b[0;34m\u001b[0m\u001b[0;34m\u001b[0m\u001b[0m\n\u001b[0m\u001b[1;32m    389\u001b[0m             \u001b[0;32mreturn\u001b[0m \u001b[0mloss\u001b[0m\u001b[0;34m,\u001b[0m \u001b[0mgradient\u001b[0m\u001b[0;34m.\u001b[0m\u001b[0mastype\u001b[0m\u001b[0;34m(\u001b[0m\u001b[0;34m'float64'\u001b[0m\u001b[0;34m)\u001b[0m\u001b[0;34m\u001b[0m\u001b[0;34m\u001b[0m\u001b[0m\n\u001b[1;32m    390\u001b[0m \u001b[0;34m\u001b[0m\u001b[0m\n",
      "\u001b[0;32m~/anaconda3/envs/tf_gpu/lib/python3.7/site-packages/gpflow/training/external_optimizer.py\u001b[0m in \u001b[0;36meval_func\u001b[0;34m(x)\u001b[0m\n\u001b[1;32m    307\u001b[0m             \u001b[0maugmented_fetches\u001b[0m \u001b[0;34m=\u001b[0m \u001b[0mtensors\u001b[0m \u001b[0;34m+\u001b[0m \u001b[0mfetches\u001b[0m\u001b[0;34m\u001b[0m\u001b[0;34m\u001b[0m\u001b[0m\n\u001b[1;32m    308\u001b[0m \u001b[0;34m\u001b[0m\u001b[0m\n\u001b[0;32m--> 309\u001b[0;31m             \u001b[0maugmented_fetch_vals\u001b[0m \u001b[0;34m=\u001b[0m \u001b[0msession\u001b[0m\u001b[0;34m.\u001b[0m\u001b[0mrun\u001b[0m\u001b[0;34m(\u001b[0m\u001b[0maugmented_fetches\u001b[0m\u001b[0;34m,\u001b[0m \u001b[0mfeed_dict\u001b[0m\u001b[0;34m=\u001b[0m\u001b[0maugmented_feed_dict\u001b[0m\u001b[0;34m)\u001b[0m\u001b[0;34m\u001b[0m\u001b[0;34m\u001b[0m\u001b[0m\n\u001b[0m\u001b[1;32m    310\u001b[0m \u001b[0;34m\u001b[0m\u001b[0m\n\u001b[1;32m    311\u001b[0m             \u001b[0;32mif\u001b[0m \u001b[0mcallable\u001b[0m\u001b[0;34m(\u001b[0m\u001b[0mcallback\u001b[0m\u001b[0;34m)\u001b[0m\u001b[0;34m:\u001b[0m\u001b[0;34m\u001b[0m\u001b[0;34m\u001b[0m\u001b[0m\n",
      "\u001b[0;32m~/anaconda3/envs/tf_gpu/lib/python3.7/site-packages/tensorflow/python/client/session.py\u001b[0m in \u001b[0;36mrun\u001b[0;34m(self, fetches, feed_dict, options, run_metadata)\u001b[0m\n\u001b[1;32m    948\u001b[0m     \u001b[0;32mtry\u001b[0m\u001b[0;34m:\u001b[0m\u001b[0;34m\u001b[0m\u001b[0;34m\u001b[0m\u001b[0m\n\u001b[1;32m    949\u001b[0m       result = self._run(None, fetches, feed_dict, options_ptr,\n\u001b[0;32m--> 950\u001b[0;31m                          run_metadata_ptr)\n\u001b[0m\u001b[1;32m    951\u001b[0m       \u001b[0;32mif\u001b[0m \u001b[0mrun_metadata\u001b[0m\u001b[0;34m:\u001b[0m\u001b[0;34m\u001b[0m\u001b[0;34m\u001b[0m\u001b[0m\n\u001b[1;32m    952\u001b[0m         \u001b[0mproto_data\u001b[0m \u001b[0;34m=\u001b[0m \u001b[0mtf_session\u001b[0m\u001b[0;34m.\u001b[0m\u001b[0mTF_GetBuffer\u001b[0m\u001b[0;34m(\u001b[0m\u001b[0mrun_metadata_ptr\u001b[0m\u001b[0;34m)\u001b[0m\u001b[0;34m\u001b[0m\u001b[0;34m\u001b[0m\u001b[0m\n",
      "\u001b[0;32m~/anaconda3/envs/tf_gpu/lib/python3.7/site-packages/tensorflow/python/client/session.py\u001b[0m in \u001b[0;36m_run\u001b[0;34m(self, handle, fetches, feed_dict, options, run_metadata)\u001b[0m\n\u001b[1;32m   1171\u001b[0m     \u001b[0;32mif\u001b[0m \u001b[0mfinal_fetches\u001b[0m \u001b[0;32mor\u001b[0m \u001b[0mfinal_targets\u001b[0m \u001b[0;32mor\u001b[0m \u001b[0;34m(\u001b[0m\u001b[0mhandle\u001b[0m \u001b[0;32mand\u001b[0m \u001b[0mfeed_dict_tensor\u001b[0m\u001b[0;34m)\u001b[0m\u001b[0;34m:\u001b[0m\u001b[0;34m\u001b[0m\u001b[0;34m\u001b[0m\u001b[0m\n\u001b[1;32m   1172\u001b[0m       results = self._do_run(handle, final_targets, final_fetches,\n\u001b[0;32m-> 1173\u001b[0;31m                              feed_dict_tensor, options, run_metadata)\n\u001b[0m\u001b[1;32m   1174\u001b[0m     \u001b[0;32melse\u001b[0m\u001b[0;34m:\u001b[0m\u001b[0;34m\u001b[0m\u001b[0;34m\u001b[0m\u001b[0m\n\u001b[1;32m   1175\u001b[0m       \u001b[0mresults\u001b[0m \u001b[0;34m=\u001b[0m \u001b[0;34m[\u001b[0m\u001b[0;34m]\u001b[0m\u001b[0;34m\u001b[0m\u001b[0;34m\u001b[0m\u001b[0m\n",
      "\u001b[0;32m~/anaconda3/envs/tf_gpu/lib/python3.7/site-packages/tensorflow/python/client/session.py\u001b[0m in \u001b[0;36m_do_run\u001b[0;34m(self, handle, target_list, fetch_list, feed_dict, options, run_metadata)\u001b[0m\n\u001b[1;32m   1348\u001b[0m     \u001b[0;32mif\u001b[0m \u001b[0mhandle\u001b[0m \u001b[0;32mis\u001b[0m \u001b[0;32mNone\u001b[0m\u001b[0;34m:\u001b[0m\u001b[0;34m\u001b[0m\u001b[0;34m\u001b[0m\u001b[0m\n\u001b[1;32m   1349\u001b[0m       return self._do_call(_run_fn, feeds, fetches, targets, options,\n\u001b[0;32m-> 1350\u001b[0;31m                            run_metadata)\n\u001b[0m\u001b[1;32m   1351\u001b[0m     \u001b[0;32melse\u001b[0m\u001b[0;34m:\u001b[0m\u001b[0;34m\u001b[0m\u001b[0;34m\u001b[0m\u001b[0m\n\u001b[1;32m   1352\u001b[0m       \u001b[0;32mreturn\u001b[0m \u001b[0mself\u001b[0m\u001b[0;34m.\u001b[0m\u001b[0m_do_call\u001b[0m\u001b[0;34m(\u001b[0m\u001b[0m_prun_fn\u001b[0m\u001b[0;34m,\u001b[0m \u001b[0mhandle\u001b[0m\u001b[0;34m,\u001b[0m \u001b[0mfeeds\u001b[0m\u001b[0;34m,\u001b[0m \u001b[0mfetches\u001b[0m\u001b[0;34m)\u001b[0m\u001b[0;34m\u001b[0m\u001b[0;34m\u001b[0m\u001b[0m\n",
      "\u001b[0;32m~/anaconda3/envs/tf_gpu/lib/python3.7/site-packages/tensorflow/python/client/session.py\u001b[0m in \u001b[0;36m_do_call\u001b[0;34m(self, fn, *args)\u001b[0m\n\u001b[1;32m   1354\u001b[0m   \u001b[0;32mdef\u001b[0m \u001b[0m_do_call\u001b[0m\u001b[0;34m(\u001b[0m\u001b[0mself\u001b[0m\u001b[0;34m,\u001b[0m \u001b[0mfn\u001b[0m\u001b[0;34m,\u001b[0m \u001b[0;34m*\u001b[0m\u001b[0margs\u001b[0m\u001b[0;34m)\u001b[0m\u001b[0;34m:\u001b[0m\u001b[0;34m\u001b[0m\u001b[0;34m\u001b[0m\u001b[0m\n\u001b[1;32m   1355\u001b[0m     \u001b[0;32mtry\u001b[0m\u001b[0;34m:\u001b[0m\u001b[0;34m\u001b[0m\u001b[0;34m\u001b[0m\u001b[0m\n\u001b[0;32m-> 1356\u001b[0;31m       \u001b[0;32mreturn\u001b[0m \u001b[0mfn\u001b[0m\u001b[0;34m(\u001b[0m\u001b[0;34m*\u001b[0m\u001b[0margs\u001b[0m\u001b[0;34m)\u001b[0m\u001b[0;34m\u001b[0m\u001b[0;34m\u001b[0m\u001b[0m\n\u001b[0m\u001b[1;32m   1357\u001b[0m     \u001b[0;32mexcept\u001b[0m \u001b[0merrors\u001b[0m\u001b[0;34m.\u001b[0m\u001b[0mOpError\u001b[0m \u001b[0;32mas\u001b[0m \u001b[0me\u001b[0m\u001b[0;34m:\u001b[0m\u001b[0;34m\u001b[0m\u001b[0;34m\u001b[0m\u001b[0m\n\u001b[1;32m   1358\u001b[0m       \u001b[0mmessage\u001b[0m \u001b[0;34m=\u001b[0m \u001b[0mcompat\u001b[0m\u001b[0;34m.\u001b[0m\u001b[0mas_text\u001b[0m\u001b[0;34m(\u001b[0m\u001b[0me\u001b[0m\u001b[0;34m.\u001b[0m\u001b[0mmessage\u001b[0m\u001b[0;34m)\u001b[0m\u001b[0;34m\u001b[0m\u001b[0;34m\u001b[0m\u001b[0m\n",
      "\u001b[0;32m~/anaconda3/envs/tf_gpu/lib/python3.7/site-packages/tensorflow/python/client/session.py\u001b[0m in \u001b[0;36m_run_fn\u001b[0;34m(feed_dict, fetch_list, target_list, options, run_metadata)\u001b[0m\n\u001b[1;32m   1339\u001b[0m       \u001b[0mself\u001b[0m\u001b[0;34m.\u001b[0m\u001b[0m_extend_graph\u001b[0m\u001b[0;34m(\u001b[0m\u001b[0;34m)\u001b[0m\u001b[0;34m\u001b[0m\u001b[0;34m\u001b[0m\u001b[0m\n\u001b[1;32m   1340\u001b[0m       return self._call_tf_sessionrun(\n\u001b[0;32m-> 1341\u001b[0;31m           options, feed_dict, fetch_list, target_list, run_metadata)\n\u001b[0m\u001b[1;32m   1342\u001b[0m \u001b[0;34m\u001b[0m\u001b[0m\n\u001b[1;32m   1343\u001b[0m     \u001b[0;32mdef\u001b[0m \u001b[0m_prun_fn\u001b[0m\u001b[0;34m(\u001b[0m\u001b[0mhandle\u001b[0m\u001b[0;34m,\u001b[0m \u001b[0mfeed_dict\u001b[0m\u001b[0;34m,\u001b[0m \u001b[0mfetch_list\u001b[0m\u001b[0;34m)\u001b[0m\u001b[0;34m:\u001b[0m\u001b[0;34m\u001b[0m\u001b[0;34m\u001b[0m\u001b[0m\n",
      "\u001b[0;32m~/anaconda3/envs/tf_gpu/lib/python3.7/site-packages/tensorflow/python/client/session.py\u001b[0m in \u001b[0;36m_call_tf_sessionrun\u001b[0;34m(self, options, feed_dict, fetch_list, target_list, run_metadata)\u001b[0m\n\u001b[1;32m   1427\u001b[0m     return tf_session.TF_SessionRun_wrapper(\n\u001b[1;32m   1428\u001b[0m         \u001b[0mself\u001b[0m\u001b[0;34m.\u001b[0m\u001b[0m_session\u001b[0m\u001b[0;34m,\u001b[0m \u001b[0moptions\u001b[0m\u001b[0;34m,\u001b[0m \u001b[0mfeed_dict\u001b[0m\u001b[0;34m,\u001b[0m \u001b[0mfetch_list\u001b[0m\u001b[0;34m,\u001b[0m \u001b[0mtarget_list\u001b[0m\u001b[0;34m,\u001b[0m\u001b[0;34m\u001b[0m\u001b[0;34m\u001b[0m\u001b[0m\n\u001b[0;32m-> 1429\u001b[0;31m         run_metadata)\n\u001b[0m\u001b[1;32m   1430\u001b[0m \u001b[0;34m\u001b[0m\u001b[0m\n\u001b[1;32m   1431\u001b[0m   \u001b[0;32mdef\u001b[0m \u001b[0m_call_tf_sessionprun\u001b[0m\u001b[0;34m(\u001b[0m\u001b[0mself\u001b[0m\u001b[0;34m,\u001b[0m \u001b[0mhandle\u001b[0m\u001b[0;34m,\u001b[0m \u001b[0mfeed_dict\u001b[0m\u001b[0;34m,\u001b[0m \u001b[0mfetch_list\u001b[0m\u001b[0;34m)\u001b[0m\u001b[0;34m:\u001b[0m\u001b[0;34m\u001b[0m\u001b[0;34m\u001b[0m\u001b[0m\n",
      "\u001b[0;31mKeyboardInterrupt\u001b[0m: "
     ]
    }
   ],
   "source": [
    "from gpsampling import GPActive\n",
    "\n",
    "# for i in station_split:\n",
    "#     for j in station_split[i]:\n",
    "        \n",
    "    \n",
    "\n",
    "gp = GPActive(\n",
    "    df = df,\n",
    "    train_stations = list(station_split[0][0]['sts_val']),\n",
    "    pool_stations = list(station_split[0][0]['sts_train']),\n",
    "    test_stations = list(station_split[0][0]['sts_test']),\n",
    "    context_days = 9,\n",
    "    frequency = 5,\n",
    "    test_days = 50,\n",
    "    train_days = 20,\n",
    "    number_to_query = 1,\n",
    "    number_of_seeds=20,\n",
    "    fname=[0, 0]\n",
    ")\n",
    "gp.active_gp()"
   ]
  },
  {
   "cell_type": "code",
   "execution_count": 42,
   "metadata": {},
   "outputs": [
    {
     "name": "stdout",
     "output_type": "stream",
     "text": [
      "Seed is 0\n",
      "Current Day before update: 9\n",
      "\n",
      "Current Day after update: 10\n",
      "Stations added -  [1015.]\n",
      "\n",
      "Train DataFrame Shape (66, 9)\n",
      "\n",
      "Pool DataFrame Shape (249, 11)\n",
      "\n",
      "Test DataFrame Shape (6, 9)\n",
      "INFO:tensorflow:Optimization terminated with:\n",
      "  Message: b'CONVERGENCE: REL_REDUCTION_OF_F_<=_FACTR*EPSMCH'\n",
      "  Objective function value: 267.322027\n",
      "  Number of iterations: 224\n",
      "  Number of functions evaluations: 279\n"
     ]
    },
    {
     "name": "stderr",
     "output_type": "stream",
     "text": [
      "INFO:tensorflow:Optimization terminated with:\n",
      "  Message: b'CONVERGENCE: REL_REDUCTION_OF_F_<=_FACTR*EPSMCH'\n",
      "  Objective function value: 267.322027\n",
      "  Number of iterations: 224\n",
      "  Number of functions evaluations: 279\n"
     ]
    },
    {
     "name": "stdout",
     "output_type": "stream",
     "text": [
      "Current Day before update: 10\n",
      "\n",
      "Current Day after update: 11\n",
      "\n",
      "Train DataFrame Shape (73, 9)\n",
      "\n",
      "Pool DataFrame Shape (271, 11)\n",
      "\n",
      "Test DataFrame Shape (6, 9)\n",
      "INFO:tensorflow:Optimization terminated with:\n",
      "  Message: b'CONVERGENCE: REL_REDUCTION_OF_F_<=_FACTR*EPSMCH'\n",
      "  Objective function value: 296.495160\n",
      "  Number of iterations: 149\n",
      "  Number of functions evaluations: 183\n"
     ]
    },
    {
     "name": "stderr",
     "output_type": "stream",
     "text": [
      "INFO:tensorflow:Optimization terminated with:\n",
      "  Message: b'CONVERGENCE: REL_REDUCTION_OF_F_<=_FACTR*EPSMCH'\n",
      "  Objective function value: 296.495160\n",
      "  Number of iterations: 149\n",
      "  Number of functions evaluations: 183\n"
     ]
    },
    {
     "name": "stdout",
     "output_type": "stream",
     "text": [
      "Current Day before update: 11\n",
      "\n",
      "Current Day after update: 12\n",
      "\n",
      "Train DataFrame Shape (80, 9)\n",
      "\n",
      "Pool DataFrame Shape (293, 11)\n",
      "\n",
      "Test DataFrame Shape (6, 9)\n",
      "INFO:tensorflow:Optimization terminated with:\n",
      "  Message: b'CONVERGENCE: REL_REDUCTION_OF_F_<=_FACTR*EPSMCH'\n",
      "  Objective function value: 326.185539\n",
      "  Number of iterations: 102\n",
      "  Number of functions evaluations: 129\n"
     ]
    },
    {
     "name": "stderr",
     "output_type": "stream",
     "text": [
      "INFO:tensorflow:Optimization terminated with:\n",
      "  Message: b'CONVERGENCE: REL_REDUCTION_OF_F_<=_FACTR*EPSMCH'\n",
      "  Objective function value: 326.185539\n",
      "  Number of iterations: 102\n",
      "  Number of functions evaluations: 129\n"
     ]
    },
    {
     "name": "stdout",
     "output_type": "stream",
     "text": [
      "Current Day before update: 12\n",
      "\n",
      "Current Day after update: 13\n",
      "\n",
      "Train DataFrame Shape (87, 9)\n",
      "\n",
      "Pool DataFrame Shape (316, 11)\n",
      "\n",
      "Test DataFrame Shape (6, 9)\n",
      "INFO:tensorflow:Optimization terminated with:\n",
      "  Message: b'CONVERGENCE: REL_REDUCTION_OF_F_<=_FACTR*EPSMCH'\n",
      "  Objective function value: 348.637903\n",
      "  Number of iterations: 87\n",
      "  Number of functions evaluations: 109\n"
     ]
    },
    {
     "name": "stderr",
     "output_type": "stream",
     "text": [
      "INFO:tensorflow:Optimization terminated with:\n",
      "  Message: b'CONVERGENCE: REL_REDUCTION_OF_F_<=_FACTR*EPSMCH'\n",
      "  Objective function value: 348.637903\n",
      "  Number of iterations: 87\n",
      "  Number of functions evaluations: 109\n"
     ]
    },
    {
     "name": "stdout",
     "output_type": "stream",
     "text": [
      "Current Day before update: 13\n",
      "\n",
      "Current Day after update: 14\n",
      "\n",
      "Train DataFrame Shape (94, 9)\n",
      "\n",
      "Pool DataFrame Shape (337, 11)\n",
      "\n",
      "Test DataFrame Shape (6, 9)\n",
      "INFO:tensorflow:Optimization terminated with:\n",
      "  Message: b'CONVERGENCE: REL_REDUCTION_OF_F_<=_FACTR*EPSMCH'\n",
      "  Objective function value: 374.034208\n",
      "  Number of iterations: 150\n",
      "  Number of functions evaluations: 191\n"
     ]
    },
    {
     "name": "stderr",
     "output_type": "stream",
     "text": [
      "INFO:tensorflow:Optimization terminated with:\n",
      "  Message: b'CONVERGENCE: REL_REDUCTION_OF_F_<=_FACTR*EPSMCH'\n",
      "  Objective function value: 374.034208\n",
      "  Number of iterations: 150\n",
      "  Number of functions evaluations: 191\n"
     ]
    },
    {
     "name": "stdout",
     "output_type": "stream",
     "text": [
      "Current Day before update: 14\n",
      "\n",
      "Current Day after update: 15\n",
      "Stations added -  [1026.]\n",
      "\n",
      "Train DataFrame Shape (102, 9)\n",
      "\n",
      "Pool DataFrame Shape (343, 11)\n",
      "\n",
      "Test DataFrame Shape (6, 9)\n",
      "INFO:tensorflow:Optimization terminated with:\n",
      "  Message: b'CONVERGENCE: REL_REDUCTION_OF_F_<=_FACTR*EPSMCH'\n",
      "  Objective function value: 401.494197\n",
      "  Number of iterations: 380\n",
      "  Number of functions evaluations: 449\n"
     ]
    },
    {
     "name": "stderr",
     "output_type": "stream",
     "text": [
      "INFO:tensorflow:Optimization terminated with:\n",
      "  Message: b'CONVERGENCE: REL_REDUCTION_OF_F_<=_FACTR*EPSMCH'\n",
      "  Objective function value: 401.494197\n",
      "  Number of iterations: 380\n",
      "  Number of functions evaluations: 449\n"
     ]
    },
    {
     "name": "stdout",
     "output_type": "stream",
     "text": [
      "Current Day before update: 15\n",
      "\n",
      "Current Day after update: 16\n",
      "\n",
      "Train DataFrame Shape (110, 9)\n",
      "\n",
      "Pool DataFrame Shape (364, 11)\n",
      "\n",
      "Test DataFrame Shape (6, 9)\n",
      "INFO:tensorflow:Optimization terminated with:\n",
      "  Message: b'CONVERGENCE: REL_REDUCTION_OF_F_<=_FACTR*EPSMCH'\n",
      "  Objective function value: 429.460199\n",
      "  Number of iterations: 434\n",
      "  Number of functions evaluations: 534\n"
     ]
    },
    {
     "name": "stderr",
     "output_type": "stream",
     "text": [
      "INFO:tensorflow:Optimization terminated with:\n",
      "  Message: b'CONVERGENCE: REL_REDUCTION_OF_F_<=_FACTR*EPSMCH'\n",
      "  Objective function value: 429.460199\n",
      "  Number of iterations: 434\n",
      "  Number of functions evaluations: 534\n"
     ]
    },
    {
     "name": "stdout",
     "output_type": "stream",
     "text": [
      "Current Day before update: 16\n",
      "\n",
      "Current Day after update: 17\n",
      "\n",
      "Train DataFrame Shape (118, 9)\n",
      "\n",
      "Pool DataFrame Shape (385, 11)\n",
      "\n",
      "Test DataFrame Shape (6, 9)\n"
     ]
    },
    {
     "ename": "KeyboardInterrupt",
     "evalue": "",
     "output_type": "error",
     "traceback": [
      "\u001b[0;31m---------------------------------------------------------------------------\u001b[0m",
      "\u001b[0;31mInvalidArgumentError\u001b[0m                      Traceback (most recent call last)",
      "\u001b[0;32m~/anaconda3/envs/tf_gpu/lib/python3.7/site-packages/tensorflow/python/framework/ops.py\u001b[0m in \u001b[0;36mget_attr\u001b[0;34m(self, name)\u001b[0m\n\u001b[1;32m   2638\u001b[0m       \u001b[0;32mwith\u001b[0m \u001b[0mc_api_util\u001b[0m\u001b[0;34m.\u001b[0m\u001b[0mtf_buffer\u001b[0m\u001b[0;34m(\u001b[0m\u001b[0;34m)\u001b[0m \u001b[0;32mas\u001b[0m \u001b[0mbuf\u001b[0m\u001b[0;34m:\u001b[0m\u001b[0;34m\u001b[0m\u001b[0;34m\u001b[0m\u001b[0m\n\u001b[0;32m-> 2639\u001b[0;31m         \u001b[0mc_api\u001b[0m\u001b[0;34m.\u001b[0m\u001b[0mTF_OperationGetAttrValueProto\u001b[0m\u001b[0;34m(\u001b[0m\u001b[0mself\u001b[0m\u001b[0;34m.\u001b[0m\u001b[0m_c_op\u001b[0m\u001b[0;34m,\u001b[0m \u001b[0mname\u001b[0m\u001b[0;34m,\u001b[0m \u001b[0mbuf\u001b[0m\u001b[0;34m)\u001b[0m\u001b[0;34m\u001b[0m\u001b[0;34m\u001b[0m\u001b[0m\n\u001b[0m\u001b[1;32m   2640\u001b[0m         \u001b[0mdata\u001b[0m \u001b[0;34m=\u001b[0m \u001b[0mc_api\u001b[0m\u001b[0;34m.\u001b[0m\u001b[0mTF_GetBuffer\u001b[0m\u001b[0;34m(\u001b[0m\u001b[0mbuf\u001b[0m\u001b[0;34m)\u001b[0m\u001b[0;34m\u001b[0m\u001b[0;34m\u001b[0m\u001b[0m\n",
      "\u001b[0;31mInvalidArgumentError\u001b[0m: Operation 'GPR-34e4c355-3597/likelihood_1/Maximum' has no attr named '_XlaCompile'.",
      "\nDuring handling of the above exception, another exception occurred:\n",
      "\u001b[0;31mValueError\u001b[0m                                Traceback (most recent call last)",
      "\u001b[0;32m~/anaconda3/envs/tf_gpu/lib/python3.7/site-packages/tensorflow/python/ops/gradients_util.py\u001b[0m in \u001b[0;36m_MaybeCompile\u001b[0;34m(scope, op, func, grad_fn)\u001b[0m\n\u001b[1;32m    397\u001b[0m     \u001b[0;32mtry\u001b[0m\u001b[0;34m:\u001b[0m\u001b[0;34m\u001b[0m\u001b[0;34m\u001b[0m\u001b[0m\n\u001b[0;32m--> 398\u001b[0;31m       \u001b[0mxla_compile\u001b[0m \u001b[0;34m=\u001b[0m \u001b[0mop\u001b[0m\u001b[0;34m.\u001b[0m\u001b[0mget_attr\u001b[0m\u001b[0;34m(\u001b[0m\u001b[0;34m\"_XlaCompile\"\u001b[0m\u001b[0;34m)\u001b[0m\u001b[0;34m\u001b[0m\u001b[0;34m\u001b[0m\u001b[0m\n\u001b[0m\u001b[1;32m    399\u001b[0m       xla_separate_compiled_gradients = op.get_attr(\n",
      "\u001b[0;32m~/anaconda3/envs/tf_gpu/lib/python3.7/site-packages/tensorflow/python/framework/ops.py\u001b[0m in \u001b[0;36mget_attr\u001b[0;34m(self, name)\u001b[0m\n\u001b[1;32m   2642\u001b[0m       \u001b[0;31m# Convert to ValueError for backwards compatibility.\u001b[0m\u001b[0;34m\u001b[0m\u001b[0;34m\u001b[0m\u001b[0;34m\u001b[0m\u001b[0m\n\u001b[0;32m-> 2643\u001b[0;31m       \u001b[0;32mraise\u001b[0m \u001b[0mValueError\u001b[0m\u001b[0;34m(\u001b[0m\u001b[0mstr\u001b[0m\u001b[0;34m(\u001b[0m\u001b[0me\u001b[0m\u001b[0;34m)\u001b[0m\u001b[0;34m)\u001b[0m\u001b[0;34m\u001b[0m\u001b[0;34m\u001b[0m\u001b[0m\n\u001b[0m\u001b[1;32m   2644\u001b[0m     \u001b[0mx\u001b[0m \u001b[0;34m=\u001b[0m \u001b[0mattr_value_pb2\u001b[0m\u001b[0;34m.\u001b[0m\u001b[0mAttrValue\u001b[0m\u001b[0;34m(\u001b[0m\u001b[0;34m)\u001b[0m\u001b[0;34m\u001b[0m\u001b[0;34m\u001b[0m\u001b[0m\n",
      "\u001b[0;31mValueError\u001b[0m: Operation 'GPR-34e4c355-3597/likelihood_1/Maximum' has no attr named '_XlaCompile'.",
      "\nDuring handling of the above exception, another exception occurred:\n",
      "\u001b[0;31mZeroDivisionError\u001b[0m                         Traceback (most recent call last)",
      "\u001b[0;32m~/anaconda3/envs/tf_gpu/lib/python3.7/site-packages/tensorflow/python/util/tf_stack.py\u001b[0m in \u001b[0;36mextract_stack\u001b[0;34m(limit)\u001b[0m\n\u001b[1;32m     51\u001b[0m   \u001b[0;32mtry\u001b[0m\u001b[0;34m:\u001b[0m\u001b[0;34m\u001b[0m\u001b[0;34m\u001b[0m\u001b[0m\n\u001b[0;32m---> 52\u001b[0;31m     \u001b[0;32mraise\u001b[0m \u001b[0mZeroDivisionError\u001b[0m\u001b[0;34m\u001b[0m\u001b[0;34m\u001b[0m\u001b[0m\n\u001b[0m\u001b[1;32m     53\u001b[0m   \u001b[0;32mexcept\u001b[0m \u001b[0mZeroDivisionError\u001b[0m\u001b[0;34m:\u001b[0m\u001b[0;34m\u001b[0m\u001b[0;34m\u001b[0m\u001b[0m\n",
      "\u001b[0;31mZeroDivisionError\u001b[0m: ",
      "\nDuring handling of the above exception, another exception occurred:\n",
      "\u001b[0;31mKeyboardInterrupt\u001b[0m                         Traceback (most recent call last)",
      "\u001b[0;32m<ipython-input-42-7261909a29f1>\u001b[0m in \u001b[0;36m<module>\u001b[0;34m\u001b[0m\n\u001b[0;32m----> 1\u001b[0;31m \u001b[0mgp\u001b[0m\u001b[0;34m.\u001b[0m\u001b[0mrandom_sampling\u001b[0m\u001b[0;34m(\u001b[0m\u001b[0;34m)\u001b[0m\u001b[0;34m\u001b[0m\u001b[0;34m\u001b[0m\u001b[0m\n\u001b[0m",
      "\u001b[0;32m~/activepm/exp2/gpsampling.py\u001b[0m in \u001b[0;36mrandom_sampling\u001b[0;34m(self)\u001b[0m\n\u001b[1;32m    535\u001b[0m                     \u001b[0mprint\u001b[0m\u001b[0;34m(\u001b[0m\u001b[0;34m\"\\nTest DataFrame Shape\"\u001b[0m\u001b[0;34m,\u001b[0m \u001b[0mself\u001b[0m\u001b[0;34m.\u001b[0m\u001b[0mX_test\u001b[0m\u001b[0;34m.\u001b[0m\u001b[0mshape\u001b[0m\u001b[0;34m)\u001b[0m\u001b[0;34m\u001b[0m\u001b[0;34m\u001b[0m\u001b[0m\n\u001b[1;32m    536\u001b[0m \u001b[0;34m\u001b[0m\u001b[0m\n\u001b[0;32m--> 537\u001b[0;31m                     \u001b[0mself\u001b[0m\u001b[0;34m.\u001b[0m\u001b[0mgp_train\u001b[0m\u001b[0;34m(\u001b[0m\u001b[0;34m)\u001b[0m\u001b[0;34m\u001b[0m\u001b[0;34m\u001b[0m\u001b[0m\n\u001b[0m\u001b[1;32m    538\u001b[0m \u001b[0;34m\u001b[0m\u001b[0m\n\u001b[1;32m    539\u001b[0m                     \u001b[0;32mif\u001b[0m \u001b[0mself\u001b[0m\u001b[0;34m.\u001b[0m\u001b[0mtrained\u001b[0m\u001b[0;34m:\u001b[0m\u001b[0;34m\u001b[0m\u001b[0;34m\u001b[0m\u001b[0m\n",
      "\u001b[0;32m~/activepm/exp2/gpsampling.py\u001b[0m in \u001b[0;36mgp_train\u001b[0;34m(self)\u001b[0m\n\u001b[1;32m    328\u001b[0m             \u001b[0mself\u001b[0m\u001b[0;34m.\u001b[0m\u001b[0mmodel\u001b[0m \u001b[0;34m=\u001b[0m \u001b[0mgpflow\u001b[0m\u001b[0;34m.\u001b[0m\u001b[0mmodels\u001b[0m\u001b[0;34m.\u001b[0m\u001b[0mGPR\u001b[0m\u001b[0;34m(\u001b[0m\u001b[0mX_train\u001b[0m\u001b[0;34m,\u001b[0m \u001b[0my_train\u001b[0m\u001b[0;34m,\u001b[0m \u001b[0mkern\u001b[0m\u001b[0;34m=\u001b[0m\u001b[0moverall_kernel\u001b[0m\u001b[0;34m,\u001b[0m \u001b[0mmean_function\u001b[0m\u001b[0;34m=\u001b[0m\u001b[0;32mNone\u001b[0m\u001b[0;34m)\u001b[0m\u001b[0;34m\u001b[0m\u001b[0;34m\u001b[0m\u001b[0m\n\u001b[1;32m    329\u001b[0m             \u001b[0mopt\u001b[0m \u001b[0;34m=\u001b[0m \u001b[0mgpflow\u001b[0m\u001b[0;34m.\u001b[0m\u001b[0mtrain\u001b[0m\u001b[0;34m.\u001b[0m\u001b[0mScipyOptimizer\u001b[0m\u001b[0;34m(\u001b[0m\u001b[0;34m)\u001b[0m\u001b[0;34m\u001b[0m\u001b[0;34m\u001b[0m\u001b[0m\n\u001b[0;32m--> 330\u001b[0;31m             \u001b[0mopt\u001b[0m\u001b[0;34m.\u001b[0m\u001b[0mminimize\u001b[0m\u001b[0;34m(\u001b[0m\u001b[0mself\u001b[0m\u001b[0;34m.\u001b[0m\u001b[0mmodel\u001b[0m\u001b[0;34m)\u001b[0m\u001b[0;34m\u001b[0m\u001b[0;34m\u001b[0m\u001b[0m\n\u001b[0m\u001b[1;32m    331\u001b[0m             \u001b[0mself\u001b[0m\u001b[0;34m.\u001b[0m\u001b[0mtrained\u001b[0m \u001b[0;34m=\u001b[0m \u001b[0;32mTrue\u001b[0m\u001b[0;34m\u001b[0m\u001b[0;34m\u001b[0m\u001b[0m\n\u001b[1;32m    332\u001b[0m \u001b[0;34m\u001b[0m\u001b[0m\n",
      "\u001b[0;32m~/anaconda3/envs/tf_gpu/lib/python3.7/site-packages/gpflow/training/scipy_optimizer.py\u001b[0m in \u001b[0;36mminimize\u001b[0;34m(self, model, session, var_list, feed_dict, maxiter, disp, initialize, initialize_optimizer, anchor, step_callback, **kwargs)\u001b[0m\n\u001b[1;32m    122\u001b[0m                 \u001b[0;32mraise\u001b[0m \u001b[0mRuntimeError\u001b[0m\u001b[0;34m(\u001b[0m\u001b[0mmsg\u001b[0m\u001b[0;34m)\u001b[0m\u001b[0;34m\u001b[0m\u001b[0;34m\u001b[0m\u001b[0m\n\u001b[1;32m    123\u001b[0m         \u001b[0;32melse\u001b[0m\u001b[0;34m:\u001b[0m\u001b[0;34m\u001b[0m\u001b[0;34m\u001b[0m\u001b[0m\n\u001b[0;32m--> 124\u001b[0;31m             \u001b[0mself\u001b[0m\u001b[0;34m.\u001b[0m\u001b[0m_optimizer\u001b[0m\u001b[0;34m.\u001b[0m\u001b[0mminimize\u001b[0m\u001b[0;34m(\u001b[0m\u001b[0msession\u001b[0m\u001b[0;34m=\u001b[0m\u001b[0msession\u001b[0m\u001b[0;34m,\u001b[0m \u001b[0mfeed_dict\u001b[0m\u001b[0;34m=\u001b[0m\u001b[0mfeed_dict\u001b[0m\u001b[0;34m,\u001b[0m \u001b[0mstep_callback\u001b[0m\u001b[0;34m=\u001b[0m\u001b[0mstep_callback\u001b[0m\u001b[0;34m,\u001b[0m \u001b[0;34m**\u001b[0m\u001b[0mkwargs\u001b[0m\u001b[0;34m)\u001b[0m\u001b[0;34m\u001b[0m\u001b[0;34m\u001b[0m\u001b[0m\n\u001b[0m\u001b[1;32m    125\u001b[0m \u001b[0;34m\u001b[0m\u001b[0m\n\u001b[1;32m    126\u001b[0m         \u001b[0;32mif\u001b[0m \u001b[0manchor\u001b[0m\u001b[0;34m:\u001b[0m\u001b[0;34m\u001b[0m\u001b[0;34m\u001b[0m\u001b[0m\n",
      "\u001b[0;32m~/anaconda3/envs/tf_gpu/lib/python3.7/site-packages/gpflow/training/external_optimizer.py\u001b[0m in \u001b[0;36mminimize\u001b[0;34m(self, session, feed_dict, fetches, step_callback, loss_callback, **optimizer_kwargs)\u001b[0m\n\u001b[1;32m    126\u001b[0m         \"\"\"\n\u001b[1;32m    127\u001b[0m         \u001b[0msession\u001b[0m \u001b[0;34m=\u001b[0m \u001b[0msession\u001b[0m \u001b[0;32mor\u001b[0m \u001b[0mops\u001b[0m\u001b[0;34m.\u001b[0m\u001b[0mget_default_session\u001b[0m\u001b[0;34m(\u001b[0m\u001b[0;34m)\u001b[0m\u001b[0;34m\u001b[0m\u001b[0;34m\u001b[0m\u001b[0m\n\u001b[0;32m--> 128\u001b[0;31m         \u001b[0mself\u001b[0m\u001b[0;34m.\u001b[0m\u001b[0minit_optimize\u001b[0m\u001b[0;34m(\u001b[0m\u001b[0msession\u001b[0m\u001b[0;34m=\u001b[0m\u001b[0msession\u001b[0m\u001b[0;34m,\u001b[0m \u001b[0mfetches\u001b[0m\u001b[0;34m=\u001b[0m\u001b[0mfetches\u001b[0m\u001b[0;34m,\u001b[0m \u001b[0mloss_callback\u001b[0m\u001b[0;34m=\u001b[0m\u001b[0mloss_callback\u001b[0m\u001b[0;34m,\u001b[0m \u001b[0;34m**\u001b[0m\u001b[0moptimizer_kwargs\u001b[0m\u001b[0;34m)\u001b[0m\u001b[0;34m\u001b[0m\u001b[0;34m\u001b[0m\u001b[0m\n\u001b[0m\u001b[1;32m    129\u001b[0m         \u001b[0mself\u001b[0m\u001b[0;34m.\u001b[0m\u001b[0moptimize\u001b[0m\u001b[0;34m(\u001b[0m\u001b[0msession\u001b[0m\u001b[0;34m=\u001b[0m\u001b[0msession\u001b[0m\u001b[0;34m,\u001b[0m \u001b[0mstep_callback\u001b[0m\u001b[0;34m=\u001b[0m\u001b[0mstep_callback\u001b[0m\u001b[0;34m,\u001b[0m \u001b[0mfeed_dict\u001b[0m\u001b[0;34m=\u001b[0m\u001b[0mfeed_dict\u001b[0m\u001b[0;34m)\u001b[0m\u001b[0;34m\u001b[0m\u001b[0;34m\u001b[0m\u001b[0m\n\u001b[1;32m    130\u001b[0m \u001b[0;34m\u001b[0m\u001b[0m\n",
      "\u001b[0;32m~/anaconda3/envs/tf_gpu/lib/python3.7/site-packages/gpflow/training/external_optimizer.py\u001b[0m in \u001b[0;36minit_optimize\u001b[0;34m(self, session, fetches, loss_callback, **optimizer_kwargs)\u001b[0m\n\u001b[1;32m    157\u001b[0m \u001b[0;34m\u001b[0m\u001b[0m\n\u001b[1;32m    158\u001b[0m         \u001b[0;31m# Get initial value from TF session.\u001b[0m\u001b[0;34m\u001b[0m\u001b[0;34m\u001b[0m\u001b[0;34m\u001b[0m\u001b[0m\n\u001b[0;32m--> 159\u001b[0;31m         \u001b[0mself\u001b[0m\u001b[0;34m.\u001b[0m\u001b[0m_initialize_updated_shapes\u001b[0m\u001b[0;34m(\u001b[0m\u001b[0msession\u001b[0m\u001b[0;34m)\u001b[0m\u001b[0;34m\u001b[0m\u001b[0;34m\u001b[0m\u001b[0m\n\u001b[0m\u001b[1;32m    160\u001b[0m         \u001b[0mself\u001b[0m\u001b[0;34m.\u001b[0m\u001b[0m_make_minimize_tensors\u001b[0m\u001b[0;34m(\u001b[0m\u001b[0msession\u001b[0m\u001b[0;34m,\u001b[0m \u001b[0mfetches\u001b[0m\u001b[0;34m,\u001b[0m \u001b[0mloss_callback\u001b[0m\u001b[0;34m,\u001b[0m \u001b[0;34m**\u001b[0m\u001b[0moptimizer_kwargs\u001b[0m\u001b[0;34m)\u001b[0m\u001b[0;34m\u001b[0m\u001b[0;34m\u001b[0m\u001b[0m\n\u001b[1;32m    161\u001b[0m \u001b[0;34m\u001b[0m\u001b[0m\n",
      "\u001b[0;32m~/anaconda3/envs/tf_gpu/lib/python3.7/site-packages/gpflow/training/external_optimizer.py\u001b[0m in \u001b[0;36m_initialize_updated_shapes\u001b[0;34m(self, session)\u001b[0m\n\u001b[1;32m    237\u001b[0m         ]\n\u001b[1;32m    238\u001b[0m \u001b[0;34m\u001b[0m\u001b[0m\n\u001b[0;32m--> 239\u001b[0;31m         \u001b[0mloss_grads\u001b[0m \u001b[0;34m=\u001b[0m \u001b[0m_compute_gradients\u001b[0m\u001b[0;34m(\u001b[0m\u001b[0mself\u001b[0m\u001b[0;34m.\u001b[0m\u001b[0m_loss\u001b[0m\u001b[0;34m,\u001b[0m \u001b[0mself\u001b[0m\u001b[0;34m.\u001b[0m\u001b[0m_vars\u001b[0m\u001b[0;34m)\u001b[0m\u001b[0;34m\u001b[0m\u001b[0;34m\u001b[0m\u001b[0m\n\u001b[0m\u001b[1;32m    240\u001b[0m         \u001b[0mequalities_grads\u001b[0m \u001b[0;34m=\u001b[0m \u001b[0;34m[\u001b[0m\u001b[0m_compute_gradients\u001b[0m\u001b[0;34m(\u001b[0m\u001b[0mequality\u001b[0m\u001b[0;34m,\u001b[0m \u001b[0mself\u001b[0m\u001b[0;34m.\u001b[0m\u001b[0m_vars\u001b[0m\u001b[0;34m)\u001b[0m \u001b[0;32mfor\u001b[0m \u001b[0mequality\u001b[0m \u001b[0;32min\u001b[0m \u001b[0mself\u001b[0m\u001b[0;34m.\u001b[0m\u001b[0m_equalities\u001b[0m\u001b[0;34m]\u001b[0m\u001b[0;34m\u001b[0m\u001b[0;34m\u001b[0m\u001b[0m\n\u001b[1;32m    241\u001b[0m         \u001b[0minequalities_grads\u001b[0m \u001b[0;34m=\u001b[0m \u001b[0;34m[\u001b[0m\u001b[0m_compute_gradients\u001b[0m\u001b[0;34m(\u001b[0m\u001b[0minequality\u001b[0m\u001b[0;34m,\u001b[0m \u001b[0mself\u001b[0m\u001b[0;34m.\u001b[0m\u001b[0m_vars\u001b[0m\u001b[0;34m)\u001b[0m \u001b[0;32mfor\u001b[0m \u001b[0minequality\u001b[0m \u001b[0;32min\u001b[0m \u001b[0mself\u001b[0m\u001b[0;34m.\u001b[0m\u001b[0m_inequalities\u001b[0m\u001b[0;34m]\u001b[0m\u001b[0;34m\u001b[0m\u001b[0;34m\u001b[0m\u001b[0m\n",
      "\u001b[0;32m~/anaconda3/envs/tf_gpu/lib/python3.7/site-packages/gpflow/training/external_optimizer.py\u001b[0m in \u001b[0;36m_compute_gradients\u001b[0;34m(tensor, var_list)\u001b[0m\n\u001b[1;32m    449\u001b[0m \u001b[0;34m\u001b[0m\u001b[0m\n\u001b[1;32m    450\u001b[0m \u001b[0;32mdef\u001b[0m \u001b[0m_compute_gradients\u001b[0m\u001b[0;34m(\u001b[0m\u001b[0mtensor\u001b[0m\u001b[0;34m,\u001b[0m \u001b[0mvar_list\u001b[0m\u001b[0;34m)\u001b[0m\u001b[0;34m:\u001b[0m\u001b[0;34m\u001b[0m\u001b[0;34m\u001b[0m\u001b[0m\n\u001b[0;32m--> 451\u001b[0;31m     \u001b[0mgrads\u001b[0m \u001b[0;34m=\u001b[0m \u001b[0mgradients\u001b[0m\u001b[0;34m.\u001b[0m\u001b[0mgradients\u001b[0m\u001b[0;34m(\u001b[0m\u001b[0mtensor\u001b[0m\u001b[0;34m,\u001b[0m \u001b[0mvar_list\u001b[0m\u001b[0;34m)\u001b[0m\u001b[0;34m\u001b[0m\u001b[0;34m\u001b[0m\u001b[0m\n\u001b[0m\u001b[1;32m    452\u001b[0m     \u001b[0;31m# tf.gradients sometimes returns `None` when it should return 0.\u001b[0m\u001b[0;34m\u001b[0m\u001b[0;34m\u001b[0m\u001b[0;34m\u001b[0m\u001b[0m\n\u001b[1;32m    453\u001b[0m     \u001b[0;32mreturn\u001b[0m \u001b[0;34m[\u001b[0m\u001b[0mgrad\u001b[0m \u001b[0;32mif\u001b[0m \u001b[0mgrad\u001b[0m \u001b[0;32mis\u001b[0m \u001b[0;32mnot\u001b[0m \u001b[0;32mNone\u001b[0m \u001b[0;32melse\u001b[0m \u001b[0marray_ops\u001b[0m\u001b[0;34m.\u001b[0m\u001b[0mzeros_like\u001b[0m\u001b[0;34m(\u001b[0m\u001b[0mvar\u001b[0m\u001b[0;34m)\u001b[0m \u001b[0;32mfor\u001b[0m \u001b[0mvar\u001b[0m\u001b[0;34m,\u001b[0m \u001b[0mgrad\u001b[0m \u001b[0;32min\u001b[0m \u001b[0mzip\u001b[0m\u001b[0;34m(\u001b[0m\u001b[0mvar_list\u001b[0m\u001b[0;34m,\u001b[0m \u001b[0mgrads\u001b[0m\u001b[0;34m)\u001b[0m\u001b[0;34m]\u001b[0m\u001b[0;34m\u001b[0m\u001b[0;34m\u001b[0m\u001b[0m\n",
      "\u001b[0;32m~/anaconda3/envs/tf_gpu/lib/python3.7/site-packages/tensorflow/python/ops/gradients_impl.py\u001b[0m in \u001b[0;36mgradients\u001b[0;34m(ys, xs, grad_ys, name, colocate_gradients_with_ops, gate_gradients, aggregation_method, stop_gradients, unconnected_gradients)\u001b[0m\n\u001b[1;32m    156\u001b[0m         \u001b[0mys\u001b[0m\u001b[0;34m,\u001b[0m \u001b[0mxs\u001b[0m\u001b[0;34m,\u001b[0m \u001b[0mgrad_ys\u001b[0m\u001b[0;34m,\u001b[0m \u001b[0mname\u001b[0m\u001b[0;34m,\u001b[0m \u001b[0mcolocate_gradients_with_ops\u001b[0m\u001b[0;34m,\u001b[0m\u001b[0;34m\u001b[0m\u001b[0;34m\u001b[0m\u001b[0m\n\u001b[1;32m    157\u001b[0m         \u001b[0mgate_gradients\u001b[0m\u001b[0;34m,\u001b[0m \u001b[0maggregation_method\u001b[0m\u001b[0;34m,\u001b[0m \u001b[0mstop_gradients\u001b[0m\u001b[0;34m,\u001b[0m\u001b[0;34m\u001b[0m\u001b[0;34m\u001b[0m\u001b[0m\n\u001b[0;32m--> 158\u001b[0;31m         unconnected_gradients)\n\u001b[0m\u001b[1;32m    159\u001b[0m   \u001b[0;31m# pylint: enable=protected-access\u001b[0m\u001b[0;34m\u001b[0m\u001b[0;34m\u001b[0m\u001b[0;34m\u001b[0m\u001b[0m\n\u001b[1;32m    160\u001b[0m \u001b[0;34m\u001b[0m\u001b[0m\n",
      "\u001b[0;32m~/anaconda3/envs/tf_gpu/lib/python3.7/site-packages/tensorflow/python/ops/gradients_util.py\u001b[0m in \u001b[0;36m_GradientsHelper\u001b[0;34m(ys, xs, grad_ys, name, colocate_gradients_with_ops, gate_gradients, aggregation_method, stop_gradients, unconnected_gradients, src_graph)\u001b[0m\n\u001b[1;32m    729\u001b[0m                 \u001b[0;31m# functions.\u001b[0m\u001b[0;34m\u001b[0m\u001b[0;34m\u001b[0m\u001b[0;34m\u001b[0m\u001b[0m\n\u001b[1;32m    730\u001b[0m                 in_grads = _MaybeCompile(grad_scope, op, func_call,\n\u001b[0;32m--> 731\u001b[0;31m                                          lambda: grad_fn(op, *out_grads))\n\u001b[0m\u001b[1;32m    732\u001b[0m               \u001b[0;32melse\u001b[0m\u001b[0;34m:\u001b[0m\u001b[0;34m\u001b[0m\u001b[0;34m\u001b[0m\u001b[0m\n\u001b[1;32m    733\u001b[0m                 \u001b[0;31m# For function call ops, we add a 'SymbolicGradient'\u001b[0m\u001b[0;34m\u001b[0m\u001b[0;34m\u001b[0m\u001b[0;34m\u001b[0m\u001b[0m\n",
      "\u001b[0;32m~/anaconda3/envs/tf_gpu/lib/python3.7/site-packages/tensorflow/python/ops/gradients_util.py\u001b[0m in \u001b[0;36m_MaybeCompile\u001b[0;34m(scope, op, func, grad_fn)\u001b[0m\n\u001b[1;32m    401\u001b[0m       \u001b[0mxla_scope\u001b[0m \u001b[0;34m=\u001b[0m \u001b[0mop\u001b[0m\u001b[0;34m.\u001b[0m\u001b[0mget_attr\u001b[0m\u001b[0;34m(\u001b[0m\u001b[0;34m\"_XlaScope\"\u001b[0m\u001b[0;34m)\u001b[0m\u001b[0;34m.\u001b[0m\u001b[0mdecode\u001b[0m\u001b[0;34m(\u001b[0m\u001b[0;34m)\u001b[0m\u001b[0;34m\u001b[0m\u001b[0;34m\u001b[0m\u001b[0m\n\u001b[1;32m    402\u001b[0m     \u001b[0;32mexcept\u001b[0m \u001b[0mValueError\u001b[0m\u001b[0;34m:\u001b[0m\u001b[0;34m\u001b[0m\u001b[0;34m\u001b[0m\u001b[0m\n\u001b[0;32m--> 403\u001b[0;31m       \u001b[0;32mreturn\u001b[0m \u001b[0mgrad_fn\u001b[0m\u001b[0;34m(\u001b[0m\u001b[0;34m)\u001b[0m  \u001b[0;31m# Exit early\u001b[0m\u001b[0;34m\u001b[0m\u001b[0;34m\u001b[0m\u001b[0m\n\u001b[0m\u001b[1;32m    404\u001b[0m \u001b[0;34m\u001b[0m\u001b[0m\n\u001b[1;32m    405\u001b[0m   \u001b[0;32mif\u001b[0m \u001b[0;32mnot\u001b[0m \u001b[0mxla_compile\u001b[0m\u001b[0;34m:\u001b[0m\u001b[0;34m\u001b[0m\u001b[0;34m\u001b[0m\u001b[0m\n",
      "\u001b[0;32m~/anaconda3/envs/tf_gpu/lib/python3.7/site-packages/tensorflow/python/ops/gradients_util.py\u001b[0m in \u001b[0;36m<lambda>\u001b[0;34m()\u001b[0m\n\u001b[1;32m    729\u001b[0m                 \u001b[0;31m# functions.\u001b[0m\u001b[0;34m\u001b[0m\u001b[0;34m\u001b[0m\u001b[0;34m\u001b[0m\u001b[0m\n\u001b[1;32m    730\u001b[0m                 in_grads = _MaybeCompile(grad_scope, op, func_call,\n\u001b[0;32m--> 731\u001b[0;31m                                          lambda: grad_fn(op, *out_grads))\n\u001b[0m\u001b[1;32m    732\u001b[0m               \u001b[0;32melse\u001b[0m\u001b[0;34m:\u001b[0m\u001b[0;34m\u001b[0m\u001b[0;34m\u001b[0m\u001b[0m\n\u001b[1;32m    733\u001b[0m                 \u001b[0;31m# For function call ops, we add a 'SymbolicGradient'\u001b[0m\u001b[0;34m\u001b[0m\u001b[0;34m\u001b[0m\u001b[0;34m\u001b[0m\u001b[0m\n",
      "\u001b[0;32m~/anaconda3/envs/tf_gpu/lib/python3.7/site-packages/tensorflow/python/ops/math_grad.py\u001b[0m in \u001b[0;36m_MaximumGrad\u001b[0;34m(op, grad)\u001b[0m\n\u001b[1;32m   1263\u001b[0m \u001b[0;32mdef\u001b[0m \u001b[0m_MaximumGrad\u001b[0m\u001b[0;34m(\u001b[0m\u001b[0mop\u001b[0m\u001b[0;34m,\u001b[0m \u001b[0mgrad\u001b[0m\u001b[0;34m)\u001b[0m\u001b[0;34m:\u001b[0m\u001b[0;34m\u001b[0m\u001b[0;34m\u001b[0m\u001b[0m\n\u001b[1;32m   1264\u001b[0m   \u001b[0;34m\"\"\"Returns grad*(x > y, x <= y) with type of grad.\"\"\"\u001b[0m\u001b[0;34m\u001b[0m\u001b[0;34m\u001b[0m\u001b[0m\n\u001b[0;32m-> 1265\u001b[0;31m   \u001b[0;32mreturn\u001b[0m \u001b[0m_MaximumMinimumGrad\u001b[0m\u001b[0;34m(\u001b[0m\u001b[0mop\u001b[0m\u001b[0;34m,\u001b[0m \u001b[0mgrad\u001b[0m\u001b[0;34m,\u001b[0m \u001b[0mmath_ops\u001b[0m\u001b[0;34m.\u001b[0m\u001b[0mgreater_equal\u001b[0m\u001b[0;34m)\u001b[0m\u001b[0;34m\u001b[0m\u001b[0;34m\u001b[0m\u001b[0m\n\u001b[0m\u001b[1;32m   1266\u001b[0m \u001b[0;34m\u001b[0m\u001b[0m\n\u001b[1;32m   1267\u001b[0m \u001b[0;34m\u001b[0m\u001b[0m\n",
      "\u001b[0;32m~/anaconda3/envs/tf_gpu/lib/python3.7/site-packages/tensorflow/python/ops/math_grad.py\u001b[0m in \u001b[0;36m_MaximumMinimumGrad\u001b[0;34m(op, grad, selector_op)\u001b[0m\n\u001b[1;32m   1242\u001b[0m   \u001b[0msy\u001b[0m \u001b[0;34m=\u001b[0m \u001b[0marray_ops\u001b[0m\u001b[0;34m.\u001b[0m\u001b[0mshape\u001b[0m\u001b[0;34m(\u001b[0m\u001b[0my\u001b[0m\u001b[0;34m)\u001b[0m\u001b[0;34m\u001b[0m\u001b[0;34m\u001b[0m\u001b[0m\n\u001b[1;32m   1243\u001b[0m   \u001b[0mgradshape\u001b[0m \u001b[0;34m=\u001b[0m \u001b[0marray_ops\u001b[0m\u001b[0;34m.\u001b[0m\u001b[0mshape\u001b[0m\u001b[0;34m(\u001b[0m\u001b[0mgrad\u001b[0m\u001b[0;34m)\u001b[0m\u001b[0;34m\u001b[0m\u001b[0;34m\u001b[0m\u001b[0m\n\u001b[0;32m-> 1244\u001b[0;31m   \u001b[0mzeros\u001b[0m \u001b[0;34m=\u001b[0m \u001b[0marray_ops\u001b[0m\u001b[0;34m.\u001b[0m\u001b[0mzeros\u001b[0m\u001b[0;34m(\u001b[0m\u001b[0mgradshape\u001b[0m\u001b[0;34m,\u001b[0m \u001b[0mgdtype\u001b[0m\u001b[0;34m)\u001b[0m\u001b[0;34m\u001b[0m\u001b[0;34m\u001b[0m\u001b[0m\n\u001b[0m\u001b[1;32m   1245\u001b[0m   \u001b[0mxmask\u001b[0m \u001b[0;34m=\u001b[0m \u001b[0mselector_op\u001b[0m\u001b[0;34m(\u001b[0m\u001b[0mx\u001b[0m\u001b[0;34m,\u001b[0m \u001b[0my\u001b[0m\u001b[0;34m)\u001b[0m\u001b[0;34m\u001b[0m\u001b[0;34m\u001b[0m\u001b[0m\n\u001b[1;32m   1246\u001b[0m   \u001b[0mrx\u001b[0m\u001b[0;34m,\u001b[0m \u001b[0mry\u001b[0m \u001b[0;34m=\u001b[0m \u001b[0mgen_array_ops\u001b[0m\u001b[0;34m.\u001b[0m\u001b[0mbroadcast_gradient_args\u001b[0m\u001b[0;34m(\u001b[0m\u001b[0msx\u001b[0m\u001b[0;34m,\u001b[0m \u001b[0msy\u001b[0m\u001b[0;34m)\u001b[0m\u001b[0;34m\u001b[0m\u001b[0;34m\u001b[0m\u001b[0m\n",
      "\u001b[0;32m~/anaconda3/envs/tf_gpu/lib/python3.7/site-packages/tensorflow/python/ops/array_ops.py\u001b[0m in \u001b[0;36mzeros\u001b[0;34m(shape, dtype, name)\u001b[0m\n\u001b[1;32m   1881\u001b[0m     \u001b[0;32mif\u001b[0m \u001b[0;32mnot\u001b[0m \u001b[0mshape\u001b[0m\u001b[0;34m.\u001b[0m\u001b[0m_shape_tuple\u001b[0m\u001b[0;34m(\u001b[0m\u001b[0;34m)\u001b[0m\u001b[0;34m:\u001b[0m\u001b[0;34m\u001b[0m\u001b[0;34m\u001b[0m\u001b[0m\n\u001b[1;32m   1882\u001b[0m       \u001b[0mshape\u001b[0m \u001b[0;34m=\u001b[0m \u001b[0mreshape\u001b[0m\u001b[0;34m(\u001b[0m\u001b[0mshape\u001b[0m\u001b[0;34m,\u001b[0m \u001b[0;34m[\u001b[0m\u001b[0;34m-\u001b[0m\u001b[0;36m1\u001b[0m\u001b[0;34m]\u001b[0m\u001b[0;34m)\u001b[0m  \u001b[0;31m# Ensure it's a vector\u001b[0m\u001b[0;34m\u001b[0m\u001b[0;34m\u001b[0m\u001b[0m\n\u001b[0;32m-> 1883\u001b[0;31m     \u001b[0moutput\u001b[0m \u001b[0;34m=\u001b[0m \u001b[0mfill\u001b[0m\u001b[0;34m(\u001b[0m\u001b[0mshape\u001b[0m\u001b[0;34m,\u001b[0m \u001b[0mconstant\u001b[0m\u001b[0;34m(\u001b[0m\u001b[0mzero\u001b[0m\u001b[0;34m,\u001b[0m \u001b[0mdtype\u001b[0m\u001b[0;34m=\u001b[0m\u001b[0mdtype\u001b[0m\u001b[0;34m)\u001b[0m\u001b[0;34m,\u001b[0m \u001b[0mname\u001b[0m\u001b[0;34m=\u001b[0m\u001b[0mname\u001b[0m\u001b[0;34m)\u001b[0m\u001b[0;34m\u001b[0m\u001b[0;34m\u001b[0m\u001b[0m\n\u001b[0m\u001b[1;32m   1884\u001b[0m   \u001b[0;32massert\u001b[0m \u001b[0moutput\u001b[0m\u001b[0;34m.\u001b[0m\u001b[0mdtype\u001b[0m\u001b[0;34m.\u001b[0m\u001b[0mbase_dtype\u001b[0m \u001b[0;34m==\u001b[0m \u001b[0mdtype\u001b[0m\u001b[0;34m\u001b[0m\u001b[0;34m\u001b[0m\u001b[0m\n\u001b[1;32m   1885\u001b[0m   \u001b[0;32mreturn\u001b[0m \u001b[0moutput\u001b[0m\u001b[0;34m\u001b[0m\u001b[0;34m\u001b[0m\u001b[0m\n",
      "\u001b[0;32m~/anaconda3/envs/tf_gpu/lib/python3.7/site-packages/tensorflow/python/ops/gen_array_ops.py\u001b[0m in \u001b[0;36mfill\u001b[0;34m(dims, value, name)\u001b[0m\n\u001b[1;32m   3611\u001b[0m   \u001b[0;32mtry\u001b[0m\u001b[0;34m:\u001b[0m\u001b[0;34m\u001b[0m\u001b[0;34m\u001b[0m\u001b[0m\n\u001b[1;32m   3612\u001b[0m     _, _, _op = _op_def_lib._apply_op_helper(\n\u001b[0;32m-> 3613\u001b[0;31m         \"Fill\", dims=dims, value=value, name=name)\n\u001b[0m\u001b[1;32m   3614\u001b[0m   \u001b[0;32mexcept\u001b[0m \u001b[0;34m(\u001b[0m\u001b[0mTypeError\u001b[0m\u001b[0;34m,\u001b[0m \u001b[0mValueError\u001b[0m\u001b[0;34m)\u001b[0m\u001b[0;34m:\u001b[0m\u001b[0;34m\u001b[0m\u001b[0;34m\u001b[0m\u001b[0m\n\u001b[1;32m   3615\u001b[0m     result = _dispatch.dispatch(\n",
      "\u001b[0;32m~/anaconda3/envs/tf_gpu/lib/python3.7/site-packages/tensorflow/python/framework/op_def_library.py\u001b[0m in \u001b[0;36m_apply_op_helper\u001b[0;34m(self, op_type_name, name, **keywords)\u001b[0m\n\u001b[1;32m    786\u001b[0m         op = g.create_op(op_type_name, inputs, dtypes=None, name=scope,\n\u001b[1;32m    787\u001b[0m                          \u001b[0minput_types\u001b[0m\u001b[0;34m=\u001b[0m\u001b[0minput_types\u001b[0m\u001b[0;34m,\u001b[0m \u001b[0mattrs\u001b[0m\u001b[0;34m=\u001b[0m\u001b[0mattr_protos\u001b[0m\u001b[0;34m,\u001b[0m\u001b[0;34m\u001b[0m\u001b[0;34m\u001b[0m\u001b[0m\n\u001b[0;32m--> 788\u001b[0;31m                          op_def=op_def)\n\u001b[0m\u001b[1;32m    789\u001b[0m       \u001b[0;32mreturn\u001b[0m \u001b[0moutput_structure\u001b[0m\u001b[0;34m,\u001b[0m \u001b[0mop_def\u001b[0m\u001b[0;34m.\u001b[0m\u001b[0mis_stateful\u001b[0m\u001b[0;34m,\u001b[0m \u001b[0mop\u001b[0m\u001b[0;34m\u001b[0m\u001b[0;34m\u001b[0m\u001b[0m\n\u001b[1;32m    790\u001b[0m \u001b[0;34m\u001b[0m\u001b[0m\n",
      "\u001b[0;32m~/anaconda3/envs/tf_gpu/lib/python3.7/site-packages/tensorflow/python/util/deprecation.py\u001b[0m in \u001b[0;36mnew_func\u001b[0;34m(*args, **kwargs)\u001b[0m\n\u001b[1;32m    505\u001b[0m                 \u001b[0;34m'in a future version'\u001b[0m \u001b[0;32mif\u001b[0m \u001b[0mdate\u001b[0m \u001b[0;32mis\u001b[0m \u001b[0;32mNone\u001b[0m \u001b[0;32melse\u001b[0m \u001b[0;34m(\u001b[0m\u001b[0;34m'after %s'\u001b[0m \u001b[0;34m%\u001b[0m \u001b[0mdate\u001b[0m\u001b[0;34m)\u001b[0m\u001b[0;34m,\u001b[0m\u001b[0;34m\u001b[0m\u001b[0;34m\u001b[0m\u001b[0m\n\u001b[1;32m    506\u001b[0m                 instructions)\n\u001b[0;32m--> 507\u001b[0;31m       \u001b[0;32mreturn\u001b[0m \u001b[0mfunc\u001b[0m\u001b[0;34m(\u001b[0m\u001b[0;34m*\u001b[0m\u001b[0margs\u001b[0m\u001b[0;34m,\u001b[0m \u001b[0;34m**\u001b[0m\u001b[0mkwargs\u001b[0m\u001b[0;34m)\u001b[0m\u001b[0;34m\u001b[0m\u001b[0;34m\u001b[0m\u001b[0m\n\u001b[0m\u001b[1;32m    508\u001b[0m \u001b[0;34m\u001b[0m\u001b[0m\n\u001b[1;32m    509\u001b[0m     doc = _add_deprecated_arg_notice_to_docstring(\n",
      "\u001b[0;32m~/anaconda3/envs/tf_gpu/lib/python3.7/site-packages/tensorflow/python/framework/ops.py\u001b[0m in \u001b[0;36mcreate_op\u001b[0;34m(***failed resolving arguments***)\u001b[0m\n\u001b[1;32m   3614\u001b[0m           \u001b[0minput_types\u001b[0m\u001b[0;34m=\u001b[0m\u001b[0minput_types\u001b[0m\u001b[0;34m,\u001b[0m\u001b[0;34m\u001b[0m\u001b[0;34m\u001b[0m\u001b[0m\n\u001b[1;32m   3615\u001b[0m           \u001b[0moriginal_op\u001b[0m\u001b[0;34m=\u001b[0m\u001b[0mself\u001b[0m\u001b[0;34m.\u001b[0m\u001b[0m_default_original_op\u001b[0m\u001b[0;34m,\u001b[0m\u001b[0;34m\u001b[0m\u001b[0;34m\u001b[0m\u001b[0m\n\u001b[0;32m-> 3616\u001b[0;31m           op_def=op_def)\n\u001b[0m\u001b[1;32m   3617\u001b[0m       \u001b[0mself\u001b[0m\u001b[0;34m.\u001b[0m\u001b[0m_create_op_helper\u001b[0m\u001b[0;34m(\u001b[0m\u001b[0mret\u001b[0m\u001b[0;34m,\u001b[0m \u001b[0mcompute_device\u001b[0m\u001b[0;34m=\u001b[0m\u001b[0mcompute_device\u001b[0m\u001b[0;34m)\u001b[0m\u001b[0;34m\u001b[0m\u001b[0;34m\u001b[0m\u001b[0m\n\u001b[1;32m   3618\u001b[0m     \u001b[0;32mreturn\u001b[0m \u001b[0mret\u001b[0m\u001b[0;34m\u001b[0m\u001b[0;34m\u001b[0m\u001b[0m\n",
      "\u001b[0;32m~/anaconda3/envs/tf_gpu/lib/python3.7/site-packages/tensorflow/python/framework/ops.py\u001b[0m in \u001b[0;36m__init__\u001b[0;34m(self, node_def, g, inputs, output_types, control_inputs, input_types, original_op, op_def)\u001b[0m\n\u001b[1;32m   2003\u001b[0m     \u001b[0mself\u001b[0m\u001b[0;34m.\u001b[0m\u001b[0m_id_value\u001b[0m \u001b[0;34m=\u001b[0m \u001b[0mself\u001b[0m\u001b[0;34m.\u001b[0m\u001b[0m_graph\u001b[0m\u001b[0;34m.\u001b[0m\u001b[0m_next_id\u001b[0m\u001b[0;34m(\u001b[0m\u001b[0;34m)\u001b[0m\u001b[0;34m\u001b[0m\u001b[0;34m\u001b[0m\u001b[0m\n\u001b[1;32m   2004\u001b[0m     \u001b[0mself\u001b[0m\u001b[0;34m.\u001b[0m\u001b[0m_original_op\u001b[0m \u001b[0;34m=\u001b[0m \u001b[0moriginal_op\u001b[0m\u001b[0;34m\u001b[0m\u001b[0;34m\u001b[0m\u001b[0m\n\u001b[0;32m-> 2005\u001b[0;31m     \u001b[0mself\u001b[0m\u001b[0;34m.\u001b[0m\u001b[0m_traceback\u001b[0m \u001b[0;34m=\u001b[0m \u001b[0mtf_stack\u001b[0m\u001b[0;34m.\u001b[0m\u001b[0mextract_stack\u001b[0m\u001b[0;34m(\u001b[0m\u001b[0;34m)\u001b[0m\u001b[0;34m\u001b[0m\u001b[0;34m\u001b[0m\u001b[0m\n\u001b[0m\u001b[1;32m   2006\u001b[0m \u001b[0;34m\u001b[0m\u001b[0m\n\u001b[1;32m   2007\u001b[0m     \u001b[0;31m# List of _UserDevSpecs holding code location of device context manager\u001b[0m\u001b[0;34m\u001b[0m\u001b[0;34m\u001b[0m\u001b[0;34m\u001b[0m\u001b[0m\n",
      "\u001b[0;32m~/anaconda3/envs/tf_gpu/lib/python3.7/site-packages/tensorflow/python/util/tf_stack.py\u001b[0m in \u001b[0;36mextract_stack\u001b[0;34m(limit)\u001b[0m\n\u001b[1;32m     52\u001b[0m     \u001b[0;32mraise\u001b[0m \u001b[0mZeroDivisionError\u001b[0m\u001b[0;34m\u001b[0m\u001b[0;34m\u001b[0m\u001b[0m\n\u001b[1;32m     53\u001b[0m   \u001b[0;32mexcept\u001b[0m \u001b[0mZeroDivisionError\u001b[0m\u001b[0;34m:\u001b[0m\u001b[0;34m\u001b[0m\u001b[0;34m\u001b[0m\u001b[0m\n\u001b[0;32m---> 54\u001b[0;31m     \u001b[0mf\u001b[0m \u001b[0;34m=\u001b[0m \u001b[0msys\u001b[0m\u001b[0;34m.\u001b[0m\u001b[0mexc_info\u001b[0m\u001b[0;34m(\u001b[0m\u001b[0;34m)\u001b[0m\u001b[0;34m[\u001b[0m\u001b[0;36m2\u001b[0m\u001b[0;34m]\u001b[0m\u001b[0;34m.\u001b[0m\u001b[0mtb_frame\u001b[0m\u001b[0;34m.\u001b[0m\u001b[0mf_back\u001b[0m\u001b[0;34m\u001b[0m\u001b[0;34m\u001b[0m\u001b[0m\n\u001b[0m\u001b[1;32m     55\u001b[0m   \u001b[0mret\u001b[0m \u001b[0;34m=\u001b[0m \u001b[0;34m[\u001b[0m\u001b[0;34m]\u001b[0m\u001b[0;34m\u001b[0m\u001b[0;34m\u001b[0m\u001b[0m\n\u001b[1;32m     56\u001b[0m   \u001b[0mlength\u001b[0m \u001b[0;34m=\u001b[0m \u001b[0;36m0\u001b[0m\u001b[0;34m\u001b[0m\u001b[0;34m\u001b[0m\u001b[0m\n",
      "\u001b[0;31mKeyboardInterrupt\u001b[0m: "
     ]
    }
   ],
   "source": [
    "gp.random_sampling()"
   ]
  },
  {
   "cell_type": "code",
   "execution_count": 40,
   "metadata": {},
   "outputs": [
    {
     "name": "stdout",
     "output_type": "stream",
     "text": [
      "Current Day before update: 9\n",
      "\n",
      "Current Day after update: 10\n",
      "Stations added -  [1025.0]  on day  10\n",
      "\n",
      "Train DataFrame Shape (66, 9)\n",
      "\n",
      "Pool DataFrame Shape (249, 11)\n",
      "\n",
      "Test DataFrame Shape (6, 9)\n",
      "INFO:tensorflow:Optimization terminated with:\n",
      "  Message: b'CONVERGENCE: REL_REDUCTION_OF_F_<=_FACTR*EPSMCH'\n",
      "  Objective function value: 267.574564\n",
      "  Number of iterations: 236\n",
      "  Number of functions evaluations: 272\n"
     ]
    },
    {
     "name": "stderr",
     "output_type": "stream",
     "text": [
      "INFO:tensorflow:Optimization terminated with:\n",
      "  Message: b'CONVERGENCE: REL_REDUCTION_OF_F_<=_FACTR*EPSMCH'\n",
      "  Objective function value: 267.574564\n",
      "  Number of iterations: 236\n",
      "  Number of functions evaluations: 272\n"
     ]
    },
    {
     "ename": "AttributeError",
     "evalue": "'GPActive' object has no attribute 'fname'",
     "output_type": "error",
     "traceback": [
      "\u001b[0;31m---------------------------------------------------------------------------\u001b[0m",
      "\u001b[0;31mAttributeError\u001b[0m                            Traceback (most recent call last)",
      "\u001b[0;32m<ipython-input-40-cf30362a9305>\u001b[0m in \u001b[0;36m<module>\u001b[0;34m\u001b[0m\n\u001b[0;32m----> 1\u001b[0;31m \u001b[0mgp\u001b[0m\u001b[0;34m.\u001b[0m\u001b[0mactive_gp\u001b[0m\u001b[0;34m(\u001b[0m\u001b[0;34m)\u001b[0m\u001b[0;34m\u001b[0m\u001b[0;34m\u001b[0m\u001b[0m\n\u001b[0m",
      "\u001b[0;32m~/activepm/exp2/gpsampling.py\u001b[0m in \u001b[0;36mactive_gp\u001b[0;34m(self)\u001b[0m\n\u001b[1;32m    424\u001b[0m \u001b[0;34m\u001b[0m\u001b[0m\n\u001b[1;32m    425\u001b[0m \u001b[0;34m\u001b[0m\u001b[0m\n\u001b[0;32m--> 426\u001b[0;31m             \u001b[0mtemp_store_path\u001b[0m \u001b[0;34m=\u001b[0m \u001b[0;34mf\"results/intermediate_gp/{self.fname[0]}/{self.fname[1]}/{self.current_day}\"\u001b[0m\u001b[0;34m\u001b[0m\u001b[0;34m\u001b[0m\u001b[0m\n\u001b[0m\u001b[1;32m    427\u001b[0m             \u001b[0;32mif\u001b[0m \u001b[0;32mnot\u001b[0m \u001b[0mos\u001b[0m\u001b[0;34m.\u001b[0m\u001b[0mpath\u001b[0m\u001b[0;34m.\u001b[0m\u001b[0mexists\u001b[0m\u001b[0;34m(\u001b[0m\u001b[0mtemp_store_path\u001b[0m\u001b[0;34m)\u001b[0m\u001b[0;34m:\u001b[0m\u001b[0;34m\u001b[0m\u001b[0;34m\u001b[0m\u001b[0m\n\u001b[1;32m    428\u001b[0m                 \u001b[0mos\u001b[0m\u001b[0;34m.\u001b[0m\u001b[0mmakedirs\u001b[0m\u001b[0;34m(\u001b[0m\u001b[0mtemp_store_path\u001b[0m\u001b[0;34m)\u001b[0m\u001b[0;34m\u001b[0m\u001b[0;34m\u001b[0m\u001b[0m\n",
      "\u001b[0;31mAttributeError\u001b[0m: 'GPActive' object has no attribute 'fname'"
     ]
    }
   ],
   "source": []
  },
  {
   "cell_type": "code",
   "execution_count": 16,
   "metadata": {},
   "outputs": [
    {
     "ename": "TypeError",
     "evalue": "can't pickle _thread.RLock objects",
     "output_type": "error",
     "traceback": [
      "\u001b[0;31m---------------------------------------------------------------------------\u001b[0m",
      "\u001b[0;31mTypeError\u001b[0m                                 Traceback (most recent call last)",
      "\u001b[0;32m<ipython-input-16-d1dbe5dbbc4b>\u001b[0m in \u001b[0;36m<module>\u001b[0;34m\u001b[0m\n\u001b[1;32m      2\u001b[0m \u001b[0;32mwith\u001b[0m \u001b[0mopen\u001b[0m\u001b[0;34m(\u001b[0m\u001b[0;34m'company_data.pkl'\u001b[0m\u001b[0;34m,\u001b[0m \u001b[0;34m'wb'\u001b[0m\u001b[0;34m)\u001b[0m \u001b[0;32mas\u001b[0m \u001b[0moutput\u001b[0m\u001b[0;34m:\u001b[0m\u001b[0;34m\u001b[0m\u001b[0;34m\u001b[0m\u001b[0m\n\u001b[1;32m      3\u001b[0m \u001b[0;31m#     company1 = Company('banana', 40)\u001b[0m\u001b[0;34m\u001b[0m\u001b[0;34m\u001b[0m\u001b[0;34m\u001b[0m\u001b[0m\n\u001b[0;32m----> 4\u001b[0;31m     \u001b[0mpickle\u001b[0m\u001b[0;34m.\u001b[0m\u001b[0mdump\u001b[0m\u001b[0;34m(\u001b[0m\u001b[0mgp\u001b[0m\u001b[0;34m,\u001b[0m \u001b[0moutput\u001b[0m\u001b[0;34m,\u001b[0m \u001b[0mpickle\u001b[0m\u001b[0;34m.\u001b[0m\u001b[0mHIGHEST_PROTOCOL\u001b[0m\u001b[0;34m)\u001b[0m\u001b[0;34m\u001b[0m\u001b[0;34m\u001b[0m\u001b[0m\n\u001b[0m",
      "\u001b[0;31mTypeError\u001b[0m: can't pickle _thread.RLock objects"
     ]
    }
   ],
   "source": [
    "import pickle\n",
    "with open('company_data.pkl', 'wb') as output:\n",
    "#     company1 = Company('banana', 40)\n",
    "    pickle.dump(gp, output, pickle.HIGHEST_PROTOCOL)\n"
   ]
  },
  {
   "cell_type": "code",
   "execution_count": null,
   "metadata": {},
   "outputs": [],
   "source": []
  },
  {
   "cell_type": "code",
   "execution_count": 14,
   "metadata": {
    "scrolled": true
   },
   "outputs": [
    {
     "name": "stdout",
     "output_type": "stream",
     "text": [
      "Current Day before update: 9\n",
      "\n",
      "Current Day after update: 10\n",
      "Stations added -  [1028.0]  on day  10\n",
      "\n",
      "Train DataFrame Shape (66, 9)\n",
      "\n",
      "Pool DataFrame Shape (249, 11)\n",
      "\n",
      "Test DataFrame Shape (6, 9)\n",
      "INFO:tensorflow:Optimization terminated with:\n",
      "  Message: b'CONVERGENCE: REL_REDUCTION_OF_F_<=_FACTR*EPSMCH'\n",
      "  Objective function value: 266.650989\n",
      "  Number of iterations: 192\n",
      "  Number of functions evaluations: 214\n"
     ]
    },
    {
     "name": "stderr",
     "output_type": "stream",
     "text": [
      "INFO:tensorflow:Optimization terminated with:\n",
      "  Message: b'CONVERGENCE: REL_REDUCTION_OF_F_<=_FACTR*EPSMCH'\n",
      "  Objective function value: 266.650989\n",
      "  Number of iterations: 192\n",
      "  Number of functions evaluations: 214\n"
     ]
    },
    {
     "name": "stdout",
     "output_type": "stream",
     "text": [
      "Current Day before update: 10\n",
      "\n",
      "Current Day after update: 11\n",
      "\n",
      "Train DataFrame Shape (73, 9)\n",
      "\n",
      "Pool DataFrame Shape (271, 11)\n",
      "\n",
      "Test DataFrame Shape (6, 9)\n",
      "INFO:tensorflow:Optimization terminated with:\n",
      "  Message: b'CONVERGENCE: REL_REDUCTION_OF_F_<=_FACTR*EPSMCH'\n",
      "  Objective function value: 304.705366\n",
      "  Number of iterations: 308\n",
      "  Number of functions evaluations: 354\n"
     ]
    },
    {
     "name": "stderr",
     "output_type": "stream",
     "text": [
      "INFO:tensorflow:Optimization terminated with:\n",
      "  Message: b'CONVERGENCE: REL_REDUCTION_OF_F_<=_FACTR*EPSMCH'\n",
      "  Objective function value: 304.705366\n",
      "  Number of iterations: 308\n",
      "  Number of functions evaluations: 354\n"
     ]
    },
    {
     "name": "stdout",
     "output_type": "stream",
     "text": [
      "Current Day before update: 11\n",
      "\n",
      "Current Day after update: 12\n",
      "\n",
      "Train DataFrame Shape (80, 9)\n",
      "\n",
      "Pool DataFrame Shape (293, 11)\n",
      "\n",
      "Test DataFrame Shape (6, 9)\n",
      "INFO:tensorflow:Optimization terminated with:\n",
      "  Message: b'CONVERGENCE: REL_REDUCTION_OF_F_<=_FACTR*EPSMCH'\n",
      "  Objective function value: 317.703534\n",
      "  Number of iterations: 319\n",
      "  Number of functions evaluations: 387\n"
     ]
    },
    {
     "name": "stderr",
     "output_type": "stream",
     "text": [
      "INFO:tensorflow:Optimization terminated with:\n",
      "  Message: b'CONVERGENCE: REL_REDUCTION_OF_F_<=_FACTR*EPSMCH'\n",
      "  Objective function value: 317.703534\n",
      "  Number of iterations: 319\n",
      "  Number of functions evaluations: 387\n"
     ]
    },
    {
     "name": "stdout",
     "output_type": "stream",
     "text": [
      "Current Day before update: 12\n",
      "\n",
      "Current Day after update: 13\n",
      "\n",
      "Train DataFrame Shape (87, 9)\n",
      "\n",
      "Pool DataFrame Shape (316, 11)\n",
      "\n",
      "Test DataFrame Shape (6, 9)\n",
      "INFO:tensorflow:Optimization terminated with:\n",
      "  Message: b'CONVERGENCE: REL_REDUCTION_OF_F_<=_FACTR*EPSMCH'\n",
      "  Objective function value: 344.143531\n",
      "  Number of iterations: 340\n",
      "  Number of functions evaluations: 401\n"
     ]
    },
    {
     "name": "stderr",
     "output_type": "stream",
     "text": [
      "INFO:tensorflow:Optimization terminated with:\n",
      "  Message: b'CONVERGENCE: REL_REDUCTION_OF_F_<=_FACTR*EPSMCH'\n",
      "  Objective function value: 344.143531\n",
      "  Number of iterations: 340\n",
      "  Number of functions evaluations: 401\n"
     ]
    },
    {
     "name": "stdout",
     "output_type": "stream",
     "text": [
      "Current Day before update: 13\n",
      "\n",
      "Current Day after update: 14\n",
      "\n",
      "Train DataFrame Shape (94, 9)\n",
      "\n",
      "Pool DataFrame Shape (337, 11)\n",
      "\n",
      "Test DataFrame Shape (6, 9)\n",
      "INFO:tensorflow:Optimization terminated with:\n",
      "  Message: b'CONVERGENCE: REL_REDUCTION_OF_F_<=_FACTR*EPSMCH'\n",
      "  Objective function value: 370.106125\n",
      "  Number of iterations: 245\n",
      "  Number of functions evaluations: 280\n"
     ]
    },
    {
     "name": "stderr",
     "output_type": "stream",
     "text": [
      "INFO:tensorflow:Optimization terminated with:\n",
      "  Message: b'CONVERGENCE: REL_REDUCTION_OF_F_<=_FACTR*EPSMCH'\n",
      "  Objective function value: 370.106125\n",
      "  Number of iterations: 245\n",
      "  Number of functions evaluations: 280\n"
     ]
    },
    {
     "name": "stdout",
     "output_type": "stream",
     "text": [
      "Current Day before update: 14\n",
      "\n",
      "Current Day after update: 15\n",
      "Stations added -  [1036.0]  on day  15\n",
      "\n",
      "Train DataFrame Shape (102, 9)\n",
      "\n",
      "Pool DataFrame Shape (343, 11)\n",
      "\n",
      "Test DataFrame Shape (6, 9)\n",
      "INFO:tensorflow:Optimization terminated with:\n",
      "  Message: b'CONVERGENCE: REL_REDUCTION_OF_F_<=_FACTR*EPSMCH'\n",
      "  Objective function value: 394.308180\n",
      "  Number of iterations: 595\n",
      "  Number of functions evaluations: 713\n"
     ]
    },
    {
     "name": "stderr",
     "output_type": "stream",
     "text": [
      "INFO:tensorflow:Optimization terminated with:\n",
      "  Message: b'CONVERGENCE: REL_REDUCTION_OF_F_<=_FACTR*EPSMCH'\n",
      "  Objective function value: 394.308180\n",
      "  Number of iterations: 595\n",
      "  Number of functions evaluations: 713\n"
     ]
    },
    {
     "name": "stdout",
     "output_type": "stream",
     "text": [
      "Current Day before update: 15\n",
      "\n",
      "Current Day after update: 16\n",
      "\n",
      "Train DataFrame Shape (110, 9)\n",
      "\n",
      "Pool DataFrame Shape (364, 11)\n",
      "\n",
      "Test DataFrame Shape (6, 9)\n",
      "INFO:tensorflow:Optimization terminated with:\n",
      "  Message: b'CONVERGENCE: REL_REDUCTION_OF_F_<=_FACTR*EPSMCH'\n",
      "  Objective function value: 427.263043\n",
      "  Number of iterations: 370\n",
      "  Number of functions evaluations: 474\n"
     ]
    },
    {
     "name": "stderr",
     "output_type": "stream",
     "text": [
      "INFO:tensorflow:Optimization terminated with:\n",
      "  Message: b'CONVERGENCE: REL_REDUCTION_OF_F_<=_FACTR*EPSMCH'\n",
      "  Objective function value: 427.263043\n",
      "  Number of iterations: 370\n",
      "  Number of functions evaluations: 474\n"
     ]
    },
    {
     "name": "stdout",
     "output_type": "stream",
     "text": [
      "Current Day before update: 16\n",
      "\n",
      "Current Day after update: 17\n",
      "\n",
      "Train DataFrame Shape (118, 9)\n",
      "\n",
      "Pool DataFrame Shape (385, 11)\n",
      "\n",
      "Test DataFrame Shape (6, 9)\n",
      "INFO:tensorflow:Optimization terminated with:\n",
      "  Message: b'CONVERGENCE: REL_REDUCTION_OF_F_<=_FACTR*EPSMCH'\n",
      "  Objective function value: 462.669669\n",
      "  Number of iterations: 207\n",
      "  Number of functions evaluations: 238\n"
     ]
    },
    {
     "name": "stderr",
     "output_type": "stream",
     "text": [
      "INFO:tensorflow:Optimization terminated with:\n",
      "  Message: b'CONVERGENCE: REL_REDUCTION_OF_F_<=_FACTR*EPSMCH'\n",
      "  Objective function value: 462.669669\n",
      "  Number of iterations: 207\n",
      "  Number of functions evaluations: 238\n"
     ]
    },
    {
     "name": "stdout",
     "output_type": "stream",
     "text": [
      "Current Day before update: 17\n",
      "\n",
      "Current Day after update: 18\n",
      "\n",
      "Train DataFrame Shape (126, 9)\n",
      "\n",
      "Pool DataFrame Shape (406, 11)\n",
      "\n",
      "Test DataFrame Shape (6, 9)\n",
      "INFO:tensorflow:Optimization terminated with:\n",
      "  Message: b'CONVERGENCE: REL_REDUCTION_OF_F_<=_FACTR*EPSMCH'\n",
      "  Objective function value: 494.660029\n",
      "  Number of iterations: 256\n",
      "  Number of functions evaluations: 294\n"
     ]
    },
    {
     "name": "stderr",
     "output_type": "stream",
     "text": [
      "INFO:tensorflow:Optimization terminated with:\n",
      "  Message: b'CONVERGENCE: REL_REDUCTION_OF_F_<=_FACTR*EPSMCH'\n",
      "  Objective function value: 494.660029\n",
      "  Number of iterations: 256\n",
      "  Number of functions evaluations: 294\n"
     ]
    },
    {
     "name": "stdout",
     "output_type": "stream",
     "text": [
      "Current Day before update: 18\n",
      "\n",
      "Current Day after update: 19\n",
      "\n",
      "Train DataFrame Shape (134, 9)\n",
      "\n",
      "Pool DataFrame Shape (427, 11)\n",
      "\n",
      "Test DataFrame Shape (6, 9)\n",
      "INFO:tensorflow:Optimization terminated with:\n",
      "  Message: b'CONVERGENCE: REL_REDUCTION_OF_F_<=_FACTR*EPSMCH'\n",
      "  Objective function value: 527.158071\n",
      "  Number of iterations: 553\n",
      "  Number of functions evaluations: 671\n"
     ]
    },
    {
     "name": "stderr",
     "output_type": "stream",
     "text": [
      "INFO:tensorflow:Optimization terminated with:\n",
      "  Message: b'CONVERGENCE: REL_REDUCTION_OF_F_<=_FACTR*EPSMCH'\n",
      "  Objective function value: 527.158071\n",
      "  Number of iterations: 553\n",
      "  Number of functions evaluations: 671\n"
     ]
    },
    {
     "name": "stdout",
     "output_type": "stream",
     "text": [
      "Current Day before update: 19\n",
      "\n",
      "Current Day after update: 20\n",
      "Stations added -  [1034.0]  on day  20\n",
      "\n",
      "Train DataFrame Shape (136, 9)\n",
      "\n",
      "Pool DataFrame Shape (434, 11)\n",
      "\n",
      "Test DataFrame Shape (6, 9)\n",
      "INFO:tensorflow:Optimization terminated with:\n",
      "  Message: b'CONVERGENCE: REL_REDUCTION_OF_F_<=_FACTR*EPSMCH'\n",
      "  Objective function value: 543.223765\n",
      "  Number of iterations: 435\n",
      "  Number of functions evaluations: 526\n"
     ]
    },
    {
     "name": "stderr",
     "output_type": "stream",
     "text": [
      "INFO:tensorflow:Optimization terminated with:\n",
      "  Message: b'CONVERGENCE: REL_REDUCTION_OF_F_<=_FACTR*EPSMCH'\n",
      "  Objective function value: 543.223765\n",
      "  Number of iterations: 435\n",
      "  Number of functions evaluations: 526\n"
     ]
    },
    {
     "name": "stdout",
     "output_type": "stream",
     "text": [
      "Current Day before update: 20\n",
      "\n",
      "Current Day after update: 21\n",
      "\n",
      "Train DataFrame Shape (138, 9)\n",
      "\n",
      "Pool DataFrame Shape (455, 11)\n",
      "\n",
      "Test DataFrame Shape (6, 9)\n",
      "INFO:tensorflow:Optimization terminated with:\n",
      "  Message: b'CONVERGENCE: REL_REDUCTION_OF_F_<=_FACTR*EPSMCH'\n",
      "  Objective function value: 565.894792\n",
      "  Number of iterations: 181\n",
      "  Number of functions evaluations: 231\n"
     ]
    },
    {
     "name": "stderr",
     "output_type": "stream",
     "text": [
      "INFO:tensorflow:Optimization terminated with:\n",
      "  Message: b'CONVERGENCE: REL_REDUCTION_OF_F_<=_FACTR*EPSMCH'\n",
      "  Objective function value: 565.894792\n",
      "  Number of iterations: 181\n",
      "  Number of functions evaluations: 231\n"
     ]
    },
    {
     "name": "stdout",
     "output_type": "stream",
     "text": [
      "Current Day before update: 21\n",
      "\n",
      "Current Day after update: 22\n",
      "\n",
      "Train DataFrame Shape (142, 9)\n",
      "\n",
      "Pool DataFrame Shape (476, 11)\n",
      "\n",
      "Test DataFrame Shape (6, 9)\n",
      "INFO:tensorflow:Optimization terminated with:\n",
      "  Message: b'CONVERGENCE: REL_REDUCTION_OF_F_<=_FACTR*EPSMCH'\n",
      "  Objective function value: 588.612129\n",
      "  Number of iterations: 119\n",
      "  Number of functions evaluations: 158\n"
     ]
    },
    {
     "name": "stderr",
     "output_type": "stream",
     "text": [
      "INFO:tensorflow:Optimization terminated with:\n",
      "  Message: b'CONVERGENCE: REL_REDUCTION_OF_F_<=_FACTR*EPSMCH'\n",
      "  Objective function value: 588.612129\n",
      "  Number of iterations: 119\n",
      "  Number of functions evaluations: 158\n"
     ]
    },
    {
     "name": "stdout",
     "output_type": "stream",
     "text": [
      "Current Day before update: 22\n",
      "\n",
      "Current Day after update: 23\n",
      "\n",
      "Train DataFrame Shape (144, 9)\n",
      "\n",
      "Pool DataFrame Shape (497, 11)\n",
      "\n",
      "Test DataFrame Shape (6, 9)\n",
      "INFO:tensorflow:Optimization terminated with:\n",
      "  Message: b'CONVERGENCE: REL_REDUCTION_OF_F_<=_FACTR*EPSMCH'\n",
      "  Objective function value: 596.193817\n",
      "  Number of iterations: 360\n",
      "  Number of functions evaluations: 439\n"
     ]
    },
    {
     "name": "stderr",
     "output_type": "stream",
     "text": [
      "INFO:tensorflow:Optimization terminated with:\n",
      "  Message: b'CONVERGENCE: REL_REDUCTION_OF_F_<=_FACTR*EPSMCH'\n",
      "  Objective function value: 596.193817\n",
      "  Number of iterations: 360\n",
      "  Number of functions evaluations: 439\n"
     ]
    },
    {
     "name": "stdout",
     "output_type": "stream",
     "text": [
      "Current Day before update: 23\n",
      "\n",
      "Current Day after update: 24\n",
      "\n",
      "Train DataFrame Shape (146, 9)\n",
      "\n",
      "Pool DataFrame Shape (518, 11)\n",
      "\n",
      "Test DataFrame Shape (6, 9)\n",
      "INFO:tensorflow:Optimization terminated with:\n",
      "  Message: b'CONVERGENCE: REL_REDUCTION_OF_F_<=_FACTR*EPSMCH'\n",
      "  Objective function value: 606.167034\n",
      "  Number of iterations: 392\n",
      "  Number of functions evaluations: 446\n"
     ]
    },
    {
     "name": "stderr",
     "output_type": "stream",
     "text": [
      "INFO:tensorflow:Optimization terminated with:\n",
      "  Message: b'CONVERGENCE: REL_REDUCTION_OF_F_<=_FACTR*EPSMCH'\n",
      "  Objective function value: 606.167034\n",
      "  Number of iterations: 392\n",
      "  Number of functions evaluations: 446\n"
     ]
    },
    {
     "name": "stdout",
     "output_type": "stream",
     "text": [
      "Current Day before update: 24\n",
      "\n",
      "Current Day after update: 25\n",
      "Stations added -  [1019.0]  on day  25\n",
      "\n",
      "Train DataFrame Shape (149, 9)\n",
      "\n",
      "Pool DataFrame Shape (518, 11)\n",
      "\n",
      "Test DataFrame Shape (6, 9)\n",
      "INFO:tensorflow:Optimization terminated with:\n",
      "  Message: b'CONVERGENCE: REL_REDUCTION_OF_F_<=_FACTR*EPSMCH'\n",
      "  Objective function value: 617.680250\n",
      "  Number of iterations: 175\n",
      "  Number of functions evaluations: 223\n"
     ]
    },
    {
     "name": "stderr",
     "output_type": "stream",
     "text": [
      "INFO:tensorflow:Optimization terminated with:\n",
      "  Message: b'CONVERGENCE: REL_REDUCTION_OF_F_<=_FACTR*EPSMCH'\n",
      "  Objective function value: 617.680250\n",
      "  Number of iterations: 175\n",
      "  Number of functions evaluations: 223\n"
     ]
    },
    {
     "name": "stdout",
     "output_type": "stream",
     "text": [
      "Current Day before update: 25\n",
      "\n",
      "Current Day after update: 26\n",
      "\n",
      "Train DataFrame Shape (152, 9)\n",
      "\n",
      "Pool DataFrame Shape (538, 11)\n",
      "\n",
      "Test DataFrame Shape (6, 9)\n",
      "INFO:tensorflow:Optimization terminated with:\n",
      "  Message: b'CONVERGENCE: REL_REDUCTION_OF_F_<=_FACTR*EPSMCH'\n",
      "  Objective function value: 629.062603\n",
      "  Number of iterations: 308\n",
      "  Number of functions evaluations: 345\n"
     ]
    },
    {
     "name": "stderr",
     "output_type": "stream",
     "text": [
      "INFO:tensorflow:Optimization terminated with:\n",
      "  Message: b'CONVERGENCE: REL_REDUCTION_OF_F_<=_FACTR*EPSMCH'\n",
      "  Objective function value: 629.062603\n",
      "  Number of iterations: 308\n",
      "  Number of functions evaluations: 345\n"
     ]
    },
    {
     "name": "stdout",
     "output_type": "stream",
     "text": [
      "Current Day before update: 26\n",
      "\n",
      "Current Day after update: 27\n",
      "\n",
      "Train DataFrame Shape (155, 9)\n",
      "\n",
      "Pool DataFrame Shape (558, 11)\n",
      "\n",
      "Test DataFrame Shape (6, 9)\n",
      "INFO:tensorflow:Optimization terminated with:\n",
      "  Message: b'ABNORMAL_TERMINATION_IN_LNSRCH'\n",
      "  Objective function value: 640.381947\n",
      "  Number of iterations: 364\n",
      "  Number of functions evaluations: 443\n"
     ]
    },
    {
     "name": "stderr",
     "output_type": "stream",
     "text": [
      "INFO:tensorflow:Optimization terminated with:\n",
      "  Message: b'ABNORMAL_TERMINATION_IN_LNSRCH'\n",
      "  Objective function value: 640.381947\n",
      "  Number of iterations: 364\n",
      "  Number of functions evaluations: 443\n"
     ]
    },
    {
     "name": "stdout",
     "output_type": "stream",
     "text": [
      "Current Day before update: 27\n",
      "\n",
      "Current Day after update: 28\n",
      "\n",
      "Train DataFrame Shape (156, 9)\n",
      "\n",
      "Pool DataFrame Shape (578, 11)\n",
      "\n",
      "Test DataFrame Shape (6, 9)\n",
      "INFO:tensorflow:Optimization terminated with:\n",
      "  Message: b'CONVERGENCE: REL_REDUCTION_OF_F_<=_FACTR*EPSMCH'\n",
      "  Objective function value: 646.047512\n",
      "  Number of iterations: 309\n",
      "  Number of functions evaluations: 359\n"
     ]
    },
    {
     "name": "stderr",
     "output_type": "stream",
     "text": [
      "INFO:tensorflow:Optimization terminated with:\n",
      "  Message: b'CONVERGENCE: REL_REDUCTION_OF_F_<=_FACTR*EPSMCH'\n",
      "  Objective function value: 646.047512\n",
      "  Number of iterations: 309\n",
      "  Number of functions evaluations: 359\n"
     ]
    },
    {
     "name": "stdout",
     "output_type": "stream",
     "text": [
      "Current Day before update: 28\n",
      "\n",
      "Current Day after update: 29\n",
      "\n",
      "Train DataFrame Shape (158, 9)\n",
      "\n",
      "Pool DataFrame Shape (597, 11)\n",
      "\n",
      "Test DataFrame Shape (6, 9)\n",
      "INFO:tensorflow:Optimization terminated with:\n",
      "  Message: b'CONVERGENCE: REL_REDUCTION_OF_F_<=_FACTR*EPSMCH'\n",
      "  Objective function value: 655.069428\n",
      "  Number of iterations: 275\n",
      "  Number of functions evaluations: 324\n"
     ]
    },
    {
     "name": "stderr",
     "output_type": "stream",
     "text": [
      "INFO:tensorflow:Optimization terminated with:\n",
      "  Message: b'CONVERGENCE: REL_REDUCTION_OF_F_<=_FACTR*EPSMCH'\n",
      "  Objective function value: 655.069428\n",
      "  Number of iterations: 275\n",
      "  Number of functions evaluations: 324\n"
     ]
    },
    {
     "name": "stdout",
     "output_type": "stream",
     "text": [
      "Current Day before update: 29\n",
      "\n",
      "Current Day after update: 30\n",
      "Stations added -  [1005.0]  on day  30\n",
      "\n",
      "Train DataFrame Shape (159, 9)\n",
      "\n",
      "Pool DataFrame Shape (585, 11)\n",
      "\n",
      "Test DataFrame Shape (6, 9)\n",
      "INFO:tensorflow:Optimization terminated with:\n",
      "  Message: b'CONVERGENCE: REL_REDUCTION_OF_F_<=_FACTR*EPSMCH'\n",
      "  Objective function value: 659.770883\n",
      "  Number of iterations: 268\n",
      "  Number of functions evaluations: 312\n"
     ]
    },
    {
     "name": "stderr",
     "output_type": "stream",
     "text": [
      "INFO:tensorflow:Optimization terminated with:\n",
      "  Message: b'CONVERGENCE: REL_REDUCTION_OF_F_<=_FACTR*EPSMCH'\n",
      "  Objective function value: 659.770883\n",
      "  Number of iterations: 268\n",
      "  Number of functions evaluations: 312\n"
     ]
    },
    {
     "name": "stdout",
     "output_type": "stream",
     "text": [
      "Current Day before update: 30\n",
      "\n",
      "Current Day after update: 31\n",
      "\n",
      "Train DataFrame Shape (161, 9)\n",
      "\n",
      "Pool DataFrame Shape (603, 11)\n",
      "\n",
      "Test DataFrame Shape (5, 9)\n",
      "INFO:tensorflow:Optimization terminated with:\n",
      "  Message: b'CONVERGENCE: REL_REDUCTION_OF_F_<=_FACTR*EPSMCH'\n",
      "  Objective function value: 663.330525\n",
      "  Number of iterations: 183\n",
      "  Number of functions evaluations: 214\n"
     ]
    },
    {
     "name": "stderr",
     "output_type": "stream",
     "text": [
      "INFO:tensorflow:Optimization terminated with:\n",
      "  Message: b'CONVERGENCE: REL_REDUCTION_OF_F_<=_FACTR*EPSMCH'\n",
      "  Objective function value: 663.330525\n",
      "  Number of iterations: 183\n",
      "  Number of functions evaluations: 214\n"
     ]
    },
    {
     "name": "stdout",
     "output_type": "stream",
     "text": [
      "Current Day before update: 31\n",
      "\n",
      "Current Day after update: 32\n",
      "\n",
      "Train DataFrame Shape (163, 9)\n",
      "\n",
      "Pool DataFrame Shape (622, 11)\n",
      "\n",
      "Test DataFrame Shape (5, 9)\n",
      "INFO:tensorflow:Optimization terminated with:\n",
      "  Message: b'CONVERGENCE: REL_REDUCTION_OF_F_<=_FACTR*EPSMCH'\n",
      "  Objective function value: 671.117967\n",
      "  Number of iterations: 373\n",
      "  Number of functions evaluations: 461\n"
     ]
    },
    {
     "name": "stderr",
     "output_type": "stream",
     "text": [
      "INFO:tensorflow:Optimization terminated with:\n",
      "  Message: b'CONVERGENCE: REL_REDUCTION_OF_F_<=_FACTR*EPSMCH'\n",
      "  Objective function value: 671.117967\n",
      "  Number of iterations: 373\n",
      "  Number of functions evaluations: 461\n"
     ]
    },
    {
     "name": "stdout",
     "output_type": "stream",
     "text": [
      "Current Day before update: 32\n",
      "\n",
      "Current Day after update: 33\n",
      "\n",
      "Train DataFrame Shape (166, 9)\n",
      "\n",
      "Pool DataFrame Shape (641, 11)\n",
      "\n",
      "Test DataFrame Shape (5, 9)\n",
      "INFO:tensorflow:Optimization terminated with:\n",
      "  Message: b'CONVERGENCE: REL_REDUCTION_OF_F_<=_FACTR*EPSMCH'\n",
      "  Objective function value: 677.789173\n",
      "  Number of iterations: 449\n",
      "  Number of functions evaluations: 556\n"
     ]
    },
    {
     "name": "stderr",
     "output_type": "stream",
     "text": [
      "INFO:tensorflow:Optimization terminated with:\n",
      "  Message: b'CONVERGENCE: REL_REDUCTION_OF_F_<=_FACTR*EPSMCH'\n",
      "  Objective function value: 677.789173\n",
      "  Number of iterations: 449\n",
      "  Number of functions evaluations: 556\n"
     ]
    },
    {
     "name": "stdout",
     "output_type": "stream",
     "text": [
      "Current Day before update: 33\n",
      "\n",
      "Current Day after update: 34\n",
      "\n",
      "Train DataFrame Shape (169, 9)\n",
      "\n",
      "Pool DataFrame Shape (660, 11)\n",
      "\n",
      "Test DataFrame Shape (5, 9)\n",
      "INFO:tensorflow:Optimization terminated with:\n",
      "  Message: b'CONVERGENCE: REL_REDUCTION_OF_F_<=_FACTR*EPSMCH'\n",
      "  Objective function value: 692.977847\n",
      "  Number of iterations: 268\n",
      "  Number of functions evaluations: 321\n"
     ]
    },
    {
     "name": "stderr",
     "output_type": "stream",
     "text": [
      "INFO:tensorflow:Optimization terminated with:\n",
      "  Message: b'CONVERGENCE: REL_REDUCTION_OF_F_<=_FACTR*EPSMCH'\n",
      "  Objective function value: 692.977847\n",
      "  Number of iterations: 268\n",
      "  Number of functions evaluations: 321\n"
     ]
    },
    {
     "name": "stdout",
     "output_type": "stream",
     "text": [
      "Current Day before update: 34\n",
      "\n",
      "Current Day after update: 35\n",
      "Stations added -  [1030.0]  on day  35\n",
      "\n",
      "Train DataFrame Shape (172, 9)\n",
      "\n",
      "Pool DataFrame Shape (643, 11)\n",
      "\n",
      "Test DataFrame Shape (5, 9)\n",
      "INFO:tensorflow:Optimization terminated with:\n",
      "  Message: b'CONVERGENCE: REL_REDUCTION_OF_F_<=_FACTR*EPSMCH'\n",
      "  Objective function value: 707.263861\n",
      "  Number of iterations: 174\n",
      "  Number of functions evaluations: 208\n"
     ]
    },
    {
     "name": "stderr",
     "output_type": "stream",
     "text": [
      "INFO:tensorflow:Optimization terminated with:\n",
      "  Message: b'CONVERGENCE: REL_REDUCTION_OF_F_<=_FACTR*EPSMCH'\n",
      "  Objective function value: 707.263861\n",
      "  Number of iterations: 174\n",
      "  Number of functions evaluations: 208\n"
     ]
    },
    {
     "name": "stdout",
     "output_type": "stream",
     "text": [
      "Current Day before update: 35\n",
      "\n",
      "Current Day after update: 36\n",
      "\n",
      "Train DataFrame Shape (176, 9)\n",
      "\n",
      "Pool DataFrame Shape (661, 11)\n",
      "\n",
      "Test DataFrame Shape (5, 9)\n",
      "INFO:tensorflow:Optimization terminated with:\n",
      "  Message: b'CONVERGENCE: REL_REDUCTION_OF_F_<=_FACTR*EPSMCH'\n",
      "  Objective function value: 725.277235\n",
      "  Number of iterations: 139\n",
      "  Number of functions evaluations: 162\n"
     ]
    },
    {
     "name": "stderr",
     "output_type": "stream",
     "text": [
      "INFO:tensorflow:Optimization terminated with:\n",
      "  Message: b'CONVERGENCE: REL_REDUCTION_OF_F_<=_FACTR*EPSMCH'\n",
      "  Objective function value: 725.277235\n",
      "  Number of iterations: 139\n",
      "  Number of functions evaluations: 162\n"
     ]
    },
    {
     "name": "stdout",
     "output_type": "stream",
     "text": [
      "Current Day before update: 36\n",
      "\n",
      "Current Day after update: 37\n",
      "\n",
      "Train DataFrame Shape (180, 9)\n",
      "\n",
      "Pool DataFrame Shape (679, 11)\n",
      "\n",
      "Test DataFrame Shape (5, 9)\n",
      "INFO:tensorflow:Optimization terminated with:\n",
      "  Message: b'CONVERGENCE: REL_REDUCTION_OF_F_<=_FACTR*EPSMCH'\n",
      "  Objective function value: 743.897561\n",
      "  Number of iterations: 202\n",
      "  Number of functions evaluations: 243\n"
     ]
    },
    {
     "name": "stderr",
     "output_type": "stream",
     "text": [
      "INFO:tensorflow:Optimization terminated with:\n",
      "  Message: b'CONVERGENCE: REL_REDUCTION_OF_F_<=_FACTR*EPSMCH'\n",
      "  Objective function value: 743.897561\n",
      "  Number of iterations: 202\n",
      "  Number of functions evaluations: 243\n"
     ]
    },
    {
     "name": "stdout",
     "output_type": "stream",
     "text": [
      "Current Day before update: 37\n",
      "\n",
      "Current Day after update: 38\n",
      "\n",
      "Train DataFrame Shape (184, 9)\n",
      "\n",
      "Pool DataFrame Shape (697, 11)\n",
      "\n",
      "Test DataFrame Shape (5, 9)\n",
      "INFO:tensorflow:Optimization terminated with:\n",
      "  Message: b'CONVERGENCE: REL_REDUCTION_OF_F_<=_FACTR*EPSMCH'\n",
      "  Objective function value: 743.105337\n",
      "  Number of iterations: 198\n",
      "  Number of functions evaluations: 245\n"
     ]
    },
    {
     "name": "stderr",
     "output_type": "stream",
     "text": [
      "INFO:tensorflow:Optimization terminated with:\n",
      "  Message: b'CONVERGENCE: REL_REDUCTION_OF_F_<=_FACTR*EPSMCH'\n",
      "  Objective function value: 743.105337\n",
      "  Number of iterations: 198\n",
      "  Number of functions evaluations: 245\n"
     ]
    },
    {
     "name": "stdout",
     "output_type": "stream",
     "text": [
      "Current Day before update: 38\n",
      "\n",
      "Current Day after update: 39\n",
      "\n",
      "Train DataFrame Shape (188, 9)\n",
      "\n",
      "Pool DataFrame Shape (715, 11)\n",
      "\n",
      "Test DataFrame Shape (5, 9)\n",
      "INFO:tensorflow:Optimization terminated with:\n",
      "  Message: b'CONVERGENCE: REL_REDUCTION_OF_F_<=_FACTR*EPSMCH'\n",
      "  Objective function value: 749.814515\n",
      "  Number of iterations: 425\n",
      "  Number of functions evaluations: 487\n"
     ]
    },
    {
     "name": "stderr",
     "output_type": "stream",
     "text": [
      "INFO:tensorflow:Optimization terminated with:\n",
      "  Message: b'CONVERGENCE: REL_REDUCTION_OF_F_<=_FACTR*EPSMCH'\n",
      "  Objective function value: 749.814515\n",
      "  Number of iterations: 425\n",
      "  Number of functions evaluations: 487\n"
     ]
    },
    {
     "name": "stdout",
     "output_type": "stream",
     "text": [
      "Current Day before update: 39\n",
      "\n",
      "Current Day after update: 40\n",
      "Stations added -  [1027.0]  on day  40\n",
      "\n",
      "Train DataFrame Shape (193, 9)\n",
      "\n",
      "Pool DataFrame Shape (695, 11)\n",
      "\n",
      "Test DataFrame Shape (5, 9)\n",
      "INFO:tensorflow:Optimization terminated with:\n",
      "  Message: b'CONVERGENCE: REL_REDUCTION_OF_F_<=_FACTR*EPSMCH'\n",
      "  Objective function value: 756.847963\n",
      "  Number of iterations: 250\n",
      "  Number of functions evaluations: 280\n"
     ]
    },
    {
     "name": "stderr",
     "output_type": "stream",
     "text": [
      "INFO:tensorflow:Optimization terminated with:\n",
      "  Message: b'CONVERGENCE: REL_REDUCTION_OF_F_<=_FACTR*EPSMCH'\n",
      "  Objective function value: 756.847963\n",
      "  Number of iterations: 250\n",
      "  Number of functions evaluations: 280\n"
     ]
    },
    {
     "name": "stdout",
     "output_type": "stream",
     "text": [
      "Current Day before update: 40\n",
      "\n",
      "Current Day after update: 41\n",
      "\n",
      "Train DataFrame Shape (198, 9)\n",
      "\n",
      "Pool DataFrame Shape (712, 11)\n",
      "\n",
      "Test DataFrame Shape (6, 9)\n",
      "INFO:tensorflow:Optimization terminated with:\n",
      "  Message: b'CONVERGENCE: REL_REDUCTION_OF_F_<=_FACTR*EPSMCH'\n",
      "  Objective function value: 770.760068\n",
      "  Number of iterations: 175\n",
      "  Number of functions evaluations: 229\n"
     ]
    },
    {
     "name": "stderr",
     "output_type": "stream",
     "text": [
      "INFO:tensorflow:Optimization terminated with:\n",
      "  Message: b'CONVERGENCE: REL_REDUCTION_OF_F_<=_FACTR*EPSMCH'\n",
      "  Objective function value: 770.760068\n",
      "  Number of iterations: 175\n",
      "  Number of functions evaluations: 229\n"
     ]
    },
    {
     "name": "stdout",
     "output_type": "stream",
     "text": [
      "Current Day before update: 41\n",
      "\n",
      "Current Day after update: 42\n",
      "\n",
      "Train DataFrame Shape (202, 9)\n",
      "\n",
      "Pool DataFrame Shape (729, 11)\n",
      "\n",
      "Test DataFrame Shape (6, 9)\n",
      "INFO:tensorflow:Optimization terminated with:\n",
      "  Message: b'CONVERGENCE: REL_REDUCTION_OF_F_<=_FACTR*EPSMCH'\n",
      "  Objective function value: 782.100813\n",
      "  Number of iterations: 246\n",
      "  Number of functions evaluations: 289\n"
     ]
    },
    {
     "name": "stderr",
     "output_type": "stream",
     "text": [
      "INFO:tensorflow:Optimization terminated with:\n",
      "  Message: b'CONVERGENCE: REL_REDUCTION_OF_F_<=_FACTR*EPSMCH'\n",
      "  Objective function value: 782.100813\n",
      "  Number of iterations: 246\n",
      "  Number of functions evaluations: 289\n"
     ]
    },
    {
     "name": "stdout",
     "output_type": "stream",
     "text": [
      "Current Day before update: 42\n",
      "\n",
      "Current Day after update: 43\n",
      "\n",
      "Train DataFrame Shape (207, 9)\n",
      "\n",
      "Pool DataFrame Shape (746, 11)\n",
      "\n",
      "Test DataFrame Shape (6, 9)\n",
      "INFO:tensorflow:Optimization terminated with:\n",
      "  Message: b'CONVERGENCE: REL_REDUCTION_OF_F_<=_FACTR*EPSMCH'\n",
      "  Objective function value: 815.020094\n",
      "  Number of iterations: 658\n",
      "  Number of functions evaluations: 779\n"
     ]
    },
    {
     "name": "stderr",
     "output_type": "stream",
     "text": [
      "INFO:tensorflow:Optimization terminated with:\n",
      "  Message: b'CONVERGENCE: REL_REDUCTION_OF_F_<=_FACTR*EPSMCH'\n",
      "  Objective function value: 815.020094\n",
      "  Number of iterations: 658\n",
      "  Number of functions evaluations: 779\n"
     ]
    },
    {
     "name": "stdout",
     "output_type": "stream",
     "text": [
      "Current Day before update: 43\n",
      "\n",
      "Current Day after update: 44\n",
      "\n",
      "Train DataFrame Shape (212, 9)\n",
      "\n",
      "Pool DataFrame Shape (763, 11)\n",
      "\n",
      "Test DataFrame Shape (6, 9)\n",
      "INFO:tensorflow:Optimization terminated with:\n",
      "  Message: b'CONVERGENCE: REL_REDUCTION_OF_F_<=_FACTR*EPSMCH'\n",
      "  Objective function value: 875.903331\n",
      "  Number of iterations: 457\n",
      "  Number of functions evaluations: 540\n"
     ]
    },
    {
     "name": "stderr",
     "output_type": "stream",
     "text": [
      "INFO:tensorflow:Optimization terminated with:\n",
      "  Message: b'CONVERGENCE: REL_REDUCTION_OF_F_<=_FACTR*EPSMCH'\n",
      "  Objective function value: 875.903331\n",
      "  Number of iterations: 457\n",
      "  Number of functions evaluations: 540\n"
     ]
    },
    {
     "name": "stdout",
     "output_type": "stream",
     "text": [
      "Current Day before update: 44\n",
      "\n",
      "Current Day after update: 45\n",
      "Stations added -  [1024.0]  on day  45\n",
      "\n",
      "Train DataFrame Shape (217, 9)\n",
      "\n",
      "Pool DataFrame Shape (734, 11)\n",
      "\n",
      "Test DataFrame Shape (6, 9)\n",
      "INFO:tensorflow:Optimization terminated with:\n",
      "  Message: b'CONVERGENCE: REL_REDUCTION_OF_F_<=_FACTR*EPSMCH'\n",
      "  Objective function value: 915.164478\n",
      "  Number of iterations: 143\n",
      "  Number of functions evaluations: 190\n"
     ]
    },
    {
     "name": "stderr",
     "output_type": "stream",
     "text": [
      "INFO:tensorflow:Optimization terminated with:\n",
      "  Message: b'CONVERGENCE: REL_REDUCTION_OF_F_<=_FACTR*EPSMCH'\n",
      "  Objective function value: 915.164478\n",
      "  Number of iterations: 143\n",
      "  Number of functions evaluations: 190\n"
     ]
    },
    {
     "name": "stdout",
     "output_type": "stream",
     "text": [
      "Current Day before update: 45\n",
      "\n",
      "Current Day after update: 46\n",
      "\n",
      "Train DataFrame Shape (221, 9)\n",
      "\n",
      "Pool DataFrame Shape (750, 11)\n",
      "\n",
      "Test DataFrame Shape (6, 9)\n",
      "INFO:tensorflow:Optimization terminated with:\n",
      "  Message: b'CONVERGENCE: REL_REDUCTION_OF_F_<=_FACTR*EPSMCH'\n",
      "  Objective function value: 993.847024\n",
      "  Number of iterations: 322\n",
      "  Number of functions evaluations: 374\n"
     ]
    },
    {
     "name": "stderr",
     "output_type": "stream",
     "text": [
      "INFO:tensorflow:Optimization terminated with:\n",
      "  Message: b'CONVERGENCE: REL_REDUCTION_OF_F_<=_FACTR*EPSMCH'\n",
      "  Objective function value: 993.847024\n",
      "  Number of iterations: 322\n",
      "  Number of functions evaluations: 374\n"
     ]
    },
    {
     "name": "stdout",
     "output_type": "stream",
     "text": [
      "Current Day before update: 46\n",
      "\n",
      "Current Day after update: 47\n",
      "\n",
      "Train DataFrame Shape (225, 9)\n",
      "\n",
      "Pool DataFrame Shape (766, 11)\n",
      "\n",
      "Test DataFrame Shape (6, 9)\n",
      "INFO:tensorflow:Optimization terminated with:\n",
      "  Message: b'CONVERGENCE: REL_REDUCTION_OF_F_<=_FACTR*EPSMCH'\n",
      "  Objective function value: 987.227716\n",
      "  Number of iterations: 570\n",
      "  Number of functions evaluations: 668\n"
     ]
    },
    {
     "name": "stderr",
     "output_type": "stream",
     "text": [
      "INFO:tensorflow:Optimization terminated with:\n",
      "  Message: b'CONVERGENCE: REL_REDUCTION_OF_F_<=_FACTR*EPSMCH'\n",
      "  Objective function value: 987.227716\n",
      "  Number of iterations: 570\n",
      "  Number of functions evaluations: 668\n"
     ]
    },
    {
     "name": "stdout",
     "output_type": "stream",
     "text": [
      "Current Day before update: 47\n",
      "\n",
      "Current Day after update: 48\n",
      "\n",
      "Train DataFrame Shape (231, 9)\n",
      "\n",
      "Pool DataFrame Shape (782, 11)\n",
      "\n",
      "Test DataFrame Shape (6, 9)\n",
      "INFO:tensorflow:Optimization terminated with:\n",
      "  Message: b'CONVERGENCE: REL_REDUCTION_OF_F_<=_FACTR*EPSMCH'\n",
      "  Objective function value: 1018.606587\n",
      "  Number of iterations: 380\n",
      "  Number of functions evaluations: 473\n"
     ]
    },
    {
     "name": "stderr",
     "output_type": "stream",
     "text": [
      "INFO:tensorflow:Optimization terminated with:\n",
      "  Message: b'CONVERGENCE: REL_REDUCTION_OF_F_<=_FACTR*EPSMCH'\n",
      "  Objective function value: 1018.606587\n",
      "  Number of iterations: 380\n",
      "  Number of functions evaluations: 473\n"
     ]
    },
    {
     "name": "stdout",
     "output_type": "stream",
     "text": [
      "Current Day before update: 48\n",
      "\n",
      "Current Day after update: 49\n",
      "\n",
      "Train DataFrame Shape (236, 9)\n",
      "\n",
      "Pool DataFrame Shape (798, 11)\n",
      "\n",
      "Test DataFrame Shape (6, 9)\n",
      "INFO:tensorflow:Optimization terminated with:\n",
      "  Message: b'CONVERGENCE: REL_REDUCTION_OF_F_<=_FACTR*EPSMCH'\n",
      "  Objective function value: 1054.915950\n",
      "  Number of iterations: 340\n",
      "  Number of functions evaluations: 379\n"
     ]
    },
    {
     "name": "stderr",
     "output_type": "stream",
     "text": [
      "INFO:tensorflow:Optimization terminated with:\n",
      "  Message: b'CONVERGENCE: REL_REDUCTION_OF_F_<=_FACTR*EPSMCH'\n",
      "  Objective function value: 1054.915950\n",
      "  Number of iterations: 340\n",
      "  Number of functions evaluations: 379\n"
     ]
    },
    {
     "name": "stdout",
     "output_type": "stream",
     "text": [
      "Current Day before update: 49\n",
      "\n",
      "Current Day after update: 50\n",
      "Stations added -  [1025.0]  on day  50\n",
      "\n",
      "Train DataFrame Shape (242, 9)\n",
      "\n",
      "Pool DataFrame Shape (763, 11)\n",
      "\n",
      "Test DataFrame Shape (6, 9)\n",
      "INFO:tensorflow:Optimization terminated with:\n",
      "  Message: b'CONVERGENCE: REL_REDUCTION_OF_F_<=_FACTR*EPSMCH'\n",
      "  Objective function value: 1080.402312\n",
      "  Number of iterations: 283\n",
      "  Number of functions evaluations: 326\n"
     ]
    },
    {
     "name": "stderr",
     "output_type": "stream",
     "text": [
      "INFO:tensorflow:Optimization terminated with:\n",
      "  Message: b'CONVERGENCE: REL_REDUCTION_OF_F_<=_FACTR*EPSMCH'\n",
      "  Objective function value: 1080.402312\n",
      "  Number of iterations: 283\n",
      "  Number of functions evaluations: 326\n"
     ]
    },
    {
     "name": "stdout",
     "output_type": "stream",
     "text": [
      "Current Day before update: 50\n",
      "\n",
      "Current Day after update: 51\n",
      "\n",
      "Train DataFrame Shape (247, 9)\n",
      "\n",
      "Pool DataFrame Shape (778, 11)\n",
      "\n",
      "Test DataFrame Shape (6, 9)\n",
      "INFO:tensorflow:Optimization terminated with:\n",
      "  Message: b'CONVERGENCE: REL_REDUCTION_OF_F_<=_FACTR*EPSMCH'\n",
      "  Objective function value: 1100.527222\n",
      "  Number of iterations: 244\n",
      "  Number of functions evaluations: 282\n"
     ]
    },
    {
     "name": "stderr",
     "output_type": "stream",
     "text": [
      "INFO:tensorflow:Optimization terminated with:\n",
      "  Message: b'CONVERGENCE: REL_REDUCTION_OF_F_<=_FACTR*EPSMCH'\n",
      "  Objective function value: 1100.527222\n",
      "  Number of iterations: 244\n",
      "  Number of functions evaluations: 282\n"
     ]
    },
    {
     "name": "stdout",
     "output_type": "stream",
     "text": [
      "Current Day before update: 51\n",
      "\n",
      "Current Day after update: 52\n",
      "\n",
      "Train DataFrame Shape (252, 9)\n",
      "\n",
      "Pool DataFrame Shape (793, 11)\n",
      "\n",
      "Test DataFrame Shape (6, 9)\n",
      "INFO:tensorflow:Optimization terminated with:\n",
      "  Message: b'CONVERGENCE: REL_REDUCTION_OF_F_<=_FACTR*EPSMCH'\n",
      "  Objective function value: 1119.396005\n",
      "  Number of iterations: 269\n",
      "  Number of functions evaluations: 310\n"
     ]
    },
    {
     "name": "stderr",
     "output_type": "stream",
     "text": [
      "INFO:tensorflow:Optimization terminated with:\n",
      "  Message: b'CONVERGENCE: REL_REDUCTION_OF_F_<=_FACTR*EPSMCH'\n",
      "  Objective function value: 1119.396005\n",
      "  Number of iterations: 269\n",
      "  Number of functions evaluations: 310\n"
     ]
    },
    {
     "name": "stdout",
     "output_type": "stream",
     "text": [
      "Current Day before update: 52\n",
      "\n",
      "Current Day after update: 53\n",
      "\n",
      "Train DataFrame Shape (255, 9)\n",
      "\n",
      "Pool DataFrame Shape (808, 11)\n",
      "\n",
      "Test DataFrame Shape (6, 9)\n",
      "INFO:tensorflow:Optimization terminated with:\n",
      "  Message: b'CONVERGENCE: REL_REDUCTION_OF_F_<=_FACTR*EPSMCH'\n",
      "  Objective function value: 1129.086621\n",
      "  Number of iterations: 469\n",
      "  Number of functions evaluations: 547\n"
     ]
    },
    {
     "name": "stderr",
     "output_type": "stream",
     "text": [
      "INFO:tensorflow:Optimization terminated with:\n",
      "  Message: b'CONVERGENCE: REL_REDUCTION_OF_F_<=_FACTR*EPSMCH'\n",
      "  Objective function value: 1129.086621\n",
      "  Number of iterations: 469\n",
      "  Number of functions evaluations: 547\n"
     ]
    },
    {
     "name": "stdout",
     "output_type": "stream",
     "text": [
      "Current Day before update: 53\n",
      "\n",
      "Current Day after update: 54\n",
      "\n",
      "Train DataFrame Shape (259, 9)\n",
      "\n",
      "Pool DataFrame Shape (823, 11)\n",
      "\n",
      "Test DataFrame Shape (6, 9)\n",
      "INFO:tensorflow:Optimization terminated with:\n",
      "  Message: b'CONVERGENCE: REL_REDUCTION_OF_F_<=_FACTR*EPSMCH'\n",
      "  Objective function value: 1133.710496\n",
      "  Number of iterations: 344\n",
      "  Number of functions evaluations: 404\n"
     ]
    },
    {
     "name": "stderr",
     "output_type": "stream",
     "text": [
      "INFO:tensorflow:Optimization terminated with:\n",
      "  Message: b'CONVERGENCE: REL_REDUCTION_OF_F_<=_FACTR*EPSMCH'\n",
      "  Objective function value: 1133.710496\n",
      "  Number of iterations: 344\n",
      "  Number of functions evaluations: 404\n"
     ]
    },
    {
     "name": "stdout",
     "output_type": "stream",
     "text": [
      "Current Day before update: 54\n",
      "\n",
      "Current Day after update: 55\n",
      "Stations added -  [1001.0]  on day  55\n",
      "\n",
      "Train DataFrame Shape (263, 9)\n",
      "\n",
      "Pool DataFrame Shape (782, 11)\n",
      "\n",
      "Test DataFrame Shape (6, 9)\n",
      "INFO:tensorflow:Optimization terminated with:\n",
      "  Message: b'CONVERGENCE: REL_REDUCTION_OF_F_<=_FACTR*EPSMCH'\n",
      "  Objective function value: 1163.187806\n",
      "  Number of iterations: 189\n",
      "  Number of functions evaluations: 206\n"
     ]
    },
    {
     "name": "stderr",
     "output_type": "stream",
     "text": [
      "INFO:tensorflow:Optimization terminated with:\n",
      "  Message: b'CONVERGENCE: REL_REDUCTION_OF_F_<=_FACTR*EPSMCH'\n",
      "  Objective function value: 1163.187806\n",
      "  Number of iterations: 189\n",
      "  Number of functions evaluations: 206\n"
     ]
    },
    {
     "name": "stdout",
     "output_type": "stream",
     "text": [
      "Current Day before update: 55\n",
      "\n",
      "Current Day after update: 56\n",
      "\n",
      "Train DataFrame Shape (266, 9)\n",
      "\n",
      "Pool DataFrame Shape (796, 11)\n",
      "\n",
      "Test DataFrame Shape (6, 9)\n",
      "INFO:tensorflow:Optimization terminated with:\n",
      "  Message: b'CONVERGENCE: REL_REDUCTION_OF_F_<=_FACTR*EPSMCH'\n",
      "  Objective function value: 1176.181813\n",
      "  Number of iterations: 295\n",
      "  Number of functions evaluations: 348\n"
     ]
    },
    {
     "name": "stderr",
     "output_type": "stream",
     "text": [
      "INFO:tensorflow:Optimization terminated with:\n",
      "  Message: b'CONVERGENCE: REL_REDUCTION_OF_F_<=_FACTR*EPSMCH'\n",
      "  Objective function value: 1176.181813\n",
      "  Number of iterations: 295\n",
      "  Number of functions evaluations: 348\n"
     ]
    },
    {
     "name": "stdout",
     "output_type": "stream",
     "text": [
      "Current Day before update: 56\n",
      "\n",
      "Current Day after update: 57\n",
      "\n",
      "Train DataFrame Shape (269, 9)\n",
      "\n",
      "Pool DataFrame Shape (810, 11)\n",
      "\n",
      "Test DataFrame Shape (6, 9)\n",
      "INFO:tensorflow:Optimization terminated with:\n",
      "  Message: b'CONVERGENCE: REL_REDUCTION_OF_F_<=_FACTR*EPSMCH'\n",
      "  Objective function value: 1187.202826\n",
      "  Number of iterations: 195\n",
      "  Number of functions evaluations: 226\n"
     ]
    },
    {
     "name": "stderr",
     "output_type": "stream",
     "text": [
      "INFO:tensorflow:Optimization terminated with:\n",
      "  Message: b'CONVERGENCE: REL_REDUCTION_OF_F_<=_FACTR*EPSMCH'\n",
      "  Objective function value: 1187.202826\n",
      "  Number of iterations: 195\n",
      "  Number of functions evaluations: 226\n"
     ]
    },
    {
     "name": "stdout",
     "output_type": "stream",
     "text": [
      "Current Day before update: 57\n",
      "\n",
      "Current Day after update: 58\n",
      "\n",
      "Train DataFrame Shape (272, 9)\n",
      "\n",
      "Pool DataFrame Shape (824, 11)\n",
      "\n",
      "Test DataFrame Shape (6, 9)\n",
      "INFO:tensorflow:Optimization terminated with:\n",
      "  Message: b'CONVERGENCE: REL_REDUCTION_OF_F_<=_FACTR*EPSMCH'\n",
      "  Objective function value: 1200.052974\n",
      "  Number of iterations: 297\n",
      "  Number of functions evaluations: 336\n"
     ]
    },
    {
     "name": "stderr",
     "output_type": "stream",
     "text": [
      "INFO:tensorflow:Optimization terminated with:\n",
      "  Message: b'CONVERGENCE: REL_REDUCTION_OF_F_<=_FACTR*EPSMCH'\n",
      "  Objective function value: 1200.052974\n",
      "  Number of iterations: 297\n",
      "  Number of functions evaluations: 336\n"
     ]
    },
    {
     "name": "stdout",
     "output_type": "stream",
     "text": [
      "Current Day before update: 58\n",
      "\n",
      "Current Day after update: 59\n",
      "\n",
      "Train DataFrame Shape (275, 9)\n",
      "\n",
      "Pool DataFrame Shape (838, 11)\n",
      "\n",
      "Test DataFrame Shape (6, 9)\n",
      "INFO:tensorflow:Optimization terminated with:\n",
      "  Message: b'CONVERGENCE: REL_REDUCTION_OF_F_<=_FACTR*EPSMCH'\n",
      "  Objective function value: 1233.256230\n",
      "  Number of iterations: 248\n",
      "  Number of functions evaluations: 279\n"
     ]
    },
    {
     "name": "stderr",
     "output_type": "stream",
     "text": [
      "INFO:tensorflow:Optimization terminated with:\n",
      "  Message: b'CONVERGENCE: REL_REDUCTION_OF_F_<=_FACTR*EPSMCH'\n",
      "  Objective function value: 1233.256230\n",
      "  Number of iterations: 248\n",
      "  Number of functions evaluations: 279\n"
     ]
    }
   ],
   "source": [
    "gp.active_gp()"
   ]
  },
  {
   "cell_type": "code",
   "execution_count": 29,
   "metadata": {},
   "outputs": [
    {
     "name": "stdout",
     "output_type": "stream",
     "text": [
      "Current Day before update: 59\n",
      "\n",
      "Current Day after update: 60\n",
      "Stations added -  [1002.0]  on day  60\n",
      "\n",
      "Train DataFrame Shape (276, 9)\n",
      "\n",
      "Pool DataFrame Shape (791, 11)\n",
      "\n",
      "Test DataFrame Shape (6, 9)\n",
      "INFO:tensorflow:Optimization terminated with:\n",
      "  Message: b'CONVERGENCE: REL_REDUCTION_OF_F_<=_FACTR*EPSMCH'\n",
      "  Objective function value: 1242.546946\n",
      "  Number of iterations: 319\n",
      "  Number of functions evaluations: 376\n"
     ]
    },
    {
     "name": "stderr",
     "output_type": "stream",
     "text": [
      "INFO:tensorflow:Optimization terminated with:\n",
      "  Message: b'CONVERGENCE: REL_REDUCTION_OF_F_<=_FACTR*EPSMCH'\n",
      "  Objective function value: 1242.546946\n",
      "  Number of iterations: 319\n",
      "  Number of functions evaluations: 376\n"
     ]
    },
    {
     "name": "stdout",
     "output_type": "stream",
     "text": [
      "Current Day before update: 60\n",
      "\n",
      "Current Day after update: 61\n",
      "\n",
      "Train DataFrame Shape (279, 9)\n",
      "\n",
      "Pool DataFrame Shape (804, 11)\n",
      "\n",
      "Test DataFrame Shape (6, 9)\n",
      "INFO:tensorflow:Optimization terminated with:\n",
      "  Message: b'CONVERGENCE: REL_REDUCTION_OF_F_<=_FACTR*EPSMCH'\n",
      "  Objective function value: 1280.714860\n",
      "  Number of iterations: 262\n",
      "  Number of functions evaluations: 297\n"
     ]
    },
    {
     "name": "stderr",
     "output_type": "stream",
     "text": [
      "INFO:tensorflow:Optimization terminated with:\n",
      "  Message: b'CONVERGENCE: REL_REDUCTION_OF_F_<=_FACTR*EPSMCH'\n",
      "  Objective function value: 1280.714860\n",
      "  Number of iterations: 262\n",
      "  Number of functions evaluations: 297\n"
     ]
    },
    {
     "name": "stdout",
     "output_type": "stream",
     "text": [
      "Current Day before update: 61\n",
      "\n",
      "Current Day after update: 62\n",
      "\n",
      "Train DataFrame Shape (282, 9)\n",
      "\n",
      "Pool DataFrame Shape (817, 11)\n",
      "\n",
      "Test DataFrame Shape (6, 9)\n",
      "INFO:tensorflow:Optimization terminated with:\n",
      "  Message: b'CONVERGENCE: REL_REDUCTION_OF_F_<=_FACTR*EPSMCH'\n",
      "  Objective function value: 1301.552265\n",
      "  Number of iterations: 300\n",
      "  Number of functions evaluations: 352\n"
     ]
    },
    {
     "name": "stderr",
     "output_type": "stream",
     "text": [
      "INFO:tensorflow:Optimization terminated with:\n",
      "  Message: b'CONVERGENCE: REL_REDUCTION_OF_F_<=_FACTR*EPSMCH'\n",
      "  Objective function value: 1301.552265\n",
      "  Number of iterations: 300\n",
      "  Number of functions evaluations: 352\n"
     ]
    },
    {
     "name": "stdout",
     "output_type": "stream",
     "text": [
      "Current Day before update: 62\n",
      "\n",
      "Current Day after update: 63\n",
      "\n",
      "Train DataFrame Shape (285, 9)\n",
      "\n",
      "Pool DataFrame Shape (830, 11)\n",
      "\n",
      "Test DataFrame Shape (6, 9)\n",
      "INFO:tensorflow:Optimization terminated with:\n",
      "  Message: b'CONVERGENCE: REL_REDUCTION_OF_F_<=_FACTR*EPSMCH'\n",
      "  Objective function value: 1269.883504\n",
      "  Number of iterations: 373\n",
      "  Number of functions evaluations: 456\n"
     ]
    },
    {
     "name": "stderr",
     "output_type": "stream",
     "text": [
      "INFO:tensorflow:Optimization terminated with:\n",
      "  Message: b'CONVERGENCE: REL_REDUCTION_OF_F_<=_FACTR*EPSMCH'\n",
      "  Objective function value: 1269.883504\n",
      "  Number of iterations: 373\n",
      "  Number of functions evaluations: 456\n"
     ]
    },
    {
     "name": "stdout",
     "output_type": "stream",
     "text": [
      "Current Day before update: 63\n",
      "\n",
      "Current Day after update: 64\n",
      "\n",
      "Train DataFrame Shape (288, 9)\n",
      "\n",
      "Pool DataFrame Shape (843, 11)\n",
      "\n",
      "Test DataFrame Shape (6, 9)\n",
      "INFO:tensorflow:Optimization terminated with:\n",
      "  Message: b'CONVERGENCE: REL_REDUCTION_OF_F_<=_FACTR*EPSMCH'\n",
      "  Objective function value: 1285.330794\n",
      "  Number of iterations: 343\n",
      "  Number of functions evaluations: 406\n"
     ]
    },
    {
     "name": "stderr",
     "output_type": "stream",
     "text": [
      "INFO:tensorflow:Optimization terminated with:\n",
      "  Message: b'CONVERGENCE: REL_REDUCTION_OF_F_<=_FACTR*EPSMCH'\n",
      "  Objective function value: 1285.330794\n",
      "  Number of iterations: 343\n",
      "  Number of functions evaluations: 406\n"
     ]
    },
    {
     "name": "stdout",
     "output_type": "stream",
     "text": [
      "Current Day before update: 64\n",
      "\n",
      "Current Day after update: 65\n",
      "Stations added -  [1026.0]  on day  65\n",
      "\n",
      "Train DataFrame Shape (291, 9)\n",
      "\n",
      "Pool DataFrame Shape (790, 11)\n",
      "\n",
      "Test DataFrame Shape (6, 9)\n",
      "INFO:tensorflow:Optimization terminated with:\n",
      "  Message: b'CONVERGENCE: REL_REDUCTION_OF_F_<=_FACTR*EPSMCH'\n",
      "  Objective function value: 1346.454424\n",
      "  Number of iterations: 113\n",
      "  Number of functions evaluations: 120\n"
     ]
    },
    {
     "name": "stderr",
     "output_type": "stream",
     "text": [
      "INFO:tensorflow:Optimization terminated with:\n",
      "  Message: b'CONVERGENCE: REL_REDUCTION_OF_F_<=_FACTR*EPSMCH'\n",
      "  Objective function value: 1346.454424\n",
      "  Number of iterations: 113\n",
      "  Number of functions evaluations: 120\n"
     ]
    },
    {
     "name": "stdout",
     "output_type": "stream",
     "text": [
      "Current Day before update: 65\n",
      "\n",
      "Current Day after update: 66\n",
      "\n",
      "Train DataFrame Shape (296, 9)\n",
      "\n",
      "Pool DataFrame Shape (802, 11)\n",
      "\n",
      "Test DataFrame Shape (6, 9)\n",
      "INFO:tensorflow:Optimization terminated with:\n",
      "  Message: b'CONVERGENCE: REL_REDUCTION_OF_F_<=_FACTR*EPSMCH'\n",
      "  Objective function value: 1281.221210\n",
      "  Number of iterations: 501\n",
      "  Number of functions evaluations: 620\n"
     ]
    },
    {
     "name": "stderr",
     "output_type": "stream",
     "text": [
      "INFO:tensorflow:Optimization terminated with:\n",
      "  Message: b'CONVERGENCE: REL_REDUCTION_OF_F_<=_FACTR*EPSMCH'\n",
      "  Objective function value: 1281.221210\n",
      "  Number of iterations: 501\n",
      "  Number of functions evaluations: 620\n"
     ]
    },
    {
     "name": "stdout",
     "output_type": "stream",
     "text": [
      "Current Day before update: 66\n",
      "\n",
      "Current Day after update: 67\n",
      "\n",
      "Train DataFrame Shape (301, 9)\n",
      "\n",
      "Pool DataFrame Shape (814, 11)\n",
      "\n",
      "Test DataFrame Shape (6, 9)\n",
      "INFO:tensorflow:Optimization terminated with:\n",
      "  Message: b'CONVERGENCE: REL_REDUCTION_OF_F_<=_FACTR*EPSMCH'\n",
      "  Objective function value: 1297.845925\n",
      "  Number of iterations: 561\n",
      "  Number of functions evaluations: 650\n"
     ]
    },
    {
     "name": "stderr",
     "output_type": "stream",
     "text": [
      "INFO:tensorflow:Optimization terminated with:\n",
      "  Message: b'CONVERGENCE: REL_REDUCTION_OF_F_<=_FACTR*EPSMCH'\n",
      "  Objective function value: 1297.845925\n",
      "  Number of iterations: 561\n",
      "  Number of functions evaluations: 650\n"
     ]
    },
    {
     "name": "stdout",
     "output_type": "stream",
     "text": [
      "Current Day before update: 67\n",
      "\n",
      "Current Day after update: 68\n",
      "\n",
      "Train DataFrame Shape (306, 9)\n",
      "\n",
      "Pool DataFrame Shape (826, 11)\n",
      "\n",
      "Test DataFrame Shape (6, 9)\n",
      "INFO:tensorflow:Optimization terminated with:\n",
      "  Message: b'CONVERGENCE: REL_REDUCTION_OF_F_<=_FACTR*EPSMCH'\n",
      "  Objective function value: 1307.869940\n",
      "  Number of iterations: 361\n",
      "  Number of functions evaluations: 431\n"
     ]
    },
    {
     "name": "stderr",
     "output_type": "stream",
     "text": [
      "INFO:tensorflow:Optimization terminated with:\n",
      "  Message: b'CONVERGENCE: REL_REDUCTION_OF_F_<=_FACTR*EPSMCH'\n",
      "  Objective function value: 1307.869940\n",
      "  Number of iterations: 361\n",
      "  Number of functions evaluations: 431\n"
     ]
    },
    {
     "name": "stdout",
     "output_type": "stream",
     "text": [
      "Current Day before update: 68\n",
      "\n",
      "Current Day after update: 69\n",
      "\n",
      "Train DataFrame Shape (311, 9)\n",
      "\n",
      "Pool DataFrame Shape (838, 11)\n",
      "\n",
      "Test DataFrame Shape (6, 9)\n",
      "INFO:tensorflow:Optimization terminated with:\n",
      "  Message: b'CONVERGENCE: REL_REDUCTION_OF_F_<=_FACTR*EPSMCH'\n",
      "  Objective function value: 1329.553202\n",
      "  Number of iterations: 156\n",
      "  Number of functions evaluations: 180\n"
     ]
    },
    {
     "name": "stderr",
     "output_type": "stream",
     "text": [
      "INFO:tensorflow:Optimization terminated with:\n",
      "  Message: b'CONVERGENCE: REL_REDUCTION_OF_F_<=_FACTR*EPSMCH'\n",
      "  Objective function value: 1329.553202\n",
      "  Number of iterations: 156\n",
      "  Number of functions evaluations: 180\n"
     ]
    },
    {
     "name": "stdout",
     "output_type": "stream",
     "text": [
      "Current Day before update: 69\n",
      "\n",
      "Current Day after update: 70\n",
      "Stations added -  [1004.0]  on day  70\n",
      "\n",
      "Train DataFrame Shape (316, 9)\n",
      "\n",
      "Pool DataFrame Shape (779, 11)\n",
      "\n",
      "Test DataFrame Shape (6, 9)\n",
      "INFO:tensorflow:Optimization terminated with:\n",
      "  Message: b'CONVERGENCE: REL_REDUCTION_OF_F_<=_FACTR*EPSMCH'\n",
      "  Objective function value: 1399.384872\n",
      "  Number of iterations: 84\n",
      "  Number of functions evaluations: 114\n"
     ]
    },
    {
     "name": "stderr",
     "output_type": "stream",
     "text": [
      "INFO:tensorflow:Optimization terminated with:\n",
      "  Message: b'CONVERGENCE: REL_REDUCTION_OF_F_<=_FACTR*EPSMCH'\n",
      "  Objective function value: 1399.384872\n",
      "  Number of iterations: 84\n",
      "  Number of functions evaluations: 114\n"
     ]
    },
    {
     "name": "stdout",
     "output_type": "stream",
     "text": [
      "Current Day before update: 70\n",
      "\n",
      "Current Day after update: 71\n",
      "\n",
      "Train DataFrame Shape (321, 9)\n",
      "\n",
      "Pool DataFrame Shape (790, 11)\n",
      "\n",
      "Test DataFrame Shape (6, 9)\n",
      "INFO:tensorflow:Optimization terminated with:\n",
      "  Message: b'CONVERGENCE: REL_REDUCTION_OF_F_<=_FACTR*EPSMCH'\n",
      "  Objective function value: 1412.964829\n",
      "  Number of iterations: 115\n",
      "  Number of functions evaluations: 125\n"
     ]
    },
    {
     "name": "stderr",
     "output_type": "stream",
     "text": [
      "INFO:tensorflow:Optimization terminated with:\n",
      "  Message: b'CONVERGENCE: REL_REDUCTION_OF_F_<=_FACTR*EPSMCH'\n",
      "  Objective function value: 1412.964829\n",
      "  Number of iterations: 115\n",
      "  Number of functions evaluations: 125\n"
     ]
    },
    {
     "name": "stdout",
     "output_type": "stream",
     "text": [
      "Current Day before update: 71\n",
      "\n",
      "Current Day after update: 72\n",
      "\n",
      "Train DataFrame Shape (326, 9)\n",
      "\n",
      "Pool DataFrame Shape (801, 11)\n",
      "\n",
      "Test DataFrame Shape (6, 9)\n",
      "INFO:tensorflow:Optimization terminated with:\n",
      "  Message: b'CONVERGENCE: REL_REDUCTION_OF_F_<=_FACTR*EPSMCH'\n",
      "  Objective function value: 1437.612165\n",
      "  Number of iterations: 135\n",
      "  Number of functions evaluations: 142\n"
     ]
    },
    {
     "name": "stderr",
     "output_type": "stream",
     "text": [
      "INFO:tensorflow:Optimization terminated with:\n",
      "  Message: b'CONVERGENCE: REL_REDUCTION_OF_F_<=_FACTR*EPSMCH'\n",
      "  Objective function value: 1437.612165\n",
      "  Number of iterations: 135\n",
      "  Number of functions evaluations: 142\n"
     ]
    },
    {
     "name": "stdout",
     "output_type": "stream",
     "text": [
      "Current Day before update: 72\n",
      "\n",
      "Current Day after update: 73\n",
      "\n",
      "Train DataFrame Shape (332, 9)\n",
      "\n",
      "Pool DataFrame Shape (812, 11)\n",
      "\n",
      "Test DataFrame Shape (5, 9)\n",
      "INFO:tensorflow:Optimization terminated with:\n",
      "  Message: b'CONVERGENCE: REL_REDUCTION_OF_F_<=_FACTR*EPSMCH'\n",
      "  Objective function value: 1413.008399\n",
      "  Number of iterations: 172\n",
      "  Number of functions evaluations: 225\n"
     ]
    },
    {
     "name": "stderr",
     "output_type": "stream",
     "text": [
      "INFO:tensorflow:Optimization terminated with:\n",
      "  Message: b'CONVERGENCE: REL_REDUCTION_OF_F_<=_FACTR*EPSMCH'\n",
      "  Objective function value: 1413.008399\n",
      "  Number of iterations: 172\n",
      "  Number of functions evaluations: 225\n"
     ]
    },
    {
     "name": "stdout",
     "output_type": "stream",
     "text": [
      "Current Day before update: 73\n",
      "\n",
      "Current Day after update: 74\n",
      "\n",
      "Train DataFrame Shape (336, 9)\n",
      "\n",
      "Pool DataFrame Shape (823, 11)\n",
      "\n",
      "Test DataFrame Shape (5, 9)\n",
      "INFO:tensorflow:Optimization terminated with:\n",
      "  Message: b'CONVERGENCE: REL_REDUCTION_OF_F_<=_FACTR*EPSMCH'\n",
      "  Objective function value: 1434.443655\n",
      "  Number of iterations: 370\n",
      "  Number of functions evaluations: 461\n"
     ]
    },
    {
     "name": "stderr",
     "output_type": "stream",
     "text": [
      "INFO:tensorflow:Optimization terminated with:\n",
      "  Message: b'CONVERGENCE: REL_REDUCTION_OF_F_<=_FACTR*EPSMCH'\n",
      "  Objective function value: 1434.443655\n",
      "  Number of iterations: 370\n",
      "  Number of functions evaluations: 461\n"
     ]
    },
    {
     "name": "stdout",
     "output_type": "stream",
     "text": [
      "Current Day before update: 74\n",
      "\n",
      "Current Day after update: 75\n",
      "Stations added -  [1012.0]  on day  75\n",
      "\n",
      "Train DataFrame Shape (341, 9)\n",
      "\n",
      "Pool DataFrame Shape (758, 11)\n",
      "\n",
      "Test DataFrame Shape (6, 9)\n",
      "INFO:tensorflow:Optimization terminated with:\n",
      "  Message: b'CONVERGENCE: REL_REDUCTION_OF_F_<=_FACTR*EPSMCH'\n",
      "  Objective function value: 1447.493939\n",
      "  Number of iterations: 428\n",
      "  Number of functions evaluations: 500\n"
     ]
    },
    {
     "name": "stderr",
     "output_type": "stream",
     "text": [
      "INFO:tensorflow:Optimization terminated with:\n",
      "  Message: b'CONVERGENCE: REL_REDUCTION_OF_F_<=_FACTR*EPSMCH'\n",
      "  Objective function value: 1447.493939\n",
      "  Number of iterations: 428\n",
      "  Number of functions evaluations: 500\n"
     ]
    },
    {
     "name": "stdout",
     "output_type": "stream",
     "text": [
      "Current Day before update: 75\n",
      "\n",
      "Current Day after update: 76\n",
      "\n",
      "Train DataFrame Shape (346, 9)\n",
      "\n",
      "Pool DataFrame Shape (768, 11)\n",
      "\n",
      "Test DataFrame Shape (6, 9)\n",
      "INFO:tensorflow:Optimization terminated with:\n",
      "  Message: b'CONVERGENCE: REL_REDUCTION_OF_F_<=_FACTR*EPSMCH'\n",
      "  Objective function value: 1528.013129\n",
      "  Number of iterations: 134\n",
      "  Number of functions evaluations: 160\n"
     ]
    },
    {
     "name": "stderr",
     "output_type": "stream",
     "text": [
      "INFO:tensorflow:Optimization terminated with:\n",
      "  Message: b'CONVERGENCE: REL_REDUCTION_OF_F_<=_FACTR*EPSMCH'\n",
      "  Objective function value: 1528.013129\n",
      "  Number of iterations: 134\n",
      "  Number of functions evaluations: 160\n"
     ]
    },
    {
     "name": "stdout",
     "output_type": "stream",
     "text": [
      "Current Day before update: 76\n",
      "\n",
      "Current Day after update: 77\n",
      "\n",
      "Train DataFrame Shape (351, 9)\n",
      "\n",
      "Pool DataFrame Shape (778, 11)\n",
      "\n",
      "Test DataFrame Shape (6, 9)\n",
      "INFO:tensorflow:Optimization terminated with:\n",
      "  Message: b'CONVERGENCE: REL_REDUCTION_OF_F_<=_FACTR*EPSMCH'\n",
      "  Objective function value: 1561.054227\n",
      "  Number of iterations: 54\n",
      "  Number of functions evaluations: 72\n"
     ]
    },
    {
     "name": "stderr",
     "output_type": "stream",
     "text": [
      "INFO:tensorflow:Optimization terminated with:\n",
      "  Message: b'CONVERGENCE: REL_REDUCTION_OF_F_<=_FACTR*EPSMCH'\n",
      "  Objective function value: 1561.054227\n",
      "  Number of iterations: 54\n",
      "  Number of functions evaluations: 72\n"
     ]
    },
    {
     "name": "stdout",
     "output_type": "stream",
     "text": [
      "Current Day before update: 77\n",
      "\n",
      "Current Day after update: 78\n",
      "\n",
      "Train DataFrame Shape (356, 9)\n",
      "\n",
      "Pool DataFrame Shape (788, 11)\n",
      "\n",
      "Test DataFrame Shape (6, 9)\n",
      "INFO:tensorflow:Optimization terminated with:\n",
      "  Message: b'CONVERGENCE: REL_REDUCTION_OF_F_<=_FACTR*EPSMCH'\n",
      "  Objective function value: 1511.847750\n",
      "  Number of iterations: 208\n",
      "  Number of functions evaluations: 241\n"
     ]
    },
    {
     "name": "stderr",
     "output_type": "stream",
     "text": [
      "INFO:tensorflow:Optimization terminated with:\n",
      "  Message: b'CONVERGENCE: REL_REDUCTION_OF_F_<=_FACTR*EPSMCH'\n",
      "  Objective function value: 1511.847750\n",
      "  Number of iterations: 208\n",
      "  Number of functions evaluations: 241\n"
     ]
    },
    {
     "name": "stdout",
     "output_type": "stream",
     "text": [
      "Current Day before update: 78\n",
      "\n",
      "Current Day after update: 79\n",
      "\n",
      "Train DataFrame Shape (361, 9)\n",
      "\n",
      "Pool DataFrame Shape (798, 11)\n",
      "\n",
      "Test DataFrame Shape (5, 9)\n",
      "INFO:tensorflow:Optimization terminated with:\n",
      "  Message: b'CONVERGENCE: REL_REDUCTION_OF_F_<=_FACTR*EPSMCH'\n",
      "  Objective function value: 1505.755207\n",
      "  Number of iterations: 513\n",
      "  Number of functions evaluations: 621\n"
     ]
    },
    {
     "name": "stderr",
     "output_type": "stream",
     "text": [
      "INFO:tensorflow:Optimization terminated with:\n",
      "  Message: b'CONVERGENCE: REL_REDUCTION_OF_F_<=_FACTR*EPSMCH'\n",
      "  Objective function value: 1505.755207\n",
      "  Number of iterations: 513\n",
      "  Number of functions evaluations: 621\n"
     ]
    },
    {
     "name": "stdout",
     "output_type": "stream",
     "text": [
      "Current Day before update: 79\n",
      "\n",
      "Current Day after update: 80\n",
      "Stations added -  [1018.0]  on day  80\n",
      "\n",
      "Train DataFrame Shape (368, 9)\n",
      "\n",
      "Pool DataFrame Shape (729, 11)\n",
      "\n",
      "Test DataFrame Shape (5, 9)\n",
      "INFO:tensorflow:Optimization terminated with:\n",
      "  Message: b'CONVERGENCE: REL_REDUCTION_OF_F_<=_FACTR*EPSMCH'\n",
      "  Objective function value: 1519.710879\n",
      "  Number of iterations: 205\n",
      "  Number of functions evaluations: 288\n"
     ]
    },
    {
     "name": "stderr",
     "output_type": "stream",
     "text": [
      "INFO:tensorflow:Optimization terminated with:\n",
      "  Message: b'CONVERGENCE: REL_REDUCTION_OF_F_<=_FACTR*EPSMCH'\n",
      "  Objective function value: 1519.710879\n",
      "  Number of iterations: 205\n",
      "  Number of functions evaluations: 288\n"
     ]
    },
    {
     "name": "stdout",
     "output_type": "stream",
     "text": [
      "Current Day before update: 80\n",
      "\n",
      "Current Day after update: 81\n",
      "\n",
      "Train DataFrame Shape (373, 9)\n",
      "\n",
      "Pool DataFrame Shape (738, 11)\n",
      "\n",
      "Test DataFrame Shape (5, 9)\n",
      "INFO:tensorflow:Optimization terminated with:\n",
      "  Message: b'CONVERGENCE: REL_REDUCTION_OF_F_<=_FACTR*EPSMCH'\n",
      "  Objective function value: 1603.044375\n",
      "  Number of iterations: 126\n",
      "  Number of functions evaluations: 163\n"
     ]
    },
    {
     "name": "stderr",
     "output_type": "stream",
     "text": [
      "INFO:tensorflow:Optimization terminated with:\n",
      "  Message: b'CONVERGENCE: REL_REDUCTION_OF_F_<=_FACTR*EPSMCH'\n",
      "  Objective function value: 1603.044375\n",
      "  Number of iterations: 126\n",
      "  Number of functions evaluations: 163\n"
     ]
    },
    {
     "name": "stdout",
     "output_type": "stream",
     "text": [
      "Current Day before update: 81\n",
      "\n",
      "Current Day after update: 82\n",
      "\n",
      "Train DataFrame Shape (378, 9)\n",
      "\n",
      "Pool DataFrame Shape (747, 11)\n",
      "\n",
      "Test DataFrame Shape (6, 9)\n",
      "INFO:tensorflow:Optimization terminated with:\n",
      "  Message: b'CONVERGENCE: REL_REDUCTION_OF_F_<=_FACTR*EPSMCH'\n",
      "  Objective function value: 1521.538156\n",
      "  Number of iterations: 313\n",
      "  Number of functions evaluations: 374\n"
     ]
    },
    {
     "name": "stderr",
     "output_type": "stream",
     "text": [
      "INFO:tensorflow:Optimization terminated with:\n",
      "  Message: b'CONVERGENCE: REL_REDUCTION_OF_F_<=_FACTR*EPSMCH'\n",
      "  Objective function value: 1521.538156\n",
      "  Number of iterations: 313\n",
      "  Number of functions evaluations: 374\n"
     ]
    },
    {
     "name": "stdout",
     "output_type": "stream",
     "text": [
      "Current Day before update: 82\n",
      "\n",
      "Current Day after update: 83\n",
      "\n",
      "Train DataFrame Shape (381, 9)\n",
      "\n",
      "Pool DataFrame Shape (756, 11)\n",
      "\n",
      "Test DataFrame Shape (6, 9)\n",
      "INFO:tensorflow:Optimization terminated with:\n",
      "  Message: b'CONVERGENCE: REL_REDUCTION_OF_F_<=_FACTR*EPSMCH'\n",
      "  Objective function value: 1514.053494\n",
      "  Number of iterations: 354\n",
      "  Number of functions evaluations: 414\n"
     ]
    },
    {
     "name": "stderr",
     "output_type": "stream",
     "text": [
      "INFO:tensorflow:Optimization terminated with:\n",
      "  Message: b'CONVERGENCE: REL_REDUCTION_OF_F_<=_FACTR*EPSMCH'\n",
      "  Objective function value: 1514.053494\n",
      "  Number of iterations: 354\n",
      "  Number of functions evaluations: 414\n"
     ]
    },
    {
     "name": "stdout",
     "output_type": "stream",
     "text": [
      "Current Day before update: 83\n",
      "\n",
      "Current Day after update: 84\n",
      "\n",
      "Train DataFrame Shape (384, 9)\n",
      "\n",
      "Pool DataFrame Shape (765, 11)\n",
      "\n",
      "Test DataFrame Shape (6, 9)\n",
      "INFO:tensorflow:Optimization terminated with:\n",
      "  Message: b'CONVERGENCE: REL_REDUCTION_OF_F_<=_FACTR*EPSMCH'\n",
      "  Objective function value: 1500.829766\n",
      "  Number of iterations: 190\n",
      "  Number of functions evaluations: 240\n"
     ]
    },
    {
     "name": "stderr",
     "output_type": "stream",
     "text": [
      "INFO:tensorflow:Optimization terminated with:\n",
      "  Message: b'CONVERGENCE: REL_REDUCTION_OF_F_<=_FACTR*EPSMCH'\n",
      "  Objective function value: 1500.829766\n",
      "  Number of iterations: 190\n",
      "  Number of functions evaluations: 240\n"
     ]
    },
    {
     "name": "stdout",
     "output_type": "stream",
     "text": [
      "Current Day before update: 84\n",
      "\n",
      "Current Day after update: 85\n",
      "Stations added -  [1006.0]  on day  85\n",
      "\n",
      "Train DataFrame Shape (387, 9)\n",
      "\n",
      "Pool DataFrame Shape (688, 11)\n",
      "\n",
      "Test DataFrame Shape (6, 9)\n",
      "INFO:tensorflow:Optimization terminated with:\n",
      "  Message: b'CONVERGENCE: REL_REDUCTION_OF_F_<=_FACTR*EPSMCH'\n",
      "  Objective function value: 1480.565356\n",
      "  Number of iterations: 363\n",
      "  Number of functions evaluations: 409\n"
     ]
    },
    {
     "name": "stderr",
     "output_type": "stream",
     "text": [
      "INFO:tensorflow:Optimization terminated with:\n",
      "  Message: b'CONVERGENCE: REL_REDUCTION_OF_F_<=_FACTR*EPSMCH'\n",
      "  Objective function value: 1480.565356\n",
      "  Number of iterations: 363\n",
      "  Number of functions evaluations: 409\n"
     ]
    },
    {
     "name": "stdout",
     "output_type": "stream",
     "text": [
      "Current Day before update: 85\n",
      "\n",
      "Current Day after update: 86\n",
      "\n",
      "Train DataFrame Shape (391, 9)\n",
      "\n",
      "Pool DataFrame Shape (696, 11)\n",
      "\n",
      "Test DataFrame Shape (6, 9)\n",
      "INFO:tensorflow:Optimization terminated with:\n",
      "  Message: b'CONVERGENCE: REL_REDUCTION_OF_F_<=_FACTR*EPSMCH'\n",
      "  Objective function value: 1456.607289\n",
      "  Number of iterations: 412\n",
      "  Number of functions evaluations: 478\n"
     ]
    },
    {
     "name": "stderr",
     "output_type": "stream",
     "text": [
      "INFO:tensorflow:Optimization terminated with:\n",
      "  Message: b'CONVERGENCE: REL_REDUCTION_OF_F_<=_FACTR*EPSMCH'\n",
      "  Objective function value: 1456.607289\n",
      "  Number of iterations: 412\n",
      "  Number of functions evaluations: 478\n"
     ]
    },
    {
     "name": "stdout",
     "output_type": "stream",
     "text": [
      "Current Day before update: 86\n",
      "\n",
      "Current Day after update: 87\n",
      "\n",
      "Train DataFrame Shape (395, 9)\n",
      "\n",
      "Pool DataFrame Shape (704, 11)\n",
      "\n",
      "Test DataFrame Shape (6, 9)\n",
      "INFO:tensorflow:Optimization terminated with:\n",
      "  Message: b'CONVERGENCE: REL_REDUCTION_OF_F_<=_FACTR*EPSMCH'\n",
      "  Objective function value: 1494.540671\n",
      "  Number of iterations: 274\n",
      "  Number of functions evaluations: 312\n"
     ]
    },
    {
     "name": "stderr",
     "output_type": "stream",
     "text": [
      "INFO:tensorflow:Optimization terminated with:\n",
      "  Message: b'CONVERGENCE: REL_REDUCTION_OF_F_<=_FACTR*EPSMCH'\n",
      "  Objective function value: 1494.540671\n",
      "  Number of iterations: 274\n",
      "  Number of functions evaluations: 312\n"
     ]
    },
    {
     "name": "stdout",
     "output_type": "stream",
     "text": [
      "Current Day before update: 87\n",
      "\n",
      "Current Day after update: 88\n",
      "\n",
      "Train DataFrame Shape (399, 9)\n",
      "\n",
      "Pool DataFrame Shape (712, 11)\n",
      "\n",
      "Test DataFrame Shape (6, 9)\n",
      "INFO:tensorflow:Optimization terminated with:\n",
      "  Message: b'CONVERGENCE: REL_REDUCTION_OF_F_<=_FACTR*EPSMCH'\n",
      "  Objective function value: 1538.576464\n",
      "  Number of iterations: 306\n",
      "  Number of functions evaluations: 358\n"
     ]
    },
    {
     "name": "stderr",
     "output_type": "stream",
     "text": [
      "INFO:tensorflow:Optimization terminated with:\n",
      "  Message: b'CONVERGENCE: REL_REDUCTION_OF_F_<=_FACTR*EPSMCH'\n",
      "  Objective function value: 1538.576464\n",
      "  Number of iterations: 306\n",
      "  Number of functions evaluations: 358\n"
     ]
    },
    {
     "name": "stdout",
     "output_type": "stream",
     "text": [
      "Current Day before update: 88\n",
      "\n",
      "Current Day after update: 89\n",
      "\n",
      "Train DataFrame Shape (383, 9)\n",
      "\n",
      "Pool DataFrame Shape (716, 11)\n",
      "\n",
      "Test DataFrame Shape (1, 9)\n",
      "INFO:tensorflow:Optimization terminated with:\n",
      "  Message: b'CONVERGENCE: REL_REDUCTION_OF_F_<=_FACTR*EPSMCH'\n",
      "  Objective function value: 1480.499302\n",
      "  Number of iterations: 248\n",
      "  Number of functions evaluations: 293\n"
     ]
    },
    {
     "name": "stderr",
     "output_type": "stream",
     "text": [
      "INFO:tensorflow:Optimization terminated with:\n",
      "  Message: b'CONVERGENCE: REL_REDUCTION_OF_F_<=_FACTR*EPSMCH'\n",
      "  Objective function value: 1480.499302\n",
      "  Number of iterations: 248\n",
      "  Number of functions evaluations: 293\n"
     ]
    },
    {
     "name": "stdout",
     "output_type": "stream",
     "text": [
      "Current Day before update: 89\n",
      "\n",
      "Current Day after update: 90\n",
      "Stations added -  [1007.0]  on day  90\n",
      "\n",
      "Train DataFrame Shape (366, 9)\n",
      "\n",
      "Pool DataFrame Shape (631, 11)\n",
      "\n",
      "Test DataFrame Shape (1, 9)\n",
      "INFO:tensorflow:Optimization terminated with:\n",
      "  Message: b'CONVERGENCE: REL_REDUCTION_OF_F_<=_FACTR*EPSMCH'\n",
      "  Objective function value: 1421.174327\n",
      "  Number of iterations: 207\n",
      "  Number of functions evaluations: 239\n"
     ]
    },
    {
     "name": "stderr",
     "output_type": "stream",
     "text": [
      "INFO:tensorflow:Optimization terminated with:\n",
      "  Message: b'CONVERGENCE: REL_REDUCTION_OF_F_<=_FACTR*EPSMCH'\n",
      "  Objective function value: 1421.174327\n",
      "  Number of iterations: 207\n",
      "  Number of functions evaluations: 239\n"
     ]
    },
    {
     "name": "stdout",
     "output_type": "stream",
     "text": [
      "Current Day before update: 90\n",
      "\n",
      "Current Day after update: 91\n",
      "\n",
      "Train DataFrame Shape (349, 9)\n",
      "\n",
      "Pool DataFrame Shape (635, 11)\n",
      "\n",
      "Test DataFrame Shape (1, 9)\n",
      "INFO:tensorflow:Optimization terminated with:\n",
      "  Message: b'CONVERGENCE: REL_REDUCTION_OF_F_<=_FACTR*EPSMCH'\n",
      "  Objective function value: 1359.880074\n",
      "  Number of iterations: 256\n",
      "  Number of functions evaluations: 303\n"
     ]
    },
    {
     "name": "stderr",
     "output_type": "stream",
     "text": [
      "INFO:tensorflow:Optimization terminated with:\n",
      "  Message: b'CONVERGENCE: REL_REDUCTION_OF_F_<=_FACTR*EPSMCH'\n",
      "  Objective function value: 1359.880074\n",
      "  Number of iterations: 256\n",
      "  Number of functions evaluations: 303\n"
     ]
    },
    {
     "name": "stdout",
     "output_type": "stream",
     "text": [
      "Current Day before update: 91\n",
      "\n",
      "Current Day after update: 92\n",
      "\n",
      "Train DataFrame Shape (332, 9)\n",
      "\n",
      "Pool DataFrame Shape (639, 11)\n",
      "\n",
      "Test DataFrame Shape (1, 9)\n",
      "INFO:tensorflow:Optimization terminated with:\n",
      "  Message: b'CONVERGENCE: REL_REDUCTION_OF_F_<=_FACTR*EPSMCH'\n",
      "  Objective function value: 1301.881227\n",
      "  Number of iterations: 318\n",
      "  Number of functions evaluations: 389\n"
     ]
    },
    {
     "name": "stderr",
     "output_type": "stream",
     "text": [
      "INFO:tensorflow:Optimization terminated with:\n",
      "  Message: b'CONVERGENCE: REL_REDUCTION_OF_F_<=_FACTR*EPSMCH'\n",
      "  Objective function value: 1301.881227\n",
      "  Number of iterations: 318\n",
      "  Number of functions evaluations: 389\n"
     ]
    },
    {
     "name": "stdout",
     "output_type": "stream",
     "text": [
      "Current Day before update: 92\n",
      "\n",
      "Current Day after update: 93\n",
      "\n",
      "Train DataFrame Shape (315, 9)\n",
      "\n",
      "Pool DataFrame Shape (643, 11)\n",
      "\n",
      "Test DataFrame Shape (1, 9)\n",
      "INFO:tensorflow:Optimization terminated with:\n",
      "  Message: b'CONVERGENCE: REL_REDUCTION_OF_F_<=_FACTR*EPSMCH'\n",
      "  Objective function value: 1241.820005\n",
      "  Number of iterations: 269\n",
      "  Number of functions evaluations: 326\n"
     ]
    },
    {
     "name": "stderr",
     "output_type": "stream",
     "text": [
      "INFO:tensorflow:Optimization terminated with:\n",
      "  Message: b'CONVERGENCE: REL_REDUCTION_OF_F_<=_FACTR*EPSMCH'\n",
      "  Objective function value: 1241.820005\n",
      "  Number of iterations: 269\n",
      "  Number of functions evaluations: 326\n"
     ]
    },
    {
     "name": "stdout",
     "output_type": "stream",
     "text": [
      "Current Day before update: 93\n",
      "\n",
      "Current Day after update: 94\n",
      "\n",
      "Train DataFrame Shape (299, 9)\n",
      "\n",
      "Pool DataFrame Shape (647, 11)\n",
      "\n",
      "Test DataFrame Shape (1, 9)\n",
      "INFO:tensorflow:Optimization terminated with:\n",
      "  Message: b'CONVERGENCE: REL_REDUCTION_OF_F_<=_FACTR*EPSMCH'\n",
      "  Objective function value: 1172.643824\n",
      "  Number of iterations: 203\n",
      "  Number of functions evaluations: 235\n"
     ]
    },
    {
     "name": "stderr",
     "output_type": "stream",
     "text": [
      "INFO:tensorflow:Optimization terminated with:\n",
      "  Message: b'CONVERGENCE: REL_REDUCTION_OF_F_<=_FACTR*EPSMCH'\n",
      "  Objective function value: 1172.643824\n",
      "  Number of iterations: 203\n",
      "  Number of functions evaluations: 235\n"
     ]
    },
    {
     "name": "stdout",
     "output_type": "stream",
     "text": [
      "Current Day before update: 94\n",
      "\n",
      "Current Day after update: 95\n",
      "Stations added -  [1010.0]  on day  95\n",
      "\n",
      "Train DataFrame Shape (281, 9)\n",
      "\n",
      "Pool DataFrame Shape (562, 11)\n",
      "\n",
      "Test DataFrame Shape (1, 9)\n",
      "INFO:tensorflow:Optimization terminated with:\n",
      "  Message: b'CONVERGENCE: REL_REDUCTION_OF_F_<=_FACTR*EPSMCH'\n",
      "  Objective function value: 1094.910206\n",
      "  Number of iterations: 451\n",
      "  Number of functions evaluations: 546\n"
     ]
    },
    {
     "name": "stderr",
     "output_type": "stream",
     "text": [
      "INFO:tensorflow:Optimization terminated with:\n",
      "  Message: b'CONVERGENCE: REL_REDUCTION_OF_F_<=_FACTR*EPSMCH'\n",
      "  Objective function value: 1094.910206\n",
      "  Number of iterations: 451\n",
      "  Number of functions evaluations: 546\n"
     ]
    },
    {
     "name": "stdout",
     "output_type": "stream",
     "text": [
      "Current Day before update: 95\n",
      "\n",
      "Current Day after update: 96\n",
      "\n",
      "Train DataFrame Shape (285, 9)\n",
      "\n",
      "Pool DataFrame Shape (567, 11)\n",
      "\n",
      "Test DataFrame Shape (6, 9)\n",
      "INFO:tensorflow:Optimization terminated with:\n",
      "  Message: b'CONVERGENCE: REL_REDUCTION_OF_F_<=_FACTR*EPSMCH'\n",
      "  Objective function value: 1098.336221\n",
      "  Number of iterations: 443\n",
      "  Number of functions evaluations: 527\n"
     ]
    },
    {
     "name": "stderr",
     "output_type": "stream",
     "text": [
      "INFO:tensorflow:Optimization terminated with:\n",
      "  Message: b'CONVERGENCE: REL_REDUCTION_OF_F_<=_FACTR*EPSMCH'\n",
      "  Objective function value: 1098.336221\n",
      "  Number of iterations: 443\n",
      "  Number of functions evaluations: 527\n"
     ]
    },
    {
     "name": "stdout",
     "output_type": "stream",
     "text": [
      "Current Day before update: 96\n",
      "\n",
      "Current Day after update: 97\n",
      "\n",
      "Train DataFrame Shape (289, 9)\n",
      "\n",
      "Pool DataFrame Shape (572, 11)\n",
      "\n",
      "Test DataFrame Shape (6, 9)\n",
      "INFO:tensorflow:Optimization terminated with:\n",
      "  Message: b'CONVERGENCE: REL_REDUCTION_OF_F_<=_FACTR*EPSMCH'\n",
      "  Objective function value: 1114.090096\n",
      "  Number of iterations: 147\n",
      "  Number of functions evaluations: 204\n"
     ]
    },
    {
     "name": "stderr",
     "output_type": "stream",
     "text": [
      "INFO:tensorflow:Optimization terminated with:\n",
      "  Message: b'CONVERGENCE: REL_REDUCTION_OF_F_<=_FACTR*EPSMCH'\n",
      "  Objective function value: 1114.090096\n",
      "  Number of iterations: 147\n",
      "  Number of functions evaluations: 204\n"
     ]
    },
    {
     "name": "stdout",
     "output_type": "stream",
     "text": [
      "Current Day before update: 97\n",
      "\n",
      "Current Day after update: 98\n",
      "\n",
      "Train DataFrame Shape (293, 9)\n",
      "\n",
      "Pool DataFrame Shape (577, 11)\n",
      "\n",
      "Test DataFrame Shape (6, 9)\n",
      "INFO:tensorflow:Optimization terminated with:\n",
      "  Message: b'CONVERGENCE: REL_REDUCTION_OF_F_<=_FACTR*EPSMCH'\n",
      "  Objective function value: 1114.302127\n",
      "  Number of iterations: 261\n",
      "  Number of functions evaluations: 349\n"
     ]
    },
    {
     "name": "stderr",
     "output_type": "stream",
     "text": [
      "INFO:tensorflow:Optimization terminated with:\n",
      "  Message: b'CONVERGENCE: REL_REDUCTION_OF_F_<=_FACTR*EPSMCH'\n",
      "  Objective function value: 1114.302127\n",
      "  Number of iterations: 261\n",
      "  Number of functions evaluations: 349\n"
     ]
    },
    {
     "name": "stdout",
     "output_type": "stream",
     "text": [
      "Current Day before update: 98\n",
      "\n",
      "Current Day after update: 99\n",
      "\n",
      "Train DataFrame Shape (297, 9)\n",
      "\n",
      "Pool DataFrame Shape (582, 11)\n",
      "\n",
      "Test DataFrame Shape (6, 9)\n",
      "INFO:tensorflow:Optimization terminated with:\n",
      "  Message: b'CONVERGENCE: REL_REDUCTION_OF_F_<=_FACTR*EPSMCH'\n",
      "  Objective function value: 1135.407937\n",
      "  Number of iterations: 119\n",
      "  Number of functions evaluations: 193\n"
     ]
    },
    {
     "name": "stderr",
     "output_type": "stream",
     "text": [
      "INFO:tensorflow:Optimization terminated with:\n",
      "  Message: b'CONVERGENCE: REL_REDUCTION_OF_F_<=_FACTR*EPSMCH'\n",
      "  Objective function value: 1135.407937\n",
      "  Number of iterations: 119\n",
      "  Number of functions evaluations: 193\n"
     ]
    },
    {
     "name": "stdout",
     "output_type": "stream",
     "text": [
      "Current Day before update: 99\n",
      "\n",
      "Current Day after update: 100\n",
      "Stations added -  [1008.0]  on day  100\n",
      "\n",
      "Train DataFrame Shape (300, 9)\n",
      "\n",
      "Pool DataFrame Shape (498, 11)\n",
      "\n",
      "Test DataFrame Shape (6, 9)\n",
      "INFO:tensorflow:Optimization terminated with:\n",
      "  Message: b'CONVERGENCE: REL_REDUCTION_OF_F_<=_FACTR*EPSMCH'\n",
      "  Objective function value: 1136.801870\n",
      "  Number of iterations: 357\n",
      "  Number of functions evaluations: 452\n"
     ]
    },
    {
     "name": "stderr",
     "output_type": "stream",
     "text": [
      "INFO:tensorflow:Optimization terminated with:\n",
      "  Message: b'CONVERGENCE: REL_REDUCTION_OF_F_<=_FACTR*EPSMCH'\n",
      "  Objective function value: 1136.801870\n",
      "  Number of iterations: 357\n",
      "  Number of functions evaluations: 452\n"
     ]
    },
    {
     "name": "stdout",
     "output_type": "stream",
     "text": [
      "Current Day before update: 100\n",
      "\n",
      "Current Day after update: 101\n",
      "\n",
      "Train DataFrame Shape (304, 9)\n",
      "\n",
      "Pool DataFrame Shape (502, 11)\n",
      "\n",
      "Test DataFrame Shape (6, 9)\n",
      "INFO:tensorflow:Optimization terminated with:\n",
      "  Message: b'CONVERGENCE: REL_REDUCTION_OF_F_<=_FACTR*EPSMCH'\n",
      "  Objective function value: 1142.195997\n",
      "  Number of iterations: 278\n",
      "  Number of functions evaluations: 377\n"
     ]
    },
    {
     "name": "stderr",
     "output_type": "stream",
     "text": [
      "INFO:tensorflow:Optimization terminated with:\n",
      "  Message: b'CONVERGENCE: REL_REDUCTION_OF_F_<=_FACTR*EPSMCH'\n",
      "  Objective function value: 1142.195997\n",
      "  Number of iterations: 278\n",
      "  Number of functions evaluations: 377\n"
     ]
    },
    {
     "name": "stdout",
     "output_type": "stream",
     "text": [
      "Current Day before update: 101\n",
      "\n",
      "Current Day after update: 102\n",
      "\n",
      "Train DataFrame Shape (308, 9)\n",
      "\n",
      "Pool DataFrame Shape (506, 11)\n",
      "\n",
      "Test DataFrame Shape (6, 9)\n",
      "INFO:tensorflow:Optimization terminated with:\n",
      "  Message: b'CONVERGENCE: REL_REDUCTION_OF_F_<=_FACTR*EPSMCH'\n",
      "  Objective function value: 1154.050912\n",
      "  Number of iterations: 263\n",
      "  Number of functions evaluations: 344\n"
     ]
    },
    {
     "name": "stderr",
     "output_type": "stream",
     "text": [
      "INFO:tensorflow:Optimization terminated with:\n",
      "  Message: b'CONVERGENCE: REL_REDUCTION_OF_F_<=_FACTR*EPSMCH'\n",
      "  Objective function value: 1154.050912\n",
      "  Number of iterations: 263\n",
      "  Number of functions evaluations: 344\n"
     ]
    },
    {
     "name": "stdout",
     "output_type": "stream",
     "text": [
      "Current Day before update: 102\n",
      "\n",
      "Current Day after update: 103\n",
      "\n",
      "Train DataFrame Shape (314, 9)\n",
      "\n",
      "Pool DataFrame Shape (511, 11)\n",
      "\n",
      "Test DataFrame Shape (6, 9)\n",
      "INFO:tensorflow:Optimization terminated with:\n",
      "  Message: b'CONVERGENCE: REL_REDUCTION_OF_F_<=_FACTR*EPSMCH'\n",
      "  Objective function value: 1193.361061\n",
      "  Number of iterations: 93\n",
      "  Number of functions evaluations: 206\n"
     ]
    },
    {
     "name": "stderr",
     "output_type": "stream",
     "text": [
      "INFO:tensorflow:Optimization terminated with:\n",
      "  Message: b'CONVERGENCE: REL_REDUCTION_OF_F_<=_FACTR*EPSMCH'\n",
      "  Objective function value: 1193.361061\n",
      "  Number of iterations: 93\n",
      "  Number of functions evaluations: 206\n"
     ]
    },
    {
     "name": "stdout",
     "output_type": "stream",
     "text": [
      "Current Day before update: 103\n",
      "\n",
      "Current Day after update: 104\n",
      "\n",
      "Train DataFrame Shape (320, 9)\n",
      "\n",
      "Pool DataFrame Shape (516, 11)\n",
      "\n",
      "Test DataFrame Shape (6, 9)\n",
      "INFO:tensorflow:Optimization terminated with:\n",
      "  Message: b'CONVERGENCE: REL_REDUCTION_OF_F_<=_FACTR*EPSMCH'\n",
      "  Objective function value: 1190.672557\n",
      "  Number of iterations: 289\n",
      "  Number of functions evaluations: 349\n"
     ]
    },
    {
     "name": "stderr",
     "output_type": "stream",
     "text": [
      "INFO:tensorflow:Optimization terminated with:\n",
      "  Message: b'CONVERGENCE: REL_REDUCTION_OF_F_<=_FACTR*EPSMCH'\n",
      "  Objective function value: 1190.672557\n",
      "  Number of iterations: 289\n",
      "  Number of functions evaluations: 349\n"
     ]
    },
    {
     "name": "stdout",
     "output_type": "stream",
     "text": [
      "Current Day before update: 104\n",
      "\n",
      "Current Day after update: 105\n",
      "Stations added -  [1022.0]  on day  105\n",
      "\n",
      "Train DataFrame Shape (326, 9)\n",
      "\n",
      "Pool DataFrame Shape (422, 11)\n",
      "\n",
      "Test DataFrame Shape (6, 9)\n",
      "INFO:tensorflow:Optimization terminated with:\n",
      "  Message: b'CONVERGENCE: REL_REDUCTION_OF_F_<=_FACTR*EPSMCH'\n",
      "  Objective function value: 1207.906839\n",
      "  Number of iterations: 227\n",
      "  Number of functions evaluations: 270\n"
     ]
    },
    {
     "name": "stderr",
     "output_type": "stream",
     "text": [
      "INFO:tensorflow:Optimization terminated with:\n",
      "  Message: b'CONVERGENCE: REL_REDUCTION_OF_F_<=_FACTR*EPSMCH'\n",
      "  Objective function value: 1207.906839\n",
      "  Number of iterations: 227\n",
      "  Number of functions evaluations: 270\n"
     ]
    },
    {
     "name": "stdout",
     "output_type": "stream",
     "text": [
      "Current Day before update: 105\n",
      "\n",
      "Current Day after update: 106\n",
      "\n",
      "Train DataFrame Shape (330, 9)\n",
      "\n",
      "Pool DataFrame Shape (426, 11)\n",
      "\n",
      "Test DataFrame Shape (6, 9)\n",
      "INFO:tensorflow:Optimization terminated with:\n",
      "  Message: b'CONVERGENCE: REL_REDUCTION_OF_F_<=_FACTR*EPSMCH'\n",
      "  Objective function value: 1186.627529\n",
      "  Number of iterations: 350\n",
      "  Number of functions evaluations: 424\n"
     ]
    },
    {
     "name": "stderr",
     "output_type": "stream",
     "text": [
      "INFO:tensorflow:Optimization terminated with:\n",
      "  Message: b'CONVERGENCE: REL_REDUCTION_OF_F_<=_FACTR*EPSMCH'\n",
      "  Objective function value: 1186.627529\n",
      "  Number of iterations: 350\n",
      "  Number of functions evaluations: 424\n"
     ]
    },
    {
     "name": "stdout",
     "output_type": "stream",
     "text": [
      "Current Day before update: 106\n",
      "\n",
      "Current Day after update: 107\n",
      "\n",
      "Train DataFrame Shape (334, 9)\n",
      "\n",
      "Pool DataFrame Shape (430, 11)\n",
      "\n",
      "Test DataFrame Shape (6, 9)\n",
      "INFO:tensorflow:Optimization terminated with:\n",
      "  Message: b'CONVERGENCE: REL_REDUCTION_OF_F_<=_FACTR*EPSMCH'\n",
      "  Objective function value: 1154.066308\n",
      "  Number of iterations: 256\n",
      "  Number of functions evaluations: 332\n"
     ]
    },
    {
     "name": "stderr",
     "output_type": "stream",
     "text": [
      "INFO:tensorflow:Optimization terminated with:\n",
      "  Message: b'CONVERGENCE: REL_REDUCTION_OF_F_<=_FACTR*EPSMCH'\n",
      "  Objective function value: 1154.066308\n",
      "  Number of iterations: 256\n",
      "  Number of functions evaluations: 332\n"
     ]
    },
    {
     "name": "stdout",
     "output_type": "stream",
     "text": [
      "Current Day before update: 107\n",
      "\n",
      "Current Day after update: 108\n",
      "\n",
      "Train DataFrame Shape (338, 9)\n",
      "\n",
      "Pool DataFrame Shape (434, 11)\n",
      "\n",
      "Test DataFrame Shape (6, 9)\n",
      "INFO:tensorflow:Optimization terminated with:\n",
      "  Message: b'CONVERGENCE: REL_REDUCTION_OF_F_<=_FACTR*EPSMCH'\n",
      "  Objective function value: 1150.542784\n",
      "  Number of iterations: 837\n",
      "  Number of functions evaluations: 967\n"
     ]
    },
    {
     "name": "stderr",
     "output_type": "stream",
     "text": [
      "INFO:tensorflow:Optimization terminated with:\n",
      "  Message: b'CONVERGENCE: REL_REDUCTION_OF_F_<=_FACTR*EPSMCH'\n",
      "  Objective function value: 1150.542784\n",
      "  Number of iterations: 837\n",
      "  Number of functions evaluations: 967\n"
     ]
    },
    {
     "name": "stdout",
     "output_type": "stream",
     "text": [
      "Current Day before update: 108\n",
      "\n",
      "Current Day after update: 109\n",
      "\n",
      "Train DataFrame Shape (361, 9)\n",
      "\n",
      "Pool DataFrame Shape (438, 11)\n",
      "\n",
      "Test DataFrame Shape (6, 9)\n",
      "INFO:tensorflow:Optimization terminated with:\n",
      "  Message: b'CONVERGENCE: REL_REDUCTION_OF_F_<=_FACTR*EPSMCH'\n",
      "  Objective function value: 1229.786465\n",
      "  Number of iterations: 536\n",
      "  Number of functions evaluations: 649\n"
     ]
    },
    {
     "name": "stderr",
     "output_type": "stream",
     "text": [
      "INFO:tensorflow:Optimization terminated with:\n",
      "  Message: b'CONVERGENCE: REL_REDUCTION_OF_F_<=_FACTR*EPSMCH'\n",
      "  Objective function value: 1229.786465\n",
      "  Number of iterations: 536\n",
      "  Number of functions evaluations: 649\n"
     ]
    }
   ],
   "source": [
    "gp.active_gp()"
   ]
  },
  {
   "cell_type": "code",
   "execution_count": 27,
   "metadata": {},
   "outputs": [
    {
     "data": {
      "text/plain": [
       "[1002.0,\n",
       " 1004.0,\n",
       " 1006.0,\n",
       " 1007.0,\n",
       " 1008.0,\n",
       " 1009.0,\n",
       " 1010.0,\n",
       " 1012.0,\n",
       " 1013.0,\n",
       " 1015.0,\n",
       " 1018.0,\n",
       " 1020.0,\n",
       " 1022.0,\n",
       " 1026.0]"
      ]
     },
     "execution_count": 27,
     "metadata": {},
     "output_type": "execute_result"
    }
   ],
   "source": [
    "gp.pool_stations"
   ]
  },
  {
   "cell_type": "code",
   "execution_count": 15,
   "metadata": {},
   "outputs": [],
   "source": [
    "import xgboost"
   ]
  },
  {
   "cell_type": "code",
   "execution_count": 16,
   "metadata": {},
   "outputs": [],
   "source": [
    "## max_depth:10, lr =1, n_est: 10\n",
    "## max_depth:10, lr = 1, m_est :50\n",
    "## max_dpeth :10, lr:1 n_est:50\n",
    "## max_dpeth:50, lr = 1, n_est10"
   ]
  },
  {
   "cell_type": "code",
   "execution_count": 17,
   "metadata": {},
   "outputs": [],
   "source": [
    "learners = {0:xgboost.XGBRegressor(), \n",
    "            1:xgboost.XGBRegressor(max_depth=10, learning_rate=1, n_estimators=10),\n",
    "            2:xgboost.XGBRegressor(max_depth=10, learning_rate=1, n_estimators=50),\n",
    "            3:xgboost.XGBRegressor(max_depth=50, learning_rate=1, n_estimators=10),\n",
    "            4:xgboost.XGBRegressor(max_depth=50, learning_rate=1, n_estimators=50),\n",
    "           }"
   ]
  },
  {
   "cell_type": "code",
   "execution_count": 18,
   "metadata": {},
   "outputs": [
    {
     "name": "stdout",
     "output_type": "stream",
     "text": [
      "[02:49:34] WARNING: /workspace/src/objective/regression_obj.cu:152: reg:linear is now deprecated in favor of reg:squarederror.\n",
      "[02:49:34] WARNING: /workspace/src/objective/regression_obj.cu:152: reg:linear is now deprecated in favor of reg:squarederror.\n",
      "[02:49:34] WARNING: /workspace/src/objective/regression_obj.cu:152: reg:linear is now deprecated in favor of reg:squarederror.\n",
      "[02:49:35] WARNING: /workspace/src/objective/regression_obj.cu:152: reg:linear is now deprecated in favor of reg:squarederror.\n",
      "[02:49:35] WARNING: /workspace/src/objective/regression_obj.cu:152: reg:linear is now deprecated in favor of reg:squarederror.\n",
      "Current Day before update: 9\n",
      "\n",
      "Current Day after update: 10\n",
      "Stations added -  [1024.0]  on day  10\n",
      "2nd\n",
      "\n",
      "Train DataFrame Shape (66, 9)\n",
      "\n",
      "Pool DataFrame Shape (249, 11)\n",
      "\n",
      "Test DataFrame Shape (6, 9)\n",
      "[02:49:35] WARNING: /workspace/src/objective/regression_obj.cu:152: reg:linear is now deprecated in favor of reg:squarederror.\n",
      "[02:49:35] WARNING: /workspace/src/objective/regression_obj.cu:152: reg:linear is now deprecated in favor of reg:squarederror.\n",
      "[02:49:35] WARNING: /workspace/src/objective/regression_obj.cu:152: reg:linear is now deprecated in favor of reg:squarederror.\n",
      "[02:49:35] WARNING: /workspace/src/objective/regression_obj.cu:152: reg:linear is now deprecated in favor of reg:squarederror.\n",
      "[02:49:35] WARNING: /workspace/src/objective/regression_obj.cu:152: reg:linear is now deprecated in favor of reg:squarederror.\n",
      "Current Day before update: 10\n",
      "\n",
      "Current Day after update: 11\n",
      "2nd\n",
      "\n",
      "Train DataFrame Shape (73, 9)\n",
      "\n",
      "Pool DataFrame Shape (271, 11)\n",
      "\n",
      "Test DataFrame Shape (6, 9)\n",
      "[02:49:35] WARNING: /workspace/src/objective/regression_obj.cu:152: reg:linear is now deprecated in favor of reg:squarederror.\n",
      "[02:49:35] WARNING: /workspace/src/objective/regression_obj.cu:152: reg:linear is now deprecated in favor of reg:squarederror.\n",
      "[02:49:35] WARNING: /workspace/src/objective/regression_obj.cu:152: reg:linear is now deprecated in favor of reg:squarederror.\n",
      "[02:49:35] WARNING: /workspace/src/objective/regression_obj.cu:152: reg:linear is now deprecated in favor of reg:squarederror.\n",
      "[02:49:35] WARNING: /workspace/src/objective/regression_obj.cu:152: reg:linear is now deprecated in favor of reg:squarederror.\n",
      "Current Day before update: 11\n",
      "\n",
      "Current Day after update: 12\n",
      "2nd\n",
      "\n",
      "Train DataFrame Shape (80, 9)\n",
      "\n",
      "Pool DataFrame Shape (293, 11)\n",
      "\n",
      "Test DataFrame Shape (6, 9)\n",
      "[02:49:35] WARNING: /workspace/src/objective/regression_obj.cu:152: reg:linear is now deprecated in favor of reg:squarederror.\n",
      "[02:49:35] WARNING: /workspace/src/objective/regression_obj.cu:152: reg:linear is now deprecated in favor of reg:squarederror.\n",
      "[02:49:35] WARNING: /workspace/src/objective/regression_obj.cu:152: reg:linear is now deprecated in favor of reg:squarederror.\n",
      "[02:49:35] WARNING: /workspace/src/objective/regression_obj.cu:152: reg:linear is now deprecated in favor of reg:squarederror.\n",
      "[02:49:35] WARNING: /workspace/src/objective/regression_obj.cu:152: reg:linear is now deprecated in favor of reg:squarederror.\n",
      "Current Day before update: 12\n",
      "\n",
      "Current Day after update: 13\n",
      "2nd\n",
      "\n",
      "Train DataFrame Shape (87, 9)\n",
      "\n",
      "Pool DataFrame Shape (316, 11)\n",
      "\n",
      "Test DataFrame Shape (6, 9)\n",
      "[02:49:36] WARNING: /workspace/src/objective/regression_obj.cu:152: reg:linear is now deprecated in favor of reg:squarederror.\n",
      "[02:49:36] WARNING: /workspace/src/objective/regression_obj.cu:152: reg:linear is now deprecated in favor of reg:squarederror.\n",
      "[02:49:36] WARNING: /workspace/src/objective/regression_obj.cu:152: reg:linear is now deprecated in favor of reg:squarederror.\n",
      "[02:49:36] WARNING: /workspace/src/objective/regression_obj.cu:152: reg:linear is now deprecated in favor of reg:squarederror.\n",
      "[02:49:36] WARNING: /workspace/src/objective/regression_obj.cu:152: reg:linear is now deprecated in favor of reg:squarederror.\n",
      "Current Day before update: 13\n",
      "\n",
      "Current Day after update: 14\n",
      "2nd\n",
      "\n",
      "Train DataFrame Shape (94, 9)\n",
      "\n",
      "Pool DataFrame Shape (337, 11)\n",
      "\n",
      "Test DataFrame Shape (6, 9)\n",
      "[02:49:36] WARNING: /workspace/src/objective/regression_obj.cu:152: reg:linear is now deprecated in favor of reg:squarederror.\n",
      "[02:49:36] WARNING: /workspace/src/objective/regression_obj.cu:152: reg:linear is now deprecated in favor of reg:squarederror.\n",
      "[02:49:36] WARNING: /workspace/src/objective/regression_obj.cu:152: reg:linear is now deprecated in favor of reg:squarederror.\n",
      "[02:49:36] WARNING: /workspace/src/objective/regression_obj.cu:152: reg:linear is now deprecated in favor of reg:squarederror.\n",
      "[02:49:36] WARNING: /workspace/src/objective/regression_obj.cu:152: reg:linear is now deprecated in favor of reg:squarederror.\n",
      "Current Day before update: 14\n",
      "\n",
      "Current Day after update: 15\n",
      "Stations added -  [1019.0]  on day  15\n",
      "2nd\n",
      "\n",
      "Train DataFrame Shape (102, 9)\n",
      "\n",
      "Pool DataFrame Shape (348, 11)\n",
      "\n",
      "Test DataFrame Shape (6, 9)\n",
      "[02:49:36] WARNING: /workspace/src/objective/regression_obj.cu:152: reg:linear is now deprecated in favor of reg:squarederror.\n",
      "[02:49:36] WARNING: /workspace/src/objective/regression_obj.cu:152: reg:linear is now deprecated in favor of reg:squarederror.\n",
      "[02:49:36] WARNING: /workspace/src/objective/regression_obj.cu:152: reg:linear is now deprecated in favor of reg:squarederror.\n",
      "[02:49:36] WARNING: /workspace/src/objective/regression_obj.cu:152: reg:linear is now deprecated in favor of reg:squarederror.\n",
      "[02:49:36] WARNING: /workspace/src/objective/regression_obj.cu:152: reg:linear is now deprecated in favor of reg:squarederror.\n",
      "Current Day before update: 15\n",
      "\n",
      "Current Day after update: 16\n",
      "2nd\n",
      "\n",
      "Train DataFrame Shape (110, 9)\n",
      "\n",
      "Pool DataFrame Shape (369, 11)\n",
      "\n",
      "Test DataFrame Shape (6, 9)\n",
      "[02:49:36] WARNING: /workspace/src/objective/regression_obj.cu:152: reg:linear is now deprecated in favor of reg:squarederror.\n",
      "[02:49:36] WARNING: /workspace/src/objective/regression_obj.cu:152: reg:linear is now deprecated in favor of reg:squarederror.\n",
      "[02:49:36] WARNING: /workspace/src/objective/regression_obj.cu:152: reg:linear is now deprecated in favor of reg:squarederror.\n",
      "[02:49:36] WARNING: /workspace/src/objective/regression_obj.cu:152: reg:linear is now deprecated in favor of reg:squarederror.\n",
      "[02:49:36] WARNING: /workspace/src/objective/regression_obj.cu:152: reg:linear is now deprecated in favor of reg:squarederror.\n",
      "Current Day before update: 16\n",
      "\n",
      "Current Day after update: 17\n",
      "2nd\n",
      "\n",
      "Train DataFrame Shape (118, 9)\n",
      "\n",
      "Pool DataFrame Shape (390, 11)\n",
      "\n",
      "Test DataFrame Shape (6, 9)\n",
      "[02:49:37] WARNING: /workspace/src/objective/regression_obj.cu:152: reg:linear is now deprecated in favor of reg:squarederror.\n",
      "[02:49:37] WARNING: /workspace/src/objective/regression_obj.cu:152: reg:linear is now deprecated in favor of reg:squarederror.\n",
      "[02:49:37] WARNING: /workspace/src/objective/regression_obj.cu:152: reg:linear is now deprecated in favor of reg:squarederror.\n",
      "[02:49:37] WARNING: /workspace/src/objective/regression_obj.cu:152: reg:linear is now deprecated in favor of reg:squarederror.\n",
      "[02:49:37] WARNING: /workspace/src/objective/regression_obj.cu:152: reg:linear is now deprecated in favor of reg:squarederror.\n",
      "Current Day before update: 17\n",
      "\n",
      "Current Day after update: 18\n",
      "2nd\n",
      "\n",
      "Train DataFrame Shape (126, 9)\n",
      "\n",
      "Pool DataFrame Shape (411, 11)\n",
      "\n",
      "Test DataFrame Shape (6, 9)\n",
      "[02:49:37] WARNING: /workspace/src/objective/regression_obj.cu:152: reg:linear is now deprecated in favor of reg:squarederror.\n",
      "[02:49:37] WARNING: /workspace/src/objective/regression_obj.cu:152: reg:linear is now deprecated in favor of reg:squarederror.\n",
      "[02:49:37] WARNING: /workspace/src/objective/regression_obj.cu:152: reg:linear is now deprecated in favor of reg:squarederror.\n",
      "[02:49:37] WARNING: /workspace/src/objective/regression_obj.cu:152: reg:linear is now deprecated in favor of reg:squarederror.\n",
      "[02:49:37] WARNING: /workspace/src/objective/regression_obj.cu:152: reg:linear is now deprecated in favor of reg:squarederror.\n",
      "Current Day before update: 18\n",
      "\n",
      "Current Day after update: 19\n",
      "2nd\n",
      "\n",
      "Train DataFrame Shape (134, 9)\n",
      "\n",
      "Pool DataFrame Shape (432, 11)\n",
      "\n",
      "Test DataFrame Shape (6, 9)\n",
      "[02:49:37] WARNING: /workspace/src/objective/regression_obj.cu:152: reg:linear is now deprecated in favor of reg:squarederror.\n",
      "[02:49:37] WARNING: /workspace/src/objective/regression_obj.cu:152: reg:linear is now deprecated in favor of reg:squarederror.\n",
      "[02:49:37] WARNING: /workspace/src/objective/regression_obj.cu:152: reg:linear is now deprecated in favor of reg:squarederror.\n",
      "[02:49:37] WARNING: /workspace/src/objective/regression_obj.cu:152: reg:linear is now deprecated in favor of reg:squarederror.\n",
      "[02:49:37] WARNING: /workspace/src/objective/regression_obj.cu:152: reg:linear is now deprecated in favor of reg:squarederror.\n",
      "Current Day before update: 19\n",
      "\n",
      "Current Day after update: 20\n"
     ]
    },
    {
     "name": "stdout",
     "output_type": "stream",
     "text": [
      "Stations added -  [1005.0]  on day  20\n",
      "2nd\n",
      "\n",
      "Train DataFrame Shape (137, 9)\n",
      "\n",
      "Pool DataFrame Shape (432, 11)\n",
      "\n",
      "Test DataFrame Shape (6, 9)\n",
      "[02:49:38] WARNING: /workspace/src/objective/regression_obj.cu:152: reg:linear is now deprecated in favor of reg:squarederror.\n",
      "[02:49:38] WARNING: /workspace/src/objective/regression_obj.cu:152: reg:linear is now deprecated in favor of reg:squarederror.\n",
      "[02:49:38] WARNING: /workspace/src/objective/regression_obj.cu:152: reg:linear is now deprecated in favor of reg:squarederror.\n",
      "[02:49:38] WARNING: /workspace/src/objective/regression_obj.cu:152: reg:linear is now deprecated in favor of reg:squarederror.\n",
      "[02:49:38] WARNING: /workspace/src/objective/regression_obj.cu:152: reg:linear is now deprecated in favor of reg:squarederror.\n",
      "Current Day before update: 20\n",
      "\n",
      "Current Day after update: 21\n",
      "2nd\n",
      "\n",
      "Train DataFrame Shape (140, 9)\n",
      "\n",
      "Pool DataFrame Shape (452, 11)\n",
      "\n",
      "Test DataFrame Shape (6, 9)\n",
      "[02:49:38] WARNING: /workspace/src/objective/regression_obj.cu:152: reg:linear is now deprecated in favor of reg:squarederror.\n",
      "[02:49:38] WARNING: /workspace/src/objective/regression_obj.cu:152: reg:linear is now deprecated in favor of reg:squarederror.\n",
      "[02:49:38] WARNING: /workspace/src/objective/regression_obj.cu:152: reg:linear is now deprecated in favor of reg:squarederror.\n",
      "[02:49:38] WARNING: /workspace/src/objective/regression_obj.cu:152: reg:linear is now deprecated in favor of reg:squarederror.\n",
      "[02:49:38] WARNING: /workspace/src/objective/regression_obj.cu:152: reg:linear is now deprecated in favor of reg:squarederror.\n",
      "Current Day before update: 21\n",
      "\n",
      "Current Day after update: 22\n",
      "2nd\n",
      "\n",
      "Train DataFrame Shape (144, 9)\n",
      "\n",
      "Pool DataFrame Shape (473, 11)\n",
      "\n",
      "Test DataFrame Shape (6, 9)\n",
      "[02:49:38] WARNING: /workspace/src/objective/regression_obj.cu:152: reg:linear is now deprecated in favor of reg:squarederror.\n",
      "[02:49:38] WARNING: /workspace/src/objective/regression_obj.cu:152: reg:linear is now deprecated in favor of reg:squarederror.\n",
      "[02:49:38] WARNING: /workspace/src/objective/regression_obj.cu:152: reg:linear is now deprecated in favor of reg:squarederror.\n",
      "[02:49:38] WARNING: /workspace/src/objective/regression_obj.cu:152: reg:linear is now deprecated in favor of reg:squarederror.\n",
      "[02:49:38] WARNING: /workspace/src/objective/regression_obj.cu:152: reg:linear is now deprecated in favor of reg:squarederror.\n",
      "Current Day before update: 22\n",
      "\n",
      "Current Day after update: 23\n",
      "2nd\n",
      "\n",
      "Train DataFrame Shape (147, 9)\n",
      "\n",
      "Pool DataFrame Shape (493, 11)\n",
      "\n",
      "Test DataFrame Shape (6, 9)\n",
      "[02:49:38] WARNING: /workspace/src/objective/regression_obj.cu:152: reg:linear is now deprecated in favor of reg:squarederror.\n",
      "[02:49:38] WARNING: /workspace/src/objective/regression_obj.cu:152: reg:linear is now deprecated in favor of reg:squarederror.\n",
      "[02:49:38] WARNING: /workspace/src/objective/regression_obj.cu:152: reg:linear is now deprecated in favor of reg:squarederror.\n",
      "[02:49:38] WARNING: /workspace/src/objective/regression_obj.cu:152: reg:linear is now deprecated in favor of reg:squarederror.\n",
      "[02:49:38] WARNING: /workspace/src/objective/regression_obj.cu:152: reg:linear is now deprecated in favor of reg:squarederror.\n",
      "Current Day before update: 23\n",
      "\n",
      "Current Day after update: 24\n",
      "2nd\n",
      "\n",
      "Train DataFrame Shape (150, 9)\n",
      "\n",
      "Pool DataFrame Shape (513, 11)\n",
      "\n",
      "Test DataFrame Shape (6, 9)\n",
      "[02:49:39] WARNING: /workspace/src/objective/regression_obj.cu:152: reg:linear is now deprecated in favor of reg:squarederror.\n",
      "[02:49:39] WARNING: /workspace/src/objective/regression_obj.cu:152: reg:linear is now deprecated in favor of reg:squarederror.\n",
      "[02:49:39] WARNING: /workspace/src/objective/regression_obj.cu:152: reg:linear is now deprecated in favor of reg:squarederror.\n",
      "[02:49:39] WARNING: /workspace/src/objective/regression_obj.cu:152: reg:linear is now deprecated in favor of reg:squarederror.\n",
      "[02:49:39] WARNING: /workspace/src/objective/regression_obj.cu:152: reg:linear is now deprecated in favor of reg:squarederror.\n",
      "Current Day before update: 24\n",
      "\n",
      "Current Day after update: 25\n",
      "Stations added -  [1028.0]  on day  25\n",
      "2nd\n",
      "\n",
      "Train DataFrame Shape (154, 9)\n",
      "\n",
      "Pool DataFrame Shape (507, 11)\n",
      "\n",
      "Test DataFrame Shape (6, 9)\n",
      "[02:49:39] WARNING: /workspace/src/objective/regression_obj.cu:152: reg:linear is now deprecated in favor of reg:squarederror.\n",
      "[02:49:39] WARNING: /workspace/src/objective/regression_obj.cu:152: reg:linear is now deprecated in favor of reg:squarederror.\n",
      "[02:49:39] WARNING: /workspace/src/objective/regression_obj.cu:152: reg:linear is now deprecated in favor of reg:squarederror.\n",
      "[02:49:39] WARNING: /workspace/src/objective/regression_obj.cu:152: reg:linear is now deprecated in favor of reg:squarederror.\n",
      "[02:49:39] WARNING: /workspace/src/objective/regression_obj.cu:152: reg:linear is now deprecated in favor of reg:squarederror.\n",
      "Current Day before update: 25\n",
      "\n",
      "Current Day after update: 26\n",
      "2nd\n",
      "\n",
      "Train DataFrame Shape (158, 9)\n",
      "\n",
      "Pool DataFrame Shape (526, 11)\n",
      "\n",
      "Test DataFrame Shape (6, 9)\n",
      "[02:49:39] WARNING: /workspace/src/objective/regression_obj.cu:152: reg:linear is now deprecated in favor of reg:squarederror.\n",
      "[02:49:39] WARNING: /workspace/src/objective/regression_obj.cu:152: reg:linear is now deprecated in favor of reg:squarederror.\n",
      "[02:49:39] WARNING: /workspace/src/objective/regression_obj.cu:152: reg:linear is now deprecated in favor of reg:squarederror.\n",
      "[02:49:39] WARNING: /workspace/src/objective/regression_obj.cu:152: reg:linear is now deprecated in favor of reg:squarederror.\n",
      "[02:49:39] WARNING: /workspace/src/objective/regression_obj.cu:152: reg:linear is now deprecated in favor of reg:squarederror.\n",
      "Current Day before update: 26\n",
      "\n",
      "Current Day after update: 27\n",
      "2nd\n",
      "\n",
      "Train DataFrame Shape (162, 9)\n",
      "\n",
      "Pool DataFrame Shape (545, 11)\n",
      "\n",
      "Test DataFrame Shape (6, 9)\n",
      "[02:49:39] WARNING: /workspace/src/objective/regression_obj.cu:152: reg:linear is now deprecated in favor of reg:squarederror.\n",
      "[02:49:40] WARNING: /workspace/src/objective/regression_obj.cu:152: reg:linear is now deprecated in favor of reg:squarederror.\n",
      "[02:49:40] WARNING: /workspace/src/objective/regression_obj.cu:152: reg:linear is now deprecated in favor of reg:squarederror.\n",
      "[02:49:40] WARNING: /workspace/src/objective/regression_obj.cu:152: reg:linear is now deprecated in favor of reg:squarederror.\n",
      "[02:49:40] WARNING: /workspace/src/objective/regression_obj.cu:152: reg:linear is now deprecated in favor of reg:squarederror.\n",
      "Current Day before update: 27\n",
      "\n",
      "Current Day after update: 28\n",
      "2nd\n",
      "\n",
      "Train DataFrame Shape (164, 9)\n",
      "\n",
      "Pool DataFrame Shape (564, 11)\n",
      "\n",
      "Test DataFrame Shape (6, 9)\n",
      "[02:49:40] WARNING: /workspace/src/objective/regression_obj.cu:152: reg:linear is now deprecated in favor of reg:squarederror.\n",
      "[02:49:40] WARNING: /workspace/src/objective/regression_obj.cu:152: reg:linear is now deprecated in favor of reg:squarederror.\n",
      "[02:49:40] WARNING: /workspace/src/objective/regression_obj.cu:152: reg:linear is now deprecated in favor of reg:squarederror.\n",
      "[02:49:40] WARNING: /workspace/src/objective/regression_obj.cu:152: reg:linear is now deprecated in favor of reg:squarederror.\n",
      "[02:49:40] WARNING: /workspace/src/objective/regression_obj.cu:152: reg:linear is now deprecated in favor of reg:squarederror.\n",
      "Current Day before update: 28\n",
      "\n",
      "Current Day after update: 29\n",
      "2nd\n",
      "\n",
      "Train DataFrame Shape (167, 9)\n",
      "\n",
      "Pool DataFrame Shape (582, 11)\n",
      "\n",
      "Test DataFrame Shape (6, 9)\n",
      "[02:49:40] WARNING: /workspace/src/objective/regression_obj.cu:152: reg:linear is now deprecated in favor of reg:squarederror.\n",
      "[02:49:40] WARNING: /workspace/src/objective/regression_obj.cu:152: reg:linear is now deprecated in favor of reg:squarederror.\n",
      "[02:49:40] WARNING: /workspace/src/objective/regression_obj.cu:152: reg:linear is now deprecated in favor of reg:squarederror.\n",
      "[02:49:40] WARNING: /workspace/src/objective/regression_obj.cu:152: reg:linear is now deprecated in favor of reg:squarederror.\n",
      "[02:49:40] WARNING: /workspace/src/objective/regression_obj.cu:152: reg:linear is now deprecated in favor of reg:squarederror.\n",
      "Current Day before update: 29\n",
      "\n",
      "Current Day after update: 30\n",
      "Stations added -  [1027.0]  on day  30\n",
      "2nd\n",
      "\n",
      "Train DataFrame Shape (168, 9)\n",
      "\n",
      "Pool DataFrame Shape (571, 11)\n",
      "\n",
      "Test DataFrame Shape (6, 9)\n",
      "[02:49:40] WARNING: /workspace/src/objective/regression_obj.cu:152: reg:linear is now deprecated in favor of reg:squarederror.\n",
      "[02:49:40] WARNING: /workspace/src/objective/regression_obj.cu:152: reg:linear is now deprecated in favor of reg:squarederror.\n",
      "[02:49:40] WARNING: /workspace/src/objective/regression_obj.cu:152: reg:linear is now deprecated in favor of reg:squarederror.\n",
      "[02:49:41] WARNING: /workspace/src/objective/regression_obj.cu:152: reg:linear is now deprecated in favor of reg:squarederror.\n",
      "[02:49:41] WARNING: /workspace/src/objective/regression_obj.cu:152: reg:linear is now deprecated in favor of reg:squarederror.\n",
      "Current Day before update: 30\n",
      "\n",
      "Current Day after update: 31\n"
     ]
    },
    {
     "name": "stdout",
     "output_type": "stream",
     "text": [
      "2nd\n",
      "\n",
      "Train DataFrame Shape (170, 9)\n",
      "\n",
      "Pool DataFrame Shape (589, 11)\n",
      "\n",
      "Test DataFrame Shape (5, 9)\n",
      "[02:49:41] WARNING: /workspace/src/objective/regression_obj.cu:152: reg:linear is now deprecated in favor of reg:squarederror.\n",
      "[02:49:41] WARNING: /workspace/src/objective/regression_obj.cu:152: reg:linear is now deprecated in favor of reg:squarederror.\n",
      "[02:49:41] WARNING: /workspace/src/objective/regression_obj.cu:152: reg:linear is now deprecated in favor of reg:squarederror.\n",
      "[02:49:41] WARNING: /workspace/src/objective/regression_obj.cu:152: reg:linear is now deprecated in favor of reg:squarederror.\n",
      "[02:49:41] WARNING: /workspace/src/objective/regression_obj.cu:152: reg:linear is now deprecated in favor of reg:squarederror.\n",
      "Current Day before update: 31\n",
      "\n",
      "Current Day after update: 32\n",
      "2nd\n",
      "\n",
      "Train DataFrame Shape (173, 9)\n",
      "\n",
      "Pool DataFrame Shape (607, 11)\n",
      "\n",
      "Test DataFrame Shape (5, 9)\n",
      "[02:49:41] WARNING: /workspace/src/objective/regression_obj.cu:152: reg:linear is now deprecated in favor of reg:squarederror.\n",
      "[02:49:41] WARNING: /workspace/src/objective/regression_obj.cu:152: reg:linear is now deprecated in favor of reg:squarederror.\n",
      "[02:49:41] WARNING: /workspace/src/objective/regression_obj.cu:152: reg:linear is now deprecated in favor of reg:squarederror.\n",
      "[02:49:41] WARNING: /workspace/src/objective/regression_obj.cu:152: reg:linear is now deprecated in favor of reg:squarederror.\n",
      "[02:49:41] WARNING: /workspace/src/objective/regression_obj.cu:152: reg:linear is now deprecated in favor of reg:squarederror.\n",
      "Current Day before update: 32\n",
      "\n",
      "Current Day after update: 33\n",
      "2nd\n",
      "\n",
      "Train DataFrame Shape (177, 9)\n",
      "\n",
      "Pool DataFrame Shape (625, 11)\n",
      "\n",
      "Test DataFrame Shape (5, 9)\n",
      "[02:49:41] WARNING: /workspace/src/objective/regression_obj.cu:152: reg:linear is now deprecated in favor of reg:squarederror.\n",
      "[02:49:41] WARNING: /workspace/src/objective/regression_obj.cu:152: reg:linear is now deprecated in favor of reg:squarederror.\n",
      "[02:49:41] WARNING: /workspace/src/objective/regression_obj.cu:152: reg:linear is now deprecated in favor of reg:squarederror.\n",
      "[02:49:41] WARNING: /workspace/src/objective/regression_obj.cu:152: reg:linear is now deprecated in favor of reg:squarederror.\n",
      "[02:49:41] WARNING: /workspace/src/objective/regression_obj.cu:152: reg:linear is now deprecated in favor of reg:squarederror.\n",
      "Current Day before update: 33\n",
      "\n",
      "Current Day after update: 34\n",
      "2nd\n",
      "\n",
      "Train DataFrame Shape (181, 9)\n",
      "\n",
      "Pool DataFrame Shape (643, 11)\n",
      "\n",
      "Test DataFrame Shape (5, 9)\n",
      "[02:49:41] WARNING: /workspace/src/objective/regression_obj.cu:152: reg:linear is now deprecated in favor of reg:squarederror.\n",
      "[02:49:41] WARNING: /workspace/src/objective/regression_obj.cu:152: reg:linear is now deprecated in favor of reg:squarederror.\n",
      "[02:49:42] WARNING: /workspace/src/objective/regression_obj.cu:152: reg:linear is now deprecated in favor of reg:squarederror.\n",
      "[02:49:42] WARNING: /workspace/src/objective/regression_obj.cu:152: reg:linear is now deprecated in favor of reg:squarederror.\n",
      "[02:49:42] WARNING: /workspace/src/objective/regression_obj.cu:152: reg:linear is now deprecated in favor of reg:squarederror.\n",
      "Current Day before update: 34\n",
      "\n",
      "Current Day after update: 35\n",
      "Stations added -  [1034.0]  on day  35\n",
      "2nd\n",
      "\n",
      "Train DataFrame Shape (185, 9)\n",
      "\n",
      "Pool DataFrame Shape (633, 11)\n",
      "\n",
      "Test DataFrame Shape (5, 9)\n",
      "[02:49:42] WARNING: /workspace/src/objective/regression_obj.cu:152: reg:linear is now deprecated in favor of reg:squarederror.\n",
      "[02:49:42] WARNING: /workspace/src/objective/regression_obj.cu:152: reg:linear is now deprecated in favor of reg:squarederror.\n",
      "[02:49:42] WARNING: /workspace/src/objective/regression_obj.cu:152: reg:linear is now deprecated in favor of reg:squarederror.\n",
      "[02:49:42] WARNING: /workspace/src/objective/regression_obj.cu:152: reg:linear is now deprecated in favor of reg:squarederror.\n",
      "[02:49:42] WARNING: /workspace/src/objective/regression_obj.cu:152: reg:linear is now deprecated in favor of reg:squarederror.\n",
      "Current Day before update: 35\n",
      "\n",
      "Current Day after update: 36\n",
      "2nd\n",
      "\n",
      "Train DataFrame Shape (189, 9)\n",
      "\n",
      "Pool DataFrame Shape (651, 11)\n",
      "\n",
      "Test DataFrame Shape (5, 9)\n",
      "[02:49:42] WARNING: /workspace/src/objective/regression_obj.cu:152: reg:linear is now deprecated in favor of reg:squarederror.\n",
      "[02:49:42] WARNING: /workspace/src/objective/regression_obj.cu:152: reg:linear is now deprecated in favor of reg:squarederror.\n",
      "[02:49:42] WARNING: /workspace/src/objective/regression_obj.cu:152: reg:linear is now deprecated in favor of reg:squarederror.\n",
      "[02:49:42] WARNING: /workspace/src/objective/regression_obj.cu:152: reg:linear is now deprecated in favor of reg:squarederror.\n",
      "[02:49:42] WARNING: /workspace/src/objective/regression_obj.cu:152: reg:linear is now deprecated in favor of reg:squarederror.\n",
      "Current Day before update: 36\n",
      "\n",
      "Current Day after update: 37\n",
      "2nd\n",
      "\n",
      "Train DataFrame Shape (193, 9)\n",
      "\n",
      "Pool DataFrame Shape (669, 11)\n",
      "\n",
      "Test DataFrame Shape (5, 9)\n",
      "[02:49:42] WARNING: /workspace/src/objective/regression_obj.cu:152: reg:linear is now deprecated in favor of reg:squarederror.\n",
      "[02:49:42] WARNING: /workspace/src/objective/regression_obj.cu:152: reg:linear is now deprecated in favor of reg:squarederror.\n",
      "[02:49:42] WARNING: /workspace/src/objective/regression_obj.cu:152: reg:linear is now deprecated in favor of reg:squarederror.\n",
      "[02:49:43] WARNING: /workspace/src/objective/regression_obj.cu:152: reg:linear is now deprecated in favor of reg:squarederror.\n",
      "[02:49:43] WARNING: /workspace/src/objective/regression_obj.cu:152: reg:linear is now deprecated in favor of reg:squarederror.\n",
      "Current Day before update: 37\n",
      "\n",
      "Current Day after update: 38\n",
      "2nd\n",
      "\n",
      "Train DataFrame Shape (197, 9)\n",
      "\n",
      "Pool DataFrame Shape (687, 11)\n",
      "\n",
      "Test DataFrame Shape (5, 9)\n",
      "[02:49:43] WARNING: /workspace/src/objective/regression_obj.cu:152: reg:linear is now deprecated in favor of reg:squarederror.\n",
      "[02:49:43] WARNING: /workspace/src/objective/regression_obj.cu:152: reg:linear is now deprecated in favor of reg:squarederror.\n",
      "[02:49:43] WARNING: /workspace/src/objective/regression_obj.cu:152: reg:linear is now deprecated in favor of reg:squarederror.\n",
      "[02:49:43] WARNING: /workspace/src/objective/regression_obj.cu:152: reg:linear is now deprecated in favor of reg:squarederror.\n",
      "[02:49:43] WARNING: /workspace/src/objective/regression_obj.cu:152: reg:linear is now deprecated in favor of reg:squarederror.\n",
      "Current Day before update: 38\n",
      "\n",
      "Current Day after update: 39\n",
      "2nd\n",
      "\n",
      "Train DataFrame Shape (201, 9)\n",
      "\n",
      "Pool DataFrame Shape (705, 11)\n",
      "\n",
      "Test DataFrame Shape (5, 9)\n",
      "[02:49:43] WARNING: /workspace/src/objective/regression_obj.cu:152: reg:linear is now deprecated in favor of reg:squarederror.\n",
      "[02:49:43] WARNING: /workspace/src/objective/regression_obj.cu:152: reg:linear is now deprecated in favor of reg:squarederror.\n",
      "[02:49:43] WARNING: /workspace/src/objective/regression_obj.cu:152: reg:linear is now deprecated in favor of reg:squarederror.\n",
      "[02:49:43] WARNING: /workspace/src/objective/regression_obj.cu:152: reg:linear is now deprecated in favor of reg:squarederror.\n",
      "[02:49:43] WARNING: /workspace/src/objective/regression_obj.cu:152: reg:linear is now deprecated in favor of reg:squarederror.\n",
      "Current Day before update: 39\n",
      "\n",
      "Current Day after update: 40\n",
      "Stations added -  [1036.0]  on day  40\n",
      "2nd\n",
      "\n",
      "Train DataFrame Shape (205, 9)\n",
      "\n",
      "Pool DataFrame Shape (695, 11)\n",
      "\n",
      "Test DataFrame Shape (5, 9)\n",
      "[02:49:43] WARNING: /workspace/src/objective/regression_obj.cu:152: reg:linear is now deprecated in favor of reg:squarederror.\n",
      "[02:49:43] WARNING: /workspace/src/objective/regression_obj.cu:152: reg:linear is now deprecated in favor of reg:squarederror.\n",
      "[02:49:43] WARNING: /workspace/src/objective/regression_obj.cu:152: reg:linear is now deprecated in favor of reg:squarederror.\n",
      "[02:49:43] WARNING: /workspace/src/objective/regression_obj.cu:152: reg:linear is now deprecated in favor of reg:squarederror.\n",
      "[02:49:43] WARNING: /workspace/src/objective/regression_obj.cu:152: reg:linear is now deprecated in favor of reg:squarederror.\n",
      "Current Day before update: 40\n",
      "\n",
      "Current Day after update: 41\n",
      "2nd\n",
      "\n",
      "Train DataFrame Shape (209, 9)\n",
      "\n",
      "Pool DataFrame Shape (712, 11)\n",
      "\n",
      "Test DataFrame Shape (6, 9)\n",
      "[02:49:44] WARNING: /workspace/src/objective/regression_obj.cu:152: reg:linear is now deprecated in favor of reg:squarederror.\n",
      "[02:49:44] WARNING: /workspace/src/objective/regression_obj.cu:152: reg:linear is now deprecated in favor of reg:squarederror.\n",
      "[02:49:44] WARNING: /workspace/src/objective/regression_obj.cu:152: reg:linear is now deprecated in favor of reg:squarederror.\n",
      "[02:49:44] WARNING: /workspace/src/objective/regression_obj.cu:152: reg:linear is now deprecated in favor of reg:squarederror.\n",
      "[02:49:44] WARNING: /workspace/src/objective/regression_obj.cu:152: reg:linear is now deprecated in favor of reg:squarederror.\n",
      "Current Day before update: 41\n",
      "\n",
      "Current Day after update: 42\n"
     ]
    },
    {
     "name": "stdout",
     "output_type": "stream",
     "text": [
      "2nd\n",
      "\n",
      "Train DataFrame Shape (213, 9)\n",
      "\n",
      "Pool DataFrame Shape (729, 11)\n",
      "\n",
      "Test DataFrame Shape (6, 9)\n",
      "[02:49:44] WARNING: /workspace/src/objective/regression_obj.cu:152: reg:linear is now deprecated in favor of reg:squarederror.\n",
      "[02:49:44] WARNING: /workspace/src/objective/regression_obj.cu:152: reg:linear is now deprecated in favor of reg:squarederror.\n",
      "[02:49:44] WARNING: /workspace/src/objective/regression_obj.cu:152: reg:linear is now deprecated in favor of reg:squarederror.\n",
      "[02:49:44] WARNING: /workspace/src/objective/regression_obj.cu:152: reg:linear is now deprecated in favor of reg:squarederror.\n",
      "[02:49:44] WARNING: /workspace/src/objective/regression_obj.cu:152: reg:linear is now deprecated in favor of reg:squarederror.\n",
      "Current Day before update: 42\n",
      "\n",
      "Current Day after update: 43\n",
      "2nd\n",
      "\n",
      "Train DataFrame Shape (217, 9)\n",
      "\n",
      "Pool DataFrame Shape (746, 11)\n",
      "\n",
      "Test DataFrame Shape (6, 9)\n",
      "[02:49:44] WARNING: /workspace/src/objective/regression_obj.cu:152: reg:linear is now deprecated in favor of reg:squarederror.\n",
      "[02:49:44] WARNING: /workspace/src/objective/regression_obj.cu:152: reg:linear is now deprecated in favor of reg:squarederror.\n",
      "[02:49:44] WARNING: /workspace/src/objective/regression_obj.cu:152: reg:linear is now deprecated in favor of reg:squarederror.\n",
      "[02:49:44] WARNING: /workspace/src/objective/regression_obj.cu:152: reg:linear is now deprecated in favor of reg:squarederror.\n",
      "[02:49:44] WARNING: /workspace/src/objective/regression_obj.cu:152: reg:linear is now deprecated in favor of reg:squarederror.\n",
      "Current Day before update: 43\n",
      "\n",
      "Current Day after update: 44\n",
      "2nd\n",
      "\n",
      "Train DataFrame Shape (221, 9)\n",
      "\n",
      "Pool DataFrame Shape (763, 11)\n",
      "\n",
      "Test DataFrame Shape (6, 9)\n",
      "[02:49:44] WARNING: /workspace/src/objective/regression_obj.cu:152: reg:linear is now deprecated in favor of reg:squarederror.\n",
      "[02:49:44] WARNING: /workspace/src/objective/regression_obj.cu:152: reg:linear is now deprecated in favor of reg:squarederror.\n",
      "[02:49:44] WARNING: /workspace/src/objective/regression_obj.cu:152: reg:linear is now deprecated in favor of reg:squarederror.\n",
      "[02:49:45] WARNING: /workspace/src/objective/regression_obj.cu:152: reg:linear is now deprecated in favor of reg:squarederror.\n",
      "[02:49:45] WARNING: /workspace/src/objective/regression_obj.cu:152: reg:linear is now deprecated in favor of reg:squarederror.\n",
      "Current Day before update: 44\n",
      "\n",
      "Current Day after update: 45\n",
      "Stations added -  [1020.0]  on day  45\n",
      "2nd\n",
      "\n",
      "Train DataFrame Shape (225, 9)\n",
      "\n",
      "Pool DataFrame Shape (734, 11)\n",
      "\n",
      "Test DataFrame Shape (6, 9)\n",
      "[02:49:45] WARNING: /workspace/src/objective/regression_obj.cu:152: reg:linear is now deprecated in favor of reg:squarederror.\n",
      "[02:49:45] WARNING: /workspace/src/objective/regression_obj.cu:152: reg:linear is now deprecated in favor of reg:squarederror.\n",
      "[02:49:45] WARNING: /workspace/src/objective/regression_obj.cu:152: reg:linear is now deprecated in favor of reg:squarederror.\n",
      "[02:49:45] WARNING: /workspace/src/objective/regression_obj.cu:152: reg:linear is now deprecated in favor of reg:squarederror.\n",
      "[02:49:45] WARNING: /workspace/src/objective/regression_obj.cu:152: reg:linear is now deprecated in favor of reg:squarederror.\n",
      "Current Day before update: 45\n",
      "\n",
      "Current Day after update: 46\n",
      "2nd\n",
      "\n",
      "Train DataFrame Shape (228, 9)\n",
      "\n",
      "Pool DataFrame Shape (750, 11)\n",
      "\n",
      "Test DataFrame Shape (6, 9)\n",
      "[02:49:45] WARNING: /workspace/src/objective/regression_obj.cu:152: reg:linear is now deprecated in favor of reg:squarederror.\n",
      "[02:49:45] WARNING: /workspace/src/objective/regression_obj.cu:152: reg:linear is now deprecated in favor of reg:squarederror.\n",
      "[02:49:45] WARNING: /workspace/src/objective/regression_obj.cu:152: reg:linear is now deprecated in favor of reg:squarederror.\n",
      "[02:49:45] WARNING: /workspace/src/objective/regression_obj.cu:152: reg:linear is now deprecated in favor of reg:squarederror.\n",
      "[02:49:45] WARNING: /workspace/src/objective/regression_obj.cu:152: reg:linear is now deprecated in favor of reg:squarederror.\n",
      "Current Day before update: 46\n",
      "\n",
      "Current Day after update: 47\n",
      "2nd\n",
      "\n",
      "Train DataFrame Shape (231, 9)\n",
      "\n",
      "Pool DataFrame Shape (766, 11)\n",
      "\n",
      "Test DataFrame Shape (6, 9)\n",
      "[02:49:45] WARNING: /workspace/src/objective/regression_obj.cu:152: reg:linear is now deprecated in favor of reg:squarederror.\n",
      "[02:49:45] WARNING: /workspace/src/objective/regression_obj.cu:152: reg:linear is now deprecated in favor of reg:squarederror.\n",
      "[02:49:45] WARNING: /workspace/src/objective/regression_obj.cu:152: reg:linear is now deprecated in favor of reg:squarederror.\n",
      "[02:49:46] WARNING: /workspace/src/objective/regression_obj.cu:152: reg:linear is now deprecated in favor of reg:squarederror.\n",
      "[02:49:46] WARNING: /workspace/src/objective/regression_obj.cu:152: reg:linear is now deprecated in favor of reg:squarederror.\n",
      "Current Day before update: 47\n",
      "\n",
      "Current Day after update: 48\n",
      "2nd\n",
      "\n",
      "Train DataFrame Shape (236, 9)\n",
      "\n",
      "Pool DataFrame Shape (782, 11)\n",
      "\n",
      "Test DataFrame Shape (6, 9)\n",
      "[02:49:46] WARNING: /workspace/src/objective/regression_obj.cu:152: reg:linear is now deprecated in favor of reg:squarederror.\n",
      "[02:49:46] WARNING: /workspace/src/objective/regression_obj.cu:152: reg:linear is now deprecated in favor of reg:squarederror.\n",
      "[02:49:46] WARNING: /workspace/src/objective/regression_obj.cu:152: reg:linear is now deprecated in favor of reg:squarederror.\n",
      "[02:49:46] WARNING: /workspace/src/objective/regression_obj.cu:152: reg:linear is now deprecated in favor of reg:squarederror.\n",
      "[02:49:46] WARNING: /workspace/src/objective/regression_obj.cu:152: reg:linear is now deprecated in favor of reg:squarederror.\n",
      "Current Day before update: 48\n",
      "\n",
      "Current Day after update: 49\n",
      "2nd\n",
      "\n",
      "Train DataFrame Shape (240, 9)\n",
      "\n",
      "Pool DataFrame Shape (798, 11)\n",
      "\n",
      "Test DataFrame Shape (6, 9)\n",
      "[02:49:46] WARNING: /workspace/src/objective/regression_obj.cu:152: reg:linear is now deprecated in favor of reg:squarederror.\n",
      "[02:49:46] WARNING: /workspace/src/objective/regression_obj.cu:152: reg:linear is now deprecated in favor of reg:squarederror.\n",
      "[02:49:46] WARNING: /workspace/src/objective/regression_obj.cu:152: reg:linear is now deprecated in favor of reg:squarederror.\n",
      "[02:49:46] WARNING: /workspace/src/objective/regression_obj.cu:152: reg:linear is now deprecated in favor of reg:squarederror.\n",
      "[02:49:46] WARNING: /workspace/src/objective/regression_obj.cu:152: reg:linear is now deprecated in favor of reg:squarederror.\n",
      "Current Day before update: 49\n",
      "\n",
      "Current Day after update: 50\n",
      "Stations added -  [1025.0]  on day  50\n",
      "2nd\n",
      "\n",
      "Train DataFrame Shape (246, 9)\n",
      "\n",
      "Pool DataFrame Shape (763, 11)\n",
      "\n",
      "Test DataFrame Shape (6, 9)\n",
      "[02:49:46] WARNING: /workspace/src/objective/regression_obj.cu:152: reg:linear is now deprecated in favor of reg:squarederror.\n",
      "[02:49:46] WARNING: /workspace/src/objective/regression_obj.cu:152: reg:linear is now deprecated in favor of reg:squarederror.\n",
      "[02:49:46] WARNING: /workspace/src/objective/regression_obj.cu:152: reg:linear is now deprecated in favor of reg:squarederror.\n",
      "[02:49:46] WARNING: /workspace/src/objective/regression_obj.cu:152: reg:linear is now deprecated in favor of reg:squarederror.\n",
      "[02:49:47] WARNING: /workspace/src/objective/regression_obj.cu:152: reg:linear is now deprecated in favor of reg:squarederror.\n",
      "Current Day before update: 50\n",
      "\n",
      "Current Day after update: 51\n",
      "2nd\n",
      "\n",
      "Train DataFrame Shape (251, 9)\n",
      "\n",
      "Pool DataFrame Shape (778, 11)\n",
      "\n",
      "Test DataFrame Shape (6, 9)\n",
      "[02:49:47] WARNING: /workspace/src/objective/regression_obj.cu:152: reg:linear is now deprecated in favor of reg:squarederror.\n",
      "[02:49:47] WARNING: /workspace/src/objective/regression_obj.cu:152: reg:linear is now deprecated in favor of reg:squarederror.\n",
      "[02:49:47] WARNING: /workspace/src/objective/regression_obj.cu:152: reg:linear is now deprecated in favor of reg:squarederror.\n",
      "[02:49:47] WARNING: /workspace/src/objective/regression_obj.cu:152: reg:linear is now deprecated in favor of reg:squarederror.\n",
      "[02:49:47] WARNING: /workspace/src/objective/regression_obj.cu:152: reg:linear is now deprecated in favor of reg:squarederror.\n",
      "Current Day before update: 51\n",
      "\n",
      "Current Day after update: 52\n",
      "2nd\n",
      "\n",
      "Train DataFrame Shape (255, 9)\n",
      "\n",
      "Pool DataFrame Shape (793, 11)\n",
      "\n",
      "Test DataFrame Shape (6, 9)\n",
      "[02:49:47] WARNING: /workspace/src/objective/regression_obj.cu:152: reg:linear is now deprecated in favor of reg:squarederror.\n",
      "[02:49:47] WARNING: /workspace/src/objective/regression_obj.cu:152: reg:linear is now deprecated in favor of reg:squarederror.\n",
      "[02:49:47] WARNING: /workspace/src/objective/regression_obj.cu:152: reg:linear is now deprecated in favor of reg:squarederror.\n",
      "[02:49:47] WARNING: /workspace/src/objective/regression_obj.cu:152: reg:linear is now deprecated in favor of reg:squarederror.\n",
      "[02:49:47] WARNING: /workspace/src/objective/regression_obj.cu:152: reg:linear is now deprecated in favor of reg:squarederror.\n",
      "Current Day before update: 52\n",
      "\n",
      "Current Day after update: 53\n"
     ]
    },
    {
     "name": "stdout",
     "output_type": "stream",
     "text": [
      "2nd\n",
      "\n",
      "Train DataFrame Shape (257, 9)\n",
      "\n",
      "Pool DataFrame Shape (808, 11)\n",
      "\n",
      "Test DataFrame Shape (6, 9)\n",
      "[02:49:47] WARNING: /workspace/src/objective/regression_obj.cu:152: reg:linear is now deprecated in favor of reg:squarederror.\n",
      "[02:49:47] WARNING: /workspace/src/objective/regression_obj.cu:152: reg:linear is now deprecated in favor of reg:squarederror.\n",
      "[02:49:47] WARNING: /workspace/src/objective/regression_obj.cu:152: reg:linear is now deprecated in favor of reg:squarederror.\n",
      "[02:49:47] WARNING: /workspace/src/objective/regression_obj.cu:152: reg:linear is now deprecated in favor of reg:squarederror.\n",
      "[02:49:47] WARNING: /workspace/src/objective/regression_obj.cu:152: reg:linear is now deprecated in favor of reg:squarederror.\n",
      "Current Day before update: 53\n",
      "\n",
      "Current Day after update: 54\n",
      "2nd\n",
      "\n",
      "Train DataFrame Shape (260, 9)\n",
      "\n",
      "Pool DataFrame Shape (823, 11)\n",
      "\n",
      "Test DataFrame Shape (6, 9)\n",
      "[02:49:48] WARNING: /workspace/src/objective/regression_obj.cu:152: reg:linear is now deprecated in favor of reg:squarederror.\n",
      "[02:49:48] WARNING: /workspace/src/objective/regression_obj.cu:152: reg:linear is now deprecated in favor of reg:squarederror.\n",
      "[02:49:48] WARNING: /workspace/src/objective/regression_obj.cu:152: reg:linear is now deprecated in favor of reg:squarederror.\n",
      "[02:49:48] WARNING: /workspace/src/objective/regression_obj.cu:152: reg:linear is now deprecated in favor of reg:squarederror.\n",
      "[02:49:48] WARNING: /workspace/src/objective/regression_obj.cu:152: reg:linear is now deprecated in favor of reg:squarederror.\n",
      "Current Day before update: 54\n",
      "\n",
      "Current Day after update: 55\n",
      "Stations added -  [1018.0]  on day  55\n",
      "2nd\n",
      "\n",
      "Train DataFrame Shape (263, 9)\n",
      "\n",
      "Pool DataFrame Shape (784, 11)\n",
      "\n",
      "Test DataFrame Shape (6, 9)\n",
      "[02:49:48] WARNING: /workspace/src/objective/regression_obj.cu:152: reg:linear is now deprecated in favor of reg:squarederror.\n",
      "[02:49:48] WARNING: /workspace/src/objective/regression_obj.cu:152: reg:linear is now deprecated in favor of reg:squarederror.\n",
      "[02:49:48] WARNING: /workspace/src/objective/regression_obj.cu:152: reg:linear is now deprecated in favor of reg:squarederror.\n",
      "[02:49:48] WARNING: /workspace/src/objective/regression_obj.cu:152: reg:linear is now deprecated in favor of reg:squarederror.\n",
      "[02:49:48] WARNING: /workspace/src/objective/regression_obj.cu:152: reg:linear is now deprecated in favor of reg:squarederror.\n",
      "Current Day before update: 55\n",
      "\n",
      "Current Day after update: 56\n",
      "2nd\n",
      "\n",
      "Train DataFrame Shape (266, 9)\n",
      "\n",
      "Pool DataFrame Shape (798, 11)\n",
      "\n",
      "Test DataFrame Shape (6, 9)\n",
      "[02:49:48] WARNING: /workspace/src/objective/regression_obj.cu:152: reg:linear is now deprecated in favor of reg:squarederror.\n",
      "[02:49:48] WARNING: /workspace/src/objective/regression_obj.cu:152: reg:linear is now deprecated in favor of reg:squarederror.\n",
      "[02:49:48] WARNING: /workspace/src/objective/regression_obj.cu:152: reg:linear is now deprecated in favor of reg:squarederror.\n",
      "[02:49:48] WARNING: /workspace/src/objective/regression_obj.cu:152: reg:linear is now deprecated in favor of reg:squarederror.\n",
      "[02:49:48] WARNING: /workspace/src/objective/regression_obj.cu:152: reg:linear is now deprecated in favor of reg:squarederror.\n",
      "Current Day before update: 56\n",
      "\n",
      "Current Day after update: 57\n",
      "2nd\n",
      "\n",
      "Train DataFrame Shape (269, 9)\n",
      "\n",
      "Pool DataFrame Shape (812, 11)\n",
      "\n",
      "Test DataFrame Shape (6, 9)\n",
      "[02:49:49] WARNING: /workspace/src/objective/regression_obj.cu:152: reg:linear is now deprecated in favor of reg:squarederror.\n",
      "[02:49:49] WARNING: /workspace/src/objective/regression_obj.cu:152: reg:linear is now deprecated in favor of reg:squarederror.\n",
      "[02:49:49] WARNING: /workspace/src/objective/regression_obj.cu:152: reg:linear is now deprecated in favor of reg:squarederror.\n",
      "[02:49:49] WARNING: /workspace/src/objective/regression_obj.cu:152: reg:linear is now deprecated in favor of reg:squarederror.\n",
      "[02:49:49] WARNING: /workspace/src/objective/regression_obj.cu:152: reg:linear is now deprecated in favor of reg:squarederror.\n",
      "Current Day before update: 57\n",
      "\n",
      "Current Day after update: 58\n",
      "2nd\n",
      "\n",
      "Train DataFrame Shape (272, 9)\n",
      "\n",
      "Pool DataFrame Shape (826, 11)\n",
      "\n",
      "Test DataFrame Shape (6, 9)\n",
      "[02:49:49] WARNING: /workspace/src/objective/regression_obj.cu:152: reg:linear is now deprecated in favor of reg:squarederror.\n",
      "[02:49:49] WARNING: /workspace/src/objective/regression_obj.cu:152: reg:linear is now deprecated in favor of reg:squarederror.\n",
      "[02:49:49] WARNING: /workspace/src/objective/regression_obj.cu:152: reg:linear is now deprecated in favor of reg:squarederror.\n",
      "[02:49:49] WARNING: /workspace/src/objective/regression_obj.cu:152: reg:linear is now deprecated in favor of reg:squarederror.\n",
      "[02:49:49] WARNING: /workspace/src/objective/regression_obj.cu:152: reg:linear is now deprecated in favor of reg:squarederror.\n",
      "Current Day before update: 58\n",
      "\n",
      "Current Day after update: 59\n",
      "2nd\n",
      "\n",
      "Train DataFrame Shape (275, 9)\n",
      "\n",
      "Pool DataFrame Shape (840, 11)\n",
      "\n",
      "Test DataFrame Shape (6, 9)\n",
      "[02:49:49] WARNING: /workspace/src/objective/regression_obj.cu:152: reg:linear is now deprecated in favor of reg:squarederror.\n",
      "[02:49:49] WARNING: /workspace/src/objective/regression_obj.cu:152: reg:linear is now deprecated in favor of reg:squarederror.\n",
      "[02:49:49] WARNING: /workspace/src/objective/regression_obj.cu:152: reg:linear is now deprecated in favor of reg:squarederror.\n",
      "[02:49:49] WARNING: /workspace/src/objective/regression_obj.cu:152: reg:linear is now deprecated in favor of reg:squarederror.\n",
      "[02:49:49] WARNING: /workspace/src/objective/regression_obj.cu:152: reg:linear is now deprecated in favor of reg:squarederror.\n"
     ]
    }
   ],
   "source": [
    "from qbc_random import ActiveLearning\n",
    "al = ActiveLearning(\n",
    "    df = df,\n",
    "    train_stations = list(station_split[0][0]['sts_val']),\n",
    "    pool_stations = list(station_split[0][0]['sts_train']),\n",
    "    test_stations = list(station_split[0][0]['sts_test']),\n",
    "    learners = learners,\n",
    "    context_days = 9,\n",
    "    frequency = 5,\n",
    "    test_days = 100,\n",
    "    train_days = 20,\n",
    "    number_of_seeds = 5,\n",
    "    number_to_query = 1\n",
    "            )\n",
    "al.querybycommittee()"
   ]
  },
  {
   "cell_type": "code",
   "execution_count": 30,
   "metadata": {},
   "outputs": [
    {
     "name": "stdout",
     "output_type": "stream",
     "text": [
      "Current Day before update: 59\n",
      "\n",
      "Current Day after update: 60\n",
      "Stations added -  [1004.0]  on day  60\n",
      "2nd\n",
      "\n",
      "Train DataFrame Shape (277, 9)\n",
      "\n",
      "Pool DataFrame Shape (792, 11)\n",
      "\n",
      "Test DataFrame Shape (6, 9)\n",
      "[03:13:00] WARNING: /workspace/src/objective/regression_obj.cu:152: reg:linear is now deprecated in favor of reg:squarederror.\n",
      "[03:13:00] WARNING: /workspace/src/objective/regression_obj.cu:152: reg:linear is now deprecated in favor of reg:squarederror.\n",
      "[03:13:00] WARNING: /workspace/src/objective/regression_obj.cu:152: reg:linear is now deprecated in favor of reg:squarederror.\n",
      "[03:13:00] WARNING: /workspace/src/objective/regression_obj.cu:152: reg:linear is now deprecated in favor of reg:squarederror.\n",
      "[03:13:00] WARNING: /workspace/src/objective/regression_obj.cu:152: reg:linear is now deprecated in favor of reg:squarederror.\n",
      "Current Day before update: 60\n",
      "\n",
      "Current Day after update: 61\n",
      "2nd\n",
      "\n",
      "Train DataFrame Shape (280, 9)\n",
      "\n",
      "Pool DataFrame Shape (805, 11)\n",
      "\n",
      "Test DataFrame Shape (6, 9)\n",
      "[03:13:00] WARNING: /workspace/src/objective/regression_obj.cu:152: reg:linear is now deprecated in favor of reg:squarederror.\n",
      "[03:13:00] WARNING: /workspace/src/objective/regression_obj.cu:152: reg:linear is now deprecated in favor of reg:squarederror.\n",
      "[03:13:00] WARNING: /workspace/src/objective/regression_obj.cu:152: reg:linear is now deprecated in favor of reg:squarederror.\n",
      "[03:13:00] WARNING: /workspace/src/objective/regression_obj.cu:152: reg:linear is now deprecated in favor of reg:squarederror.\n",
      "[03:13:00] WARNING: /workspace/src/objective/regression_obj.cu:152: reg:linear is now deprecated in favor of reg:squarederror.\n",
      "Current Day before update: 61\n",
      "\n",
      "Current Day after update: 62\n",
      "2nd\n",
      "\n",
      "Train DataFrame Shape (283, 9)\n",
      "\n",
      "Pool DataFrame Shape (818, 11)\n",
      "\n",
      "Test DataFrame Shape (6, 9)\n",
      "[03:13:00] WARNING: /workspace/src/objective/regression_obj.cu:152: reg:linear is now deprecated in favor of reg:squarederror.\n",
      "[03:13:00] WARNING: /workspace/src/objective/regression_obj.cu:152: reg:linear is now deprecated in favor of reg:squarederror.\n",
      "[03:13:00] WARNING: /workspace/src/objective/regression_obj.cu:152: reg:linear is now deprecated in favor of reg:squarederror.\n",
      "[03:13:00] WARNING: /workspace/src/objective/regression_obj.cu:152: reg:linear is now deprecated in favor of reg:squarederror.\n",
      "[03:13:00] WARNING: /workspace/src/objective/regression_obj.cu:152: reg:linear is now deprecated in favor of reg:squarederror.\n",
      "Current Day before update: 62\n",
      "\n",
      "Current Day after update: 63\n",
      "2nd\n",
      "\n",
      "Train DataFrame Shape (286, 9)\n",
      "\n",
      "Pool DataFrame Shape (831, 11)\n",
      "\n",
      "Test DataFrame Shape (6, 9)\n",
      "[03:13:00] WARNING: /workspace/src/objective/regression_obj.cu:152: reg:linear is now deprecated in favor of reg:squarederror.\n",
      "[03:13:01] WARNING: /workspace/src/objective/regression_obj.cu:152: reg:linear is now deprecated in favor of reg:squarederror.\n",
      "[03:13:01] WARNING: /workspace/src/objective/regression_obj.cu:152: reg:linear is now deprecated in favor of reg:squarederror.\n",
      "[03:13:01] WARNING: /workspace/src/objective/regression_obj.cu:152: reg:linear is now deprecated in favor of reg:squarederror.\n",
      "[03:13:01] WARNING: /workspace/src/objective/regression_obj.cu:152: reg:linear is now deprecated in favor of reg:squarederror.\n",
      "Current Day before update: 63\n",
      "\n",
      "Current Day after update: 64\n",
      "2nd\n",
      "\n",
      "Train DataFrame Shape (289, 9)\n",
      "\n",
      "Pool DataFrame Shape (844, 11)\n",
      "\n",
      "Test DataFrame Shape (6, 9)\n",
      "[03:13:01] WARNING: /workspace/src/objective/regression_obj.cu:152: reg:linear is now deprecated in favor of reg:squarederror.\n",
      "[03:13:01] WARNING: /workspace/src/objective/regression_obj.cu:152: reg:linear is now deprecated in favor of reg:squarederror.\n",
      "[03:13:01] WARNING: /workspace/src/objective/regression_obj.cu:152: reg:linear is now deprecated in favor of reg:squarederror.\n",
      "[03:13:01] WARNING: /workspace/src/objective/regression_obj.cu:152: reg:linear is now deprecated in favor of reg:squarederror.\n",
      "[03:13:01] WARNING: /workspace/src/objective/regression_obj.cu:152: reg:linear is now deprecated in favor of reg:squarederror.\n",
      "Current Day before update: 64\n",
      "\n",
      "Current Day after update: 65\n",
      "Stations added -  [1022.0]  on day  65\n",
      "2nd\n",
      "\n",
      "Train DataFrame Shape (292, 9)\n",
      "\n",
      "Pool DataFrame Shape (791, 11)\n",
      "\n",
      "Test DataFrame Shape (6, 9)\n",
      "[03:13:01] WARNING: /workspace/src/objective/regression_obj.cu:152: reg:linear is now deprecated in favor of reg:squarederror.\n",
      "[03:13:01] WARNING: /workspace/src/objective/regression_obj.cu:152: reg:linear is now deprecated in favor of reg:squarederror.\n",
      "[03:13:01] WARNING: /workspace/src/objective/regression_obj.cu:152: reg:linear is now deprecated in favor of reg:squarederror.\n",
      "[03:13:01] WARNING: /workspace/src/objective/regression_obj.cu:152: reg:linear is now deprecated in favor of reg:squarederror.\n",
      "[03:13:01] WARNING: /workspace/src/objective/regression_obj.cu:152: reg:linear is now deprecated in favor of reg:squarederror.\n",
      "Current Day before update: 65\n",
      "\n",
      "Current Day after update: 66\n",
      "2nd\n",
      "\n",
      "Train DataFrame Shape (297, 9)\n",
      "\n",
      "Pool DataFrame Shape (803, 11)\n",
      "\n",
      "Test DataFrame Shape (6, 9)\n",
      "[03:13:01] WARNING: /workspace/src/objective/regression_obj.cu:152: reg:linear is now deprecated in favor of reg:squarederror.\n",
      "[03:13:02] WARNING: /workspace/src/objective/regression_obj.cu:152: reg:linear is now deprecated in favor of reg:squarederror.\n",
      "[03:13:02] WARNING: /workspace/src/objective/regression_obj.cu:152: reg:linear is now deprecated in favor of reg:squarederror.\n",
      "[03:13:02] WARNING: /workspace/src/objective/regression_obj.cu:152: reg:linear is now deprecated in favor of reg:squarederror.\n",
      "[03:13:02] WARNING: /workspace/src/objective/regression_obj.cu:152: reg:linear is now deprecated in favor of reg:squarederror.\n",
      "Current Day before update: 66\n",
      "\n",
      "Current Day after update: 67\n",
      "2nd\n",
      "\n",
      "Train DataFrame Shape (302, 9)\n",
      "\n",
      "Pool DataFrame Shape (815, 11)\n",
      "\n",
      "Test DataFrame Shape (6, 9)\n",
      "[03:13:02] WARNING: /workspace/src/objective/regression_obj.cu:152: reg:linear is now deprecated in favor of reg:squarederror.\n",
      "[03:13:02] WARNING: /workspace/src/objective/regression_obj.cu:152: reg:linear is now deprecated in favor of reg:squarederror.\n",
      "[03:13:02] WARNING: /workspace/src/objective/regression_obj.cu:152: reg:linear is now deprecated in favor of reg:squarederror.\n",
      "[03:13:02] WARNING: /workspace/src/objective/regression_obj.cu:152: reg:linear is now deprecated in favor of reg:squarederror.\n",
      "[03:13:02] WARNING: /workspace/src/objective/regression_obj.cu:152: reg:linear is now deprecated in favor of reg:squarederror.\n",
      "Current Day before update: 67\n",
      "\n",
      "Current Day after update: 68\n",
      "2nd\n",
      "\n",
      "Train DataFrame Shape (307, 9)\n",
      "\n",
      "Pool DataFrame Shape (827, 11)\n",
      "\n",
      "Test DataFrame Shape (6, 9)\n",
      "[03:13:02] WARNING: /workspace/src/objective/regression_obj.cu:152: reg:linear is now deprecated in favor of reg:squarederror.\n",
      "[03:13:02] WARNING: /workspace/src/objective/regression_obj.cu:152: reg:linear is now deprecated in favor of reg:squarederror.\n",
      "[03:13:02] WARNING: /workspace/src/objective/regression_obj.cu:152: reg:linear is now deprecated in favor of reg:squarederror.\n",
      "[03:13:02] WARNING: /workspace/src/objective/regression_obj.cu:152: reg:linear is now deprecated in favor of reg:squarederror.\n",
      "[03:13:02] WARNING: /workspace/src/objective/regression_obj.cu:152: reg:linear is now deprecated in favor of reg:squarederror.\n",
      "Current Day before update: 68\n",
      "\n",
      "Current Day after update: 69\n",
      "2nd\n",
      "\n",
      "Train DataFrame Shape (312, 9)\n",
      "\n",
      "Pool DataFrame Shape (839, 11)\n",
      "\n",
      "Test DataFrame Shape (6, 9)\n",
      "[03:13:02] WARNING: /workspace/src/objective/regression_obj.cu:152: reg:linear is now deprecated in favor of reg:squarederror.\n",
      "[03:13:02] WARNING: /workspace/src/objective/regression_obj.cu:152: reg:linear is now deprecated in favor of reg:squarederror.\n",
      "[03:13:02] WARNING: /workspace/src/objective/regression_obj.cu:152: reg:linear is now deprecated in favor of reg:squarederror.\n",
      "[03:13:03] WARNING: /workspace/src/objective/regression_obj.cu:152: reg:linear is now deprecated in favor of reg:squarederror.\n",
      "[03:13:03] WARNING: /workspace/src/objective/regression_obj.cu:152: reg:linear is now deprecated in favor of reg:squarederror.\n",
      "Current Day before update: 69\n",
      "\n",
      "Current Day after update: 70\n",
      "Stations added -  [1008.0]  on day  70\n",
      "2nd\n",
      "\n",
      "Train DataFrame Shape (317, 9)\n",
      "\n",
      "Pool DataFrame Shape (780, 11)\n",
      "\n",
      "Test DataFrame Shape (6, 9)\n",
      "[03:13:03] WARNING: /workspace/src/objective/regression_obj.cu:152: reg:linear is now deprecated in favor of reg:squarederror.\n",
      "[03:13:03] WARNING: /workspace/src/objective/regression_obj.cu:152: reg:linear is now deprecated in favor of reg:squarederror.\n",
      "[03:13:03] WARNING: /workspace/src/objective/regression_obj.cu:152: reg:linear is now deprecated in favor of reg:squarederror.\n",
      "[03:13:03] WARNING: /workspace/src/objective/regression_obj.cu:152: reg:linear is now deprecated in favor of reg:squarederror.\n",
      "[03:13:03] WARNING: /workspace/src/objective/regression_obj.cu:152: reg:linear is now deprecated in favor of reg:squarederror.\n",
      "Current Day before update: 70\n",
      "\n",
      "Current Day after update: 71\n"
     ]
    },
    {
     "name": "stdout",
     "output_type": "stream",
     "text": [
      "2nd\n",
      "\n",
      "Train DataFrame Shape (322, 9)\n",
      "\n",
      "Pool DataFrame Shape (791, 11)\n",
      "\n",
      "Test DataFrame Shape (6, 9)\n",
      "[03:13:03] WARNING: /workspace/src/objective/regression_obj.cu:152: reg:linear is now deprecated in favor of reg:squarederror.\n",
      "[03:13:03] WARNING: /workspace/src/objective/regression_obj.cu:152: reg:linear is now deprecated in favor of reg:squarederror.\n",
      "[03:13:03] WARNING: /workspace/src/objective/regression_obj.cu:152: reg:linear is now deprecated in favor of reg:squarederror.\n",
      "[03:13:03] WARNING: /workspace/src/objective/regression_obj.cu:152: reg:linear is now deprecated in favor of reg:squarederror.\n",
      "[03:13:03] WARNING: /workspace/src/objective/regression_obj.cu:152: reg:linear is now deprecated in favor of reg:squarederror.\n",
      "Current Day before update: 71\n",
      "\n",
      "Current Day after update: 72\n",
      "2nd\n",
      "\n",
      "Train DataFrame Shape (327, 9)\n",
      "\n",
      "Pool DataFrame Shape (802, 11)\n",
      "\n",
      "Test DataFrame Shape (6, 9)\n",
      "[03:13:03] WARNING: /workspace/src/objective/regression_obj.cu:152: reg:linear is now deprecated in favor of reg:squarederror.\n",
      "[03:13:04] WARNING: /workspace/src/objective/regression_obj.cu:152: reg:linear is now deprecated in favor of reg:squarederror.\n",
      "[03:13:04] WARNING: /workspace/src/objective/regression_obj.cu:152: reg:linear is now deprecated in favor of reg:squarederror.\n",
      "[03:13:04] WARNING: /workspace/src/objective/regression_obj.cu:152: reg:linear is now deprecated in favor of reg:squarederror.\n",
      "[03:13:04] WARNING: /workspace/src/objective/regression_obj.cu:152: reg:linear is now deprecated in favor of reg:squarederror.\n",
      "Current Day before update: 72\n",
      "\n",
      "Current Day after update: 73\n",
      "2nd\n",
      "\n",
      "Train DataFrame Shape (333, 9)\n",
      "\n",
      "Pool DataFrame Shape (813, 11)\n",
      "\n",
      "Test DataFrame Shape (5, 9)\n",
      "[03:13:04] WARNING: /workspace/src/objective/regression_obj.cu:152: reg:linear is now deprecated in favor of reg:squarederror.\n",
      "[03:13:04] WARNING: /workspace/src/objective/regression_obj.cu:152: reg:linear is now deprecated in favor of reg:squarederror.\n",
      "[03:13:04] WARNING: /workspace/src/objective/regression_obj.cu:152: reg:linear is now deprecated in favor of reg:squarederror.\n",
      "[03:13:04] WARNING: /workspace/src/objective/regression_obj.cu:152: reg:linear is now deprecated in favor of reg:squarederror.\n",
      "[03:13:04] WARNING: /workspace/src/objective/regression_obj.cu:152: reg:linear is now deprecated in favor of reg:squarederror.\n",
      "Current Day before update: 73\n",
      "\n",
      "Current Day after update: 74\n",
      "2nd\n",
      "\n",
      "Train DataFrame Shape (337, 9)\n",
      "\n",
      "Pool DataFrame Shape (824, 11)\n",
      "\n",
      "Test DataFrame Shape (5, 9)\n",
      "[03:13:04] WARNING: /workspace/src/objective/regression_obj.cu:152: reg:linear is now deprecated in favor of reg:squarederror.\n",
      "[03:13:04] WARNING: /workspace/src/objective/regression_obj.cu:152: reg:linear is now deprecated in favor of reg:squarederror.\n",
      "[03:13:04] WARNING: /workspace/src/objective/regression_obj.cu:152: reg:linear is now deprecated in favor of reg:squarederror.\n",
      "[03:13:04] WARNING: /workspace/src/objective/regression_obj.cu:152: reg:linear is now deprecated in favor of reg:squarederror.\n",
      "[03:13:04] WARNING: /workspace/src/objective/regression_obj.cu:152: reg:linear is now deprecated in favor of reg:squarederror.\n",
      "Current Day before update: 74\n",
      "\n",
      "Current Day after update: 75\n",
      "Stations added -  [1010.0]  on day  75\n",
      "2nd\n",
      "\n",
      "Train DataFrame Shape (342, 9)\n",
      "\n",
      "Pool DataFrame Shape (759, 11)\n",
      "\n",
      "Test DataFrame Shape (6, 9)\n",
      "[03:13:05] WARNING: /workspace/src/objective/regression_obj.cu:152: reg:linear is now deprecated in favor of reg:squarederror.\n",
      "[03:13:05] WARNING: /workspace/src/objective/regression_obj.cu:152: reg:linear is now deprecated in favor of reg:squarederror.\n",
      "[03:13:05] WARNING: /workspace/src/objective/regression_obj.cu:152: reg:linear is now deprecated in favor of reg:squarederror.\n",
      "[03:13:05] WARNING: /workspace/src/objective/regression_obj.cu:152: reg:linear is now deprecated in favor of reg:squarederror.\n",
      "[03:13:05] WARNING: /workspace/src/objective/regression_obj.cu:152: reg:linear is now deprecated in favor of reg:squarederror.\n",
      "Current Day before update: 75\n",
      "\n",
      "Current Day after update: 76\n",
      "2nd\n",
      "\n",
      "Train DataFrame Shape (347, 9)\n",
      "\n",
      "Pool DataFrame Shape (769, 11)\n",
      "\n",
      "Test DataFrame Shape (6, 9)\n",
      "[03:13:05] WARNING: /workspace/src/objective/regression_obj.cu:152: reg:linear is now deprecated in favor of reg:squarederror.\n",
      "[03:13:05] WARNING: /workspace/src/objective/regression_obj.cu:152: reg:linear is now deprecated in favor of reg:squarederror.\n",
      "[03:13:05] WARNING: /workspace/src/objective/regression_obj.cu:152: reg:linear is now deprecated in favor of reg:squarederror.\n",
      "[03:13:05] WARNING: /workspace/src/objective/regression_obj.cu:152: reg:linear is now deprecated in favor of reg:squarederror.\n",
      "[03:13:05] WARNING: /workspace/src/objective/regression_obj.cu:152: reg:linear is now deprecated in favor of reg:squarederror.\n",
      "Current Day before update: 76\n",
      "\n",
      "Current Day after update: 77\n",
      "2nd\n",
      "\n",
      "Train DataFrame Shape (352, 9)\n",
      "\n",
      "Pool DataFrame Shape (779, 11)\n",
      "\n",
      "Test DataFrame Shape (6, 9)\n",
      "[03:13:05] WARNING: /workspace/src/objective/regression_obj.cu:152: reg:linear is now deprecated in favor of reg:squarederror.\n",
      "[03:13:05] WARNING: /workspace/src/objective/regression_obj.cu:152: reg:linear is now deprecated in favor of reg:squarederror.\n",
      "[03:13:05] WARNING: /workspace/src/objective/regression_obj.cu:152: reg:linear is now deprecated in favor of reg:squarederror.\n",
      "[03:13:05] WARNING: /workspace/src/objective/regression_obj.cu:152: reg:linear is now deprecated in favor of reg:squarederror.\n",
      "[03:13:05] WARNING: /workspace/src/objective/regression_obj.cu:152: reg:linear is now deprecated in favor of reg:squarederror.\n",
      "Current Day before update: 77\n",
      "\n",
      "Current Day after update: 78\n",
      "2nd\n",
      "\n",
      "Train DataFrame Shape (357, 9)\n",
      "\n",
      "Pool DataFrame Shape (789, 11)\n",
      "\n",
      "Test DataFrame Shape (6, 9)\n",
      "[03:13:05] WARNING: /workspace/src/objective/regression_obj.cu:152: reg:linear is now deprecated in favor of reg:squarederror.\n",
      "[03:13:06] WARNING: /workspace/src/objective/regression_obj.cu:152: reg:linear is now deprecated in favor of reg:squarederror.\n",
      "[03:13:06] WARNING: /workspace/src/objective/regression_obj.cu:152: reg:linear is now deprecated in favor of reg:squarederror.\n",
      "[03:13:06] WARNING: /workspace/src/objective/regression_obj.cu:152: reg:linear is now deprecated in favor of reg:squarederror.\n",
      "[03:13:06] WARNING: /workspace/src/objective/regression_obj.cu:152: reg:linear is now deprecated in favor of reg:squarederror.\n",
      "Current Day before update: 78\n",
      "\n",
      "Current Day after update: 79\n",
      "2nd\n",
      "\n",
      "Train DataFrame Shape (362, 9)\n",
      "\n",
      "Pool DataFrame Shape (799, 11)\n",
      "\n",
      "Test DataFrame Shape (5, 9)\n",
      "[03:13:06] WARNING: /workspace/src/objective/regression_obj.cu:152: reg:linear is now deprecated in favor of reg:squarederror.\n",
      "[03:13:06] WARNING: /workspace/src/objective/regression_obj.cu:152: reg:linear is now deprecated in favor of reg:squarederror.\n",
      "[03:13:06] WARNING: /workspace/src/objective/regression_obj.cu:152: reg:linear is now deprecated in favor of reg:squarederror.\n",
      "[03:13:06] WARNING: /workspace/src/objective/regression_obj.cu:152: reg:linear is now deprecated in favor of reg:squarederror.\n",
      "[03:13:06] WARNING: /workspace/src/objective/regression_obj.cu:152: reg:linear is now deprecated in favor of reg:squarederror.\n",
      "Current Day before update: 79\n",
      "\n",
      "Current Day after update: 80\n",
      "Stations added -  [1026.0]  on day  80\n",
      "2nd\n",
      "\n",
      "Train DataFrame Shape (368, 9)\n",
      "\n",
      "Pool DataFrame Shape (728, 11)\n",
      "\n",
      "Test DataFrame Shape (5, 9)\n",
      "[03:13:06] WARNING: /workspace/src/objective/regression_obj.cu:152: reg:linear is now deprecated in favor of reg:squarederror.\n",
      "[03:13:06] WARNING: /workspace/src/objective/regression_obj.cu:152: reg:linear is now deprecated in favor of reg:squarederror.\n",
      "[03:13:06] WARNING: /workspace/src/objective/regression_obj.cu:152: reg:linear is now deprecated in favor of reg:squarederror.\n",
      "[03:13:06] WARNING: /workspace/src/objective/regression_obj.cu:152: reg:linear is now deprecated in favor of reg:squarederror.\n",
      "[03:13:06] WARNING: /workspace/src/objective/regression_obj.cu:152: reg:linear is now deprecated in favor of reg:squarederror.\n",
      "Current Day before update: 80\n",
      "\n",
      "Current Day after update: 81\n",
      "2nd\n",
      "\n",
      "Train DataFrame Shape (373, 9)\n",
      "\n",
      "Pool DataFrame Shape (737, 11)\n",
      "\n",
      "Test DataFrame Shape (5, 9)\n",
      "[03:13:07] WARNING: /workspace/src/objective/regression_obj.cu:152: reg:linear is now deprecated in favor of reg:squarederror.\n",
      "[03:13:07] WARNING: /workspace/src/objective/regression_obj.cu:152: reg:linear is now deprecated in favor of reg:squarederror.\n"
     ]
    },
    {
     "name": "stdout",
     "output_type": "stream",
     "text": [
      "[03:13:07] WARNING: /workspace/src/objective/regression_obj.cu:152: reg:linear is now deprecated in favor of reg:squarederror.\n",
      "[03:13:07] WARNING: /workspace/src/objective/regression_obj.cu:152: reg:linear is now deprecated in favor of reg:squarederror.\n",
      "[03:13:07] WARNING: /workspace/src/objective/regression_obj.cu:152: reg:linear is now deprecated in favor of reg:squarederror.\n",
      "Current Day before update: 81\n",
      "\n",
      "Current Day after update: 82\n",
      "2nd\n",
      "\n",
      "Train DataFrame Shape (378, 9)\n",
      "\n",
      "Pool DataFrame Shape (746, 11)\n",
      "\n",
      "Test DataFrame Shape (6, 9)\n",
      "[03:13:07] WARNING: /workspace/src/objective/regression_obj.cu:152: reg:linear is now deprecated in favor of reg:squarederror.\n",
      "[03:13:07] WARNING: /workspace/src/objective/regression_obj.cu:152: reg:linear is now deprecated in favor of reg:squarederror.\n",
      "[03:13:07] WARNING: /workspace/src/objective/regression_obj.cu:152: reg:linear is now deprecated in favor of reg:squarederror.\n",
      "[03:13:07] WARNING: /workspace/src/objective/regression_obj.cu:152: reg:linear is now deprecated in favor of reg:squarederror.\n",
      "[03:13:07] WARNING: /workspace/src/objective/regression_obj.cu:152: reg:linear is now deprecated in favor of reg:squarederror.\n",
      "Current Day before update: 82\n",
      "\n",
      "Current Day after update: 83\n",
      "2nd\n",
      "\n",
      "Train DataFrame Shape (381, 9)\n",
      "\n",
      "Pool DataFrame Shape (755, 11)\n",
      "\n",
      "Test DataFrame Shape (6, 9)\n",
      "[03:13:07] WARNING: /workspace/src/objective/regression_obj.cu:152: reg:linear is now deprecated in favor of reg:squarederror.\n",
      "[03:13:07] WARNING: /workspace/src/objective/regression_obj.cu:152: reg:linear is now deprecated in favor of reg:squarederror.\n",
      "[03:13:07] WARNING: /workspace/src/objective/regression_obj.cu:152: reg:linear is now deprecated in favor of reg:squarederror.\n",
      "[03:13:07] WARNING: /workspace/src/objective/regression_obj.cu:152: reg:linear is now deprecated in favor of reg:squarederror.\n",
      "[03:13:07] WARNING: /workspace/src/objective/regression_obj.cu:152: reg:linear is now deprecated in favor of reg:squarederror.\n",
      "Current Day before update: 83\n",
      "\n",
      "Current Day after update: 84\n",
      "2nd\n",
      "\n",
      "Train DataFrame Shape (384, 9)\n",
      "\n",
      "Pool DataFrame Shape (764, 11)\n",
      "\n",
      "Test DataFrame Shape (6, 9)\n",
      "[03:13:08] WARNING: /workspace/src/objective/regression_obj.cu:152: reg:linear is now deprecated in favor of reg:squarederror.\n",
      "[03:13:08] WARNING: /workspace/src/objective/regression_obj.cu:152: reg:linear is now deprecated in favor of reg:squarederror.\n",
      "[03:13:08] WARNING: /workspace/src/objective/regression_obj.cu:152: reg:linear is now deprecated in favor of reg:squarederror.\n",
      "[03:13:08] WARNING: /workspace/src/objective/regression_obj.cu:152: reg:linear is now deprecated in favor of reg:squarederror.\n",
      "[03:13:08] WARNING: /workspace/src/objective/regression_obj.cu:152: reg:linear is now deprecated in favor of reg:squarederror.\n",
      "Current Day before update: 84\n",
      "\n",
      "Current Day after update: 85\n",
      "Stations added -  [1030.0]  on day  85\n",
      "2nd\n",
      "\n",
      "Train DataFrame Shape (387, 9)\n",
      "\n",
      "Pool DataFrame Shape (687, 11)\n",
      "\n",
      "Test DataFrame Shape (6, 9)\n",
      "[03:13:08] WARNING: /workspace/src/objective/regression_obj.cu:152: reg:linear is now deprecated in favor of reg:squarederror.\n",
      "[03:13:08] WARNING: /workspace/src/objective/regression_obj.cu:152: reg:linear is now deprecated in favor of reg:squarederror.\n",
      "[03:13:08] WARNING: /workspace/src/objective/regression_obj.cu:152: reg:linear is now deprecated in favor of reg:squarederror.\n",
      "[03:13:08] WARNING: /workspace/src/objective/regression_obj.cu:152: reg:linear is now deprecated in favor of reg:squarederror.\n",
      "[03:13:08] WARNING: /workspace/src/objective/regression_obj.cu:152: reg:linear is now deprecated in favor of reg:squarederror.\n",
      "Current Day before update: 85\n",
      "\n",
      "Current Day after update: 86\n",
      "2nd\n",
      "\n",
      "Train DataFrame Shape (391, 9)\n",
      "\n",
      "Pool DataFrame Shape (695, 11)\n",
      "\n",
      "Test DataFrame Shape (6, 9)\n",
      "[03:13:08] WARNING: /workspace/src/objective/regression_obj.cu:152: reg:linear is now deprecated in favor of reg:squarederror.\n",
      "[03:13:08] WARNING: /workspace/src/objective/regression_obj.cu:152: reg:linear is now deprecated in favor of reg:squarederror.\n",
      "[03:13:08] WARNING: /workspace/src/objective/regression_obj.cu:152: reg:linear is now deprecated in favor of reg:squarederror.\n",
      "[03:13:08] WARNING: /workspace/src/objective/regression_obj.cu:152: reg:linear is now deprecated in favor of reg:squarederror.\n",
      "[03:13:08] WARNING: /workspace/src/objective/regression_obj.cu:152: reg:linear is now deprecated in favor of reg:squarederror.\n",
      "Current Day before update: 86\n",
      "\n",
      "Current Day after update: 87\n",
      "2nd\n",
      "\n",
      "Train DataFrame Shape (395, 9)\n",
      "\n",
      "Pool DataFrame Shape (703, 11)\n",
      "\n",
      "Test DataFrame Shape (6, 9)\n",
      "[03:13:09] WARNING: /workspace/src/objective/regression_obj.cu:152: reg:linear is now deprecated in favor of reg:squarederror.\n",
      "[03:13:09] WARNING: /workspace/src/objective/regression_obj.cu:152: reg:linear is now deprecated in favor of reg:squarederror.\n",
      "[03:13:09] WARNING: /workspace/src/objective/regression_obj.cu:152: reg:linear is now deprecated in favor of reg:squarederror.\n",
      "[03:13:09] WARNING: /workspace/src/objective/regression_obj.cu:152: reg:linear is now deprecated in favor of reg:squarederror.\n",
      "[03:13:09] WARNING: /workspace/src/objective/regression_obj.cu:152: reg:linear is now deprecated in favor of reg:squarederror.\n",
      "Current Day before update: 87\n",
      "\n",
      "Current Day after update: 88\n",
      "2nd\n",
      "\n",
      "Train DataFrame Shape (399, 9)\n",
      "\n",
      "Pool DataFrame Shape (711, 11)\n",
      "\n",
      "Test DataFrame Shape (6, 9)\n",
      "[03:13:09] WARNING: /workspace/src/objective/regression_obj.cu:152: reg:linear is now deprecated in favor of reg:squarederror.\n",
      "[03:13:09] WARNING: /workspace/src/objective/regression_obj.cu:152: reg:linear is now deprecated in favor of reg:squarederror.\n",
      "[03:13:09] WARNING: /workspace/src/objective/regression_obj.cu:152: reg:linear is now deprecated in favor of reg:squarederror.\n",
      "[03:13:09] WARNING: /workspace/src/objective/regression_obj.cu:152: reg:linear is now deprecated in favor of reg:squarederror.\n",
      "[03:13:09] WARNING: /workspace/src/objective/regression_obj.cu:152: reg:linear is now deprecated in favor of reg:squarederror.\n",
      "Current Day before update: 88\n",
      "\n",
      "Current Day after update: 89\n",
      "2nd\n",
      "\n",
      "Train DataFrame Shape (384, 9)\n",
      "\n",
      "Pool DataFrame Shape (714, 11)\n",
      "\n",
      "Test DataFrame Shape (1, 9)\n",
      "[03:13:09] WARNING: /workspace/src/objective/regression_obj.cu:152: reg:linear is now deprecated in favor of reg:squarederror.\n",
      "[03:13:09] WARNING: /workspace/src/objective/regression_obj.cu:152: reg:linear is now deprecated in favor of reg:squarederror.\n",
      "[03:13:09] WARNING: /workspace/src/objective/regression_obj.cu:152: reg:linear is now deprecated in favor of reg:squarederror.\n",
      "[03:13:09] WARNING: /workspace/src/objective/regression_obj.cu:152: reg:linear is now deprecated in favor of reg:squarederror.\n",
      "[03:13:09] WARNING: /workspace/src/objective/regression_obj.cu:152: reg:linear is now deprecated in favor of reg:squarederror.\n",
      "Current Day before update: 89\n",
      "\n",
      "Current Day after update: 90\n",
      "Stations added -  [1002.0]  on day  90\n",
      "2nd\n",
      "\n",
      "Train DataFrame Shape (368, 9)\n",
      "\n",
      "Pool DataFrame Shape (629, 11)\n",
      "\n",
      "Test DataFrame Shape (1, 9)\n",
      "[03:13:10] WARNING: /workspace/src/objective/regression_obj.cu:152: reg:linear is now deprecated in favor of reg:squarederror.\n",
      "[03:13:10] WARNING: /workspace/src/objective/regression_obj.cu:152: reg:linear is now deprecated in favor of reg:squarederror.\n",
      "[03:13:10] WARNING: /workspace/src/objective/regression_obj.cu:152: reg:linear is now deprecated in favor of reg:squarederror.\n",
      "[03:13:10] WARNING: /workspace/src/objective/regression_obj.cu:152: reg:linear is now deprecated in favor of reg:squarederror.\n",
      "[03:13:10] WARNING: /workspace/src/objective/regression_obj.cu:152: reg:linear is now deprecated in favor of reg:squarederror.\n",
      "Current Day before update: 90\n",
      "\n",
      "Current Day after update: 91\n",
      "2nd\n",
      "\n",
      "Train DataFrame Shape (352, 9)\n",
      "\n",
      "Pool DataFrame Shape (632, 11)\n",
      "\n",
      "Test DataFrame Shape (1, 9)\n",
      "[03:13:10] WARNING: /workspace/src/objective/regression_obj.cu:152: reg:linear is now deprecated in favor of reg:squarederror.\n",
      "[03:13:10] WARNING: /workspace/src/objective/regression_obj.cu:152: reg:linear is now deprecated in favor of reg:squarederror.\n",
      "[03:13:10] WARNING: /workspace/src/objective/regression_obj.cu:152: reg:linear is now deprecated in favor of reg:squarederror.\n",
      "[03:13:10] WARNING: /workspace/src/objective/regression_obj.cu:152: reg:linear is now deprecated in favor of reg:squarederror.\n",
      "[03:13:10] WARNING: /workspace/src/objective/regression_obj.cu:152: reg:linear is now deprecated in favor of reg:squarederror.\n",
      "Current Day before update: 91\n",
      "\n",
      "Current Day after update: 92\n",
      "2nd\n",
      "\n",
      "Train DataFrame Shape (336, 9)\n",
      "\n",
      "Pool DataFrame Shape (635, 11)\n",
      "\n",
      "Test DataFrame Shape (1, 9)\n",
      "[03:13:10] WARNING: /workspace/src/objective/regression_obj.cu:152: reg:linear is now deprecated in favor of reg:squarederror.\n"
     ]
    },
    {
     "name": "stdout",
     "output_type": "stream",
     "text": [
      "[03:13:10] WARNING: /workspace/src/objective/regression_obj.cu:152: reg:linear is now deprecated in favor of reg:squarederror.\n",
      "[03:13:10] WARNING: /workspace/src/objective/regression_obj.cu:152: reg:linear is now deprecated in favor of reg:squarederror.\n",
      "[03:13:10] WARNING: /workspace/src/objective/regression_obj.cu:152: reg:linear is now deprecated in favor of reg:squarederror.\n",
      "[03:13:10] WARNING: /workspace/src/objective/regression_obj.cu:152: reg:linear is now deprecated in favor of reg:squarederror.\n",
      "Current Day before update: 92\n",
      "\n",
      "Current Day after update: 93\n",
      "2nd\n",
      "\n",
      "Train DataFrame Shape (320, 9)\n",
      "\n",
      "Pool DataFrame Shape (638, 11)\n",
      "\n",
      "Test DataFrame Shape (1, 9)\n",
      "[03:13:11] WARNING: /workspace/src/objective/regression_obj.cu:152: reg:linear is now deprecated in favor of reg:squarederror.\n",
      "[03:13:11] WARNING: /workspace/src/objective/regression_obj.cu:152: reg:linear is now deprecated in favor of reg:squarederror.\n",
      "[03:13:11] WARNING: /workspace/src/objective/regression_obj.cu:152: reg:linear is now deprecated in favor of reg:squarederror.\n",
      "[03:13:11] WARNING: /workspace/src/objective/regression_obj.cu:152: reg:linear is now deprecated in favor of reg:squarederror.\n",
      "[03:13:11] WARNING: /workspace/src/objective/regression_obj.cu:152: reg:linear is now deprecated in favor of reg:squarederror.\n",
      "Current Day before update: 93\n",
      "\n",
      "Current Day after update: 94\n",
      "2nd\n",
      "\n",
      "Train DataFrame Shape (305, 9)\n",
      "\n",
      "Pool DataFrame Shape (641, 11)\n",
      "\n",
      "Test DataFrame Shape (1, 9)\n",
      "[03:13:11] WARNING: /workspace/src/objective/regression_obj.cu:152: reg:linear is now deprecated in favor of reg:squarederror.\n",
      "[03:13:11] WARNING: /workspace/src/objective/regression_obj.cu:152: reg:linear is now deprecated in favor of reg:squarederror.\n",
      "[03:13:11] WARNING: /workspace/src/objective/regression_obj.cu:152: reg:linear is now deprecated in favor of reg:squarederror.\n",
      "[03:13:11] WARNING: /workspace/src/objective/regression_obj.cu:152: reg:linear is now deprecated in favor of reg:squarederror.\n",
      "[03:13:11] WARNING: /workspace/src/objective/regression_obj.cu:152: reg:linear is now deprecated in favor of reg:squarederror.\n",
      "Current Day before update: 94\n",
      "\n",
      "Current Day after update: 95\n",
      "Stations added -  [1006.0]  on day  95\n",
      "2nd\n",
      "\n",
      "Train DataFrame Shape (288, 9)\n",
      "\n",
      "Pool DataFrame Shape (555, 11)\n",
      "\n",
      "Test DataFrame Shape (1, 9)\n",
      "[03:13:11] WARNING: /workspace/src/objective/regression_obj.cu:152: reg:linear is now deprecated in favor of reg:squarederror.\n",
      "[03:13:11] WARNING: /workspace/src/objective/regression_obj.cu:152: reg:linear is now deprecated in favor of reg:squarederror.\n",
      "[03:13:11] WARNING: /workspace/src/objective/regression_obj.cu:152: reg:linear is now deprecated in favor of reg:squarederror.\n",
      "[03:13:11] WARNING: /workspace/src/objective/regression_obj.cu:152: reg:linear is now deprecated in favor of reg:squarederror.\n",
      "[03:13:11] WARNING: /workspace/src/objective/regression_obj.cu:152: reg:linear is now deprecated in favor of reg:squarederror.\n",
      "Current Day before update: 95\n",
      "\n",
      "Current Day after update: 96\n",
      "2nd\n",
      "\n",
      "Train DataFrame Shape (291, 9)\n",
      "\n",
      "Pool DataFrame Shape (561, 11)\n",
      "\n",
      "Test DataFrame Shape (6, 9)\n",
      "[03:13:12] WARNING: /workspace/src/objective/regression_obj.cu:152: reg:linear is now deprecated in favor of reg:squarederror.\n",
      "[03:13:12] WARNING: /workspace/src/objective/regression_obj.cu:152: reg:linear is now deprecated in favor of reg:squarederror.\n",
      "[03:13:12] WARNING: /workspace/src/objective/regression_obj.cu:152: reg:linear is now deprecated in favor of reg:squarederror.\n",
      "[03:13:12] WARNING: /workspace/src/objective/regression_obj.cu:152: reg:linear is now deprecated in favor of reg:squarederror.\n",
      "[03:13:12] WARNING: /workspace/src/objective/regression_obj.cu:152: reg:linear is now deprecated in favor of reg:squarederror.\n",
      "Current Day before update: 96\n",
      "\n",
      "Current Day after update: 97\n",
      "2nd\n",
      "\n",
      "Train DataFrame Shape (294, 9)\n",
      "\n",
      "Pool DataFrame Shape (567, 11)\n",
      "\n",
      "Test DataFrame Shape (6, 9)\n",
      "[03:13:12] WARNING: /workspace/src/objective/regression_obj.cu:152: reg:linear is now deprecated in favor of reg:squarederror.\n",
      "[03:13:12] WARNING: /workspace/src/objective/regression_obj.cu:152: reg:linear is now deprecated in favor of reg:squarederror.\n",
      "[03:13:12] WARNING: /workspace/src/objective/regression_obj.cu:152: reg:linear is now deprecated in favor of reg:squarederror.\n",
      "[03:13:12] WARNING: /workspace/src/objective/regression_obj.cu:152: reg:linear is now deprecated in favor of reg:squarederror.\n",
      "[03:13:12] WARNING: /workspace/src/objective/regression_obj.cu:152: reg:linear is now deprecated in favor of reg:squarederror.\n",
      "Current Day before update: 97\n",
      "\n",
      "Current Day after update: 98\n",
      "2nd\n",
      "\n",
      "Train DataFrame Shape (297, 9)\n",
      "\n",
      "Pool DataFrame Shape (573, 11)\n",
      "\n",
      "Test DataFrame Shape (6, 9)\n",
      "[03:13:12] WARNING: /workspace/src/objective/regression_obj.cu:152: reg:linear is now deprecated in favor of reg:squarederror.\n",
      "[03:13:12] WARNING: /workspace/src/objective/regression_obj.cu:152: reg:linear is now deprecated in favor of reg:squarederror.\n",
      "[03:13:12] WARNING: /workspace/src/objective/regression_obj.cu:152: reg:linear is now deprecated in favor of reg:squarederror.\n",
      "[03:13:12] WARNING: /workspace/src/objective/regression_obj.cu:152: reg:linear is now deprecated in favor of reg:squarederror.\n",
      "[03:13:12] WARNING: /workspace/src/objective/regression_obj.cu:152: reg:linear is now deprecated in favor of reg:squarederror.\n",
      "Current Day before update: 98\n",
      "\n",
      "Current Day after update: 99\n",
      "2nd\n",
      "\n",
      "Train DataFrame Shape (300, 9)\n",
      "\n",
      "Pool DataFrame Shape (579, 11)\n",
      "\n",
      "Test DataFrame Shape (6, 9)\n",
      "[03:13:12] WARNING: /workspace/src/objective/regression_obj.cu:152: reg:linear is now deprecated in favor of reg:squarederror.\n",
      "[03:13:12] WARNING: /workspace/src/objective/regression_obj.cu:152: reg:linear is now deprecated in favor of reg:squarederror.\n",
      "[03:13:12] WARNING: /workspace/src/objective/regression_obj.cu:152: reg:linear is now deprecated in favor of reg:squarederror.\n",
      "[03:13:13] WARNING: /workspace/src/objective/regression_obj.cu:152: reg:linear is now deprecated in favor of reg:squarederror.\n",
      "[03:13:13] WARNING: /workspace/src/objective/regression_obj.cu:152: reg:linear is now deprecated in favor of reg:squarederror.\n",
      "Current Day before update: 99\n",
      "\n",
      "Current Day after update: 100\n",
      "Stations added -  [1013.0]  on day  100\n",
      "2nd\n",
      "\n",
      "Train DataFrame Shape (303, 9)\n",
      "\n",
      "Pool DataFrame Shape (484, 11)\n",
      "\n",
      "Test DataFrame Shape (6, 9)\n",
      "[03:13:13] WARNING: /workspace/src/objective/regression_obj.cu:152: reg:linear is now deprecated in favor of reg:squarederror.\n",
      "[03:13:13] WARNING: /workspace/src/objective/regression_obj.cu:152: reg:linear is now deprecated in favor of reg:squarederror.\n",
      "[03:13:13] WARNING: /workspace/src/objective/regression_obj.cu:152: reg:linear is now deprecated in favor of reg:squarederror.\n",
      "[03:13:13] WARNING: /workspace/src/objective/regression_obj.cu:152: reg:linear is now deprecated in favor of reg:squarederror.\n",
      "[03:13:13] WARNING: /workspace/src/objective/regression_obj.cu:152: reg:linear is now deprecated in favor of reg:squarederror.\n",
      "Current Day before update: 100\n",
      "\n",
      "Current Day after update: 101\n",
      "2nd\n",
      "\n",
      "Train DataFrame Shape (307, 9)\n",
      "\n",
      "Pool DataFrame Shape (488, 11)\n",
      "\n",
      "Test DataFrame Shape (6, 9)\n",
      "[03:13:13] WARNING: /workspace/src/objective/regression_obj.cu:152: reg:linear is now deprecated in favor of reg:squarederror.\n",
      "[03:13:13] WARNING: /workspace/src/objective/regression_obj.cu:152: reg:linear is now deprecated in favor of reg:squarederror.\n",
      "[03:13:13] WARNING: /workspace/src/objective/regression_obj.cu:152: reg:linear is now deprecated in favor of reg:squarederror.\n",
      "[03:13:13] WARNING: /workspace/src/objective/regression_obj.cu:152: reg:linear is now deprecated in favor of reg:squarederror.\n",
      "[03:13:13] WARNING: /workspace/src/objective/regression_obj.cu:152: reg:linear is now deprecated in favor of reg:squarederror.\n",
      "Current Day before update: 101\n",
      "\n",
      "Current Day after update: 102\n",
      "2nd\n",
      "\n",
      "Train DataFrame Shape (311, 9)\n",
      "\n",
      "Pool DataFrame Shape (492, 11)\n",
      "\n",
      "Test DataFrame Shape (6, 9)\n",
      "[03:13:13] WARNING: /workspace/src/objective/regression_obj.cu:152: reg:linear is now deprecated in favor of reg:squarederror.\n",
      "[03:13:13] WARNING: /workspace/src/objective/regression_obj.cu:152: reg:linear is now deprecated in favor of reg:squarederror.\n",
      "[03:13:13] WARNING: /workspace/src/objective/regression_obj.cu:152: reg:linear is now deprecated in favor of reg:squarederror.\n",
      "[03:13:13] WARNING: /workspace/src/objective/regression_obj.cu:152: reg:linear is now deprecated in favor of reg:squarederror.\n",
      "[03:13:14] WARNING: /workspace/src/objective/regression_obj.cu:152: reg:linear is now deprecated in favor of reg:squarederror.\n",
      "Current Day before update: 102\n",
      "\n",
      "Current Day after update: 103\n"
     ]
    },
    {
     "name": "stdout",
     "output_type": "stream",
     "text": [
      "2nd\n",
      "\n",
      "Train DataFrame Shape (317, 9)\n",
      "\n",
      "Pool DataFrame Shape (497, 11)\n",
      "\n",
      "Test DataFrame Shape (6, 9)\n",
      "[03:13:14] WARNING: /workspace/src/objective/regression_obj.cu:152: reg:linear is now deprecated in favor of reg:squarederror.\n",
      "[03:13:14] WARNING: /workspace/src/objective/regression_obj.cu:152: reg:linear is now deprecated in favor of reg:squarederror.\n",
      "[03:13:14] WARNING: /workspace/src/objective/regression_obj.cu:152: reg:linear is now deprecated in favor of reg:squarederror.\n",
      "[03:13:14] WARNING: /workspace/src/objective/regression_obj.cu:152: reg:linear is now deprecated in favor of reg:squarederror.\n",
      "[03:13:14] WARNING: /workspace/src/objective/regression_obj.cu:152: reg:linear is now deprecated in favor of reg:squarederror.\n",
      "Current Day before update: 103\n",
      "\n",
      "Current Day after update: 104\n",
      "2nd\n",
      "\n",
      "Train DataFrame Shape (323, 9)\n",
      "\n",
      "Pool DataFrame Shape (502, 11)\n",
      "\n",
      "Test DataFrame Shape (6, 9)\n",
      "[03:13:14] WARNING: /workspace/src/objective/regression_obj.cu:152: reg:linear is now deprecated in favor of reg:squarederror.\n",
      "[03:13:14] WARNING: /workspace/src/objective/regression_obj.cu:152: reg:linear is now deprecated in favor of reg:squarederror.\n",
      "[03:13:14] WARNING: /workspace/src/objective/regression_obj.cu:152: reg:linear is now deprecated in favor of reg:squarederror.\n",
      "[03:13:14] WARNING: /workspace/src/objective/regression_obj.cu:152: reg:linear is now deprecated in favor of reg:squarederror.\n",
      "[03:13:14] WARNING: /workspace/src/objective/regression_obj.cu:152: reg:linear is now deprecated in favor of reg:squarederror.\n",
      "Current Day before update: 104\n",
      "\n",
      "Current Day after update: 105\n",
      "Stations added -  [1012.0]  on day  105\n",
      "2nd\n",
      "\n",
      "Train DataFrame Shape (329, 9)\n",
      "\n",
      "Pool DataFrame Shape (408, 11)\n",
      "\n",
      "Test DataFrame Shape (6, 9)\n",
      "[03:13:14] WARNING: /workspace/src/objective/regression_obj.cu:152: reg:linear is now deprecated in favor of reg:squarederror.\n",
      "[03:13:14] WARNING: /workspace/src/objective/regression_obj.cu:152: reg:linear is now deprecated in favor of reg:squarederror.\n",
      "[03:13:14] WARNING: /workspace/src/objective/regression_obj.cu:152: reg:linear is now deprecated in favor of reg:squarederror.\n",
      "[03:13:14] WARNING: /workspace/src/objective/regression_obj.cu:152: reg:linear is now deprecated in favor of reg:squarederror.\n",
      "[03:13:14] WARNING: /workspace/src/objective/regression_obj.cu:152: reg:linear is now deprecated in favor of reg:squarederror.\n",
      "Current Day before update: 105\n",
      "\n",
      "Current Day after update: 106\n",
      "2nd\n",
      "\n",
      "Train DataFrame Shape (333, 9)\n",
      "\n",
      "Pool DataFrame Shape (412, 11)\n",
      "\n",
      "Test DataFrame Shape (6, 9)\n",
      "[03:13:15] WARNING: /workspace/src/objective/regression_obj.cu:152: reg:linear is now deprecated in favor of reg:squarederror.\n",
      "[03:13:15] WARNING: /workspace/src/objective/regression_obj.cu:152: reg:linear is now deprecated in favor of reg:squarederror.\n",
      "[03:13:15] WARNING: /workspace/src/objective/regression_obj.cu:152: reg:linear is now deprecated in favor of reg:squarederror.\n",
      "[03:13:15] WARNING: /workspace/src/objective/regression_obj.cu:152: reg:linear is now deprecated in favor of reg:squarederror.\n",
      "[03:13:15] WARNING: /workspace/src/objective/regression_obj.cu:152: reg:linear is now deprecated in favor of reg:squarederror.\n",
      "Current Day before update: 106\n",
      "\n",
      "Current Day after update: 107\n",
      "2nd\n",
      "\n",
      "Train DataFrame Shape (337, 9)\n",
      "\n",
      "Pool DataFrame Shape (416, 11)\n",
      "\n",
      "Test DataFrame Shape (6, 9)\n",
      "[03:13:15] WARNING: /workspace/src/objective/regression_obj.cu:152: reg:linear is now deprecated in favor of reg:squarederror.\n",
      "[03:13:15] WARNING: /workspace/src/objective/regression_obj.cu:152: reg:linear is now deprecated in favor of reg:squarederror.\n",
      "[03:13:15] WARNING: /workspace/src/objective/regression_obj.cu:152: reg:linear is now deprecated in favor of reg:squarederror.\n",
      "[03:13:15] WARNING: /workspace/src/objective/regression_obj.cu:152: reg:linear is now deprecated in favor of reg:squarederror.\n",
      "[03:13:15] WARNING: /workspace/src/objective/regression_obj.cu:152: reg:linear is now deprecated in favor of reg:squarederror.\n",
      "Current Day before update: 107\n",
      "\n",
      "Current Day after update: 108\n",
      "2nd\n",
      "\n",
      "Train DataFrame Shape (341, 9)\n",
      "\n",
      "Pool DataFrame Shape (420, 11)\n",
      "\n",
      "Test DataFrame Shape (6, 9)\n",
      "[03:13:15] WARNING: /workspace/src/objective/regression_obj.cu:152: reg:linear is now deprecated in favor of reg:squarederror.\n",
      "[03:13:15] WARNING: /workspace/src/objective/regression_obj.cu:152: reg:linear is now deprecated in favor of reg:squarederror.\n",
      "[03:13:15] WARNING: /workspace/src/objective/regression_obj.cu:152: reg:linear is now deprecated in favor of reg:squarederror.\n",
      "[03:13:15] WARNING: /workspace/src/objective/regression_obj.cu:152: reg:linear is now deprecated in favor of reg:squarederror.\n",
      "[03:13:15] WARNING: /workspace/src/objective/regression_obj.cu:152: reg:linear is now deprecated in favor of reg:squarederror.\n",
      "Current Day before update: 108\n",
      "\n",
      "Current Day after update: 109\n",
      "2nd\n",
      "\n",
      "Train DataFrame Shape (363, 9)\n",
      "\n",
      "Pool DataFrame Shape (424, 11)\n",
      "\n",
      "Test DataFrame Shape (6, 9)\n",
      "[03:13:16] WARNING: /workspace/src/objective/regression_obj.cu:152: reg:linear is now deprecated in favor of reg:squarederror.\n",
      "[03:13:16] WARNING: /workspace/src/objective/regression_obj.cu:152: reg:linear is now deprecated in favor of reg:squarederror.\n",
      "[03:13:16] WARNING: /workspace/src/objective/regression_obj.cu:152: reg:linear is now deprecated in favor of reg:squarederror.\n",
      "[03:13:16] WARNING: /workspace/src/objective/regression_obj.cu:152: reg:linear is now deprecated in favor of reg:squarederror.\n",
      "[03:13:16] WARNING: /workspace/src/objective/regression_obj.cu:152: reg:linear is now deprecated in favor of reg:squarederror.\n"
     ]
    }
   ],
   "source": [
    "al.querybycommittee()"
   ]
  },
  {
   "cell_type": "code",
   "execution_count": 31,
   "metadata": {},
   "outputs": [
    {
     "data": {
      "text/plain": [
       "[<matplotlib.lines.Line2D at 0x7f8fa0313d10>]"
      ]
     },
     "execution_count": 31,
     "metadata": {},
     "output_type": "execute_result"
    },
    {
     "data": {
      "image/png": "[encoded data removed]",
      "text/plain": [
       "<Figure size 432x288 with 1 Axes>"
      ]
     },
     "metadata": {
      "needs_background": "light"
     },
     "output_type": "display_data"
    }
   ],
   "source": [
    "plt.plot(al.qbc_rmse)\n",
    "plt.plot(gp.gp_rmse)"
   ]
  },
  {
   "cell_type": "code",
   "execution_count": 32,
   "metadata": {},
   "outputs": [
    {
     "data": {
      "text/plain": [
       "14.690215977990356"
      ]
     },
     "execution_count": 32,
     "metadata": {},
     "output_type": "execute_result"
    }
   ],
   "source": [
    "al.qbc_rmse.mean()"
   ]
  },
  {
   "cell_type": "code",
   "execution_count": 33,
   "metadata": {},
   "outputs": [
    {
     "data": {
      "text/plain": [
       "12.020516736532047"
      ]
     },
     "execution_count": 33,
     "metadata": {},
     "output_type": "execute_result"
    }
   ],
   "source": [
    "gp.gp_rmse.mean()"
   ]
  }
 ],
 "metadata": {
  "kernelspec": {
   "display_name": "Python 3",
   "language": "python",
   "name": "python3"
  },
  "language_info": {
   "codemirror_mode": {
    "name": "ipython",
    "version": 3
   },
   "file_extension": ".py",
   "mimetype": "text/x-python",
   "name": "python",
   "nbconvert_exporter": "python",
   "pygments_lexer": "ipython3",
   "version": "3.7.4"
  }
 },
 "nbformat": 4,
 "nbformat_minor": 2
}
