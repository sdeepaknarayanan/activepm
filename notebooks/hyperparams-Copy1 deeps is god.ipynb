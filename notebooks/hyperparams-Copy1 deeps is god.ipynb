{
 "cells": [
  {
   "cell_type": "code",
   "execution_count": 11,
   "metadata": {},
   "outputs": [],
   "source": [
    "import os\n",
    "import sys\n",
    "import time\n",
    "import gpflow\n",
    "import argparse\n",
    "import numpy as np\n",
    "import pandas as pd\n",
    "import tensorflow as tf\n",
    "import matplotlib.pyplot as plt\n",
    "from sklearn.model_selection import KFold\n",
    "\n",
    "from sklearn.linear_model import Lasso\n",
    "from sklearn.neighbors import KNeighborsRegressor\n",
    "import xgboost"
   ]
  },
  {
   "cell_type": "code",
   "execution_count": 12,
   "metadata": {},
   "outputs": [],
   "source": [
    "def setRegHy(reg):\n",
    "    '''Sets relevant hyperparameters and regressor, based on the args passed'''\n",
    "    hyperparameters = [{}] # first use the default hyperparams :)\n",
    "\n",
    "    if reg == 'svr':\n",
    "        from sklearn.svm import SVR\n",
    "        Regressor = SVR\n",
    "        hyperparameters = [] # SVR cries when we pass empty params\n",
    "        C = [10**i for i in [-3, -2, 0, 1, 3, 5]]\n",
    "\n",
    "        for c in C:\n",
    "            hy = {\n",
    "               'C': c,\n",
    "               'gamma': 'auto'\n",
    "            }\n",
    "            hyperparameters.append(hy)\n",
    "\n",
    "    elif reg == 'knn':\n",
    "        Regressor = KNeighborsRegressor\n",
    "        n_neighbors = [i for i in range(3, 20, 2)]\n",
    "        weights=['distance']#, 'uniform'] # essentially idw\n",
    "        for n in n_neighbors:\n",
    "            for w in weights:\n",
    "                hy = {\n",
    "                    'n_neighbors': n,\n",
    "                    'weights': w\n",
    "                }\n",
    "                hyperparameters.append(hy)\n",
    "\n",
    "    elif reg == 'las':\n",
    "        Regressor = Lasso\n",
    "        alphas = [0.001, 0.01, 0.1, 1, 10, 100, 1000]\n",
    "        for alpha in (alphas):\n",
    "            hy = { 'alpha': alpha }\n",
    "            hyperparameters.append(hy)\n",
    "\n",
    "    elif reg == 'xgb':\n",
    "        Regressor = xgboost.XGBRegressor\n",
    "        # hyperparameters given to be searched by Deepak\n",
    "        depths = [10, 50]\n",
    "        lrs = [0.01, 0.1, 1]\n",
    "        estimators = [10, 50]\n",
    "        for depth in depths:\n",
    "            for lr in lrs:\n",
    "                for estimator in estimators:\n",
    "                    hy = {\n",
    "                        'max_depth': depth,\n",
    "                        'learning_rate': lr,\n",
    "                        'n_estimators': estimator,\n",
    "            'n_jobs': -1,\n",
    "                    }\n",
    "                    hyperparameters.append(hy)\n",
    "\n",
    "    elif reg == 'xgbRF':\n",
    "        Regressor = xgboost.XGBRFRegressor\n",
    "        # hyperparameters given to be searched by Deepak\n",
    "        depths = [10, 50]\n",
    "        lrs = [0.01, 0.1, 1]\n",
    "        estimators = [10, 50]\n",
    "        for depth in depths:\n",
    "            for lr in lrs:\n",
    "                for estimator in estimators:\n",
    "                    hy = {\n",
    "                        'max_depth': depth,\n",
    "                        'learning_rate': lr,\n",
    "                        'n_estimators': estimator,\n",
    "            'n_jobs': -1,\n",
    "                    }\n",
    "                    hyperparameters.append(hy)\n",
    "\n",
    "    elif reg in ['gpST', 'gpFULL']:\n",
    "        Regressor = gpflow.models.GPR\n",
    "        config = tf.ConfigProto()\n",
    "        config.gpu_options.allow_growth=True\n",
    "        sess = tf.Session(config=config)\n",
    "\n",
    "    else:\n",
    "        raise ValueError(\"We need a predefined Regressor, for sane hyperparameters\")\n",
    "    return (Regressor, hyperparameters)\n"
   ]
  },
  {
   "cell_type": "code",
   "execution_count": 13,
   "metadata": {},
   "outputs": [],
   "source": [
    "d = {0: 313, 10: 275, 12: 26, 4: 288, 5: 18, 6: 19, 11: 25, 3: 12, 9: 12, 8: 2}"
   ]
  },
  {
   "cell_type": "code",
   "execution_count": 14,
   "metadata": {},
   "outputs": [
    {
     "name": "stdout",
     "output_type": "stream",
     "text": [
      "8 -- 2\n",
      "3 -- 12\n",
      "9 -- 12\n",
      "5 -- 18\n",
      "6 -- 19\n",
      "11 -- 25\n",
      "12 -- 26\n",
      "10 -- 275\n",
      "4 -- 288\n",
      "0 -- 313\n"
     ]
    },
    {
     "data": {
      "text/plain": [
       "[None, None, None, None, None, None, None, None, None, None]"
      ]
     },
     "execution_count": 14,
     "metadata": {},
     "output_type": "execute_result"
    }
   ],
   "source": [
    "[print (k, \"--\", v) for k, v in sorted(d.items(), key=lambda x:x[1])]"
   ]
  },
  {
   "cell_type": "code",
   "execution_count": 15,
   "metadata": {},
   "outputs": [
    {
     "name": "stdout",
     "output_type": "stream",
     "text": [
      "0 {}\n",
      "4 {'max_depth': 10, 'learning_rate': 0.1, 'n_estimators': 50, 'n_jobs': -1}\n",
      "10 {'max_depth': 50, 'learning_rate': 0.1, 'n_estimators': 50, 'n_jobs': -1}\n",
      "11 {'max_depth': 50, 'learning_rate': 1, 'n_estimators': 10, 'n_jobs': -1}\n",
      "12 {'max_depth': 50, 'learning_rate': 1, 'n_estimators': 50, 'n_jobs': -1}\n"
     ]
    },
    {
     "data": {
      "text/plain": [
       "[None, None, None, None, None]"
      ]
     },
     "execution_count": 15,
     "metadata": {},
     "output_type": "execute_result"
    }
   ],
   "source": [
    "_, hyperparameters = setRegHy(\"xgb\")\n",
    "[print (ix, hy) for ix, hy in enumerate(hyperparameters) if ix in [0, 4, 10, 11, 12]]"
   ]
  },
  {
   "cell_type": "code",
   "execution_count": 16,
   "metadata": {
    "scrolled": true
   },
   "outputs": [
    {
     "name": "stdout",
     "output_type": "stream",
     "text": [
      "0 {}\n",
      "4 {'max_depth': 10, 'learning_rate': 0.1, 'n_estimators': 50, 'n_jobs': -1}\n",
      "10 {'max_depth': 50, 'learning_rate': 0.1, 'n_estimators': 50, 'n_jobs': -1}\n",
      "11 {'max_depth': 50, 'learning_rate': 1, 'n_estimators': 10, 'n_jobs': -1}\n",
      "12 {'max_depth': 50, 'learning_rate': 1, 'n_estimators': 50, 'n_jobs': -1}\n"
     ]
    },
    {
     "data": {
      "text/plain": [
       "[None, None, None, None, None]"
      ]
     },
     "execution_count": 16,
     "metadata": {},
     "output_type": "execute_result"
    }
   ],
   "source": [
    "_, hyperparameters = setRegHy(\"xgb\")\n",
    "[print (ix, hy) for ix, hy in enumerate(hyperparameters) if ix in [0, 4, 10, 11, 12]]"
   ]
  },
  {
   "cell_type": "markdown",
   "metadata": {},
   "source": [
    "\n",
    "# KNNN"
   ]
  },
  {
   "cell_type": "code",
   "execution_count": 17,
   "metadata": {},
   "outputs": [
    {
     "name": "stdout",
     "output_type": "stream",
     "text": [
      "7 -- 19\n",
      "0 -- 19\n",
      "6 -- 20\n",
      "8 -- 22\n",
      "9 -- 26\n",
      "5 -- 36\n",
      "4 -- 45\n",
      "3 -- 69\n",
      "2 -- 135\n",
      "1 -- 599\n"
     ]
    },
    {
     "data": {
      "text/plain": [
       "[None, None, None, None, None, None, None, None, None, None]"
      ]
     },
     "execution_count": 17,
     "metadata": {},
     "output_type": "execute_result"
    }
   ],
   "source": [
    "d = {2: 135, 1: 599, 5: 36, 6: 20, 9: 26, 8: 22, 4: 45, 3: 69, 7: 19, 0: 19}\n",
    "[print (k, \"--\", v) for k, v in sorted(d.items(), key=lambda x:x[1])]"
   ]
  },
  {
   "cell_type": "code",
   "execution_count": 18,
   "metadata": {},
   "outputs": [
    {
     "name": "stdout",
     "output_type": "stream",
     "text": [
      "1 {'n_neighbors': 3, 'weights': 'distance'}\n",
      "2 {'n_neighbors': 5, 'weights': 'distance'}\n",
      "3 {'n_neighbors': 7, 'weights': 'distance'}\n",
      "4 {'n_neighbors': 9, 'weights': 'distance'}\n",
      "5 {'n_neighbors': 11, 'weights': 'distance'}\n"
     ]
    },
    {
     "data": {
      "text/plain": [
       "[None, None, None, None, None]"
      ]
     },
     "execution_count": 18,
     "metadata": {},
     "output_type": "execute_result"
    }
   ],
   "source": [
    "_, hyperparameters = setRegHy(\"knn\")\n",
    "[print (ix, hy) for ix, hy in enumerate(hyperparameters) if ix in [1, 2, 3, 4, 5]]"
   ]
  },
  {
   "cell_type": "code",
   "execution_count": null,
   "metadata": {},
   "outputs": [],
   "source": []
  },
  {
   "cell_type": "code",
   "execution_count": null,
   "metadata": {},
   "outputs": [],
   "source": []
  }
 ],
 "metadata": {
  "kernelspec": {
   "display_name": "Python 3",
   "language": "python",
   "name": "python3"
  },
  "language_info": {
   "codemirror_mode": {
    "name": "ipython",
    "version": 3
   },
   "file_extension": ".py",
   "mimetype": "text/x-python",
   "name": "python",
   "nbconvert_exporter": "python",
   "pygments_lexer": "ipython3",
   "version": "3.6.8"
  }
 },
 "nbformat": 4,
 "nbformat_minor": 2
}
