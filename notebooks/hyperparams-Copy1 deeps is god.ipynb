{
 "cells": [
  {
   "cell_type": "code",
   "execution_count": 1,
   "metadata": {},
   "outputs": [
    {
     "name": "stderr",
     "output_type": "stream",
     "text": [
      "/home/apoorv/Desktop/github/.env/lib/python3.6/site-packages/tensorflow/python/framework/dtypes.py:516: FutureWarning: Passing (type, 1) or '1type' as a synonym of type is deprecated; in a future version of numpy, it will be understood as (type, (1,)) / '(1,)type'.\n",
      "  _np_qint8 = np.dtype([(\"qint8\", np.int8, 1)])\n",
      "/home/apoorv/Desktop/github/.env/lib/python3.6/site-packages/tensorflow/python/framework/dtypes.py:517: FutureWarning: Passing (type, 1) or '1type' as a synonym of type is deprecated; in a future version of numpy, it will be understood as (type, (1,)) / '(1,)type'.\n",
      "  _np_quint8 = np.dtype([(\"quint8\", np.uint8, 1)])\n",
      "/home/apoorv/Desktop/github/.env/lib/python3.6/site-packages/tensorflow/python/framework/dtypes.py:518: FutureWarning: Passing (type, 1) or '1type' as a synonym of type is deprecated; in a future version of numpy, it will be understood as (type, (1,)) / '(1,)type'.\n",
      "  _np_qint16 = np.dtype([(\"qint16\", np.int16, 1)])\n",
      "/home/apoorv/Desktop/github/.env/lib/python3.6/site-packages/tensorflow/python/framework/dtypes.py:519: FutureWarning: Passing (type, 1) or '1type' as a synonym of type is deprecated; in a future version of numpy, it will be understood as (type, (1,)) / '(1,)type'.\n",
      "  _np_quint16 = np.dtype([(\"quint16\", np.uint16, 1)])\n",
      "/home/apoorv/Desktop/github/.env/lib/python3.6/site-packages/tensorflow/python/framework/dtypes.py:520: FutureWarning: Passing (type, 1) or '1type' as a synonym of type is deprecated; in a future version of numpy, it will be understood as (type, (1,)) / '(1,)type'.\n",
      "  _np_qint32 = np.dtype([(\"qint32\", np.int32, 1)])\n",
      "/home/apoorv/Desktop/github/.env/lib/python3.6/site-packages/tensorflow/python/framework/dtypes.py:525: FutureWarning: Passing (type, 1) or '1type' as a synonym of type is deprecated; in a future version of numpy, it will be understood as (type, (1,)) / '(1,)type'.\n",
      "  np_resource = np.dtype([(\"resource\", np.ubyte, 1)])\n"
     ]
    },
    {
     "name": "stdout",
     "output_type": "stream",
     "text": [
      "WARNING:tensorflow:From /home/apoorv/Desktop/github/.env/lib/python3.6/site-packages/gpflow/session_manager.py:31: The name tf.Session is deprecated. Please use tf.compat.v1.Session instead.\n",
      "\n"
     ]
    },
    {
     "name": "stderr",
     "output_type": "stream",
     "text": [
      "/home/apoorv/Desktop/github/.env/lib/python3.6/site-packages/tensorboard/compat/tensorflow_stub/dtypes.py:541: FutureWarning: Passing (type, 1) or '1type' as a synonym of type is deprecated; in a future version of numpy, it will be understood as (type, (1,)) / '(1,)type'.\n",
      "  _np_qint8 = np.dtype([(\"qint8\", np.int8, 1)])\n",
      "/home/apoorv/Desktop/github/.env/lib/python3.6/site-packages/tensorboard/compat/tensorflow_stub/dtypes.py:542: FutureWarning: Passing (type, 1) or '1type' as a synonym of type is deprecated; in a future version of numpy, it will be understood as (type, (1,)) / '(1,)type'.\n",
      "  _np_quint8 = np.dtype([(\"quint8\", np.uint8, 1)])\n",
      "/home/apoorv/Desktop/github/.env/lib/python3.6/site-packages/tensorboard/compat/tensorflow_stub/dtypes.py:543: FutureWarning: Passing (type, 1) or '1type' as a synonym of type is deprecated; in a future version of numpy, it will be understood as (type, (1,)) / '(1,)type'.\n",
      "  _np_qint16 = np.dtype([(\"qint16\", np.int16, 1)])\n",
      "/home/apoorv/Desktop/github/.env/lib/python3.6/site-packages/tensorboard/compat/tensorflow_stub/dtypes.py:544: FutureWarning: Passing (type, 1) or '1type' as a synonym of type is deprecated; in a future version of numpy, it will be understood as (type, (1,)) / '(1,)type'.\n",
      "  _np_quint16 = np.dtype([(\"quint16\", np.uint16, 1)])\n",
      "/home/apoorv/Desktop/github/.env/lib/python3.6/site-packages/tensorboard/compat/tensorflow_stub/dtypes.py:545: FutureWarning: Passing (type, 1) or '1type' as a synonym of type is deprecated; in a future version of numpy, it will be understood as (type, (1,)) / '(1,)type'.\n",
      "  _np_qint32 = np.dtype([(\"qint32\", np.int32, 1)])\n",
      "/home/apoorv/Desktop/github/.env/lib/python3.6/site-packages/tensorboard/compat/tensorflow_stub/dtypes.py:550: FutureWarning: Passing (type, 1) or '1type' as a synonym of type is deprecated; in a future version of numpy, it will be understood as (type, (1,)) / '(1,)type'.\n",
      "  np_resource = np.dtype([(\"resource\", np.ubyte, 1)])\n",
      "WARNING:tensorflow:From /home/apoorv/Desktop/github/.env/lib/python3.6/site-packages/gpflow/session_manager.py:31: The name tf.Session is deprecated. Please use tf.compat.v1.Session instead.\n",
      "\n"
     ]
    },
    {
     "name": "stdout",
     "output_type": "stream",
     "text": [
      "WARNING:tensorflow:From /home/apoorv/Desktop/github/.env/lib/python3.6/site-packages/gpflow/misc.py:27: The name tf.GraphKeys is deprecated. Please use tf.compat.v1.GraphKeys instead.\n",
      "\n"
     ]
    },
    {
     "name": "stderr",
     "output_type": "stream",
     "text": [
      "WARNING:tensorflow:From /home/apoorv/Desktop/github/.env/lib/python3.6/site-packages/gpflow/misc.py:27: The name tf.GraphKeys is deprecated. Please use tf.compat.v1.GraphKeys instead.\n",
      "\n"
     ]
    },
    {
     "name": "stdout",
     "output_type": "stream",
     "text": [
      "WARNING:tensorflow:From /home/apoorv/Desktop/github/.env/lib/python3.6/site-packages/gpflow/training/tensorflow_optimizer.py:169: The name tf.train.AdadeltaOptimizer is deprecated. Please use tf.compat.v1.train.AdadeltaOptimizer instead.\n",
      "\n"
     ]
    },
    {
     "name": "stderr",
     "output_type": "stream",
     "text": [
      "WARNING:tensorflow:From /home/apoorv/Desktop/github/.env/lib/python3.6/site-packages/gpflow/training/tensorflow_optimizer.py:169: The name tf.train.AdadeltaOptimizer is deprecated. Please use tf.compat.v1.train.AdadeltaOptimizer instead.\n",
      "\n"
     ]
    },
    {
     "name": "stdout",
     "output_type": "stream",
     "text": [
      "WARNING:tensorflow:From /home/apoorv/Desktop/github/.env/lib/python3.6/site-packages/gpflow/training/tensorflow_optimizer.py:156: The name tf.train.Optimizer is deprecated. Please use tf.compat.v1.train.Optimizer instead.\n",
      "\n"
     ]
    },
    {
     "name": "stderr",
     "output_type": "stream",
     "text": [
      "WARNING:tensorflow:From /home/apoorv/Desktop/github/.env/lib/python3.6/site-packages/gpflow/training/tensorflow_optimizer.py:156: The name tf.train.Optimizer is deprecated. Please use tf.compat.v1.train.Optimizer instead.\n",
      "\n"
     ]
    },
    {
     "name": "stdout",
     "output_type": "stream",
     "text": [
      "WARNING:tensorflow:From /home/apoorv/Desktop/github/.env/lib/python3.6/site-packages/gpflow/training/tensorflow_optimizer.py:169: The name tf.train.AdagradDAOptimizer is deprecated. Please use tf.compat.v1.train.AdagradDAOptimizer instead.\n",
      "\n"
     ]
    },
    {
     "name": "stderr",
     "output_type": "stream",
     "text": [
      "WARNING:tensorflow:From /home/apoorv/Desktop/github/.env/lib/python3.6/site-packages/gpflow/training/tensorflow_optimizer.py:169: The name tf.train.AdagradDAOptimizer is deprecated. Please use tf.compat.v1.train.AdagradDAOptimizer instead.\n",
      "\n"
     ]
    },
    {
     "name": "stdout",
     "output_type": "stream",
     "text": [
      "WARNING:tensorflow:From /home/apoorv/Desktop/github/.env/lib/python3.6/site-packages/gpflow/training/tensorflow_optimizer.py:169: The name tf.train.AdagradOptimizer is deprecated. Please use tf.compat.v1.train.AdagradOptimizer instead.\n",
      "\n"
     ]
    },
    {
     "name": "stderr",
     "output_type": "stream",
     "text": [
      "WARNING:tensorflow:From /home/apoorv/Desktop/github/.env/lib/python3.6/site-packages/gpflow/training/tensorflow_optimizer.py:169: The name tf.train.AdagradOptimizer is deprecated. Please use tf.compat.v1.train.AdagradOptimizer instead.\n",
      "\n"
     ]
    },
    {
     "name": "stdout",
     "output_type": "stream",
     "text": [
      "WARNING:tensorflow:From /home/apoorv/Desktop/github/.env/lib/python3.6/site-packages/gpflow/training/tensorflow_optimizer.py:169: The name tf.train.AdamOptimizer is deprecated. Please use tf.compat.v1.train.AdamOptimizer instead.\n",
      "\n"
     ]
    },
    {
     "name": "stderr",
     "output_type": "stream",
     "text": [
      "WARNING:tensorflow:From /home/apoorv/Desktop/github/.env/lib/python3.6/site-packages/gpflow/training/tensorflow_optimizer.py:169: The name tf.train.AdamOptimizer is deprecated. Please use tf.compat.v1.train.AdamOptimizer instead.\n",
      "\n"
     ]
    },
    {
     "name": "stdout",
     "output_type": "stream",
     "text": [
      "WARNING:tensorflow:From /home/apoorv/Desktop/github/.env/lib/python3.6/site-packages/gpflow/saver/coders.py:80: The name tf.data.Iterator is deprecated. Please use tf.compat.v1.data.Iterator instead.\n",
      "\n"
     ]
    },
    {
     "name": "stderr",
     "output_type": "stream",
     "text": [
      "WARNING:tensorflow:From /home/apoorv/Desktop/github/.env/lib/python3.6/site-packages/gpflow/saver/coders.py:80: The name tf.data.Iterator is deprecated. Please use tf.compat.v1.data.Iterator instead.\n",
      "\n"
     ]
    }
   ],
   "source": [
    "import os\n",
    "import sys\n",
    "import time\n",
    "import gpflow\n",
    "import argparse\n",
    "import numpy as np\n",
    "import pandas as pd\n",
    "import tensorflow as tf\n",
    "import matplotlib.pyplot as plt\n",
    "from sklearn.model_selection import KFold\n",
    "\n",
    "from sklearn.linear_model import Lasso\n",
    "from sklearn.neighbors import KNeighborsRegressor\n",
    "import xgboost"
   ]
  },
  {
   "cell_type": "code",
   "execution_count": 2,
   "metadata": {},
   "outputs": [],
   "source": [
    "def setRegHy(reg):\n",
    "    '''Sets relevant hyperparameters and regressor, based on the args passed'''\n",
    "    hyperparameters = [{}] # first use the default hyperparams :)\n",
    "\n",
    "    if reg == 'svr':\n",
    "        from sklearn.svm import SVR\n",
    "        Regressor = SVR\n",
    "        hyperparameters = [] # SVR cries when we pass empty params\n",
    "        C = [10**i for i in [-3, -2, 0, 1, 3, 5]]\n",
    "\n",
    "        for c in C:\n",
    "            hy = {\n",
    "               'C': c,\n",
    "               'gamma': 'auto'\n",
    "            }\n",
    "            hyperparameters.append(hy)\n",
    "\n",
    "    elif reg == 'knn':\n",
    "        Regressor = KNeighborsRegressor\n",
    "        n_neighbors = [i for i in range(3, 20, 2)]\n",
    "        weights=['distance']#, 'uniform'] # essentially idw\n",
    "        for n in n_neighbors:\n",
    "            for w in weights:\n",
    "                hy = {\n",
    "                    'n_neighbors': n,\n",
    "                    'weights': w\n",
    "                }\n",
    "                hyperparameters.append(hy)\n",
    "\n",
    "    elif reg == 'las':\n",
    "        Regressor = Lasso\n",
    "        alphas = [0.001, 0.01, 0.1, 1, 10, 100, 1000]\n",
    "        for alpha in (alphas):\n",
    "            hy = { 'alpha': alpha }\n",
    "            hyperparameters.append(hy)\n",
    "\n",
    "    elif reg == 'xgb':\n",
    "        Regressor = xgboost.XGBRegressor\n",
    "        # hyperparameters given to be searched by Deepak\n",
    "        depths = [10, 50]\n",
    "        lrs = [0.01, 0.1, 1]\n",
    "        estimators = [10, 50]\n",
    "        for depth in depths:\n",
    "            for lr in lrs:\n",
    "                for estimator in estimators:\n",
    "                    hy = {\n",
    "                        'max_depth': depth,\n",
    "                        'learning_rate': lr,\n",
    "                        'n_estimators': estimator,\n",
    "            'n_jobs': -1,\n",
    "                    }\n",
    "                    hyperparameters.append(hy)\n",
    "\n",
    "    elif reg == 'xgbRF':\n",
    "        Regressor = xgboost.XGBRFRegressor\n",
    "        # hyperparameters given to be searched by Deepak\n",
    "        depths = [10, 50]\n",
    "        lrs = [0.01, 0.1, 1]\n",
    "        estimators = [10, 50]\n",
    "        for depth in depths:\n",
    "            for lr in lrs:\n",
    "                for estimator in estimators:\n",
    "                    hy = {\n",
    "                        'max_depth': depth,\n",
    "                        'learning_rate': lr,\n",
    "                        'n_estimators': estimator,\n",
    "            'n_jobs': -1,\n",
    "                    }\n",
    "                    hyperparameters.append(hy)\n",
    "\n",
    "    elif reg in ['gpST', 'gpFULL']:\n",
    "        Regressor = gpflow.models.GPR\n",
    "        config = tf.ConfigProto()\n",
    "        config.gpu_options.allow_growth=True\n",
    "        sess = tf.Session(config=config)\n",
    "\n",
    "    else:\n",
    "        raise ValueError(\"We need a predefined Regressor, for sane hyperparameters\")\n",
    "    return (Regressor, hyperparameters)\n"
   ]
  },
  {
   "cell_type": "code",
   "execution_count": 5,
   "metadata": {},
   "outputs": [],
   "source": [
    "d = {0: 313, 10: 275, 12: 26, 4: 288, 5: 18, 6: 19, 11: 25, 3: 12, 9: 12, 8: 2}"
   ]
  },
  {
   "cell_type": "code",
   "execution_count": 8,
   "metadata": {},
   "outputs": [
    {
     "name": "stdout",
     "output_type": "stream",
     "text": [
      "8 -- 2\n",
      "3 -- 12\n",
      "9 -- 12\n",
      "5 -- 18\n",
      "6 -- 19\n",
      "11 -- 25\n",
      "12 -- 26\n",
      "10 -- 275\n",
      "4 -- 288\n",
      "0 -- 313\n"
     ]
    },
    {
     "data": {
      "text/plain": [
       "[None, None, None, None, None, None, None, None, None, None]"
      ]
     },
     "execution_count": 8,
     "metadata": {},
     "output_type": "execute_result"
    }
   ],
   "source": [
    "[print (k, \"--\", v) for k, v in sorted(d.items(), key=lambda x:x[1])]"
   ]
  },
  {
   "cell_type": "code",
   "execution_count": 7,
   "metadata": {
    "scrolled": true
   },
   "outputs": [
    {
     "name": "stdout",
     "output_type": "stream",
     "text": [
      "0 {}\n",
      "4 {'max_depth': 10, 'learning_rate': 0.1, 'n_estimators': 50, 'n_jobs': -1}\n",
      "10 {'max_depth': 50, 'learning_rate': 0.1, 'n_estimators': 50, 'n_jobs': -1}\n",
      "11 {'max_depth': 50, 'learning_rate': 1, 'n_estimators': 10, 'n_jobs': -1}\n",
      "12 {'max_depth': 50, 'learning_rate': 1, 'n_estimators': 50, 'n_jobs': -1}\n"
     ]
    },
    {
     "data": {
      "text/plain": [
       "[None, None, None, None, None]"
      ]
     },
     "execution_count": 7,
     "metadata": {},
     "output_type": "execute_result"
    }
   ],
   "source": [
    "_, hyperparameters = setRegHy(\"xgb\")\n",
    "[print (ix, hy) for ix, hy in enumerate(hyperparameters) if ix in [0, 4, 10, 11, 12]]"
   ]
  },
  {
   "cell_type": "markdown",
   "metadata": {},
   "source": [
    "\n",
    "# KNNN"
   ]
  },
  {
   "cell_type": "code",
   "execution_count": 9,
   "metadata": {},
   "outputs": [
    {
     "name": "stdout",
     "output_type": "stream",
     "text": [
      "7 -- 19\n",
      "0 -- 19\n",
      "6 -- 20\n",
      "8 -- 22\n",
      "9 -- 26\n",
      "5 -- 36\n",
      "4 -- 45\n",
      "3 -- 69\n",
      "2 -- 135\n",
      "1 -- 599\n"
     ]
    },
    {
     "data": {
      "text/plain": [
       "[None, None, None, None, None, None, None, None, None, None]"
      ]
     },
     "execution_count": 9,
     "metadata": {},
     "output_type": "execute_result"
    }
   ],
   "source": [
    "d = {2: 135, 1: 599, 5: 36, 6: 20, 9: 26, 8: 22, 4: 45, 3: 69, 7: 19, 0: 19}\n",
    "[print (k, \"--\", v) for k, v in sorted(d.items(), key=lambda x:x[1])]"
   ]
  },
  {
   "cell_type": "code",
   "execution_count": 10,
   "metadata": {},
   "outputs": [
    {
     "name": "stdout",
     "output_type": "stream",
     "text": [
      "1 {'n_neighbors': 3, 'weights': 'distance'}\n",
      "2 {'n_neighbors': 5, 'weights': 'distance'}\n",
      "3 {'n_neighbors': 7, 'weights': 'distance'}\n",
      "4 {'n_neighbors': 9, 'weights': 'distance'}\n",
      "5 {'n_neighbors': 11, 'weights': 'distance'}\n"
     ]
    },
    {
     "data": {
      "text/plain": [
       "[None, None, None, None, None]"
      ]
     },
     "execution_count": 10,
     "metadata": {},
     "output_type": "execute_result"
    }
   ],
   "source": [
    "_, hyperparameters = setRegHy(\"knn\")\n",
    "[print (ix, hy) for ix, hy in enumerate(hyperparameters) if ix in [1, 2, 3, 4, 5]]"
   ]
  },
  {
   "cell_type": "code",
   "execution_count": null,
   "metadata": {},
   "outputs": [],
   "source": []
  }
 ],
 "metadata": {
  "kernelspec": {
   "display_name": "Python 3",
   "language": "python",
   "name": "python3"
  },
  "language_info": {
   "codemirror_mode": {
    "name": "ipython",
    "version": 3
   },
   "file_extension": ".py",
   "mimetype": "text/x-python",
   "name": "python",
   "nbconvert_exporter": "python",
   "pygments_lexer": "ipython3",
   "version": "3.6.8"
  }
 },
 "nbformat": 4,
 "nbformat_minor": 2
}
