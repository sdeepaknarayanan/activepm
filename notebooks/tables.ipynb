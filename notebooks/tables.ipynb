{
 "cells": [
  {
   "cell_type": "code",
   "execution_count": 2,
   "metadata": {},
   "outputs": [
    {
     "name": "stdout",
     "output_type": "stream",
     "text": [
      "The autoreload extension is already loaded. To reload it, use:\n",
      "  %reload_ext autoreload\n"
     ]
    }
   ],
   "source": [
    "import pandas as pd\n",
    "import numpy as np\n",
    "import seaborn as sns\n",
    "import matplotlib\n",
    "import matplotlib.pyplot as plt\n",
    "import matplotlib.style\n",
    "import matplotlib as mpl\n",
    "from common_functions import foo\n",
    "\n",
    "\n",
    "mpl.style.use('classic')\n",
    "\n",
    "%load_ext autoreload\n",
    "%autoreload 2\n",
    "\n",
    "results = \"results\""
   ]
  },
  {
   "cell_type": "code",
   "execution_count": 3,
   "metadata": {},
   "outputs": [],
   "source": [
    "from common_functions import latexify, format_axes, tableau20blind\n",
    "latexify(14, 8)"
   ]
  },
  {
   "cell_type": "code",
   "execution_count": 4,
   "metadata": {
    "scrolled": true
   },
   "outputs": [
    {
     "data": {
      "text/html": [
       "<div>\n",
       "<style scoped>\n",
       "    .dataframe tbody tr th:only-of-type {\n",
       "        vertical-align: middle;\n",
       "    }\n",
       "\n",
       "    .dataframe tbody tr th {\n",
       "        vertical-align: top;\n",
       "    }\n",
       "\n",
       "    .dataframe thead th {\n",
       "        text-align: right;\n",
       "    }\n",
       "</style>\n",
       "<table border=\"1\" class=\"dataframe\">\n",
       "  <thead>\n",
       "    <tr style=\"text-align: right;\">\n",
       "      <th></th>\n",
       "      <th>kout</th>\n",
       "      <th>kin</th>\n",
       "      <th>day</th>\n",
       "      <th>rmse</th>\n",
       "      <th>lastKDays</th>\n",
       "      <th>seed</th>\n",
       "    </tr>\n",
       "    <tr>\n",
       "      <th>reg</th>\n",
       "      <th></th>\n",
       "      <th></th>\n",
       "      <th></th>\n",
       "      <th></th>\n",
       "      <th></th>\n",
       "      <th></th>\n",
       "    </tr>\n",
       "  </thead>\n",
       "  <tbody>\n",
       "    <tr>\n",
       "      <td>gp</td>\n",
       "      <td>2.498016</td>\n",
       "      <td>2.001424</td>\n",
       "      <td>163.983420</td>\n",
       "      <td>20.665598</td>\n",
       "      <td>30.0</td>\n",
       "      <td>-1.000000</td>\n",
       "    </tr>\n",
       "    <tr>\n",
       "      <td>gp_rd</td>\n",
       "      <td>2.499959</td>\n",
       "      <td>1.999573</td>\n",
       "      <td>163.968984</td>\n",
       "      <td>24.380714</td>\n",
       "      <td>30.0</td>\n",
       "      <td>2.000305</td>\n",
       "    </tr>\n",
       "    <tr>\n",
       "      <td>knn</td>\n",
       "      <td>2.500000</td>\n",
       "      <td>2.000000</td>\n",
       "      <td>164.000000</td>\n",
       "      <td>30.679426</td>\n",
       "      <td>30.0</td>\n",
       "      <td>-1.000000</td>\n",
       "    </tr>\n",
       "    <tr>\n",
       "      <td>knn_rd</td>\n",
       "      <td>2.500000</td>\n",
       "      <td>2.000000</td>\n",
       "      <td>164.000000</td>\n",
       "      <td>30.541583</td>\n",
       "      <td>30.0</td>\n",
       "      <td>2.000000</td>\n",
       "    </tr>\n",
       "    <tr>\n",
       "      <td>qbc</td>\n",
       "      <td>2.500000</td>\n",
       "      <td>2.000000</td>\n",
       "      <td>164.000000</td>\n",
       "      <td>22.671395</td>\n",
       "      <td>30.0</td>\n",
       "      <td>-1.000000</td>\n",
       "    </tr>\n",
       "    <tr>\n",
       "      <td>qbc_rd</td>\n",
       "      <td>2.500000</td>\n",
       "      <td>2.000000</td>\n",
       "      <td>164.000000</td>\n",
       "      <td>24.136366</td>\n",
       "      <td>30.0</td>\n",
       "      <td>2.000000</td>\n",
       "    </tr>\n",
       "  </tbody>\n",
       "</table>\n",
       "</div>"
      ],
      "text/plain": [
       "            kout       kin         day       rmse  lastKDays      seed\n",
       "reg                                                                   \n",
       "gp      2.498016  2.001424  163.983420  20.665598       30.0 -1.000000\n",
       "gp_rd   2.499959  1.999573  163.968984  24.380714       30.0  2.000305\n",
       "knn     2.500000  2.000000  164.000000  30.679426       30.0 -1.000000\n",
       "knn_rd  2.500000  2.000000  164.000000  30.541583       30.0  2.000000\n",
       "qbc     2.500000  2.000000  164.000000  22.671395       30.0 -1.000000\n",
       "qbc_rd  2.500000  2.000000  164.000000  24.136366       30.0  2.000000"
      ]
     },
     "execution_count": 4,
     "metadata": {},
     "output_type": "execute_result"
    }
   ],
   "source": [
    "lastKDays = 30\n",
    "df = foo(lastKDays, results, True)\n",
    "df.groupby([\"reg\"]).mean()"
   ]
  },
  {
   "cell_type": "code",
   "execution_count": 49,
   "metadata": {},
   "outputs": [
    {
     "data": {
      "text/plain": [
       "'(reg1, reg2) --> % improvement in rmse of reg2 w.r.t. reg1, i.e. 100*(reg1_rmse - reg2_rmse)/reg1_rmse'"
      ]
     },
     "execution_count": 49,
     "metadata": {},
     "output_type": "execute_result"
    }
   ],
   "source": [
    "regs = df[\"reg\"].unique()\n",
    "d = {}\n",
    "for reg1 in regs:\n",
    "    for reg2 in regs:\n",
    "        if reg1 == reg2:\n",
    "            continue\n",
    "        td = {}\n",
    "        for ix, tempdf in df.groupby([\"kout\", \"kin\"]):\n",
    "            tempdf1 = tempdf.groupby(\"reg\").mean()\n",
    "            reg1_rmse = tempdf1.loc[reg1][\"rmse\"]\n",
    "            reg2_rmse = tempdf1.loc[reg2][\"rmse\"]\n",
    "            td[ix] = 100*(reg1_rmse - reg2_rmse)/reg1_rmse # want max\n",
    "        d[(reg1, reg2)] = td\n",
    "        \n",
    "\"\"\"(reg1, reg2) --> % improvement in rmse of reg2 w.r.t. reg1, i.e. 100*(reg1_rmse - reg2_rmse)/reg1_rmse\"\"\""
   ]
  },
  {
   "cell_type": "code",
   "execution_count": 50,
   "metadata": {
    "scrolled": true
   },
   "outputs": [
    {
     "data": {
      "text/plain": [
       "[(('gp', 'qbc'),\n",
       "  {(0, 0): -20.239991001699266,\n",
       "   (0, 1): -10.703729228562944,\n",
       "   (0, 2): -29.301479380210438,\n",
       "   (0, 3): -32.976837139192114,\n",
       "   (0, 4): -13.575576176478815,\n",
       "   (1, 0): 7.352603126617488,\n",
       "   (1, 1): 20.621209195732355,\n",
       "   (1, 2): -9.329435188960575,\n",
       "   (1, 3): -14.749795060336828,\n",
       "   (1, 4): -17.77212535765178,\n",
       "   (2, 0): 2.192475568094852,\n",
       "   (2, 1): 17.707096126129418,\n",
       "   (2, 2): -15.32110310396753,\n",
       "   (2, 3): -1.634686620178661,\n",
       "   (2, 4): -52.2645837455235,\n",
       "   (3, 0): -26.47718897529197,\n",
       "   (3, 1): -17.83209653951583,\n",
       "   (3, 2): -4.246900261573831,\n",
       "   (3, 3): -20.764957493047476,\n",
       "   (3, 4): -12.705651073852247,\n",
       "   (4, 0): -16.511272602292237,\n",
       "   (4, 1): -0.37351935338433406,\n",
       "   (4, 2): -31.082046012962643,\n",
       "   (4, 3): -25.87356182957577,\n",
       "   (4, 4): -31.756858939106717,\n",
       "   (5, 0): -3.9533619824122948,\n",
       "   (5, 1): 24.49819133017378,\n",
       "   (5, 2): -16.078657604558966,\n",
       "   (5, 3): -0.6555534163499491,\n",
       "   (5, 4): -11.161359867290807}),\n",
       " (('gp', 'knn'),\n",
       "  {(0, 0): -64.51621857359048,\n",
       "   (0, 1): -56.93914559807302,\n",
       "   (0, 2): -82.28875893507153,\n",
       "   (0, 3): -80.97738404861163,\n",
       "   (0, 4): -72.41908031412068,\n",
       "   (1, 0): -48.28245283489923,\n",
       "   (1, 1): 0.5761137703516936,\n",
       "   (1, 2): -61.79193906200515,\n",
       "   (1, 3): -39.63537436116447,\n",
       "   (1, 4): -72.63454759786583,\n",
       "   (2, 0): -29.444321984868637,\n",
       "   (2, 1): -14.677874514617157,\n",
       "   (2, 2): -50.97398516068187,\n",
       "   (2, 3): -27.397869545608636,\n",
       "   (2, 4): -62.409976687245404,\n",
       "   (3, 0): -55.37371813170922,\n",
       "   (3, 1): -72.94510845550249,\n",
       "   (3, 2): -54.31427018200456,\n",
       "   (3, 3): -63.02626465647285,\n",
       "   (3, 4): -61.057360839115994,\n",
       "   (4, 0): -66.39191226844265,\n",
       "   (4, 1): -34.37144696873832,\n",
       "   (4, 2): -78.12994010166521,\n",
       "   (4, 3): -54.96853415507439,\n",
       "   (4, 4): -88.22409651241024,\n",
       "   (5, 0): -48.80574325287388,\n",
       "   (5, 1): -10.853868395883154,\n",
       "   (5, 2): -44.92998444826115,\n",
       "   (5, 3): -23.60483431823446,\n",
       "   (5, 4): -43.07046498785263})]"
      ]
     },
     "execution_count": 50,
     "metadata": {},
     "output_type": "execute_result"
    }
   ],
   "source": [
    "list(d.items())[:2]"
   ]
  },
  {
   "cell_type": "markdown",
   "metadata": {},
   "source": [
    "# Best Performance %"
   ]
  },
  {
   "cell_type": "code",
   "execution_count": 52,
   "metadata": {},
   "outputs": [],
   "source": [
    "def best_perf(d, reg1, reg2):\n",
    "    perf = d[(reg1, reg2)]\n",
    "    return max(perf.items(), key=lambda x:x[1])"
   ]
  },
  {
   "cell_type": "code",
   "execution_count": 60,
   "metadata": {
    "scrolled": true
   },
   "outputs": [
    {
     "data": {
      "text/plain": [
       "((2, 1), 33.79220977536657)"
      ]
     },
     "execution_count": 60,
     "metadata": {},
     "output_type": "execute_result"
    }
   ],
   "source": [
    "best_perf(d, 'gp_rd', 'qbc') #best performance of qbc over gp_rd"
   ]
  },
  {
   "cell_type": "code",
   "execution_count": 59,
   "metadata": {},
   "outputs": [
    {
     "data": {
      "text/plain": [
       "((0, 4), 23.885465892737745)"
      ]
     },
     "execution_count": 59,
     "metadata": {},
     "output_type": "execute_result"
    }
   ],
   "source": [
    "best_perf(d, 'qbc_rd', 'qbc') # best performance of qbc over qbc_rd"
   ]
  },
  {
   "cell_type": "code",
   "execution_count": 58,
   "metadata": {},
   "outputs": [
    {
     "data": {
      "text/plain": [
       "((2, 4), 34.32484590958602)"
      ]
     },
     "execution_count": 58,
     "metadata": {},
     "output_type": "execute_result"
    }
   ],
   "source": [
    "best_perf(d, 'qbc', 'gp') # best performance of gp over qbc, i.e. best gp_rmse (100-34) percent of qbc_rmse"
   ]
  },
  {
   "cell_type": "code",
   "execution_count": null,
   "metadata": {},
   "outputs": [],
   "source": []
  },
  {
   "cell_type": "markdown",
   "metadata": {},
   "source": [
    "# Worst Performance %"
   ]
  },
  {
   "cell_type": "code",
   "execution_count": 61,
   "metadata": {},
   "outputs": [],
   "source": [
    "def worst_perf(d, reg1, reg2):\n",
    "    perf = d[(reg1, reg2)]\n",
    "    return min(perf.items(), key=lambda x:x[1])"
   ]
  },
  {
   "cell_type": "code",
   "execution_count": 64,
   "metadata": {
    "scrolled": true
   },
   "outputs": [
    {
     "data": {
      "text/plain": [
       "((0, 0), -37.850665251738924)"
      ]
     },
     "execution_count": 64,
     "metadata": {},
     "output_type": "execute_result"
    }
   ],
   "source": [
    "worst_perf(d, 'gp_rd', 'qbc') # worst performance of qbc over gp_rd"
   ]
  },
  {
   "cell_type": "code",
   "execution_count": 63,
   "metadata": {},
   "outputs": [
    {
     "data": {
      "text/plain": [
       "((3, 0), -10.5114577521837)"
      ]
     },
     "execution_count": 63,
     "metadata": {},
     "output_type": "execute_result"
    }
   ],
   "source": [
    "worst_perf(d, 'qbc_rd', 'qbc') # worst performance of qbc over qbc_rd"
   ]
  },
  {
   "cell_type": "code",
   "execution_count": 65,
   "metadata": {},
   "outputs": [
    {
     "data": {
      "text/plain": [
       "((5, 1), -32.4471582360441)"
      ]
     },
     "execution_count": 65,
     "metadata": {},
     "output_type": "execute_result"
    }
   ],
   "source": [
    "worst_perf(d, 'qbc', 'gp') # worst performance of gp over qbc, i.e. best gp_rmse (100-34) percent of qbc_rmse"
   ]
  },
  {
   "cell_type": "code",
   "execution_count": null,
   "metadata": {},
   "outputs": [],
   "source": []
  },
  {
   "cell_type": "code",
   "execution_count": null,
   "metadata": {},
   "outputs": [],
   "source": []
  }
 ],
 "metadata": {
  "kernelspec": {
   "display_name": "Python 3",
   "language": "python",
   "name": "python3"
  },
  "language_info": {
   "codemirror_mode": {
    "name": "ipython",
    "version": 3
   },
   "file_extension": ".py",
   "mimetype": "text/x-python",
   "name": "python",
   "nbconvert_exporter": "python",
   "pygments_lexer": "ipython3",
   "version": "3.6.8"
  }
 },
 "nbformat": 4,
 "nbformat_minor": 2
}
